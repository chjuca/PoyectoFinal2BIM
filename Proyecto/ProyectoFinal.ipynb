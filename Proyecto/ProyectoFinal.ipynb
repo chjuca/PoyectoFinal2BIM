{
 "cells": [
  {
   "cell_type": "code",
   "execution_count": 1,
   "metadata": {},
   "outputs": [
    {
     "data": {
      "text/html": [
       "\n",
       "    <div class=\"bk-root\">\n",
       "        <a href=\"https://bokeh.pydata.org\" target=\"_blank\" class=\"bk-logo bk-logo-small bk-logo-notebook\"></a>\n",
       "        <span id=\"1001\">Loading BokehJS ...</span>\n",
       "    </div>"
      ]
     },
     "metadata": {},
     "output_type": "display_data"
    },
    {
     "data": {
      "application/javascript": [
       "\n",
       "(function(root) {\n",
       "  function now() {\n",
       "    return new Date();\n",
       "  }\n",
       "\n",
       "  var force = true;\n",
       "\n",
       "  if (typeof (root._bokeh_onload_callbacks) === \"undefined\" || force === true) {\n",
       "    root._bokeh_onload_callbacks = [];\n",
       "    root._bokeh_is_loading = undefined;\n",
       "  }\n",
       "\n",
       "  var JS_MIME_TYPE = 'application/javascript';\n",
       "  var HTML_MIME_TYPE = 'text/html';\n",
       "  var EXEC_MIME_TYPE = 'application/vnd.bokehjs_exec.v0+json';\n",
       "  var CLASS_NAME = 'output_bokeh rendered_html';\n",
       "\n",
       "  /**\n",
       "   * Render data to the DOM node\n",
       "   */\n",
       "  function render(props, node) {\n",
       "    var script = document.createElement(\"script\");\n",
       "    node.appendChild(script);\n",
       "  }\n",
       "\n",
       "  /**\n",
       "   * Handle when an output is cleared or removed\n",
       "   */\n",
       "  function handleClearOutput(event, handle) {\n",
       "    var cell = handle.cell;\n",
       "\n",
       "    var id = cell.output_area._bokeh_element_id;\n",
       "    var server_id = cell.output_area._bokeh_server_id;\n",
       "    // Clean up Bokeh references\n",
       "    if (id != null && id in Bokeh.index) {\n",
       "      Bokeh.index[id].model.document.clear();\n",
       "      delete Bokeh.index[id];\n",
       "    }\n",
       "\n",
       "    if (server_id !== undefined) {\n",
       "      // Clean up Bokeh references\n",
       "      var cmd = \"from bokeh.io.state import curstate; print(curstate().uuid_to_server['\" + server_id + \"'].get_sessions()[0].document.roots[0]._id)\";\n",
       "      cell.notebook.kernel.execute(cmd, {\n",
       "        iopub: {\n",
       "          output: function(msg) {\n",
       "            var id = msg.content.text.trim();\n",
       "            if (id in Bokeh.index) {\n",
       "              Bokeh.index[id].model.document.clear();\n",
       "              delete Bokeh.index[id];\n",
       "            }\n",
       "          }\n",
       "        }\n",
       "      });\n",
       "      // Destroy server and session\n",
       "      var cmd = \"import bokeh.io.notebook as ion; ion.destroy_server('\" + server_id + \"')\";\n",
       "      cell.notebook.kernel.execute(cmd);\n",
       "    }\n",
       "  }\n",
       "\n",
       "  /**\n",
       "   * Handle when a new output is added\n",
       "   */\n",
       "  function handleAddOutput(event, handle) {\n",
       "    var output_area = handle.output_area;\n",
       "    var output = handle.output;\n",
       "\n",
       "    // limit handleAddOutput to display_data with EXEC_MIME_TYPE content only\n",
       "    if ((output.output_type != \"display_data\") || (!output.data.hasOwnProperty(EXEC_MIME_TYPE))) {\n",
       "      return\n",
       "    }\n",
       "\n",
       "    var toinsert = output_area.element.find(\".\" + CLASS_NAME.split(' ')[0]);\n",
       "\n",
       "    if (output.metadata[EXEC_MIME_TYPE][\"id\"] !== undefined) {\n",
       "      toinsert[toinsert.length - 1].firstChild.textContent = output.data[JS_MIME_TYPE];\n",
       "      // store reference to embed id on output_area\n",
       "      output_area._bokeh_element_id = output.metadata[EXEC_MIME_TYPE][\"id\"];\n",
       "    }\n",
       "    if (output.metadata[EXEC_MIME_TYPE][\"server_id\"] !== undefined) {\n",
       "      var bk_div = document.createElement(\"div\");\n",
       "      bk_div.innerHTML = output.data[HTML_MIME_TYPE];\n",
       "      var script_attrs = bk_div.children[0].attributes;\n",
       "      for (var i = 0; i < script_attrs.length; i++) {\n",
       "        toinsert[toinsert.length - 1].firstChild.setAttribute(script_attrs[i].name, script_attrs[i].value);\n",
       "      }\n",
       "      // store reference to server id on output_area\n",
       "      output_area._bokeh_server_id = output.metadata[EXEC_MIME_TYPE][\"server_id\"];\n",
       "    }\n",
       "  }\n",
       "\n",
       "  function register_renderer(events, OutputArea) {\n",
       "\n",
       "    function append_mime(data, metadata, element) {\n",
       "      // create a DOM node to render to\n",
       "      var toinsert = this.create_output_subarea(\n",
       "        metadata,\n",
       "        CLASS_NAME,\n",
       "        EXEC_MIME_TYPE\n",
       "      );\n",
       "      this.keyboard_manager.register_events(toinsert);\n",
       "      // Render to node\n",
       "      var props = {data: data, metadata: metadata[EXEC_MIME_TYPE]};\n",
       "      render(props, toinsert[toinsert.length - 1]);\n",
       "      element.append(toinsert);\n",
       "      return toinsert\n",
       "    }\n",
       "\n",
       "    /* Handle when an output is cleared or removed */\n",
       "    events.on('clear_output.CodeCell', handleClearOutput);\n",
       "    events.on('delete.Cell', handleClearOutput);\n",
       "\n",
       "    /* Handle when a new output is added */\n",
       "    events.on('output_added.OutputArea', handleAddOutput);\n",
       "\n",
       "    /**\n",
       "     * Register the mime type and append_mime function with output_area\n",
       "     */\n",
       "    OutputArea.prototype.register_mime_type(EXEC_MIME_TYPE, append_mime, {\n",
       "      /* Is output safe? */\n",
       "      safe: true,\n",
       "      /* Index of renderer in `output_area.display_order` */\n",
       "      index: 0\n",
       "    });\n",
       "  }\n",
       "\n",
       "  // register the mime type if in Jupyter Notebook environment and previously unregistered\n",
       "  if (root.Jupyter !== undefined) {\n",
       "    var events = require('base/js/events');\n",
       "    var OutputArea = require('notebook/js/outputarea').OutputArea;\n",
       "\n",
       "    if (OutputArea.prototype.mime_types().indexOf(EXEC_MIME_TYPE) == -1) {\n",
       "      register_renderer(events, OutputArea);\n",
       "    }\n",
       "  }\n",
       "\n",
       "  \n",
       "  if (typeof (root._bokeh_timeout) === \"undefined\" || force === true) {\n",
       "    root._bokeh_timeout = Date.now() + 5000;\n",
       "    root._bokeh_failed_load = false;\n",
       "  }\n",
       "\n",
       "  var NB_LOAD_WARNING = {'data': {'text/html':\n",
       "     \"<div style='background-color: #fdd'>\\n\"+\n",
       "     \"<p>\\n\"+\n",
       "     \"BokehJS does not appear to have successfully loaded. If loading BokehJS from CDN, this \\n\"+\n",
       "     \"may be due to a slow or bad network connection. Possible fixes:\\n\"+\n",
       "     \"</p>\\n\"+\n",
       "     \"<ul>\\n\"+\n",
       "     \"<li>re-rerun `output_notebook()` to attempt to load from CDN again, or</li>\\n\"+\n",
       "     \"<li>use INLINE resources instead, as so:</li>\\n\"+\n",
       "     \"</ul>\\n\"+\n",
       "     \"<code>\\n\"+\n",
       "     \"from bokeh.resources import INLINE\\n\"+\n",
       "     \"output_notebook(resources=INLINE)\\n\"+\n",
       "     \"</code>\\n\"+\n",
       "     \"</div>\"}};\n",
       "\n",
       "  function display_loaded() {\n",
       "    var el = document.getElementById(\"1001\");\n",
       "    if (el != null) {\n",
       "      el.textContent = \"BokehJS is loading...\";\n",
       "    }\n",
       "    if (root.Bokeh !== undefined) {\n",
       "      if (el != null) {\n",
       "        el.textContent = \"BokehJS \" + root.Bokeh.version + \" successfully loaded.\";\n",
       "      }\n",
       "    } else if (Date.now() < root._bokeh_timeout) {\n",
       "      setTimeout(display_loaded, 100)\n",
       "    }\n",
       "  }\n",
       "\n",
       "\n",
       "  function run_callbacks() {\n",
       "    try {\n",
       "      root._bokeh_onload_callbacks.forEach(function(callback) { callback() });\n",
       "    }\n",
       "    finally {\n",
       "      delete root._bokeh_onload_callbacks\n",
       "    }\n",
       "    console.info(\"Bokeh: all callbacks have finished\");\n",
       "  }\n",
       "\n",
       "  function load_libs(js_urls, callback) {\n",
       "    root._bokeh_onload_callbacks.push(callback);\n",
       "    if (root._bokeh_is_loading > 0) {\n",
       "      console.log(\"Bokeh: BokehJS is being loaded, scheduling callback at\", now());\n",
       "      return null;\n",
       "    }\n",
       "    if (js_urls == null || js_urls.length === 0) {\n",
       "      run_callbacks();\n",
       "      return null;\n",
       "    }\n",
       "    console.log(\"Bokeh: BokehJS not loaded, scheduling load and callback at\", now());\n",
       "    root._bokeh_is_loading = js_urls.length;\n",
       "    for (var i = 0; i < js_urls.length; i++) {\n",
       "      var url = js_urls[i];\n",
       "      var s = document.createElement('script');\n",
       "      s.src = url;\n",
       "      s.async = false;\n",
       "      s.onreadystatechange = s.onload = function() {\n",
       "        root._bokeh_is_loading--;\n",
       "        if (root._bokeh_is_loading === 0) {\n",
       "          console.log(\"Bokeh: all BokehJS libraries loaded\");\n",
       "          run_callbacks()\n",
       "        }\n",
       "      };\n",
       "      s.onerror = function() {\n",
       "        console.warn(\"failed to load library \" + url);\n",
       "      };\n",
       "      console.log(\"Bokeh: injecting script tag for BokehJS library: \", url);\n",
       "      document.getElementsByTagName(\"head\")[0].appendChild(s);\n",
       "    }\n",
       "  };var element = document.getElementById(\"1001\");\n",
       "  if (element == null) {\n",
       "    console.log(\"Bokeh: ERROR: autoload.js configured with elementid '1001' but no matching script tag was found. \")\n",
       "    return false;\n",
       "  }\n",
       "\n",
       "  var js_urls = [\"https://cdn.pydata.org/bokeh/release/bokeh-1.0.3.min.js\", \"https://cdn.pydata.org/bokeh/release/bokeh-widgets-1.0.3.min.js\", \"https://cdn.pydata.org/bokeh/release/bokeh-tables-1.0.3.min.js\", \"https://cdn.pydata.org/bokeh/release/bokeh-gl-1.0.3.min.js\"];\n",
       "\n",
       "  var inline_js = [\n",
       "    function(Bokeh) {\n",
       "      Bokeh.set_log_level(\"info\");\n",
       "    },\n",
       "    \n",
       "    function(Bokeh) {\n",
       "      \n",
       "    },\n",
       "    function(Bokeh) {\n",
       "      console.log(\"Bokeh: injecting CSS: https://cdn.pydata.org/bokeh/release/bokeh-1.0.3.min.css\");\n",
       "      Bokeh.embed.inject_css(\"https://cdn.pydata.org/bokeh/release/bokeh-1.0.3.min.css\");\n",
       "      console.log(\"Bokeh: injecting CSS: https://cdn.pydata.org/bokeh/release/bokeh-widgets-1.0.3.min.css\");\n",
       "      Bokeh.embed.inject_css(\"https://cdn.pydata.org/bokeh/release/bokeh-widgets-1.0.3.min.css\");\n",
       "      console.log(\"Bokeh: injecting CSS: https://cdn.pydata.org/bokeh/release/bokeh-tables-1.0.3.min.css\");\n",
       "      Bokeh.embed.inject_css(\"https://cdn.pydata.org/bokeh/release/bokeh-tables-1.0.3.min.css\");\n",
       "    }\n",
       "  ];\n",
       "\n",
       "  function run_inline_js() {\n",
       "    \n",
       "    if ((root.Bokeh !== undefined) || (force === true)) {\n",
       "      for (var i = 0; i < inline_js.length; i++) {\n",
       "        inline_js[i].call(root, root.Bokeh);\n",
       "      }if (force === true) {\n",
       "        display_loaded();\n",
       "      }} else if (Date.now() < root._bokeh_timeout) {\n",
       "      setTimeout(run_inline_js, 100);\n",
       "    } else if (!root._bokeh_failed_load) {\n",
       "      console.log(\"Bokeh: BokehJS failed to load within specified timeout.\");\n",
       "      root._bokeh_failed_load = true;\n",
       "    } else if (force !== true) {\n",
       "      var cell = $(document.getElementById(\"1001\")).parents('.cell').data().cell;\n",
       "      cell.output_area.append_execute_result(NB_LOAD_WARNING)\n",
       "    }\n",
       "\n",
       "  }\n",
       "\n",
       "  if (root._bokeh_is_loading === 0) {\n",
       "    console.log(\"Bokeh: BokehJS loaded, going straight to plotting\");\n",
       "    run_inline_js();\n",
       "  } else {\n",
       "    load_libs(js_urls, function() {\n",
       "      console.log(\"Bokeh: BokehJS plotting callback run at\", now());\n",
       "      run_inline_js();\n",
       "    });\n",
       "  }\n",
       "}(window));"
      ],
      "application/vnd.bokehjs_load.v0+json": "\n(function(root) {\n  function now() {\n    return new Date();\n  }\n\n  var force = true;\n\n  if (typeof (root._bokeh_onload_callbacks) === \"undefined\" || force === true) {\n    root._bokeh_onload_callbacks = [];\n    root._bokeh_is_loading = undefined;\n  }\n\n  \n\n  \n  if (typeof (root._bokeh_timeout) === \"undefined\" || force === true) {\n    root._bokeh_timeout = Date.now() + 5000;\n    root._bokeh_failed_load = false;\n  }\n\n  var NB_LOAD_WARNING = {'data': {'text/html':\n     \"<div style='background-color: #fdd'>\\n\"+\n     \"<p>\\n\"+\n     \"BokehJS does not appear to have successfully loaded. If loading BokehJS from CDN, this \\n\"+\n     \"may be due to a slow or bad network connection. Possible fixes:\\n\"+\n     \"</p>\\n\"+\n     \"<ul>\\n\"+\n     \"<li>re-rerun `output_notebook()` to attempt to load from CDN again, or</li>\\n\"+\n     \"<li>use INLINE resources instead, as so:</li>\\n\"+\n     \"</ul>\\n\"+\n     \"<code>\\n\"+\n     \"from bokeh.resources import INLINE\\n\"+\n     \"output_notebook(resources=INLINE)\\n\"+\n     \"</code>\\n\"+\n     \"</div>\"}};\n\n  function display_loaded() {\n    var el = document.getElementById(\"1001\");\n    if (el != null) {\n      el.textContent = \"BokehJS is loading...\";\n    }\n    if (root.Bokeh !== undefined) {\n      if (el != null) {\n        el.textContent = \"BokehJS \" + root.Bokeh.version + \" successfully loaded.\";\n      }\n    } else if (Date.now() < root._bokeh_timeout) {\n      setTimeout(display_loaded, 100)\n    }\n  }\n\n\n  function run_callbacks() {\n    try {\n      root._bokeh_onload_callbacks.forEach(function(callback) { callback() });\n    }\n    finally {\n      delete root._bokeh_onload_callbacks\n    }\n    console.info(\"Bokeh: all callbacks have finished\");\n  }\n\n  function load_libs(js_urls, callback) {\n    root._bokeh_onload_callbacks.push(callback);\n    if (root._bokeh_is_loading > 0) {\n      console.log(\"Bokeh: BokehJS is being loaded, scheduling callback at\", now());\n      return null;\n    }\n    if (js_urls == null || js_urls.length === 0) {\n      run_callbacks();\n      return null;\n    }\n    console.log(\"Bokeh: BokehJS not loaded, scheduling load and callback at\", now());\n    root._bokeh_is_loading = js_urls.length;\n    for (var i = 0; i < js_urls.length; i++) {\n      var url = js_urls[i];\n      var s = document.createElement('script');\n      s.src = url;\n      s.async = false;\n      s.onreadystatechange = s.onload = function() {\n        root._bokeh_is_loading--;\n        if (root._bokeh_is_loading === 0) {\n          console.log(\"Bokeh: all BokehJS libraries loaded\");\n          run_callbacks()\n        }\n      };\n      s.onerror = function() {\n        console.warn(\"failed to load library \" + url);\n      };\n      console.log(\"Bokeh: injecting script tag for BokehJS library: \", url);\n      document.getElementsByTagName(\"head\")[0].appendChild(s);\n    }\n  };var element = document.getElementById(\"1001\");\n  if (element == null) {\n    console.log(\"Bokeh: ERROR: autoload.js configured with elementid '1001' but no matching script tag was found. \")\n    return false;\n  }\n\n  var js_urls = [\"https://cdn.pydata.org/bokeh/release/bokeh-1.0.3.min.js\", \"https://cdn.pydata.org/bokeh/release/bokeh-widgets-1.0.3.min.js\", \"https://cdn.pydata.org/bokeh/release/bokeh-tables-1.0.3.min.js\", \"https://cdn.pydata.org/bokeh/release/bokeh-gl-1.0.3.min.js\"];\n\n  var inline_js = [\n    function(Bokeh) {\n      Bokeh.set_log_level(\"info\");\n    },\n    \n    function(Bokeh) {\n      \n    },\n    function(Bokeh) {\n      console.log(\"Bokeh: injecting CSS: https://cdn.pydata.org/bokeh/release/bokeh-1.0.3.min.css\");\n      Bokeh.embed.inject_css(\"https://cdn.pydata.org/bokeh/release/bokeh-1.0.3.min.css\");\n      console.log(\"Bokeh: injecting CSS: https://cdn.pydata.org/bokeh/release/bokeh-widgets-1.0.3.min.css\");\n      Bokeh.embed.inject_css(\"https://cdn.pydata.org/bokeh/release/bokeh-widgets-1.0.3.min.css\");\n      console.log(\"Bokeh: injecting CSS: https://cdn.pydata.org/bokeh/release/bokeh-tables-1.0.3.min.css\");\n      Bokeh.embed.inject_css(\"https://cdn.pydata.org/bokeh/release/bokeh-tables-1.0.3.min.css\");\n    }\n  ];\n\n  function run_inline_js() {\n    \n    if ((root.Bokeh !== undefined) || (force === true)) {\n      for (var i = 0; i < inline_js.length; i++) {\n        inline_js[i].call(root, root.Bokeh);\n      }if (force === true) {\n        display_loaded();\n      }} else if (Date.now() < root._bokeh_timeout) {\n      setTimeout(run_inline_js, 100);\n    } else if (!root._bokeh_failed_load) {\n      console.log(\"Bokeh: BokehJS failed to load within specified timeout.\");\n      root._bokeh_failed_load = true;\n    } else if (force !== true) {\n      var cell = $(document.getElementById(\"1001\")).parents('.cell').data().cell;\n      cell.output_area.append_execute_result(NB_LOAD_WARNING)\n    }\n\n  }\n\n  if (root._bokeh_is_loading === 0) {\n    console.log(\"Bokeh: BokehJS loaded, going straight to plotting\");\n    run_inline_js();\n  } else {\n    load_libs(js_urls, function() {\n      console.log(\"Bokeh: BokehJS plotting callback run at\", now());\n      run_inline_js();\n    });\n  }\n}(window));"
     },
     "metadata": {},
     "output_type": "display_data"
    },
    {
     "data": {
      "text/html": [
       "<div>\n",
       "<style scoped>\n",
       "    .dataframe tbody tr th:only-of-type {\n",
       "        vertical-align: middle;\n",
       "    }\n",
       "\n",
       "    .dataframe tbody tr th {\n",
       "        vertical-align: top;\n",
       "    }\n",
       "\n",
       "    .dataframe thead th {\n",
       "        text-align: right;\n",
       "    }\n",
       "</style>\n",
       "<table border=\"1\" class=\"dataframe\">\n",
       "  <thead>\n",
       "    <tr style=\"text-align: right;\">\n",
       "      <th></th>\n",
       "      <th>BLOQUE</th>\n",
       "      <th>CAMPOS</th>\n",
       "      <th>ENERO</th>\n",
       "      <th>FEBRERO</th>\n",
       "      <th>MARZO</th>\n",
       "      <th>ABRIL</th>\n",
       "      <th>MAYO</th>\n",
       "      <th>JUNIO</th>\n",
       "      <th>JULIO</th>\n",
       "      <th>AGOSTO</th>\n",
       "      <th>SEPTIEMBRE</th>\n",
       "      <th>OCTUBRE</th>\n",
       "      <th>NOVIEMBRE</th>\n",
       "      <th>DICIEMBRE</th>\n",
       "      <th>TOTAL</th>\n",
       "    </tr>\n",
       "  </thead>\n",
       "  <tbody>\n",
       "    <tr>\n",
       "      <th>0</th>\n",
       "      <td>TARAPOA</td>\n",
       "      <td>ALICE</td>\n",
       "      <td>92.117</td>\n",
       "      <td>83.881</td>\n",
       "      <td>90.989</td>\n",
       "      <td>87.972</td>\n",
       "      <td>89.027</td>\n",
       "      <td>86.944</td>\n",
       "      <td>87.948</td>\n",
       "      <td>87.855</td>\n",
       "      <td>83.570</td>\n",
       "      <td>86.290</td>\n",
       "      <td>84.005</td>\n",
       "      <td>84.451</td>\n",
       "      <td>1045.049</td>\n",
       "    </tr>\n",
       "    <tr>\n",
       "      <th>1</th>\n",
       "      <td>TARAPOA</td>\n",
       "      <td>ALICE OESTE</td>\n",
       "      <td>0.000</td>\n",
       "      <td>0.000</td>\n",
       "      <td>0.000</td>\n",
       "      <td>0.000</td>\n",
       "      <td>0.000</td>\n",
       "      <td>0.000</td>\n",
       "      <td>0.000</td>\n",
       "      <td>14.728</td>\n",
       "      <td>31.124</td>\n",
       "      <td>32.642</td>\n",
       "      <td>32.684</td>\n",
       "      <td>50.758</td>\n",
       "      <td>161.935</td>\n",
       "    </tr>\n",
       "    <tr>\n",
       "      <th>2</th>\n",
       "      <td>TARAPOA</td>\n",
       "      <td>CHORONGO</td>\n",
       "      <td>6.642</td>\n",
       "      <td>8.212</td>\n",
       "      <td>7.732</td>\n",
       "      <td>7.457</td>\n",
       "      <td>5.730</td>\n",
       "      <td>9.381</td>\n",
       "      <td>9.736</td>\n",
       "      <td>10.253</td>\n",
       "      <td>10.426</td>\n",
       "      <td>10.821</td>\n",
       "      <td>11.337</td>\n",
       "      <td>12.077</td>\n",
       "      <td>109.804</td>\n",
       "    </tr>\n",
       "    <tr>\n",
       "      <th>3</th>\n",
       "      <td>TARAPOA</td>\n",
       "      <td>CHORONGO ESTE</td>\n",
       "      <td>3.365</td>\n",
       "      <td>2.618</td>\n",
       "      <td>2.210</td>\n",
       "      <td>748.000</td>\n",
       "      <td>0.000</td>\n",
       "      <td>0.000</td>\n",
       "      <td>0.000</td>\n",
       "      <td>0.000</td>\n",
       "      <td>0.000</td>\n",
       "      <td>0.000</td>\n",
       "      <td>0.000</td>\n",
       "      <td>0.000</td>\n",
       "      <td>8.941</td>\n",
       "    </tr>\n",
       "    <tr>\n",
       "      <th>4</th>\n",
       "      <td>TARAPOA</td>\n",
       "      <td>COLIBRI</td>\n",
       "      <td>62.696</td>\n",
       "      <td>57.146</td>\n",
       "      <td>57.413</td>\n",
       "      <td>44.915</td>\n",
       "      <td>56.400</td>\n",
       "      <td>72.657</td>\n",
       "      <td>70.449</td>\n",
       "      <td>68.634</td>\n",
       "      <td>49.231</td>\n",
       "      <td>49.733</td>\n",
       "      <td>45.634</td>\n",
       "      <td>43.670</td>\n",
       "      <td>678.579</td>\n",
       "    </tr>\n",
       "    <tr>\n",
       "      <th>5</th>\n",
       "      <td>TARAPOA</td>\n",
       "      <td>DANA</td>\n",
       "      <td>7.093</td>\n",
       "      <td>4.505</td>\n",
       "      <td>2.810</td>\n",
       "      <td>1.316</td>\n",
       "      <td>0.000</td>\n",
       "      <td>0.000</td>\n",
       "      <td>0.000</td>\n",
       "      <td>0.000</td>\n",
       "      <td>0.000</td>\n",
       "      <td>96.000</td>\n",
       "      <td>37.000</td>\n",
       "      <td>0.000</td>\n",
       "      <td>15.857</td>\n",
       "    </tr>\n",
       "    <tr>\n",
       "      <th>6</th>\n",
       "      <td>TARAPOA</td>\n",
       "      <td>DORINE</td>\n",
       "      <td>196.580</td>\n",
       "      <td>169.047</td>\n",
       "      <td>190.396</td>\n",
       "      <td>188.106</td>\n",
       "      <td>187.872</td>\n",
       "      <td>189.185</td>\n",
       "      <td>175.084</td>\n",
       "      <td>171.404</td>\n",
       "      <td>168.668</td>\n",
       "      <td>172.138</td>\n",
       "      <td>167.475</td>\n",
       "      <td>172.219</td>\n",
       "      <td>2148.175</td>\n",
       "    </tr>\n",
       "    <tr>\n",
       "      <th>7</th>\n",
       "      <td>TARAPOA</td>\n",
       "      <td>DORINE G</td>\n",
       "      <td>2.145</td>\n",
       "      <td>2.210</td>\n",
       "      <td>2.486</td>\n",
       "      <td>2.453</td>\n",
       "      <td>2.543</td>\n",
       "      <td>2.458</td>\n",
       "      <td>2.506</td>\n",
       "      <td>2.514</td>\n",
       "      <td>2.478</td>\n",
       "      <td>2.590</td>\n",
       "      <td>2.332</td>\n",
       "      <td>24.000</td>\n",
       "      <td>26.738</td>\n",
       "    </tr>\n",
       "    <tr>\n",
       "      <th>8</th>\n",
       "      <td>TARAPOA</td>\n",
       "      <td>DORINE NORTE</td>\n",
       "      <td>8.353</td>\n",
       "      <td>7.353</td>\n",
       "      <td>8.118</td>\n",
       "      <td>7.871</td>\n",
       "      <td>7.736</td>\n",
       "      <td>7.449</td>\n",
       "      <td>7.630</td>\n",
       "      <td>7.473</td>\n",
       "      <td>7.027</td>\n",
       "      <td>7.260</td>\n",
       "      <td>6.993</td>\n",
       "      <td>7.189</td>\n",
       "      <td>90.453</td>\n",
       "    </tr>\n",
       "    <tr>\n",
       "      <th>9</th>\n",
       "      <td>TARAPOA</td>\n",
       "      <td>ESPERANZA</td>\n",
       "      <td>30.635</td>\n",
       "      <td>28.400</td>\n",
       "      <td>31.070</td>\n",
       "      <td>29.696</td>\n",
       "      <td>29.990</td>\n",
       "      <td>28.416</td>\n",
       "      <td>28.650</td>\n",
       "      <td>29.380</td>\n",
       "      <td>26.666</td>\n",
       "      <td>26.821</td>\n",
       "      <td>24.578</td>\n",
       "      <td>22.342</td>\n",
       "      <td>336.644</td>\n",
       "    </tr>\n",
       "    <tr>\n",
       "      <th>10</th>\n",
       "      <td>TARAPOA</td>\n",
       "      <td>FANNY-18B</td>\n",
       "      <td>477.004</td>\n",
       "      <td>451.050</td>\n",
       "      <td>481.467</td>\n",
       "      <td>449.227</td>\n",
       "      <td>451.535</td>\n",
       "      <td>433.899</td>\n",
       "      <td>439.709</td>\n",
       "      <td>434.354</td>\n",
       "      <td>410.664</td>\n",
       "      <td>418.803</td>\n",
       "      <td>404.022</td>\n",
       "      <td>418.169</td>\n",
       "      <td>5269.902</td>\n",
       "    </tr>\n",
       "    <tr>\n",
       "      <th>11</th>\n",
       "      <td>TARAPOA</td>\n",
       "      <td>JOHANNA</td>\n",
       "      <td>0.000</td>\n",
       "      <td>0.000</td>\n",
       "      <td>0.000</td>\n",
       "      <td>0.000</td>\n",
       "      <td>0.000</td>\n",
       "      <td>0.000</td>\n",
       "      <td>20.063</td>\n",
       "      <td>16.212</td>\n",
       "      <td>10.660</td>\n",
       "      <td>9.176</td>\n",
       "      <td>7.836</td>\n",
       "      <td>7.242</td>\n",
       "      <td>71.188</td>\n",
       "    </tr>\n",
       "    <tr>\n",
       "      <th>12</th>\n",
       "      <td>TARAPOA</td>\n",
       "      <td>MAHOGANY</td>\n",
       "      <td>7.699</td>\n",
       "      <td>6.381</td>\n",
       "      <td>7.571</td>\n",
       "      <td>7.738</td>\n",
       "      <td>8.089</td>\n",
       "      <td>7.046</td>\n",
       "      <td>6.562</td>\n",
       "      <td>6.714</td>\n",
       "      <td>6.184</td>\n",
       "      <td>6.309</td>\n",
       "      <td>5.970</td>\n",
       "      <td>6.008</td>\n",
       "      <td>82.270</td>\n",
       "    </tr>\n",
       "    <tr>\n",
       "      <th>13</th>\n",
       "      <td>TARAPOA</td>\n",
       "      <td>MARIANN</td>\n",
       "      <td>87.413</td>\n",
       "      <td>79.332</td>\n",
       "      <td>82.781</td>\n",
       "      <td>100.134</td>\n",
       "      <td>117.154</td>\n",
       "      <td>121.881</td>\n",
       "      <td>126.045</td>\n",
       "      <td>165.028</td>\n",
       "      <td>159.941</td>\n",
       "      <td>177.997</td>\n",
       "      <td>176.045</td>\n",
       "      <td>202.455</td>\n",
       "      <td>1596.206</td>\n",
       "    </tr>\n",
       "    <tr>\n",
       "      <th>14</th>\n",
       "      <td>TARAPOA</td>\n",
       "      <td>MARIANN NORTE</td>\n",
       "      <td>5.341</td>\n",
       "      <td>2.828</td>\n",
       "      <td>0.000</td>\n",
       "      <td>0.000</td>\n",
       "      <td>829.000</td>\n",
       "      <td>1.449</td>\n",
       "      <td>1.556</td>\n",
       "      <td>0.000</td>\n",
       "      <td>0.000</td>\n",
       "      <td>0.000</td>\n",
       "      <td>0.000</td>\n",
       "      <td>0.000</td>\n",
       "      <td>12.002</td>\n",
       "    </tr>\n",
       "    <tr>\n",
       "      <th>15</th>\n",
       "      <td>TARAPOA</td>\n",
       "      <td>MARIANN SUR</td>\n",
       "      <td>15.139</td>\n",
       "      <td>17.965</td>\n",
       "      <td>34.679</td>\n",
       "      <td>46.521</td>\n",
       "      <td>58.845</td>\n",
       "      <td>49.236</td>\n",
       "      <td>46.738</td>\n",
       "      <td>0.000</td>\n",
       "      <td>0.000</td>\n",
       "      <td>0.000</td>\n",
       "      <td>0.000</td>\n",
       "      <td>0.000</td>\n",
       "      <td>269.122</td>\n",
       "    </tr>\n",
       "    <tr>\n",
       "      <th>16</th>\n",
       "      <td>TARAPOA</td>\n",
       "      <td>MARIANN-4A</td>\n",
       "      <td>24.771</td>\n",
       "      <td>22.707</td>\n",
       "      <td>27.581</td>\n",
       "      <td>22.908</td>\n",
       "      <td>26.963</td>\n",
       "      <td>24.869</td>\n",
       "      <td>25.561</td>\n",
       "      <td>24.575</td>\n",
       "      <td>21.682</td>\n",
       "      <td>22.600</td>\n",
       "      <td>20.683</td>\n",
       "      <td>19.142</td>\n",
       "      <td>284.040</td>\n",
       "    </tr>\n",
       "    <tr>\n",
       "      <th>17</th>\n",
       "      <td>TARAPOA</td>\n",
       "      <td>ORQUIDEA</td>\n",
       "      <td>0.000</td>\n",
       "      <td>0.000</td>\n",
       "      <td>0.000</td>\n",
       "      <td>0.000</td>\n",
       "      <td>0.000</td>\n",
       "      <td>0.000</td>\n",
       "      <td>0.000</td>\n",
       "      <td>0.000</td>\n",
       "      <td>0.000</td>\n",
       "      <td>334.000</td>\n",
       "      <td>0.000</td>\n",
       "      <td>0.000</td>\n",
       "      <td>334.000</td>\n",
       "    </tr>\n",
       "    <tr>\n",
       "      <th>18</th>\n",
       "      <td>TARAPOA</td>\n",
       "      <td>SHIRLEY</td>\n",
       "      <td>1.696</td>\n",
       "      <td>1.287</td>\n",
       "      <td>1.304</td>\n",
       "      <td>1.452</td>\n",
       "      <td>1.423</td>\n",
       "      <td>1.901</td>\n",
       "      <td>2.482</td>\n",
       "      <td>2.725</td>\n",
       "      <td>18.230</td>\n",
       "      <td>10.282</td>\n",
       "      <td>7.066</td>\n",
       "      <td>7.401</td>\n",
       "      <td>57.250</td>\n",
       "    </tr>\n",
       "    <tr>\n",
       "      <th>19</th>\n",
       "      <td>TARAPOA</td>\n",
       "      <td>SONIA</td>\n",
       "      <td>4.208</td>\n",
       "      <td>3.760</td>\n",
       "      <td>4.157</td>\n",
       "      <td>4.573</td>\n",
       "      <td>4.924</td>\n",
       "      <td>4.643</td>\n",
       "      <td>4.801</td>\n",
       "      <td>4.794</td>\n",
       "      <td>4.640</td>\n",
       "      <td>4.684</td>\n",
       "      <td>4.274</td>\n",
       "      <td>4.340</td>\n",
       "      <td>53.797</td>\n",
       "    </tr>\n",
       "    <tr>\n",
       "      <th>20</th>\n",
       "      <td>TARAPOA</td>\n",
       "      <td>TARAPOA NOROESTE</td>\n",
       "      <td>NaN</td>\n",
       "      <td>0.000</td>\n",
       "      <td>0.000</td>\n",
       "      <td>0.000</td>\n",
       "      <td>0.000</td>\n",
       "      <td>0.000</td>\n",
       "      <td>0.000</td>\n",
       "      <td>0.000</td>\n",
       "      <td>0.000</td>\n",
       "      <td>0.000</td>\n",
       "      <td>0.000</td>\n",
       "      <td>0.000</td>\n",
       "      <td>0.000</td>\n",
       "    </tr>\n",
       "  </tbody>\n",
       "</table>\n",
       "</div>"
      ],
      "text/plain": [
       "     BLOQUE            CAMPOS    ENERO  FEBRERO    MARZO    ABRIL     MAYO  \\\n",
       "0   TARAPOA             ALICE   92.117   83.881   90.989   87.972   89.027   \n",
       "1   TARAPOA       ALICE OESTE    0.000    0.000    0.000    0.000    0.000   \n",
       "2   TARAPOA          CHORONGO    6.642    8.212    7.732    7.457    5.730   \n",
       "3   TARAPOA     CHORONGO ESTE    3.365    2.618    2.210  748.000    0.000   \n",
       "4   TARAPOA           COLIBRI   62.696   57.146   57.413   44.915   56.400   \n",
       "5   TARAPOA              DANA    7.093    4.505    2.810    1.316    0.000   \n",
       "6   TARAPOA            DORINE  196.580  169.047  190.396  188.106  187.872   \n",
       "7   TARAPOA          DORINE G    2.145    2.210    2.486    2.453    2.543   \n",
       "8   TARAPOA      DORINE NORTE    8.353    7.353    8.118    7.871    7.736   \n",
       "9   TARAPOA         ESPERANZA   30.635   28.400   31.070   29.696   29.990   \n",
       "10  TARAPOA         FANNY-18B  477.004  451.050  481.467  449.227  451.535   \n",
       "11  TARAPOA           JOHANNA    0.000    0.000    0.000    0.000    0.000   \n",
       "12  TARAPOA          MAHOGANY    7.699    6.381    7.571    7.738    8.089   \n",
       "13  TARAPOA           MARIANN   87.413   79.332   82.781  100.134  117.154   \n",
       "14  TARAPOA     MARIANN NORTE    5.341    2.828    0.000    0.000  829.000   \n",
       "15  TARAPOA       MARIANN SUR   15.139   17.965   34.679   46.521   58.845   \n",
       "16  TARAPOA        MARIANN-4A   24.771   22.707   27.581   22.908   26.963   \n",
       "17  TARAPOA          ORQUIDEA    0.000    0.000    0.000    0.000    0.000   \n",
       "18  TARAPOA           SHIRLEY    1.696    1.287    1.304    1.452    1.423   \n",
       "19  TARAPOA             SONIA    4.208    3.760    4.157    4.573    4.924   \n",
       "20  TARAPOA  TARAPOA NOROESTE      NaN    0.000    0.000    0.000    0.000   \n",
       "\n",
       "      JUNIO    JULIO   AGOSTO  SEPTIEMBRE  OCTUBRE  NOVIEMBRE  DICIEMBRE  \\\n",
       "0    86.944   87.948   87.855      83.570   86.290     84.005     84.451   \n",
       "1     0.000    0.000   14.728      31.124   32.642     32.684     50.758   \n",
       "2     9.381    9.736   10.253      10.426   10.821     11.337     12.077   \n",
       "3     0.000    0.000    0.000       0.000    0.000      0.000      0.000   \n",
       "4    72.657   70.449   68.634      49.231   49.733     45.634     43.670   \n",
       "5     0.000    0.000    0.000       0.000   96.000     37.000      0.000   \n",
       "6   189.185  175.084  171.404     168.668  172.138    167.475    172.219   \n",
       "7     2.458    2.506    2.514       2.478    2.590      2.332     24.000   \n",
       "8     7.449    7.630    7.473       7.027    7.260      6.993      7.189   \n",
       "9    28.416   28.650   29.380      26.666   26.821     24.578     22.342   \n",
       "10  433.899  439.709  434.354     410.664  418.803    404.022    418.169   \n",
       "11    0.000   20.063   16.212      10.660    9.176      7.836      7.242   \n",
       "12    7.046    6.562    6.714       6.184    6.309      5.970      6.008   \n",
       "13  121.881  126.045  165.028     159.941  177.997    176.045    202.455   \n",
       "14    1.449    1.556    0.000       0.000    0.000      0.000      0.000   \n",
       "15   49.236   46.738    0.000       0.000    0.000      0.000      0.000   \n",
       "16   24.869   25.561   24.575      21.682   22.600     20.683     19.142   \n",
       "17    0.000    0.000    0.000       0.000  334.000      0.000      0.000   \n",
       "18    1.901    2.482    2.725      18.230   10.282      7.066      7.401   \n",
       "19    4.643    4.801    4.794       4.640    4.684      4.274      4.340   \n",
       "20    0.000    0.000    0.000       0.000    0.000      0.000      0.000   \n",
       "\n",
       "       TOTAL  \n",
       "0   1045.049  \n",
       "1    161.935  \n",
       "2    109.804  \n",
       "3      8.941  \n",
       "4    678.579  \n",
       "5     15.857  \n",
       "6   2148.175  \n",
       "7     26.738  \n",
       "8     90.453  \n",
       "9    336.644  \n",
       "10  5269.902  \n",
       "11    71.188  \n",
       "12    82.270  \n",
       "13  1596.206  \n",
       "14    12.002  \n",
       "15   269.122  \n",
       "16   284.040  \n",
       "17   334.000  \n",
       "18    57.250  \n",
       "19    53.797  \n",
       "20     0.000  "
      ]
     },
     "execution_count": 1,
     "metadata": {},
     "output_type": "execute_result"
    }
   ],
   "source": [
    "import pandas as pd\n",
    "from math import pi\n",
    "from bokeh.core.properties import value\n",
    "from bokeh.io import show, output_notebook\n",
    "from bokeh.models import ColumnDataSource, FactorRange\n",
    "from bokeh.plotting import figure\n",
    "from bokeh.transform import factor_cmap,cumsum     # DataSpec\n",
    "from bokeh.palettes import *\n",
    "output_notebook()\n",
    "archivo=pd.read_csv(\"data/andes-petroleum.csv\", sep=\";\")\n",
    "archivo"
   ]
  },
  {
   "cell_type": "code",
   "execution_count": 2,
   "metadata": {},
   "outputs": [
    {
     "data": {
      "text/html": [
       "\n",
       "\n",
       "\n",
       "\n",
       "\n",
       "\n",
       "  <div class=\"bk-root\" id=\"007bb319-9367-4508-82b5-b855daf1de40\" data-root-id=\"1003\"></div>\n"
      ]
     },
     "metadata": {},
     "output_type": "display_data"
    },
    {
     "data": {
      "application/javascript": [
       "(function(root) {\n",
       "  function embed_document(root) {\n",
       "    \n",
       "  var docs_json = {\"f459d757-665d-4954-8062-a10a70260299\":{\"roots\":{\"references\":[{\"attributes\":{\"below\":[{\"id\":\"1013\",\"type\":\"CategoricalAxis\"}],\"left\":[{\"id\":\"1017\",\"type\":\"LinearAxis\"}],\"plot_width\":1500,\"renderers\":[{\"id\":\"1013\",\"type\":\"CategoricalAxis\"},{\"id\":\"1016\",\"type\":\"Grid\"},{\"id\":\"1017\",\"type\":\"LinearAxis\"},{\"id\":\"1021\",\"type\":\"Grid\"},{\"id\":\"1058\",\"type\":\"Legend\"},{\"id\":\"1051\",\"type\":\"GlyphRenderer\"},{\"id\":\"1064\",\"type\":\"GlyphRenderer\"},{\"id\":\"1078\",\"type\":\"GlyphRenderer\"},{\"id\":\"1094\",\"type\":\"GlyphRenderer\"},{\"id\":\"1112\",\"type\":\"GlyphRenderer\"},{\"id\":\"1132\",\"type\":\"GlyphRenderer\"},{\"id\":\"1154\",\"type\":\"GlyphRenderer\"},{\"id\":\"1178\",\"type\":\"GlyphRenderer\"},{\"id\":\"1204\",\"type\":\"GlyphRenderer\"},{\"id\":\"1232\",\"type\":\"GlyphRenderer\"},{\"id\":\"1262\",\"type\":\"GlyphRenderer\"},{\"id\":\"1294\",\"type\":\"GlyphRenderer\"}],\"title\":{\"id\":\"1002\",\"type\":\"Title\"},\"toolbar\":{\"id\":\"1022\",\"type\":\"Toolbar\"},\"toolbar_location\":null,\"x_range\":{\"id\":\"1005\",\"type\":\"FactorRange\"},\"x_scale\":{\"id\":\"1009\",\"type\":\"CategoricalScale\"},\"y_range\":{\"id\":\"1007\",\"type\":\"Range1d\"},\"y_scale\":{\"id\":\"1011\",\"type\":\"LinearScale\"}},\"id\":\"1003\",\"subtype\":\"Figure\",\"type\":\"Plot\"},{\"attributes\":{\"source\":{\"id\":\"1108\",\"type\":\"ColumnDataSource\"}},\"id\":\"1113\",\"type\":\"CDSView\"},{\"attributes\":{\"bottom\":{\"expr\":{\"id\":\"1031\",\"type\":\"Stack\"}},\"fill_alpha\":{\"value\":0.1},\"fill_color\":{\"value\":\"#1f77b4\"},\"line_alpha\":{\"value\":0.1},\"line_color\":{\"value\":\"#1f77b4\"},\"top\":{\"expr\":{\"id\":\"1032\",\"type\":\"Stack\"}},\"width\":{\"value\":0.9},\"x\":{\"field\":\"campos\"}},\"id\":\"1111\",\"type\":\"VBar\"},{\"attributes\":{\"data_source\":{\"id\":\"1108\",\"type\":\"ColumnDataSource\"},\"glyph\":{\"id\":\"1110\",\"type\":\"VBar\"},\"hover_glyph\":null,\"muted_glyph\":null,\"name\":\"Mayo\",\"nonselection_glyph\":{\"id\":\"1111\",\"type\":\"VBar\"},\"selection_glyph\":null,\"view\":{\"id\":\"1113\",\"type\":\"CDSView\"}},\"id\":\"1112\",\"type\":\"GlyphRenderer\"},{\"attributes\":{},\"id\":\"1126\",\"type\":\"Selection\"},{\"attributes\":{},\"id\":\"1125\",\"type\":\"UnionRenderers\"},{\"attributes\":{\"label\":{\"value\":\"Mayo\"},\"renderers\":[{\"id\":\"1112\",\"type\":\"GlyphRenderer\"}]},\"id\":\"1127\",\"type\":\"LegendItem\"},{\"attributes\":{\"source\":{\"id\":\"1128\",\"type\":\"ColumnDataSource\"}},\"id\":\"1133\",\"type\":\"CDSView\"},{\"attributes\":{\"callback\":null,\"data\":{\"Abril\":[87.97200000000001,0.0,7.457000000000001,748.0,44.915,1.3159999999999998,188.106,2.4530000000000003,7.871,29.695999999999998,449.227,0.0,7.7379999999999995,100.134,0.0,46.521,22.908,0.0,1.452,4.573,0.0],\"Agosto\":[87.855,14.728,10.253,0.0,68.634,0.0,171.40400000000002,2.5140000000000002,7.473,29.38,434.35400000000004,16.212,6.7139999999999995,165.028,0.0,0.0,24.575,0.0,2.725,4.794,0.0],\"Diciembre\":[84.45100000000001,50.758,12.077,0.0,43.67,0.0,172.21900000000002,24.0,7.189,22.342,418.16900000000004,7.242000000000001,6.007999999999999,202.455,0.0,0.0,19.142,0.0,7.401,4.34,0.0],\"Enero\":[92.117,0.0,6.642,3.365,62.696000000000005,7.093,196.58,2.145,8.353,30.635,477.004,0.0,7.699,87.413,5.341,15.139000000000001,24.771,0.0,1.696,4.208,\"NaN\"],\"Febrero\":[83.881,0.0,8.212,2.6180000000000003,57.146,4.505,169.047,2.21,7.353,28.4,451.05,0.0,6.381,79.332,2.8280000000000003,17.965,22.706999999999997,0.0,1.287,3.76,0.0],\"Julio\":[87.948,0.0,9.736,0.0,70.449,0.0,175.084,2.506,7.63,28.65,439.709,20.063,6.562,126.045,1.556,46.738,25.561,0.0,2.4819999999999998,4.801,0.0],\"Junio\":[86.944,0.0,9.381,0.0,72.657,0.0,189.185,2.458,7.449,28.416,433.899,0.0,7.046,121.881,1.449,49.236000000000004,24.869,0.0,1.901,4.643,0.0],\"Marzo\":[90.98899999999999,0.0,7.732,2.21,57.413000000000004,2.81,190.396,2.4859999999999998,8.118,31.07,481.467,0.0,7.571000000000001,82.781,0.0,34.679,27.581,0.0,1.304,4.157,0.0],\"Mayo\":[89.027,0.0,5.73,0.0,56.4,0.0,187.872,2.543,7.736000000000001,29.99,451.535,0.0,8.089,117.154,829.0,58.845,26.963,0.0,1.423,4.9239999999999995,0.0],\"Noviembre\":[84.005,32.684,11.337,0.0,45.63399999999999,37.0,167.475,2.332,6.992999999999999,24.578000000000003,404.022,7.836,5.97,176.045,0.0,0.0,20.683000000000003,0.0,7.066,4.274,0.0],\"Octubre\":[86.29,32.641999999999996,10.821,0.0,49.733000000000004,96.0,172.138,2.59,7.26,26.820999999999998,418.80300000000005,9.176,6.309,177.997,0.0,0.0,22.6,334.0,10.282,4.684,0.0],\"Septiembre\":[83.57,31.124000000000002,10.425999999999998,0.0,49.231,0.0,168.668,2.478,7.027,26.666,410.664,10.66,6.184,159.941,0.0,0.0,21.682,0.0,18.23,4.64,0.0],\"campos\":[\"ALICE\",\"ALICE OESTE\",\"CHORONGO\",\"CHORONGO ESTE\",\"COLIBRI\",\"DANA\",\"DORINE\",\"DORINE G\",\"DORINE NORTE\",\"ESPERANZA\",\"FANNY-18B\",\"JOHANNA\",\"MAHOGANY\",\"MARIANN\",\"MARIANN NORTE\",\"MARIANN SUR\",\"MARIANN-4A\",\"ORQUIDEA\",\"SHIRLEY\",\"SONIA\",\"TARAPOA NOROESTE\"]},\"selected\":{\"id\":\"1172\",\"type\":\"Selection\"},\"selection_policy\":{\"id\":\"1171\",\"type\":\"UnionRenderers\"}},\"id\":\"1128\",\"type\":\"ColumnDataSource\"},{\"attributes\":{\"bottom\":{\"expr\":{\"id\":\"1033\",\"type\":\"Stack\"}},\"fill_color\":{\"value\":\"#24848D\"},\"line_color\":{\"value\":\"#24848D\"},\"top\":{\"expr\":{\"id\":\"1034\",\"type\":\"Stack\"}},\"width\":{\"value\":0.9},\"x\":{\"field\":\"campos\"}},\"id\":\"1130\",\"type\":\"VBar\"},{\"attributes\":{\"callback\":null,\"data\":{\"Abril\":[87.97200000000001,0.0,7.457000000000001,748.0,44.915,1.3159999999999998,188.106,2.4530000000000003,7.871,29.695999999999998,449.227,0.0,7.7379999999999995,100.134,0.0,46.521,22.908,0.0,1.452,4.573,0.0],\"Agosto\":[87.855,14.728,10.253,0.0,68.634,0.0,171.40400000000002,2.5140000000000002,7.473,29.38,434.35400000000004,16.212,6.7139999999999995,165.028,0.0,0.0,24.575,0.0,2.725,4.794,0.0],\"Diciembre\":[84.45100000000001,50.758,12.077,0.0,43.67,0.0,172.21900000000002,24.0,7.189,22.342,418.16900000000004,7.242000000000001,6.007999999999999,202.455,0.0,0.0,19.142,0.0,7.401,4.34,0.0],\"Enero\":[92.117,0.0,6.642,3.365,62.696000000000005,7.093,196.58,2.145,8.353,30.635,477.004,0.0,7.699,87.413,5.341,15.139000000000001,24.771,0.0,1.696,4.208,\"NaN\"],\"Febrero\":[83.881,0.0,8.212,2.6180000000000003,57.146,4.505,169.047,2.21,7.353,28.4,451.05,0.0,6.381,79.332,2.8280000000000003,17.965,22.706999999999997,0.0,1.287,3.76,0.0],\"Julio\":[87.948,0.0,9.736,0.0,70.449,0.0,175.084,2.506,7.63,28.65,439.709,20.063,6.562,126.045,1.556,46.738,25.561,0.0,2.4819999999999998,4.801,0.0],\"Junio\":[86.944,0.0,9.381,0.0,72.657,0.0,189.185,2.458,7.449,28.416,433.899,0.0,7.046,121.881,1.449,49.236000000000004,24.869,0.0,1.901,4.643,0.0],\"Marzo\":[90.98899999999999,0.0,7.732,2.21,57.413000000000004,2.81,190.396,2.4859999999999998,8.118,31.07,481.467,0.0,7.571000000000001,82.781,0.0,34.679,27.581,0.0,1.304,4.157,0.0],\"Mayo\":[89.027,0.0,5.73,0.0,56.4,0.0,187.872,2.543,7.736000000000001,29.99,451.535,0.0,8.089,117.154,829.0,58.845,26.963,0.0,1.423,4.9239999999999995,0.0],\"Noviembre\":[84.005,32.684,11.337,0.0,45.63399999999999,37.0,167.475,2.332,6.992999999999999,24.578000000000003,404.022,7.836,5.97,176.045,0.0,0.0,20.683000000000003,0.0,7.066,4.274,0.0],\"Octubre\":[86.29,32.641999999999996,10.821,0.0,49.733000000000004,96.0,172.138,2.59,7.26,26.820999999999998,418.80300000000005,9.176,6.309,177.997,0.0,0.0,22.6,334.0,10.282,4.684,0.0],\"Septiembre\":[83.57,31.124000000000002,10.425999999999998,0.0,49.231,0.0,168.668,2.478,7.027,26.666,410.664,10.66,6.184,159.941,0.0,0.0,21.682,0.0,18.23,4.64,0.0],\"campos\":[\"ALICE\",\"ALICE OESTE\",\"CHORONGO\",\"CHORONGO ESTE\",\"COLIBRI\",\"DANA\",\"DORINE\",\"DORINE G\",\"DORINE NORTE\",\"ESPERANZA\",\"FANNY-18B\",\"JOHANNA\",\"MAHOGANY\",\"MARIANN\",\"MARIANN NORTE\",\"MARIANN SUR\",\"MARIANN-4A\",\"ORQUIDEA\",\"SHIRLEY\",\"SONIA\",\"TARAPOA NOROESTE\"]},\"selected\":{\"id\":\"1288\",\"type\":\"Selection\"},\"selection_policy\":{\"id\":\"1287\",\"type\":\"UnionRenderers\"}},\"id\":\"1228\",\"type\":\"ColumnDataSource\"},{\"attributes\":{\"bottom\":{\"expr\":{\"id\":\"1033\",\"type\":\"Stack\"}},\"fill_alpha\":{\"value\":0.1},\"fill_color\":{\"value\":\"#1f77b4\"},\"line_alpha\":{\"value\":0.1},\"line_color\":{\"value\":\"#1f77b4\"},\"top\":{\"expr\":{\"id\":\"1034\",\"type\":\"Stack\"}},\"width\":{\"value\":0.9},\"x\":{\"field\":\"campos\"}},\"id\":\"1131\",\"type\":\"VBar\"},{\"attributes\":{\"data_source\":{\"id\":\"1128\",\"type\":\"ColumnDataSource\"},\"glyph\":{\"id\":\"1130\",\"type\":\"VBar\"},\"hover_glyph\":null,\"muted_glyph\":null,\"name\":\"Junio\",\"nonselection_glyph\":{\"id\":\"1131\",\"type\":\"VBar\"},\"selection_glyph\":null,\"view\":{\"id\":\"1133\",\"type\":\"CDSView\"}},\"id\":\"1132\",\"type\":\"GlyphRenderer\"},{\"attributes\":{},\"id\":\"1148\",\"type\":\"Selection\"},{\"attributes\":{},\"id\":\"1147\",\"type\":\"UnionRenderers\"},{\"attributes\":{\"label\":{\"value\":\"Junio\"},\"renderers\":[{\"id\":\"1132\",\"type\":\"GlyphRenderer\"}]},\"id\":\"1149\",\"type\":\"LegendItem\"},{\"attributes\":{\"source\":{\"id\":\"1150\",\"type\":\"ColumnDataSource\"}},\"id\":\"1155\",\"type\":\"CDSView\"},{\"attributes\":{\"bottom\":{\"expr\":{\"id\":\"1035\",\"type\":\"Stack\"}},\"fill_color\":{\"value\":\"#1E9A89\"},\"line_color\":{\"value\":\"#1E9A89\"},\"top\":{\"expr\":{\"id\":\"1036\",\"type\":\"Stack\"}},\"width\":{\"value\":0.9},\"x\":{\"field\":\"campos\"}},\"id\":\"1152\",\"type\":\"VBar\"},{\"attributes\":{\"source\":{\"id\":\"1174\",\"type\":\"ColumnDataSource\"}},\"id\":\"1179\",\"type\":\"CDSView\"},{\"attributes\":{\"callback\":null,\"data\":{\"Abril\":[87.97200000000001,0.0,7.457000000000001,748.0,44.915,1.3159999999999998,188.106,2.4530000000000003,7.871,29.695999999999998,449.227,0.0,7.7379999999999995,100.134,0.0,46.521,22.908,0.0,1.452,4.573,0.0],\"Agosto\":[87.855,14.728,10.253,0.0,68.634,0.0,171.40400000000002,2.5140000000000002,7.473,29.38,434.35400000000004,16.212,6.7139999999999995,165.028,0.0,0.0,24.575,0.0,2.725,4.794,0.0],\"Diciembre\":[84.45100000000001,50.758,12.077,0.0,43.67,0.0,172.21900000000002,24.0,7.189,22.342,418.16900000000004,7.242000000000001,6.007999999999999,202.455,0.0,0.0,19.142,0.0,7.401,4.34,0.0],\"Enero\":[92.117,0.0,6.642,3.365,62.696000000000005,7.093,196.58,2.145,8.353,30.635,477.004,0.0,7.699,87.413,5.341,15.139000000000001,24.771,0.0,1.696,4.208,\"NaN\"],\"Febrero\":[83.881,0.0,8.212,2.6180000000000003,57.146,4.505,169.047,2.21,7.353,28.4,451.05,0.0,6.381,79.332,2.8280000000000003,17.965,22.706999999999997,0.0,1.287,3.76,0.0],\"Julio\":[87.948,0.0,9.736,0.0,70.449,0.0,175.084,2.506,7.63,28.65,439.709,20.063,6.562,126.045,1.556,46.738,25.561,0.0,2.4819999999999998,4.801,0.0],\"Junio\":[86.944,0.0,9.381,0.0,72.657,0.0,189.185,2.458,7.449,28.416,433.899,0.0,7.046,121.881,1.449,49.236000000000004,24.869,0.0,1.901,4.643,0.0],\"Marzo\":[90.98899999999999,0.0,7.732,2.21,57.413000000000004,2.81,190.396,2.4859999999999998,8.118,31.07,481.467,0.0,7.571000000000001,82.781,0.0,34.679,27.581,0.0,1.304,4.157,0.0],\"Mayo\":[89.027,0.0,5.73,0.0,56.4,0.0,187.872,2.543,7.736000000000001,29.99,451.535,0.0,8.089,117.154,829.0,58.845,26.963,0.0,1.423,4.9239999999999995,0.0],\"Noviembre\":[84.005,32.684,11.337,0.0,45.63399999999999,37.0,167.475,2.332,6.992999999999999,24.578000000000003,404.022,7.836,5.97,176.045,0.0,0.0,20.683000000000003,0.0,7.066,4.274,0.0],\"Octubre\":[86.29,32.641999999999996,10.821,0.0,49.733000000000004,96.0,172.138,2.59,7.26,26.820999999999998,418.80300000000005,9.176,6.309,177.997,0.0,0.0,22.6,334.0,10.282,4.684,0.0],\"Septiembre\":[83.57,31.124000000000002,10.425999999999998,0.0,49.231,0.0,168.668,2.478,7.027,26.666,410.664,10.66,6.184,159.941,0.0,0.0,21.682,0.0,18.23,4.64,0.0],\"campos\":[\"ALICE\",\"ALICE OESTE\",\"CHORONGO\",\"CHORONGO ESTE\",\"COLIBRI\",\"DANA\",\"DORINE\",\"DORINE G\",\"DORINE NORTE\",\"ESPERANZA\",\"FANNY-18B\",\"JOHANNA\",\"MAHOGANY\",\"MARIANN\",\"MARIANN NORTE\",\"MARIANN SUR\",\"MARIANN-4A\",\"ORQUIDEA\",\"SHIRLEY\",\"SONIA\",\"TARAPOA NOROESTE\"]},\"selected\":{\"id\":\"1198\",\"type\":\"Selection\"},\"selection_policy\":{\"id\":\"1197\",\"type\":\"UnionRenderers\"}},\"id\":\"1150\",\"type\":\"ColumnDataSource\"},{\"attributes\":{\"bottom\":{\"expr\":{\"id\":\"1035\",\"type\":\"Stack\"}},\"fill_alpha\":{\"value\":0.1},\"fill_color\":{\"value\":\"#1f77b4\"},\"line_alpha\":{\"value\":0.1},\"line_color\":{\"value\":\"#1f77b4\"},\"top\":{\"expr\":{\"id\":\"1036\",\"type\":\"Stack\"}},\"width\":{\"value\":0.9},\"x\":{\"field\":\"campos\"}},\"id\":\"1153\",\"type\":\"VBar\"},{\"attributes\":{\"data_source\":{\"id\":\"1150\",\"type\":\"ColumnDataSource\"},\"glyph\":{\"id\":\"1152\",\"type\":\"VBar\"},\"hover_glyph\":null,\"muted_glyph\":null,\"name\":\"Julio\",\"nonselection_glyph\":{\"id\":\"1153\",\"type\":\"VBar\"},\"selection_glyph\":null,\"view\":{\"id\":\"1155\",\"type\":\"CDSView\"}},\"id\":\"1154\",\"type\":\"GlyphRenderer\"},{\"attributes\":{\"callback\":null,\"data\":{\"Abril\":[87.97200000000001,0.0,7.457000000000001,748.0,44.915,1.3159999999999998,188.106,2.4530000000000003,7.871,29.695999999999998,449.227,0.0,7.7379999999999995,100.134,0.0,46.521,22.908,0.0,1.452,4.573,0.0],\"Agosto\":[87.855,14.728,10.253,0.0,68.634,0.0,171.40400000000002,2.5140000000000002,7.473,29.38,434.35400000000004,16.212,6.7139999999999995,165.028,0.0,0.0,24.575,0.0,2.725,4.794,0.0],\"Diciembre\":[84.45100000000001,50.758,12.077,0.0,43.67,0.0,172.21900000000002,24.0,7.189,22.342,418.16900000000004,7.242000000000001,6.007999999999999,202.455,0.0,0.0,19.142,0.0,7.401,4.34,0.0],\"Enero\":[92.117,0.0,6.642,3.365,62.696000000000005,7.093,196.58,2.145,8.353,30.635,477.004,0.0,7.699,87.413,5.341,15.139000000000001,24.771,0.0,1.696,4.208,\"NaN\"],\"Febrero\":[83.881,0.0,8.212,2.6180000000000003,57.146,4.505,169.047,2.21,7.353,28.4,451.05,0.0,6.381,79.332,2.8280000000000003,17.965,22.706999999999997,0.0,1.287,3.76,0.0],\"Julio\":[87.948,0.0,9.736,0.0,70.449,0.0,175.084,2.506,7.63,28.65,439.709,20.063,6.562,126.045,1.556,46.738,25.561,0.0,2.4819999999999998,4.801,0.0],\"Junio\":[86.944,0.0,9.381,0.0,72.657,0.0,189.185,2.458,7.449,28.416,433.899,0.0,7.046,121.881,1.449,49.236000000000004,24.869,0.0,1.901,4.643,0.0],\"Marzo\":[90.98899999999999,0.0,7.732,2.21,57.413000000000004,2.81,190.396,2.4859999999999998,8.118,31.07,481.467,0.0,7.571000000000001,82.781,0.0,34.679,27.581,0.0,1.304,4.157,0.0],\"Mayo\":[89.027,0.0,5.73,0.0,56.4,0.0,187.872,2.543,7.736000000000001,29.99,451.535,0.0,8.089,117.154,829.0,58.845,26.963,0.0,1.423,4.9239999999999995,0.0],\"Noviembre\":[84.005,32.684,11.337,0.0,45.63399999999999,37.0,167.475,2.332,6.992999999999999,24.578000000000003,404.022,7.836,5.97,176.045,0.0,0.0,20.683000000000003,0.0,7.066,4.274,0.0],\"Octubre\":[86.29,32.641999999999996,10.821,0.0,49.733000000000004,96.0,172.138,2.59,7.26,26.820999999999998,418.80300000000005,9.176,6.309,177.997,0.0,0.0,22.6,334.0,10.282,4.684,0.0],\"Septiembre\":[83.57,31.124000000000002,10.425999999999998,0.0,49.231,0.0,168.668,2.478,7.027,26.666,410.664,10.66,6.184,159.941,0.0,0.0,21.682,0.0,18.23,4.64,0.0],\"campos\":[\"ALICE\",\"ALICE OESTE\",\"CHORONGO\",\"CHORONGO ESTE\",\"COLIBRI\",\"DANA\",\"DORINE\",\"DORINE G\",\"DORINE NORTE\",\"ESPERANZA\",\"FANNY-18B\",\"JOHANNA\",\"MAHOGANY\",\"MARIANN\",\"MARIANN NORTE\",\"MARIANN SUR\",\"MARIANN-4A\",\"ORQUIDEA\",\"SHIRLEY\",\"SONIA\",\"TARAPOA NOROESTE\"]},\"selected\":{\"id\":\"1226\",\"type\":\"Selection\"},\"selection_policy\":{\"id\":\"1225\",\"type\":\"UnionRenderers\"}},\"id\":\"1174\",\"type\":\"ColumnDataSource\"},{\"attributes\":{\"bottom\":{\"expr\":{\"id\":\"1037\",\"type\":\"Stack\"}},\"fill_color\":{\"value\":\"#2AB07E\"},\"line_color\":{\"value\":\"#2AB07E\"},\"top\":{\"expr\":{\"id\":\"1038\",\"type\":\"Stack\"}},\"width\":{\"value\":0.9},\"x\":{\"field\":\"campos\"}},\"id\":\"1176\",\"type\":\"VBar\"},{\"attributes\":{\"bottom\":{\"expr\":{\"id\":\"1037\",\"type\":\"Stack\"}},\"fill_alpha\":{\"value\":0.1},\"fill_color\":{\"value\":\"#1f77b4\"},\"line_alpha\":{\"value\":0.1},\"line_color\":{\"value\":\"#1f77b4\"},\"top\":{\"expr\":{\"id\":\"1038\",\"type\":\"Stack\"}},\"width\":{\"value\":0.9},\"x\":{\"field\":\"campos\"}},\"id\":\"1177\",\"type\":\"VBar\"},{\"attributes\":{\"data_source\":{\"id\":\"1174\",\"type\":\"ColumnDataSource\"},\"glyph\":{\"id\":\"1176\",\"type\":\"VBar\"},\"hover_glyph\":null,\"muted_glyph\":null,\"name\":\"Agosto\",\"nonselection_glyph\":{\"id\":\"1177\",\"type\":\"VBar\"},\"selection_glyph\":null,\"view\":{\"id\":\"1179\",\"type\":\"CDSView\"}},\"id\":\"1178\",\"type\":\"GlyphRenderer\"},{\"attributes\":{},\"id\":\"1198\",\"type\":\"Selection\"},{\"attributes\":{},\"id\":\"1197\",\"type\":\"UnionRenderers\"},{\"attributes\":{\"label\":{\"value\":\"Agosto\"},\"renderers\":[{\"id\":\"1178\",\"type\":\"GlyphRenderer\"}]},\"id\":\"1199\",\"type\":\"LegendItem\"},{\"attributes\":{\"bottom\":{\"expr\":{\"id\":\"1039\",\"type\":\"Stack\"}},\"fill_color\":{\"value\":\"#4FC369\"},\"line_color\":{\"value\":\"#4FC369\"},\"top\":{\"expr\":{\"id\":\"1040\",\"type\":\"Stack\"}},\"width\":{\"value\":0.9},\"x\":{\"field\":\"campos\"}},\"id\":\"1202\",\"type\":\"VBar\"},{\"attributes\":{\"callback\":null,\"data\":{\"Abril\":[87.97200000000001,0.0,7.457000000000001,748.0,44.915,1.3159999999999998,188.106,2.4530000000000003,7.871,29.695999999999998,449.227,0.0,7.7379999999999995,100.134,0.0,46.521,22.908,0.0,1.452,4.573,0.0],\"Agosto\":[87.855,14.728,10.253,0.0,68.634,0.0,171.40400000000002,2.5140000000000002,7.473,29.38,434.35400000000004,16.212,6.7139999999999995,165.028,0.0,0.0,24.575,0.0,2.725,4.794,0.0],\"Diciembre\":[84.45100000000001,50.758,12.077,0.0,43.67,0.0,172.21900000000002,24.0,7.189,22.342,418.16900000000004,7.242000000000001,6.007999999999999,202.455,0.0,0.0,19.142,0.0,7.401,4.34,0.0],\"Enero\":[92.117,0.0,6.642,3.365,62.696000000000005,7.093,196.58,2.145,8.353,30.635,477.004,0.0,7.699,87.413,5.341,15.139000000000001,24.771,0.0,1.696,4.208,\"NaN\"],\"Febrero\":[83.881,0.0,8.212,2.6180000000000003,57.146,4.505,169.047,2.21,7.353,28.4,451.05,0.0,6.381,79.332,2.8280000000000003,17.965,22.706999999999997,0.0,1.287,3.76,0.0],\"Julio\":[87.948,0.0,9.736,0.0,70.449,0.0,175.084,2.506,7.63,28.65,439.709,20.063,6.562,126.045,1.556,46.738,25.561,0.0,2.4819999999999998,4.801,0.0],\"Junio\":[86.944,0.0,9.381,0.0,72.657,0.0,189.185,2.458,7.449,28.416,433.899,0.0,7.046,121.881,1.449,49.236000000000004,24.869,0.0,1.901,4.643,0.0],\"Marzo\":[90.98899999999999,0.0,7.732,2.21,57.413000000000004,2.81,190.396,2.4859999999999998,8.118,31.07,481.467,0.0,7.571000000000001,82.781,0.0,34.679,27.581,0.0,1.304,4.157,0.0],\"Mayo\":[89.027,0.0,5.73,0.0,56.4,0.0,187.872,2.543,7.736000000000001,29.99,451.535,0.0,8.089,117.154,829.0,58.845,26.963,0.0,1.423,4.9239999999999995,0.0],\"Noviembre\":[84.005,32.684,11.337,0.0,45.63399999999999,37.0,167.475,2.332,6.992999999999999,24.578000000000003,404.022,7.836,5.97,176.045,0.0,0.0,20.683000000000003,0.0,7.066,4.274,0.0],\"Octubre\":[86.29,32.641999999999996,10.821,0.0,49.733000000000004,96.0,172.138,2.59,7.26,26.820999999999998,418.80300000000005,9.176,6.309,177.997,0.0,0.0,22.6,334.0,10.282,4.684,0.0],\"Septiembre\":[83.57,31.124000000000002,10.425999999999998,0.0,49.231,0.0,168.668,2.478,7.027,26.666,410.664,10.66,6.184,159.941,0.0,0.0,21.682,0.0,18.23,4.64,0.0],\"campos\":[\"ALICE\",\"ALICE OESTE\",\"CHORONGO\",\"CHORONGO ESTE\",\"COLIBRI\",\"DANA\",\"DORINE\",\"DORINE G\",\"DORINE NORTE\",\"ESPERANZA\",\"FANNY-18B\",\"JOHANNA\",\"MAHOGANY\",\"MARIANN\",\"MARIANN NORTE\",\"MARIANN SUR\",\"MARIANN-4A\",\"ORQUIDEA\",\"SHIRLEY\",\"SONIA\",\"TARAPOA NOROESTE\"]},\"selected\":{\"id\":\"1256\",\"type\":\"Selection\"},\"selection_policy\":{\"id\":\"1255\",\"type\":\"UnionRenderers\"}},\"id\":\"1200\",\"type\":\"ColumnDataSource\"},{\"attributes\":{\"source\":{\"id\":\"1200\",\"type\":\"ColumnDataSource\"}},\"id\":\"1205\",\"type\":\"CDSView\"},{\"attributes\":{},\"id\":\"1351\",\"type\":\"UnionRenderers\"},{\"attributes\":{\"bottom\":{\"expr\":{\"id\":\"1039\",\"type\":\"Stack\"}},\"fill_alpha\":{\"value\":0.1},\"fill_color\":{\"value\":\"#1f77b4\"},\"line_alpha\":{\"value\":0.1},\"line_color\":{\"value\":\"#1f77b4\"},\"top\":{\"expr\":{\"id\":\"1040\",\"type\":\"Stack\"}},\"width\":{\"value\":0.9},\"x\":{\"field\":\"campos\"}},\"id\":\"1203\",\"type\":\"VBar\"},{\"attributes\":{\"data_source\":{\"id\":\"1200\",\"type\":\"ColumnDataSource\"},\"glyph\":{\"id\":\"1202\",\"type\":\"VBar\"},\"hover_glyph\":null,\"muted_glyph\":null,\"name\":\"Septiembre\",\"nonselection_glyph\":{\"id\":\"1203\",\"type\":\"VBar\"},\"selection_glyph\":null,\"view\":{\"id\":\"1205\",\"type\":\"CDSView\"}},\"id\":\"1204\",\"type\":\"GlyphRenderer\"},{\"attributes\":{},\"id\":\"1226\",\"type\":\"Selection\"},{\"attributes\":{},\"id\":\"1225\",\"type\":\"UnionRenderers\"},{\"attributes\":{\"label\":{\"value\":\"Septiembre\"},\"renderers\":[{\"id\":\"1204\",\"type\":\"GlyphRenderer\"}]},\"id\":\"1227\",\"type\":\"LegendItem\"},{\"attributes\":{\"bottom\":{\"expr\":{\"id\":\"1041\",\"type\":\"Stack\"}},\"fill_color\":{\"value\":\"#83D34B\"},\"line_color\":{\"value\":\"#83D34B\"},\"top\":{\"expr\":{\"id\":\"1042\",\"type\":\"Stack\"}},\"width\":{\"value\":0.9},\"x\":{\"field\":\"campos\"}},\"id\":\"1230\",\"type\":\"VBar\"},{\"attributes\":{},\"id\":\"1352\",\"type\":\"Selection\"},{\"attributes\":{\"source\":{\"id\":\"1228\",\"type\":\"ColumnDataSource\"}},\"id\":\"1233\",\"type\":\"CDSView\"},{\"attributes\":{\"bottom\":{\"expr\":{\"id\":\"1041\",\"type\":\"Stack\"}},\"fill_alpha\":{\"value\":0.1},\"fill_color\":{\"value\":\"#1f77b4\"},\"line_alpha\":{\"value\":0.1},\"line_color\":{\"value\":\"#1f77b4\"},\"top\":{\"expr\":{\"id\":\"1042\",\"type\":\"Stack\"}},\"width\":{\"value\":0.9},\"x\":{\"field\":\"campos\"}},\"id\":\"1231\",\"type\":\"VBar\"},{\"attributes\":{\"data_source\":{\"id\":\"1228\",\"type\":\"ColumnDataSource\"},\"glyph\":{\"id\":\"1230\",\"type\":\"VBar\"},\"hover_glyph\":null,\"muted_glyph\":null,\"name\":\"Octubre\",\"nonselection_glyph\":{\"id\":\"1231\",\"type\":\"VBar\"},\"selection_glyph\":null,\"view\":{\"id\":\"1233\",\"type\":\"CDSView\"}},\"id\":\"1232\",\"type\":\"GlyphRenderer\"},{\"attributes\":{},\"id\":\"1256\",\"type\":\"Selection\"},{\"attributes\":{},\"id\":\"1255\",\"type\":\"UnionRenderers\"},{\"attributes\":{\"label\":{\"value\":\"Octubre\"},\"renderers\":[{\"id\":\"1232\",\"type\":\"GlyphRenderer\"}]},\"id\":\"1257\",\"type\":\"LegendItem\"},{\"attributes\":{\"bottom\":{\"expr\":{\"id\":\"1043\",\"type\":\"Stack\"}},\"fill_color\":{\"value\":\"#BFDF24\"},\"line_color\":{\"value\":\"#BFDF24\"},\"top\":{\"expr\":{\"id\":\"1044\",\"type\":\"Stack\"}},\"width\":{\"value\":0.9},\"x\":{\"field\":\"campos\"}},\"id\":\"1260\",\"type\":\"VBar\"},{\"attributes\":{\"callback\":null,\"data\":{\"Abril\":[87.97200000000001,0.0,7.457000000000001,748.0,44.915,1.3159999999999998,188.106,2.4530000000000003,7.871,29.695999999999998,449.227,0.0,7.7379999999999995,100.134,0.0,46.521,22.908,0.0,1.452,4.573,0.0],\"Agosto\":[87.855,14.728,10.253,0.0,68.634,0.0,171.40400000000002,2.5140000000000002,7.473,29.38,434.35400000000004,16.212,6.7139999999999995,165.028,0.0,0.0,24.575,0.0,2.725,4.794,0.0],\"Diciembre\":[84.45100000000001,50.758,12.077,0.0,43.67,0.0,172.21900000000002,24.0,7.189,22.342,418.16900000000004,7.242000000000001,6.007999999999999,202.455,0.0,0.0,19.142,0.0,7.401,4.34,0.0],\"Enero\":[92.117,0.0,6.642,3.365,62.696000000000005,7.093,196.58,2.145,8.353,30.635,477.004,0.0,7.699,87.413,5.341,15.139000000000001,24.771,0.0,1.696,4.208,\"NaN\"],\"Febrero\":[83.881,0.0,8.212,2.6180000000000003,57.146,4.505,169.047,2.21,7.353,28.4,451.05,0.0,6.381,79.332,2.8280000000000003,17.965,22.706999999999997,0.0,1.287,3.76,0.0],\"Julio\":[87.948,0.0,9.736,0.0,70.449,0.0,175.084,2.506,7.63,28.65,439.709,20.063,6.562,126.045,1.556,46.738,25.561,0.0,2.4819999999999998,4.801,0.0],\"Junio\":[86.944,0.0,9.381,0.0,72.657,0.0,189.185,2.458,7.449,28.416,433.899,0.0,7.046,121.881,1.449,49.236000000000004,24.869,0.0,1.901,4.643,0.0],\"Marzo\":[90.98899999999999,0.0,7.732,2.21,57.413000000000004,2.81,190.396,2.4859999999999998,8.118,31.07,481.467,0.0,7.571000000000001,82.781,0.0,34.679,27.581,0.0,1.304,4.157,0.0],\"Mayo\":[89.027,0.0,5.73,0.0,56.4,0.0,187.872,2.543,7.736000000000001,29.99,451.535,0.0,8.089,117.154,829.0,58.845,26.963,0.0,1.423,4.9239999999999995,0.0],\"Noviembre\":[84.005,32.684,11.337,0.0,45.63399999999999,37.0,167.475,2.332,6.992999999999999,24.578000000000003,404.022,7.836,5.97,176.045,0.0,0.0,20.683000000000003,0.0,7.066,4.274,0.0],\"Octubre\":[86.29,32.641999999999996,10.821,0.0,49.733000000000004,96.0,172.138,2.59,7.26,26.820999999999998,418.80300000000005,9.176,6.309,177.997,0.0,0.0,22.6,334.0,10.282,4.684,0.0],\"Septiembre\":[83.57,31.124000000000002,10.425999999999998,0.0,49.231,0.0,168.668,2.478,7.027,26.666,410.664,10.66,6.184,159.941,0.0,0.0,21.682,0.0,18.23,4.64,0.0],\"campos\":[\"ALICE\",\"ALICE OESTE\",\"CHORONGO\",\"CHORONGO ESTE\",\"COLIBRI\",\"DANA\",\"DORINE\",\"DORINE G\",\"DORINE NORTE\",\"ESPERANZA\",\"FANNY-18B\",\"JOHANNA\",\"MAHOGANY\",\"MARIANN\",\"MARIANN NORTE\",\"MARIANN SUR\",\"MARIANN-4A\",\"ORQUIDEA\",\"SHIRLEY\",\"SONIA\",\"TARAPOA NOROESTE\"]},\"selected\":{\"id\":\"1322\",\"type\":\"Selection\"},\"selection_policy\":{\"id\":\"1321\",\"type\":\"UnionRenderers\"}},\"id\":\"1258\",\"type\":\"ColumnDataSource\"},{\"attributes\":{},\"id\":\"1088\",\"type\":\"Selection\"},{\"attributes\":{\"source\":{\"id\":\"1258\",\"type\":\"ColumnDataSource\"}},\"id\":\"1263\",\"type\":\"CDSView\"},{\"attributes\":{\"bottom\":{\"expr\":{\"id\":\"1043\",\"type\":\"Stack\"}},\"fill_alpha\":{\"value\":0.1},\"fill_color\":{\"value\":\"#1f77b4\"},\"line_alpha\":{\"value\":0.1},\"line_color\":{\"value\":\"#1f77b4\"},\"top\":{\"expr\":{\"id\":\"1044\",\"type\":\"Stack\"}},\"width\":{\"value\":0.9},\"x\":{\"field\":\"campos\"}},\"id\":\"1261\",\"type\":\"VBar\"},{\"attributes\":{\"data_source\":{\"id\":\"1258\",\"type\":\"ColumnDataSource\"},\"glyph\":{\"id\":\"1260\",\"type\":\"VBar\"},\"hover_glyph\":null,\"muted_glyph\":null,\"name\":\"Noviembre\",\"nonselection_glyph\":{\"id\":\"1261\",\"type\":\"VBar\"},\"selection_glyph\":null,\"view\":{\"id\":\"1263\",\"type\":\"CDSView\"}},\"id\":\"1262\",\"type\":\"GlyphRenderer\"},{\"attributes\":{},\"id\":\"1288\",\"type\":\"Selection\"},{\"attributes\":{},\"id\":\"1287\",\"type\":\"UnionRenderers\"},{\"attributes\":{\"plot\":null,\"text\":\"INFORME DE PRESUPUESTO\"},\"id\":\"1002\",\"type\":\"Title\"},{\"attributes\":{},\"id\":\"1011\",\"type\":\"LinearScale\"},{\"attributes\":{\"label\":{\"value\":\"Noviembre\"},\"renderers\":[{\"id\":\"1262\",\"type\":\"GlyphRenderer\"}]},\"id\":\"1289\",\"type\":\"LegendItem\"},{\"attributes\":{\"callback\":null,\"data\":{\"Abril\":[87.97200000000001,0.0,7.457000000000001,748.0,44.915,1.3159999999999998,188.106,2.4530000000000003,7.871,29.695999999999998,449.227,0.0,7.7379999999999995,100.134,0.0,46.521,22.908,0.0,1.452,4.573,0.0],\"Agosto\":[87.855,14.728,10.253,0.0,68.634,0.0,171.40400000000002,2.5140000000000002,7.473,29.38,434.35400000000004,16.212,6.7139999999999995,165.028,0.0,0.0,24.575,0.0,2.725,4.794,0.0],\"Diciembre\":[84.45100000000001,50.758,12.077,0.0,43.67,0.0,172.21900000000002,24.0,7.189,22.342,418.16900000000004,7.242000000000001,6.007999999999999,202.455,0.0,0.0,19.142,0.0,7.401,4.34,0.0],\"Enero\":[92.117,0.0,6.642,3.365,62.696000000000005,7.093,196.58,2.145,8.353,30.635,477.004,0.0,7.699,87.413,5.341,15.139000000000001,24.771,0.0,1.696,4.208,\"NaN\"],\"Febrero\":[83.881,0.0,8.212,2.6180000000000003,57.146,4.505,169.047,2.21,7.353,28.4,451.05,0.0,6.381,79.332,2.8280000000000003,17.965,22.706999999999997,0.0,1.287,3.76,0.0],\"Julio\":[87.948,0.0,9.736,0.0,70.449,0.0,175.084,2.506,7.63,28.65,439.709,20.063,6.562,126.045,1.556,46.738,25.561,0.0,2.4819999999999998,4.801,0.0],\"Junio\":[86.944,0.0,9.381,0.0,72.657,0.0,189.185,2.458,7.449,28.416,433.899,0.0,7.046,121.881,1.449,49.236000000000004,24.869,0.0,1.901,4.643,0.0],\"Marzo\":[90.98899999999999,0.0,7.732,2.21,57.413000000000004,2.81,190.396,2.4859999999999998,8.118,31.07,481.467,0.0,7.571000000000001,82.781,0.0,34.679,27.581,0.0,1.304,4.157,0.0],\"Mayo\":[89.027,0.0,5.73,0.0,56.4,0.0,187.872,2.543,7.736000000000001,29.99,451.535,0.0,8.089,117.154,829.0,58.845,26.963,0.0,1.423,4.9239999999999995,0.0],\"Noviembre\":[84.005,32.684,11.337,0.0,45.63399999999999,37.0,167.475,2.332,6.992999999999999,24.578000000000003,404.022,7.836,5.97,176.045,0.0,0.0,20.683000000000003,0.0,7.066,4.274,0.0],\"Octubre\":[86.29,32.641999999999996,10.821,0.0,49.733000000000004,96.0,172.138,2.59,7.26,26.820999999999998,418.80300000000005,9.176,6.309,177.997,0.0,0.0,22.6,334.0,10.282,4.684,0.0],\"Septiembre\":[83.57,31.124000000000002,10.425999999999998,0.0,49.231,0.0,168.668,2.478,7.027,26.666,410.664,10.66,6.184,159.941,0.0,0.0,21.682,0.0,18.23,4.64,0.0],\"campos\":[\"ALICE\",\"ALICE OESTE\",\"CHORONGO\",\"CHORONGO ESTE\",\"COLIBRI\",\"DANA\",\"DORINE\",\"DORINE G\",\"DORINE NORTE\",\"ESPERANZA\",\"FANNY-18B\",\"JOHANNA\",\"MAHOGANY\",\"MARIANN\",\"MARIANN NORTE\",\"MARIANN SUR\",\"MARIANN-4A\",\"ORQUIDEA\",\"SHIRLEY\",\"SONIA\",\"TARAPOA NOROESTE\"]},\"selected\":{\"id\":\"1148\",\"type\":\"Selection\"},\"selection_policy\":{\"id\":\"1147\",\"type\":\"UnionRenderers\"}},\"id\":\"1108\",\"type\":\"ColumnDataSource\"},{\"attributes\":{\"bottom\":{\"expr\":{\"id\":\"1045\",\"type\":\"Stack\"}},\"fill_color\":{\"value\":\"#FDE724\"},\"line_color\":{\"value\":\"#FDE724\"},\"top\":{\"expr\":{\"id\":\"1046\",\"type\":\"Stack\"}},\"width\":{\"value\":0.9},\"x\":{\"field\":\"campos\"}},\"id\":\"1292\",\"type\":\"VBar\"},{\"attributes\":{\"callback\":null,\"factors\":[\"ALICE\",\"ALICE OESTE\",\"CHORONGO\",\"CHORONGO ESTE\",\"COLIBRI\",\"DANA\",\"DORINE\",\"DORINE G\",\"DORINE NORTE\",\"ESPERANZA\",\"FANNY-18B\",\"JOHANNA\",\"MAHOGANY\",\"MARIANN\",\"MARIANN NORTE\",\"MARIANN SUR\",\"MARIANN-4A\",\"ORQUIDEA\",\"SHIRLEY\",\"SONIA\",\"TARAPOA NOROESTE\"],\"range_padding\":0.2},\"id\":\"1005\",\"type\":\"FactorRange\"},{\"attributes\":{\"callback\":null,\"data\":{\"Abril\":[87.97200000000001,0.0,7.457000000000001,748.0,44.915,1.3159999999999998,188.106,2.4530000000000003,7.871,29.695999999999998,449.227,0.0,7.7379999999999995,100.134,0.0,46.521,22.908,0.0,1.452,4.573,0.0],\"Agosto\":[87.855,14.728,10.253,0.0,68.634,0.0,171.40400000000002,2.5140000000000002,7.473,29.38,434.35400000000004,16.212,6.7139999999999995,165.028,0.0,0.0,24.575,0.0,2.725,4.794,0.0],\"Diciembre\":[84.45100000000001,50.758,12.077,0.0,43.67,0.0,172.21900000000002,24.0,7.189,22.342,418.16900000000004,7.242000000000001,6.007999999999999,202.455,0.0,0.0,19.142,0.0,7.401,4.34,0.0],\"Enero\":[92.117,0.0,6.642,3.365,62.696000000000005,7.093,196.58,2.145,8.353,30.635,477.004,0.0,7.699,87.413,5.341,15.139000000000001,24.771,0.0,1.696,4.208,\"NaN\"],\"Febrero\":[83.881,0.0,8.212,2.6180000000000003,57.146,4.505,169.047,2.21,7.353,28.4,451.05,0.0,6.381,79.332,2.8280000000000003,17.965,22.706999999999997,0.0,1.287,3.76,0.0],\"Julio\":[87.948,0.0,9.736,0.0,70.449,0.0,175.084,2.506,7.63,28.65,439.709,20.063,6.562,126.045,1.556,46.738,25.561,0.0,2.4819999999999998,4.801,0.0],\"Junio\":[86.944,0.0,9.381,0.0,72.657,0.0,189.185,2.458,7.449,28.416,433.899,0.0,7.046,121.881,1.449,49.236000000000004,24.869,0.0,1.901,4.643,0.0],\"Marzo\":[90.98899999999999,0.0,7.732,2.21,57.413000000000004,2.81,190.396,2.4859999999999998,8.118,31.07,481.467,0.0,7.571000000000001,82.781,0.0,34.679,27.581,0.0,1.304,4.157,0.0],\"Mayo\":[89.027,0.0,5.73,0.0,56.4,0.0,187.872,2.543,7.736000000000001,29.99,451.535,0.0,8.089,117.154,829.0,58.845,26.963,0.0,1.423,4.9239999999999995,0.0],\"Noviembre\":[84.005,32.684,11.337,0.0,45.63399999999999,37.0,167.475,2.332,6.992999999999999,24.578000000000003,404.022,7.836,5.97,176.045,0.0,0.0,20.683000000000003,0.0,7.066,4.274,0.0],\"Octubre\":[86.29,32.641999999999996,10.821,0.0,49.733000000000004,96.0,172.138,2.59,7.26,26.820999999999998,418.80300000000005,9.176,6.309,177.997,0.0,0.0,22.6,334.0,10.282,4.684,0.0],\"Septiembre\":[83.57,31.124000000000002,10.425999999999998,0.0,49.231,0.0,168.668,2.478,7.027,26.666,410.664,10.66,6.184,159.941,0.0,0.0,21.682,0.0,18.23,4.64,0.0],\"campos\":[\"ALICE\",\"ALICE OESTE\",\"CHORONGO\",\"CHORONGO ESTE\",\"COLIBRI\",\"DANA\",\"DORINE\",\"DORINE G\",\"DORINE NORTE\",\"ESPERANZA\",\"FANNY-18B\",\"JOHANNA\",\"MAHOGANY\",\"MARIANN\",\"MARIANN NORTE\",\"MARIANN SUR\",\"MARIANN-4A\",\"ORQUIDEA\",\"SHIRLEY\",\"SONIA\",\"TARAPOA NOROESTE\"]},\"selected\":{\"id\":\"1352\",\"type\":\"Selection\"},\"selection_policy\":{\"id\":\"1351\",\"type\":\"UnionRenderers\"}},\"id\":\"1290\",\"type\":\"ColumnDataSource\"},{\"attributes\":{\"source\":{\"id\":\"1290\",\"type\":\"ColumnDataSource\"}},\"id\":\"1295\",\"type\":\"CDSView\"},{\"attributes\":{},\"id\":\"1009\",\"type\":\"CategoricalScale\"},{\"attributes\":{},\"id\":\"1322\",\"type\":\"Selection\"},{\"attributes\":{\"callback\":null,\"end\":5300},\"id\":\"1007\",\"type\":\"Range1d\"},{\"attributes\":{\"bottom\":{\"expr\":{\"id\":\"1045\",\"type\":\"Stack\"}},\"fill_alpha\":{\"value\":0.1},\"fill_color\":{\"value\":\"#1f77b4\"},\"line_alpha\":{\"value\":0.1},\"line_color\":{\"value\":\"#1f77b4\"},\"top\":{\"expr\":{\"id\":\"1046\",\"type\":\"Stack\"}},\"width\":{\"value\":0.9},\"x\":{\"field\":\"campos\"}},\"id\":\"1293\",\"type\":\"VBar\"},{\"attributes\":{\"plot\":{\"id\":\"1003\",\"subtype\":\"Figure\",\"type\":\"Plot\"},\"ticker\":{\"id\":\"1014\",\"type\":\"CategoricalTicker\"}},\"id\":\"1016\",\"type\":\"Grid\"},{\"attributes\":{\"data_source\":{\"id\":\"1290\",\"type\":\"ColumnDataSource\"},\"glyph\":{\"id\":\"1292\",\"type\":\"VBar\"},\"hover_glyph\":null,\"muted_glyph\":null,\"name\":\"Diciembre\",\"nonselection_glyph\":{\"id\":\"1293\",\"type\":\"VBar\"},\"selection_glyph\":null,\"view\":{\"id\":\"1295\",\"type\":\"CDSView\"}},\"id\":\"1294\",\"type\":\"GlyphRenderer\"},{\"attributes\":{\"formatter\":{\"id\":\"1055\",\"type\":\"CategoricalTickFormatter\"},\"major_label_orientation\":0.2,\"plot\":{\"id\":\"1003\",\"subtype\":\"Figure\",\"type\":\"Plot\"},\"ticker\":{\"id\":\"1014\",\"type\":\"CategoricalTicker\"}},\"id\":\"1013\",\"type\":\"CategoricalAxis\"},{\"attributes\":{\"formatter\":{\"id\":\"1057\",\"type\":\"BasicTickFormatter\"},\"plot\":{\"id\":\"1003\",\"subtype\":\"Figure\",\"type\":\"Plot\"},\"ticker\":{\"id\":\"1018\",\"type\":\"BasicTicker\"}},\"id\":\"1017\",\"type\":\"LinearAxis\"},{\"attributes\":{},\"id\":\"1321\",\"type\":\"UnionRenderers\"},{\"attributes\":{\"label\":{\"value\":\"Diciembre\"},\"renderers\":[{\"id\":\"1294\",\"type\":\"GlyphRenderer\"}]},\"id\":\"1323\",\"type\":\"LegendItem\"},{\"attributes\":{},\"id\":\"1014\",\"type\":\"CategoricalTicker\"},{\"attributes\":{\"fields\":[]},\"id\":\"1023\",\"type\":\"Stack\"},{\"attributes\":{\"dimension\":1,\"plot\":{\"id\":\"1003\",\"subtype\":\"Figure\",\"type\":\"Plot\"},\"ticker\":{\"id\":\"1018\",\"type\":\"BasicTicker\"}},\"id\":\"1021\",\"type\":\"Grid\"},{\"attributes\":{},\"id\":\"1018\",\"type\":\"BasicTicker\"},{\"attributes\":{\"fields\":[\"Enero\"]},\"id\":\"1024\",\"type\":\"Stack\"},{\"attributes\":{\"fields\":[\"Enero\"]},\"id\":\"1025\",\"type\":\"Stack\"},{\"attributes\":{\"active_drag\":\"auto\",\"active_inspect\":\"auto\",\"active_multi\":null,\"active_scroll\":\"auto\",\"active_tap\":\"auto\"},\"id\":\"1022\",\"type\":\"Toolbar\"},{\"attributes\":{\"label\":{\"value\":\"Abril\"},\"renderers\":[{\"id\":\"1094\",\"type\":\"GlyphRenderer\"}]},\"id\":\"1107\",\"type\":\"LegendItem\"},{\"attributes\":{\"fields\":[\"Enero\",\"Febrero\"]},\"id\":\"1026\",\"type\":\"Stack\"},{\"attributes\":{\"fields\":[\"Enero\",\"Febrero\"]},\"id\":\"1027\",\"type\":\"Stack\"},{\"attributes\":{\"fields\":[\"Enero\",\"Febrero\",\"Marzo\"]},\"id\":\"1028\",\"type\":\"Stack\"},{\"attributes\":{\"fields\":[\"Enero\",\"Febrero\",\"Marzo\",\"Abril\",\"Mayo\",\"Junio\",\"Julio\",\"Agosto\"]},\"id\":\"1039\",\"type\":\"Stack\"},{\"attributes\":{\"fields\":[\"Enero\",\"Febrero\",\"Marzo\"]},\"id\":\"1029\",\"type\":\"Stack\"},{\"attributes\":{\"fields\":[\"Enero\",\"Febrero\",\"Marzo\",\"Abril\",\"Mayo\",\"Junio\",\"Julio\"]},\"id\":\"1036\",\"type\":\"Stack\"},{\"attributes\":{\"fields\":[\"Enero\",\"Febrero\",\"Marzo\",\"Abril\"]},\"id\":\"1030\",\"type\":\"Stack\"},{\"attributes\":{\"fields\":[\"Enero\",\"Febrero\",\"Marzo\",\"Abril\",\"Mayo\"]},\"id\":\"1032\",\"type\":\"Stack\"},{\"attributes\":{\"fields\":[\"Enero\",\"Febrero\",\"Marzo\",\"Abril\",\"Mayo\"]},\"id\":\"1033\",\"type\":\"Stack\"},{\"attributes\":{\"fields\":[\"Enero\",\"Febrero\",\"Marzo\",\"Abril\"]},\"id\":\"1031\",\"type\":\"Stack\"},{\"attributes\":{\"fields\":[\"Enero\",\"Febrero\",\"Marzo\",\"Abril\",\"Mayo\",\"Junio\"]},\"id\":\"1035\",\"type\":\"Stack\"},{\"attributes\":{\"fields\":[\"Enero\",\"Febrero\",\"Marzo\",\"Abril\",\"Mayo\",\"Junio\",\"Julio\",\"Agosto\",\"Septiembre\"]},\"id\":\"1040\",\"type\":\"Stack\"},{\"attributes\":{\"fields\":[\"Enero\",\"Febrero\",\"Marzo\",\"Abril\",\"Mayo\",\"Junio\",\"Julio\",\"Agosto\",\"Septiembre\"]},\"id\":\"1041\",\"type\":\"Stack\"},{\"attributes\":{\"fields\":[\"Enero\",\"Febrero\",\"Marzo\",\"Abril\",\"Mayo\",\"Junio\"]},\"id\":\"1034\",\"type\":\"Stack\"},{\"attributes\":{\"fields\":[\"Enero\",\"Febrero\",\"Marzo\",\"Abril\",\"Mayo\",\"Junio\",\"Julio\"]},\"id\":\"1037\",\"type\":\"Stack\"},{\"attributes\":{\"fields\":[\"Enero\",\"Febrero\",\"Marzo\",\"Abril\",\"Mayo\",\"Junio\",\"Julio\",\"Agosto\"]},\"id\":\"1038\",\"type\":\"Stack\"},{\"attributes\":{\"fields\":[\"Enero\",\"Febrero\",\"Marzo\",\"Abril\",\"Mayo\",\"Junio\",\"Julio\",\"Agosto\",\"Septiembre\",\"Octubre\"]},\"id\":\"1042\",\"type\":\"Stack\"},{\"attributes\":{\"fields\":[\"Enero\",\"Febrero\",\"Marzo\",\"Abril\",\"Mayo\",\"Junio\",\"Julio\",\"Agosto\",\"Septiembre\",\"Octubre\"]},\"id\":\"1043\",\"type\":\"Stack\"},{\"attributes\":{\"fields\":[\"Enero\",\"Febrero\",\"Marzo\",\"Abril\",\"Mayo\",\"Junio\",\"Julio\",\"Agosto\",\"Septiembre\",\"Octubre\",\"Noviembre\"]},\"id\":\"1044\",\"type\":\"Stack\"},{\"attributes\":{\"fields\":[\"Enero\",\"Febrero\",\"Marzo\",\"Abril\",\"Mayo\",\"Junio\",\"Julio\",\"Agosto\",\"Septiembre\",\"Octubre\",\"Noviembre\"]},\"id\":\"1045\",\"type\":\"Stack\"},{\"attributes\":{\"data_source\":{\"id\":\"1047\",\"type\":\"ColumnDataSource\"},\"glyph\":{\"id\":\"1049\",\"type\":\"VBar\"},\"hover_glyph\":null,\"muted_glyph\":null,\"name\":\"Enero\",\"nonselection_glyph\":{\"id\":\"1050\",\"type\":\"VBar\"},\"selection_glyph\":null,\"view\":{\"id\":\"1052\",\"type\":\"CDSView\"}},\"id\":\"1051\",\"type\":\"GlyphRenderer\"},{\"attributes\":{\"fields\":[\"Enero\",\"Febrero\",\"Marzo\",\"Abril\",\"Mayo\",\"Junio\",\"Julio\",\"Agosto\",\"Septiembre\",\"Octubre\",\"Noviembre\",\"Diciembre\"]},\"id\":\"1046\",\"type\":\"Stack\"},{\"attributes\":{\"bottom\":{\"expr\":{\"id\":\"1023\",\"type\":\"Stack\"}},\"fill_color\":{\"value\":\"#440154\"},\"line_color\":{\"value\":\"#440154\"},\"top\":{\"expr\":{\"id\":\"1024\",\"type\":\"Stack\"}},\"width\":{\"value\":0.9},\"x\":{\"field\":\"campos\"}},\"id\":\"1049\",\"type\":\"VBar\"},{\"attributes\":{\"callback\":null,\"data\":{\"Abril\":[87.97200000000001,0.0,7.457000000000001,748.0,44.915,1.3159999999999998,188.106,2.4530000000000003,7.871,29.695999999999998,449.227,0.0,7.7379999999999995,100.134,0.0,46.521,22.908,0.0,1.452,4.573,0.0],\"Agosto\":[87.855,14.728,10.253,0.0,68.634,0.0,171.40400000000002,2.5140000000000002,7.473,29.38,434.35400000000004,16.212,6.7139999999999995,165.028,0.0,0.0,24.575,0.0,2.725,4.794,0.0],\"Diciembre\":[84.45100000000001,50.758,12.077,0.0,43.67,0.0,172.21900000000002,24.0,7.189,22.342,418.16900000000004,7.242000000000001,6.007999999999999,202.455,0.0,0.0,19.142,0.0,7.401,4.34,0.0],\"Enero\":[92.117,0.0,6.642,3.365,62.696000000000005,7.093,196.58,2.145,8.353,30.635,477.004,0.0,7.699,87.413,5.341,15.139000000000001,24.771,0.0,1.696,4.208,\"NaN\"],\"Febrero\":[83.881,0.0,8.212,2.6180000000000003,57.146,4.505,169.047,2.21,7.353,28.4,451.05,0.0,6.381,79.332,2.8280000000000003,17.965,22.706999999999997,0.0,1.287,3.76,0.0],\"Julio\":[87.948,0.0,9.736,0.0,70.449,0.0,175.084,2.506,7.63,28.65,439.709,20.063,6.562,126.045,1.556,46.738,25.561,0.0,2.4819999999999998,4.801,0.0],\"Junio\":[86.944,0.0,9.381,0.0,72.657,0.0,189.185,2.458,7.449,28.416,433.899,0.0,7.046,121.881,1.449,49.236000000000004,24.869,0.0,1.901,4.643,0.0],\"Marzo\":[90.98899999999999,0.0,7.732,2.21,57.413000000000004,2.81,190.396,2.4859999999999998,8.118,31.07,481.467,0.0,7.571000000000001,82.781,0.0,34.679,27.581,0.0,1.304,4.157,0.0],\"Mayo\":[89.027,0.0,5.73,0.0,56.4,0.0,187.872,2.543,7.736000000000001,29.99,451.535,0.0,8.089,117.154,829.0,58.845,26.963,0.0,1.423,4.9239999999999995,0.0],\"Noviembre\":[84.005,32.684,11.337,0.0,45.63399999999999,37.0,167.475,2.332,6.992999999999999,24.578000000000003,404.022,7.836,5.97,176.045,0.0,0.0,20.683000000000003,0.0,7.066,4.274,0.0],\"Octubre\":[86.29,32.641999999999996,10.821,0.0,49.733000000000004,96.0,172.138,2.59,7.26,26.820999999999998,418.80300000000005,9.176,6.309,177.997,0.0,0.0,22.6,334.0,10.282,4.684,0.0],\"Septiembre\":[83.57,31.124000000000002,10.425999999999998,0.0,49.231,0.0,168.668,2.478,7.027,26.666,410.664,10.66,6.184,159.941,0.0,0.0,21.682,0.0,18.23,4.64,0.0],\"campos\":[\"ALICE\",\"ALICE OESTE\",\"CHORONGO\",\"CHORONGO ESTE\",\"COLIBRI\",\"DANA\",\"DORINE\",\"DORINE G\",\"DORINE NORTE\",\"ESPERANZA\",\"FANNY-18B\",\"JOHANNA\",\"MAHOGANY\",\"MARIANN\",\"MARIANN NORTE\",\"MARIANN SUR\",\"MARIANN-4A\",\"ORQUIDEA\",\"SHIRLEY\",\"SONIA\",\"TARAPOA NOROESTE\"]},\"selected\":{\"id\":\"1072\",\"type\":\"Selection\"},\"selection_policy\":{\"id\":\"1071\",\"type\":\"UnionRenderers\"}},\"id\":\"1047\",\"type\":\"ColumnDataSource\"},{\"attributes\":{},\"id\":\"1172\",\"type\":\"Selection\"},{\"attributes\":{\"bottom\":{\"expr\":{\"id\":\"1023\",\"type\":\"Stack\"}},\"fill_alpha\":{\"value\":0.1},\"fill_color\":{\"value\":\"#1f77b4\"},\"line_alpha\":{\"value\":0.1},\"line_color\":{\"value\":\"#1f77b4\"},\"top\":{\"expr\":{\"id\":\"1024\",\"type\":\"Stack\"}},\"width\":{\"value\":0.9},\"x\":{\"field\":\"campos\"}},\"id\":\"1050\",\"type\":\"VBar\"},{\"attributes\":{\"bottom\":{\"expr\":{\"id\":\"1027\",\"type\":\"Stack\"}},\"fill_color\":{\"value\":\"#423D84\"},\"line_color\":{\"value\":\"#423D84\"},\"top\":{\"expr\":{\"id\":\"1028\",\"type\":\"Stack\"}},\"width\":{\"value\":0.9},\"x\":{\"field\":\"campos\"}},\"id\":\"1076\",\"type\":\"VBar\"},{\"attributes\":{\"source\":{\"id\":\"1047\",\"type\":\"ColumnDataSource\"}},\"id\":\"1052\",\"type\":\"CDSView\"},{\"attributes\":{},\"id\":\"1055\",\"type\":\"CategoricalTickFormatter\"},{\"attributes\":{},\"id\":\"1057\",\"type\":\"BasicTickFormatter\"},{\"attributes\":{\"items\":[{\"id\":\"1059\",\"type\":\"LegendItem\"},{\"id\":\"1073\",\"type\":\"LegendItem\"},{\"id\":\"1089\",\"type\":\"LegendItem\"},{\"id\":\"1107\",\"type\":\"LegendItem\"},{\"id\":\"1127\",\"type\":\"LegendItem\"},{\"id\":\"1149\",\"type\":\"LegendItem\"},{\"id\":\"1173\",\"type\":\"LegendItem\"},{\"id\":\"1199\",\"type\":\"LegendItem\"},{\"id\":\"1227\",\"type\":\"LegendItem\"},{\"id\":\"1257\",\"type\":\"LegendItem\"},{\"id\":\"1289\",\"type\":\"LegendItem\"},{\"id\":\"1323\",\"type\":\"LegendItem\"}],\"location\":\"top_left\",\"plot\":{\"id\":\"1003\",\"subtype\":\"Figure\",\"type\":\"Plot\"}},\"id\":\"1058\",\"type\":\"Legend\"},{\"attributes\":{\"label\":{\"value\":\"Enero\"},\"renderers\":[{\"id\":\"1051\",\"type\":\"GlyphRenderer\"}]},\"id\":\"1059\",\"type\":\"LegendItem\"},{\"attributes\":{\"source\":{\"id\":\"1074\",\"type\":\"ColumnDataSource\"}},\"id\":\"1079\",\"type\":\"CDSView\"},{\"attributes\":{\"callback\":null,\"data\":{\"Abril\":[87.97200000000001,0.0,7.457000000000001,748.0,44.915,1.3159999999999998,188.106,2.4530000000000003,7.871,29.695999999999998,449.227,0.0,7.7379999999999995,100.134,0.0,46.521,22.908,0.0,1.452,4.573,0.0],\"Agosto\":[87.855,14.728,10.253,0.0,68.634,0.0,171.40400000000002,2.5140000000000002,7.473,29.38,434.35400000000004,16.212,6.7139999999999995,165.028,0.0,0.0,24.575,0.0,2.725,4.794,0.0],\"Diciembre\":[84.45100000000001,50.758,12.077,0.0,43.67,0.0,172.21900000000002,24.0,7.189,22.342,418.16900000000004,7.242000000000001,6.007999999999999,202.455,0.0,0.0,19.142,0.0,7.401,4.34,0.0],\"Enero\":[92.117,0.0,6.642,3.365,62.696000000000005,7.093,196.58,2.145,8.353,30.635,477.004,0.0,7.699,87.413,5.341,15.139000000000001,24.771,0.0,1.696,4.208,\"NaN\"],\"Febrero\":[83.881,0.0,8.212,2.6180000000000003,57.146,4.505,169.047,2.21,7.353,28.4,451.05,0.0,6.381,79.332,2.8280000000000003,17.965,22.706999999999997,0.0,1.287,3.76,0.0],\"Julio\":[87.948,0.0,9.736,0.0,70.449,0.0,175.084,2.506,7.63,28.65,439.709,20.063,6.562,126.045,1.556,46.738,25.561,0.0,2.4819999999999998,4.801,0.0],\"Junio\":[86.944,0.0,9.381,0.0,72.657,0.0,189.185,2.458,7.449,28.416,433.899,0.0,7.046,121.881,1.449,49.236000000000004,24.869,0.0,1.901,4.643,0.0],\"Marzo\":[90.98899999999999,0.0,7.732,2.21,57.413000000000004,2.81,190.396,2.4859999999999998,8.118,31.07,481.467,0.0,7.571000000000001,82.781,0.0,34.679,27.581,0.0,1.304,4.157,0.0],\"Mayo\":[89.027,0.0,5.73,0.0,56.4,0.0,187.872,2.543,7.736000000000001,29.99,451.535,0.0,8.089,117.154,829.0,58.845,26.963,0.0,1.423,4.9239999999999995,0.0],\"Noviembre\":[84.005,32.684,11.337,0.0,45.63399999999999,37.0,167.475,2.332,6.992999999999999,24.578000000000003,404.022,7.836,5.97,176.045,0.0,0.0,20.683000000000003,0.0,7.066,4.274,0.0],\"Octubre\":[86.29,32.641999999999996,10.821,0.0,49.733000000000004,96.0,172.138,2.59,7.26,26.820999999999998,418.80300000000005,9.176,6.309,177.997,0.0,0.0,22.6,334.0,10.282,4.684,0.0],\"Septiembre\":[83.57,31.124000000000002,10.425999999999998,0.0,49.231,0.0,168.668,2.478,7.027,26.666,410.664,10.66,6.184,159.941,0.0,0.0,21.682,0.0,18.23,4.64,0.0],\"campos\":[\"ALICE\",\"ALICE OESTE\",\"CHORONGO\",\"CHORONGO ESTE\",\"COLIBRI\",\"DANA\",\"DORINE\",\"DORINE G\",\"DORINE NORTE\",\"ESPERANZA\",\"FANNY-18B\",\"JOHANNA\",\"MAHOGANY\",\"MARIANN\",\"MARIANN NORTE\",\"MARIANN SUR\",\"MARIANN-4A\",\"ORQUIDEA\",\"SHIRLEY\",\"SONIA\",\"TARAPOA NOROESTE\"]},\"selected\":{\"id\":\"1088\",\"type\":\"Selection\"},\"selection_policy\":{\"id\":\"1087\",\"type\":\"UnionRenderers\"}},\"id\":\"1060\",\"type\":\"ColumnDataSource\"},{\"attributes\":{\"source\":{\"id\":\"1060\",\"type\":\"ColumnDataSource\"}},\"id\":\"1065\",\"type\":\"CDSView\"},{\"attributes\":{\"bottom\":{\"expr\":{\"id\":\"1025\",\"type\":\"Stack\"}},\"fill_color\":{\"value\":\"#482172\"},\"line_color\":{\"value\":\"#482172\"},\"top\":{\"expr\":{\"id\":\"1026\",\"type\":\"Stack\"}},\"width\":{\"value\":0.9},\"x\":{\"field\":\"campos\"}},\"id\":\"1062\",\"type\":\"VBar\"},{\"attributes\":{\"bottom\":{\"expr\":{\"id\":\"1025\",\"type\":\"Stack\"}},\"fill_alpha\":{\"value\":0.1},\"fill_color\":{\"value\":\"#1f77b4\"},\"line_alpha\":{\"value\":0.1},\"line_color\":{\"value\":\"#1f77b4\"},\"top\":{\"expr\":{\"id\":\"1026\",\"type\":\"Stack\"}},\"width\":{\"value\":0.9},\"x\":{\"field\":\"campos\"}},\"id\":\"1063\",\"type\":\"VBar\"},{\"attributes\":{\"data_source\":{\"id\":\"1060\",\"type\":\"ColumnDataSource\"},\"glyph\":{\"id\":\"1062\",\"type\":\"VBar\"},\"hover_glyph\":null,\"muted_glyph\":null,\"name\":\"Febrero\",\"nonselection_glyph\":{\"id\":\"1063\",\"type\":\"VBar\"},\"selection_glyph\":null,\"view\":{\"id\":\"1065\",\"type\":\"CDSView\"}},\"id\":\"1064\",\"type\":\"GlyphRenderer\"},{\"attributes\":{},\"id\":\"1072\",\"type\":\"Selection\"},{\"attributes\":{},\"id\":\"1071\",\"type\":\"UnionRenderers\"},{\"attributes\":{\"label\":{\"value\":\"Febrero\"},\"renderers\":[{\"id\":\"1064\",\"type\":\"GlyphRenderer\"}]},\"id\":\"1073\",\"type\":\"LegendItem\"},{\"attributes\":{\"bottom\":{\"expr\":{\"id\":\"1029\",\"type\":\"Stack\"}},\"fill_color\":{\"value\":\"#38578C\"},\"line_color\":{\"value\":\"#38578C\"},\"top\":{\"expr\":{\"id\":\"1030\",\"type\":\"Stack\"}},\"width\":{\"value\":0.9},\"x\":{\"field\":\"campos\"}},\"id\":\"1092\",\"type\":\"VBar\"},{\"attributes\":{},\"id\":\"1106\",\"type\":\"Selection\"},{\"attributes\":{},\"id\":\"1171\",\"type\":\"UnionRenderers\"},{\"attributes\":{\"bottom\":{\"expr\":{\"id\":\"1027\",\"type\":\"Stack\"}},\"fill_alpha\":{\"value\":0.1},\"fill_color\":{\"value\":\"#1f77b4\"},\"line_alpha\":{\"value\":0.1},\"line_color\":{\"value\":\"#1f77b4\"},\"top\":{\"expr\":{\"id\":\"1028\",\"type\":\"Stack\"}},\"width\":{\"value\":0.9},\"x\":{\"field\":\"campos\"}},\"id\":\"1077\",\"type\":\"VBar\"},{\"attributes\":{\"data_source\":{\"id\":\"1074\",\"type\":\"ColumnDataSource\"},\"glyph\":{\"id\":\"1076\",\"type\":\"VBar\"},\"hover_glyph\":null,\"muted_glyph\":null,\"name\":\"Marzo\",\"nonselection_glyph\":{\"id\":\"1077\",\"type\":\"VBar\"},\"selection_glyph\":null,\"view\":{\"id\":\"1079\",\"type\":\"CDSView\"}},\"id\":\"1078\",\"type\":\"GlyphRenderer\"},{\"attributes\":{\"callback\":null,\"data\":{\"Abril\":[87.97200000000001,0.0,7.457000000000001,748.0,44.915,1.3159999999999998,188.106,2.4530000000000003,7.871,29.695999999999998,449.227,0.0,7.7379999999999995,100.134,0.0,46.521,22.908,0.0,1.452,4.573,0.0],\"Agosto\":[87.855,14.728,10.253,0.0,68.634,0.0,171.40400000000002,2.5140000000000002,7.473,29.38,434.35400000000004,16.212,6.7139999999999995,165.028,0.0,0.0,24.575,0.0,2.725,4.794,0.0],\"Diciembre\":[84.45100000000001,50.758,12.077,0.0,43.67,0.0,172.21900000000002,24.0,7.189,22.342,418.16900000000004,7.242000000000001,6.007999999999999,202.455,0.0,0.0,19.142,0.0,7.401,4.34,0.0],\"Enero\":[92.117,0.0,6.642,3.365,62.696000000000005,7.093,196.58,2.145,8.353,30.635,477.004,0.0,7.699,87.413,5.341,15.139000000000001,24.771,0.0,1.696,4.208,\"NaN\"],\"Febrero\":[83.881,0.0,8.212,2.6180000000000003,57.146,4.505,169.047,2.21,7.353,28.4,451.05,0.0,6.381,79.332,2.8280000000000003,17.965,22.706999999999997,0.0,1.287,3.76,0.0],\"Julio\":[87.948,0.0,9.736,0.0,70.449,0.0,175.084,2.506,7.63,28.65,439.709,20.063,6.562,126.045,1.556,46.738,25.561,0.0,2.4819999999999998,4.801,0.0],\"Junio\":[86.944,0.0,9.381,0.0,72.657,0.0,189.185,2.458,7.449,28.416,433.899,0.0,7.046,121.881,1.449,49.236000000000004,24.869,0.0,1.901,4.643,0.0],\"Marzo\":[90.98899999999999,0.0,7.732,2.21,57.413000000000004,2.81,190.396,2.4859999999999998,8.118,31.07,481.467,0.0,7.571000000000001,82.781,0.0,34.679,27.581,0.0,1.304,4.157,0.0],\"Mayo\":[89.027,0.0,5.73,0.0,56.4,0.0,187.872,2.543,7.736000000000001,29.99,451.535,0.0,8.089,117.154,829.0,58.845,26.963,0.0,1.423,4.9239999999999995,0.0],\"Noviembre\":[84.005,32.684,11.337,0.0,45.63399999999999,37.0,167.475,2.332,6.992999999999999,24.578000000000003,404.022,7.836,5.97,176.045,0.0,0.0,20.683000000000003,0.0,7.066,4.274,0.0],\"Octubre\":[86.29,32.641999999999996,10.821,0.0,49.733000000000004,96.0,172.138,2.59,7.26,26.820999999999998,418.80300000000005,9.176,6.309,177.997,0.0,0.0,22.6,334.0,10.282,4.684,0.0],\"Septiembre\":[83.57,31.124000000000002,10.425999999999998,0.0,49.231,0.0,168.668,2.478,7.027,26.666,410.664,10.66,6.184,159.941,0.0,0.0,21.682,0.0,18.23,4.64,0.0],\"campos\":[\"ALICE\",\"ALICE OESTE\",\"CHORONGO\",\"CHORONGO ESTE\",\"COLIBRI\",\"DANA\",\"DORINE\",\"DORINE G\",\"DORINE NORTE\",\"ESPERANZA\",\"FANNY-18B\",\"JOHANNA\",\"MAHOGANY\",\"MARIANN\",\"MARIANN NORTE\",\"MARIANN SUR\",\"MARIANN-4A\",\"ORQUIDEA\",\"SHIRLEY\",\"SONIA\",\"TARAPOA NOROESTE\"]},\"selected\":{\"id\":\"1126\",\"type\":\"Selection\"},\"selection_policy\":{\"id\":\"1125\",\"type\":\"UnionRenderers\"}},\"id\":\"1090\",\"type\":\"ColumnDataSource\"},{\"attributes\":{\"label\":{\"value\":\"Marzo\"},\"renderers\":[{\"id\":\"1078\",\"type\":\"GlyphRenderer\"}]},\"id\":\"1089\",\"type\":\"LegendItem\"},{\"attributes\":{},\"id\":\"1105\",\"type\":\"UnionRenderers\"},{\"attributes\":{},\"id\":\"1087\",\"type\":\"UnionRenderers\"},{\"attributes\":{\"source\":{\"id\":\"1090\",\"type\":\"ColumnDataSource\"}},\"id\":\"1095\",\"type\":\"CDSView\"},{\"attributes\":{\"callback\":null,\"data\":{\"Abril\":[87.97200000000001,0.0,7.457000000000001,748.0,44.915,1.3159999999999998,188.106,2.4530000000000003,7.871,29.695999999999998,449.227,0.0,7.7379999999999995,100.134,0.0,46.521,22.908,0.0,1.452,4.573,0.0],\"Agosto\":[87.855,14.728,10.253,0.0,68.634,0.0,171.40400000000002,2.5140000000000002,7.473,29.38,434.35400000000004,16.212,6.7139999999999995,165.028,0.0,0.0,24.575,0.0,2.725,4.794,0.0],\"Diciembre\":[84.45100000000001,50.758,12.077,0.0,43.67,0.0,172.21900000000002,24.0,7.189,22.342,418.16900000000004,7.242000000000001,6.007999999999999,202.455,0.0,0.0,19.142,0.0,7.401,4.34,0.0],\"Enero\":[92.117,0.0,6.642,3.365,62.696000000000005,7.093,196.58,2.145,8.353,30.635,477.004,0.0,7.699,87.413,5.341,15.139000000000001,24.771,0.0,1.696,4.208,\"NaN\"],\"Febrero\":[83.881,0.0,8.212,2.6180000000000003,57.146,4.505,169.047,2.21,7.353,28.4,451.05,0.0,6.381,79.332,2.8280000000000003,17.965,22.706999999999997,0.0,1.287,3.76,0.0],\"Julio\":[87.948,0.0,9.736,0.0,70.449,0.0,175.084,2.506,7.63,28.65,439.709,20.063,6.562,126.045,1.556,46.738,25.561,0.0,2.4819999999999998,4.801,0.0],\"Junio\":[86.944,0.0,9.381,0.0,72.657,0.0,189.185,2.458,7.449,28.416,433.899,0.0,7.046,121.881,1.449,49.236000000000004,24.869,0.0,1.901,4.643,0.0],\"Marzo\":[90.98899999999999,0.0,7.732,2.21,57.413000000000004,2.81,190.396,2.4859999999999998,8.118,31.07,481.467,0.0,7.571000000000001,82.781,0.0,34.679,27.581,0.0,1.304,4.157,0.0],\"Mayo\":[89.027,0.0,5.73,0.0,56.4,0.0,187.872,2.543,7.736000000000001,29.99,451.535,0.0,8.089,117.154,829.0,58.845,26.963,0.0,1.423,4.9239999999999995,0.0],\"Noviembre\":[84.005,32.684,11.337,0.0,45.63399999999999,37.0,167.475,2.332,6.992999999999999,24.578000000000003,404.022,7.836,5.97,176.045,0.0,0.0,20.683000000000003,0.0,7.066,4.274,0.0],\"Octubre\":[86.29,32.641999999999996,10.821,0.0,49.733000000000004,96.0,172.138,2.59,7.26,26.820999999999998,418.80300000000005,9.176,6.309,177.997,0.0,0.0,22.6,334.0,10.282,4.684,0.0],\"Septiembre\":[83.57,31.124000000000002,10.425999999999998,0.0,49.231,0.0,168.668,2.478,7.027,26.666,410.664,10.66,6.184,159.941,0.0,0.0,21.682,0.0,18.23,4.64,0.0],\"campos\":[\"ALICE\",\"ALICE OESTE\",\"CHORONGO\",\"CHORONGO ESTE\",\"COLIBRI\",\"DANA\",\"DORINE\",\"DORINE G\",\"DORINE NORTE\",\"ESPERANZA\",\"FANNY-18B\",\"JOHANNA\",\"MAHOGANY\",\"MARIANN\",\"MARIANN NORTE\",\"MARIANN SUR\",\"MARIANN-4A\",\"ORQUIDEA\",\"SHIRLEY\",\"SONIA\",\"TARAPOA NOROESTE\"]},\"selected\":{\"id\":\"1106\",\"type\":\"Selection\"},\"selection_policy\":{\"id\":\"1105\",\"type\":\"UnionRenderers\"}},\"id\":\"1074\",\"type\":\"ColumnDataSource\"},{\"attributes\":{\"bottom\":{\"expr\":{\"id\":\"1029\",\"type\":\"Stack\"}},\"fill_alpha\":{\"value\":0.1},\"fill_color\":{\"value\":\"#1f77b4\"},\"line_alpha\":{\"value\":0.1},\"line_color\":{\"value\":\"#1f77b4\"},\"top\":{\"expr\":{\"id\":\"1030\",\"type\":\"Stack\"}},\"width\":{\"value\":0.9},\"x\":{\"field\":\"campos\"}},\"id\":\"1093\",\"type\":\"VBar\"},{\"attributes\":{\"data_source\":{\"id\":\"1090\",\"type\":\"ColumnDataSource\"},\"glyph\":{\"id\":\"1092\",\"type\":\"VBar\"},\"hover_glyph\":null,\"muted_glyph\":null,\"name\":\"Abril\",\"nonselection_glyph\":{\"id\":\"1093\",\"type\":\"VBar\"},\"selection_glyph\":null,\"view\":{\"id\":\"1095\",\"type\":\"CDSView\"}},\"id\":\"1094\",\"type\":\"GlyphRenderer\"},{\"attributes\":{\"bottom\":{\"expr\":{\"id\":\"1031\",\"type\":\"Stack\"}},\"fill_color\":{\"value\":\"#2D6E8E\"},\"line_color\":{\"value\":\"#2D6E8E\"},\"top\":{\"expr\":{\"id\":\"1032\",\"type\":\"Stack\"}},\"width\":{\"value\":0.9},\"x\":{\"field\":\"campos\"}},\"id\":\"1110\",\"type\":\"VBar\"},{\"attributes\":{\"label\":{\"value\":\"Julio\"},\"renderers\":[{\"id\":\"1154\",\"type\":\"GlyphRenderer\"}]},\"id\":\"1173\",\"type\":\"LegendItem\"}],\"root_ids\":[\"1003\"]},\"title\":\"Bokeh Application\",\"version\":\"1.0.3\"}};\n",
       "  var render_items = [{\"docid\":\"f459d757-665d-4954-8062-a10a70260299\",\"roots\":{\"1003\":\"007bb319-9367-4508-82b5-b855daf1de40\"}}];\n",
       "  root.Bokeh.embed.embed_items_notebook(docs_json, render_items);\n",
       "\n",
       "  }\n",
       "  if (root.Bokeh !== undefined) {\n",
       "    embed_document(root);\n",
       "  } else {\n",
       "    var attempts = 0;\n",
       "    var timer = setInterval(function(root) {\n",
       "      if (root.Bokeh !== undefined) {\n",
       "        embed_document(root);\n",
       "        clearInterval(timer);\n",
       "      }\n",
       "      attempts++;\n",
       "      if (attempts > 100) {\n",
       "        console.log(\"Bokeh: ERROR: Unable to run BokehJS code because BokehJS library is missing\");\n",
       "        clearInterval(timer);\n",
       "      }\n",
       "    }, 10, root)\n",
       "  }\n",
       "})(window);"
      ],
      "application/vnd.bokehjs_exec.v0+json": ""
     },
     "metadata": {
      "application/vnd.bokehjs_exec.v0+json": {
       "id": "1003"
      }
     },
     "output_type": "display_data"
    }
   ],
   "source": [
    "campos=archivo['CAMPOS'].tolist()\n",
    "meses=[\"Enero\",\"Febrero\",\"Marzo\",\"Abril\",\"Mayo\",\"Junio\",\"Julio\",\"Agosto\",\"Septiembre\",\"Octubre\",\"Noviembre\",\"Diciembre\"]\n",
    "colores = viridis(len(meses))\n",
    "data={'campos':campos,\n",
    "      'Enero': archivo['ENERO'].tolist(),\n",
    "      'Febrero': archivo['FEBRERO'].tolist(),\n",
    "      'Marzo': archivo['MARZO'].tolist(),\n",
    "      'Abril': archivo['ABRIL'].tolist(),\n",
    "      'Mayo' : archivo['MAYO'].tolist(),\n",
    "      'Junio': archivo['JUNIO'].tolist(),\n",
    "      'Julio': archivo['JULIO'].tolist(),\n",
    "      'Agosto': archivo['AGOSTO'].tolist(),\n",
    "      'Septiembre' : archivo['SEPTIEMBRE'].tolist(),\n",
    "      'Octubre': archivo['OCTUBRE'].tolist(),\n",
    "      'Noviembre': archivo['NOVIEMBRE'].tolist(),\n",
    "      'Diciembre' : archivo['DICIEMBRE'].tolist()\n",
    "     }\n",
    "p = figure(x_range=campos,y_range=(0,5300),plot_height=600,plot_width=1500, title=\"INFORME DE PRESUPUESTO\",\n",
    "           toolbar_location=None, tools=\"\")\n",
    "p.vbar_stack(meses, x='campos', width=0.9, color=colores, source=data,\n",
    "             legend=[value(x) for x in meses])\n",
    "\n",
    "p.y_range.start = 0\n",
    "p.xaxis.major_label_orientation = p.x_range.range_padding = 0.2\n",
    "p.legend.location = \"top_left\"\n",
    "p.legend.orientation = \"vertical\"\n",
    "\n",
    "show(p)"
   ]
  },
  {
   "cell_type": "code",
   "execution_count": 3,
   "metadata": {},
   "outputs": [
    {
     "data": {
      "text/html": [
       "\n",
       "\n",
       "\n",
       "\n",
       "\n",
       "\n",
       "  <div class=\"bk-root\" id=\"5db8bd75-6745-4d58-b0f1-7d237103cd31\" data-root-id=\"1530\"></div>\n"
      ]
     },
     "metadata": {},
     "output_type": "display_data"
    },
    {
     "data": {
      "application/javascript": [
       "(function(root) {\n",
       "  function embed_document(root) {\n",
       "    \n",
       "  var docs_json = {\"6d5275dc-4599-46ec-bb02-eed3a37de341\":{\"roots\":{\"references\":[{\"attributes\":{\"below\":[{\"id\":\"1539\",\"type\":\"CategoricalAxis\"}],\"left\":[{\"id\":\"1543\",\"type\":\"LinearAxis\"}],\"plot_height\":350,\"plot_width\":3500,\"renderers\":[{\"id\":\"1539\",\"type\":\"CategoricalAxis\"},{\"id\":\"1542\",\"type\":\"Grid\"},{\"id\":\"1543\",\"type\":\"LinearAxis\"},{\"id\":\"1547\",\"type\":\"Grid\"},{\"id\":\"1553\",\"type\":\"GlyphRenderer\"}],\"title\":{\"id\":\"1529\",\"type\":\"Title\"},\"toolbar\":{\"id\":\"1548\",\"type\":\"Toolbar\"},\"toolbar_location\":null,\"x_range\":{\"id\":\"1528\",\"type\":\"FactorRange\"},\"x_scale\":{\"id\":\"1535\",\"type\":\"CategoricalScale\"},\"y_range\":{\"id\":\"1533\",\"type\":\"DataRange1d\"},\"y_scale\":{\"id\":\"1537\",\"type\":\"LinearScale\"}},\"id\":\"1530\",\"subtype\":\"Figure\",\"type\":\"Plot\"},{\"attributes\":{\"callback\":null,\"start\":0},\"id\":\"1533\",\"type\":\"DataRange1d\"},{\"attributes\":{},\"id\":\"1537\",\"type\":\"LinearScale\"},{\"attributes\":{},\"id\":\"1589\",\"type\":\"UnionRenderers\"},{\"attributes\":{},\"id\":\"1540\",\"type\":\"CategoricalTicker\"},{\"attributes\":{\"end\":2,\"factors\":[\"Enero\",\"Febrero\",\"Marzo\",\"Abril\",\"Mayo\",\"Junio\",\"Julio\",\"Agosto\",\"Septiembre\",\"Octubre\",\"Noviembre\",\"Diciembre\"],\"palette\":[\"#00204C\",\"#002F6F\",\"#29406B\",\"#46506B\",\"#5D616E\",\"#717273\",\"#878478\",\"#9E9676\",\"#B6A971\",\"#CEBD67\",\"#E8D257\",\"#FFE945\"],\"start\":1},\"id\":\"1549\",\"type\":\"CategoricalColorMapper\"},{\"attributes\":{\"callback\":null,\"data\":{\"counts\":[92.117,83.881,90.98899999999999,87.97200000000001,89.027,86.944,87.948,87.855,83.57,86.29,84.005,84.45100000000001,0.0,0.0,0.0,0.0,0.0,0.0,0.0,14.728,31.124000000000002,32.641999999999996,32.684,50.758,6.642,8.212,7.732,7.457000000000001,5.73,9.381,9.736,10.253,10.425999999999998,10.821,11.337,12.077,3.365,2.6180000000000003,2.21,748.0,0.0,0.0,0.0,0.0,0.0,0.0,0.0,0.0,62.696000000000005,57.146,57.413000000000004,44.915,56.4,72.657,70.449,68.634,49.231,49.733000000000004,45.63399999999999,43.67,7.093,4.505,2.81,1.3159999999999998,0.0,0.0,0.0,0.0,0.0,96.0,37.0,0.0,196.58,169.047,190.396,188.106,187.872,189.185,175.084,171.40400000000002,168.668,172.138,167.475,172.21900000000002,2.145,2.21,2.4859999999999998,2.4530000000000003,2.543,2.458,2.506,2.5140000000000002,2.478,2.59,2.332,24.0,8.353,7.353,8.118,7.871,7.736000000000001,7.449,7.63,7.473,7.027,7.26,6.992999999999999,7.189,30.635,28.4,31.07,29.695999999999998,29.99,28.416,28.65,29.38,26.666,26.820999999999998,24.578000000000003,22.342,477.004,451.05,481.467,449.227,451.535,433.899,439.709,434.35400000000004,410.664,418.80300000000005,404.022,418.16900000000004,0.0,0.0,0.0,0.0,0.0,0.0,20.063,16.212,10.66,9.176,7.836,7.242000000000001,7.699,6.381,7.571000000000001,7.7379999999999995,8.089,7.046,6.562,6.7139999999999995,6.184,6.309,5.97,6.007999999999999,87.413,79.332,82.781,100.134,117.154,121.881,126.045,165.028,159.941,177.997,176.045,202.455,5.341,2.8280000000000003,0.0,0.0,829.0,1.449,1.556,0.0,0.0,0.0,0.0,0.0,15.139000000000001,17.965,34.679,46.521,58.845,49.236000000000004,46.738,0.0,0.0,0.0,0.0,0.0,24.771,22.706999999999997,27.581,22.908,26.963,24.869,25.561,24.575,21.682,22.6,20.683000000000003,19.142,0.0,0.0,0.0,0.0,0.0,0.0,0.0,0.0,0.0,334.0,0.0,0.0,1.696,1.287,1.304,1.452,1.423,1.901,2.4819999999999998,2.725,18.23,10.282,7.066,7.401,4.208,3.76,4.157,4.573,4.9239999999999995,4.643,4.801,4.794,4.64,4.684,4.274,4.34,\"NaN\",0.0,0.0,0.0,0.0,0.0,0.0,0.0,0.0,0.0,0.0,0.0],\"x\":[[\"ALICE\",\"Enero\"],[\"ALICE\",\"Febrero\"],[\"ALICE\",\"Marzo\"],[\"ALICE\",\"Abril\"],[\"ALICE\",\"Mayo\"],[\"ALICE\",\"Junio\"],[\"ALICE\",\"Julio\"],[\"ALICE\",\"Agosto\"],[\"ALICE\",\"Septiembre\"],[\"ALICE\",\"Octubre\"],[\"ALICE\",\"Noviembre\"],[\"ALICE\",\"Diciembre\"],[\"ALICE OESTE\",\"Enero\"],[\"ALICE OESTE\",\"Febrero\"],[\"ALICE OESTE\",\"Marzo\"],[\"ALICE OESTE\",\"Abril\"],[\"ALICE OESTE\",\"Mayo\"],[\"ALICE OESTE\",\"Junio\"],[\"ALICE OESTE\",\"Julio\"],[\"ALICE OESTE\",\"Agosto\"],[\"ALICE OESTE\",\"Septiembre\"],[\"ALICE OESTE\",\"Octubre\"],[\"ALICE OESTE\",\"Noviembre\"],[\"ALICE OESTE\",\"Diciembre\"],[\"CHORONGO\",\"Enero\"],[\"CHORONGO\",\"Febrero\"],[\"CHORONGO\",\"Marzo\"],[\"CHORONGO\",\"Abril\"],[\"CHORONGO\",\"Mayo\"],[\"CHORONGO\",\"Junio\"],[\"CHORONGO\",\"Julio\"],[\"CHORONGO\",\"Agosto\"],[\"CHORONGO\",\"Septiembre\"],[\"CHORONGO\",\"Octubre\"],[\"CHORONGO\",\"Noviembre\"],[\"CHORONGO\",\"Diciembre\"],[\"CHORONGO ESTE\",\"Enero\"],[\"CHORONGO ESTE\",\"Febrero\"],[\"CHORONGO ESTE\",\"Marzo\"],[\"CHORONGO ESTE\",\"Abril\"],[\"CHORONGO ESTE\",\"Mayo\"],[\"CHORONGO ESTE\",\"Junio\"],[\"CHORONGO ESTE\",\"Julio\"],[\"CHORONGO ESTE\",\"Agosto\"],[\"CHORONGO ESTE\",\"Septiembre\"],[\"CHORONGO ESTE\",\"Octubre\"],[\"CHORONGO ESTE\",\"Noviembre\"],[\"CHORONGO ESTE\",\"Diciembre\"],[\"COLIBRI\",\"Enero\"],[\"COLIBRI\",\"Febrero\"],[\"COLIBRI\",\"Marzo\"],[\"COLIBRI\",\"Abril\"],[\"COLIBRI\",\"Mayo\"],[\"COLIBRI\",\"Junio\"],[\"COLIBRI\",\"Julio\"],[\"COLIBRI\",\"Agosto\"],[\"COLIBRI\",\"Septiembre\"],[\"COLIBRI\",\"Octubre\"],[\"COLIBRI\",\"Noviembre\"],[\"COLIBRI\",\"Diciembre\"],[\"DANA\",\"Enero\"],[\"DANA\",\"Febrero\"],[\"DANA\",\"Marzo\"],[\"DANA\",\"Abril\"],[\"DANA\",\"Mayo\"],[\"DANA\",\"Junio\"],[\"DANA\",\"Julio\"],[\"DANA\",\"Agosto\"],[\"DANA\",\"Septiembre\"],[\"DANA\",\"Octubre\"],[\"DANA\",\"Noviembre\"],[\"DANA\",\"Diciembre\"],[\"DORINE\",\"Enero\"],[\"DORINE\",\"Febrero\"],[\"DORINE\",\"Marzo\"],[\"DORINE\",\"Abril\"],[\"DORINE\",\"Mayo\"],[\"DORINE\",\"Junio\"],[\"DORINE\",\"Julio\"],[\"DORINE\",\"Agosto\"],[\"DORINE\",\"Septiembre\"],[\"DORINE\",\"Octubre\"],[\"DORINE\",\"Noviembre\"],[\"DORINE\",\"Diciembre\"],[\"DORINE G\",\"Enero\"],[\"DORINE G\",\"Febrero\"],[\"DORINE G\",\"Marzo\"],[\"DORINE G\",\"Abril\"],[\"DORINE G\",\"Mayo\"],[\"DORINE G\",\"Junio\"],[\"DORINE G\",\"Julio\"],[\"DORINE G\",\"Agosto\"],[\"DORINE G\",\"Septiembre\"],[\"DORINE G\",\"Octubre\"],[\"DORINE G\",\"Noviembre\"],[\"DORINE G\",\"Diciembre\"],[\"DORINE NORTE\",\"Enero\"],[\"DORINE NORTE\",\"Febrero\"],[\"DORINE NORTE\",\"Marzo\"],[\"DORINE NORTE\",\"Abril\"],[\"DORINE NORTE\",\"Mayo\"],[\"DORINE NORTE\",\"Junio\"],[\"DORINE NORTE\",\"Julio\"],[\"DORINE NORTE\",\"Agosto\"],[\"DORINE NORTE\",\"Septiembre\"],[\"DORINE NORTE\",\"Octubre\"],[\"DORINE NORTE\",\"Noviembre\"],[\"DORINE NORTE\",\"Diciembre\"],[\"ESPERANZA\",\"Enero\"],[\"ESPERANZA\",\"Febrero\"],[\"ESPERANZA\",\"Marzo\"],[\"ESPERANZA\",\"Abril\"],[\"ESPERANZA\",\"Mayo\"],[\"ESPERANZA\",\"Junio\"],[\"ESPERANZA\",\"Julio\"],[\"ESPERANZA\",\"Agosto\"],[\"ESPERANZA\",\"Septiembre\"],[\"ESPERANZA\",\"Octubre\"],[\"ESPERANZA\",\"Noviembre\"],[\"ESPERANZA\",\"Diciembre\"],[\"FANNY-18B\",\"Enero\"],[\"FANNY-18B\",\"Febrero\"],[\"FANNY-18B\",\"Marzo\"],[\"FANNY-18B\",\"Abril\"],[\"FANNY-18B\",\"Mayo\"],[\"FANNY-18B\",\"Junio\"],[\"FANNY-18B\",\"Julio\"],[\"FANNY-18B\",\"Agosto\"],[\"FANNY-18B\",\"Septiembre\"],[\"FANNY-18B\",\"Octubre\"],[\"FANNY-18B\",\"Noviembre\"],[\"FANNY-18B\",\"Diciembre\"],[\"JOHANNA\",\"Enero\"],[\"JOHANNA\",\"Febrero\"],[\"JOHANNA\",\"Marzo\"],[\"JOHANNA\",\"Abril\"],[\"JOHANNA\",\"Mayo\"],[\"JOHANNA\",\"Junio\"],[\"JOHANNA\",\"Julio\"],[\"JOHANNA\",\"Agosto\"],[\"JOHANNA\",\"Septiembre\"],[\"JOHANNA\",\"Octubre\"],[\"JOHANNA\",\"Noviembre\"],[\"JOHANNA\",\"Diciembre\"],[\"MAHOGANY\",\"Enero\"],[\"MAHOGANY\",\"Febrero\"],[\"MAHOGANY\",\"Marzo\"],[\"MAHOGANY\",\"Abril\"],[\"MAHOGANY\",\"Mayo\"],[\"MAHOGANY\",\"Junio\"],[\"MAHOGANY\",\"Julio\"],[\"MAHOGANY\",\"Agosto\"],[\"MAHOGANY\",\"Septiembre\"],[\"MAHOGANY\",\"Octubre\"],[\"MAHOGANY\",\"Noviembre\"],[\"MAHOGANY\",\"Diciembre\"],[\"MARIANN\",\"Enero\"],[\"MARIANN\",\"Febrero\"],[\"MARIANN\",\"Marzo\"],[\"MARIANN\",\"Abril\"],[\"MARIANN\",\"Mayo\"],[\"MARIANN\",\"Junio\"],[\"MARIANN\",\"Julio\"],[\"MARIANN\",\"Agosto\"],[\"MARIANN\",\"Septiembre\"],[\"MARIANN\",\"Octubre\"],[\"MARIANN\",\"Noviembre\"],[\"MARIANN\",\"Diciembre\"],[\"MARIANN NORTE\",\"Enero\"],[\"MARIANN NORTE\",\"Febrero\"],[\"MARIANN NORTE\",\"Marzo\"],[\"MARIANN NORTE\",\"Abril\"],[\"MARIANN NORTE\",\"Mayo\"],[\"MARIANN NORTE\",\"Junio\"],[\"MARIANN NORTE\",\"Julio\"],[\"MARIANN NORTE\",\"Agosto\"],[\"MARIANN NORTE\",\"Septiembre\"],[\"MARIANN NORTE\",\"Octubre\"],[\"MARIANN NORTE\",\"Noviembre\"],[\"MARIANN NORTE\",\"Diciembre\"],[\"MARIANN SUR\",\"Enero\"],[\"MARIANN SUR\",\"Febrero\"],[\"MARIANN SUR\",\"Marzo\"],[\"MARIANN SUR\",\"Abril\"],[\"MARIANN SUR\",\"Mayo\"],[\"MARIANN SUR\",\"Junio\"],[\"MARIANN SUR\",\"Julio\"],[\"MARIANN SUR\",\"Agosto\"],[\"MARIANN SUR\",\"Septiembre\"],[\"MARIANN SUR\",\"Octubre\"],[\"MARIANN SUR\",\"Noviembre\"],[\"MARIANN SUR\",\"Diciembre\"],[\"MARIANN-4A\",\"Enero\"],[\"MARIANN-4A\",\"Febrero\"],[\"MARIANN-4A\",\"Marzo\"],[\"MARIANN-4A\",\"Abril\"],[\"MARIANN-4A\",\"Mayo\"],[\"MARIANN-4A\",\"Junio\"],[\"MARIANN-4A\",\"Julio\"],[\"MARIANN-4A\",\"Agosto\"],[\"MARIANN-4A\",\"Septiembre\"],[\"MARIANN-4A\",\"Octubre\"],[\"MARIANN-4A\",\"Noviembre\"],[\"MARIANN-4A\",\"Diciembre\"],[\"ORQUIDEA\",\"Enero\"],[\"ORQUIDEA\",\"Febrero\"],[\"ORQUIDEA\",\"Marzo\"],[\"ORQUIDEA\",\"Abril\"],[\"ORQUIDEA\",\"Mayo\"],[\"ORQUIDEA\",\"Junio\"],[\"ORQUIDEA\",\"Julio\"],[\"ORQUIDEA\",\"Agosto\"],[\"ORQUIDEA\",\"Septiembre\"],[\"ORQUIDEA\",\"Octubre\"],[\"ORQUIDEA\",\"Noviembre\"],[\"ORQUIDEA\",\"Diciembre\"],[\"SHIRLEY\",\"Enero\"],[\"SHIRLEY\",\"Febrero\"],[\"SHIRLEY\",\"Marzo\"],[\"SHIRLEY\",\"Abril\"],[\"SHIRLEY\",\"Mayo\"],[\"SHIRLEY\",\"Junio\"],[\"SHIRLEY\",\"Julio\"],[\"SHIRLEY\",\"Agosto\"],[\"SHIRLEY\",\"Septiembre\"],[\"SHIRLEY\",\"Octubre\"],[\"SHIRLEY\",\"Noviembre\"],[\"SHIRLEY\",\"Diciembre\"],[\"SONIA\",\"Enero\"],[\"SONIA\",\"Febrero\"],[\"SONIA\",\"Marzo\"],[\"SONIA\",\"Abril\"],[\"SONIA\",\"Mayo\"],[\"SONIA\",\"Junio\"],[\"SONIA\",\"Julio\"],[\"SONIA\",\"Agosto\"],[\"SONIA\",\"Septiembre\"],[\"SONIA\",\"Octubre\"],[\"SONIA\",\"Noviembre\"],[\"SONIA\",\"Diciembre\"],[\"TARAPOA NOROESTE\",\"Enero\"],[\"TARAPOA NOROESTE\",\"Febrero\"],[\"TARAPOA NOROESTE\",\"Marzo\"],[\"TARAPOA NOROESTE\",\"Abril\"],[\"TARAPOA NOROESTE\",\"Mayo\"],[\"TARAPOA NOROESTE\",\"Junio\"],[\"TARAPOA NOROESTE\",\"Julio\"],[\"TARAPOA NOROESTE\",\"Agosto\"],[\"TARAPOA NOROESTE\",\"Septiembre\"],[\"TARAPOA NOROESTE\",\"Octubre\"],[\"TARAPOA NOROESTE\",\"Noviembre\"],[\"TARAPOA NOROESTE\",\"Diciembre\"]]},\"selected\":{\"id\":\"1590\",\"type\":\"Selection\"},\"selection_policy\":{\"id\":\"1589\",\"type\":\"UnionRenderers\"}},\"id\":\"1527\",\"type\":\"ColumnDataSource\"},{\"attributes\":{\"callback\":null,\"factors\":[[\"ALICE\",\"Enero\"],[\"ALICE\",\"Febrero\"],[\"ALICE\",\"Marzo\"],[\"ALICE\",\"Abril\"],[\"ALICE\",\"Mayo\"],[\"ALICE\",\"Junio\"],[\"ALICE\",\"Julio\"],[\"ALICE\",\"Agosto\"],[\"ALICE\",\"Septiembre\"],[\"ALICE\",\"Octubre\"],[\"ALICE\",\"Noviembre\"],[\"ALICE\",\"Diciembre\"],[\"ALICE OESTE\",\"Enero\"],[\"ALICE OESTE\",\"Febrero\"],[\"ALICE OESTE\",\"Marzo\"],[\"ALICE OESTE\",\"Abril\"],[\"ALICE OESTE\",\"Mayo\"],[\"ALICE OESTE\",\"Junio\"],[\"ALICE OESTE\",\"Julio\"],[\"ALICE OESTE\",\"Agosto\"],[\"ALICE OESTE\",\"Septiembre\"],[\"ALICE OESTE\",\"Octubre\"],[\"ALICE OESTE\",\"Noviembre\"],[\"ALICE OESTE\",\"Diciembre\"],[\"CHORONGO\",\"Enero\"],[\"CHORONGO\",\"Febrero\"],[\"CHORONGO\",\"Marzo\"],[\"CHORONGO\",\"Abril\"],[\"CHORONGO\",\"Mayo\"],[\"CHORONGO\",\"Junio\"],[\"CHORONGO\",\"Julio\"],[\"CHORONGO\",\"Agosto\"],[\"CHORONGO\",\"Septiembre\"],[\"CHORONGO\",\"Octubre\"],[\"CHORONGO\",\"Noviembre\"],[\"CHORONGO\",\"Diciembre\"],[\"CHORONGO ESTE\",\"Enero\"],[\"CHORONGO ESTE\",\"Febrero\"],[\"CHORONGO ESTE\",\"Marzo\"],[\"CHORONGO ESTE\",\"Abril\"],[\"CHORONGO ESTE\",\"Mayo\"],[\"CHORONGO ESTE\",\"Junio\"],[\"CHORONGO ESTE\",\"Julio\"],[\"CHORONGO ESTE\",\"Agosto\"],[\"CHORONGO ESTE\",\"Septiembre\"],[\"CHORONGO ESTE\",\"Octubre\"],[\"CHORONGO ESTE\",\"Noviembre\"],[\"CHORONGO ESTE\",\"Diciembre\"],[\"COLIBRI\",\"Enero\"],[\"COLIBRI\",\"Febrero\"],[\"COLIBRI\",\"Marzo\"],[\"COLIBRI\",\"Abril\"],[\"COLIBRI\",\"Mayo\"],[\"COLIBRI\",\"Junio\"],[\"COLIBRI\",\"Julio\"],[\"COLIBRI\",\"Agosto\"],[\"COLIBRI\",\"Septiembre\"],[\"COLIBRI\",\"Octubre\"],[\"COLIBRI\",\"Noviembre\"],[\"COLIBRI\",\"Diciembre\"],[\"DANA\",\"Enero\"],[\"DANA\",\"Febrero\"],[\"DANA\",\"Marzo\"],[\"DANA\",\"Abril\"],[\"DANA\",\"Mayo\"],[\"DANA\",\"Junio\"],[\"DANA\",\"Julio\"],[\"DANA\",\"Agosto\"],[\"DANA\",\"Septiembre\"],[\"DANA\",\"Octubre\"],[\"DANA\",\"Noviembre\"],[\"DANA\",\"Diciembre\"],[\"DORINE\",\"Enero\"],[\"DORINE\",\"Febrero\"],[\"DORINE\",\"Marzo\"],[\"DORINE\",\"Abril\"],[\"DORINE\",\"Mayo\"],[\"DORINE\",\"Junio\"],[\"DORINE\",\"Julio\"],[\"DORINE\",\"Agosto\"],[\"DORINE\",\"Septiembre\"],[\"DORINE\",\"Octubre\"],[\"DORINE\",\"Noviembre\"],[\"DORINE\",\"Diciembre\"],[\"DORINE G\",\"Enero\"],[\"DORINE G\",\"Febrero\"],[\"DORINE G\",\"Marzo\"],[\"DORINE G\",\"Abril\"],[\"DORINE G\",\"Mayo\"],[\"DORINE G\",\"Junio\"],[\"DORINE G\",\"Julio\"],[\"DORINE G\",\"Agosto\"],[\"DORINE G\",\"Septiembre\"],[\"DORINE G\",\"Octubre\"],[\"DORINE G\",\"Noviembre\"],[\"DORINE G\",\"Diciembre\"],[\"DORINE NORTE\",\"Enero\"],[\"DORINE NORTE\",\"Febrero\"],[\"DORINE NORTE\",\"Marzo\"],[\"DORINE NORTE\",\"Abril\"],[\"DORINE NORTE\",\"Mayo\"],[\"DORINE NORTE\",\"Junio\"],[\"DORINE NORTE\",\"Julio\"],[\"DORINE NORTE\",\"Agosto\"],[\"DORINE NORTE\",\"Septiembre\"],[\"DORINE NORTE\",\"Octubre\"],[\"DORINE NORTE\",\"Noviembre\"],[\"DORINE NORTE\",\"Diciembre\"],[\"ESPERANZA\",\"Enero\"],[\"ESPERANZA\",\"Febrero\"],[\"ESPERANZA\",\"Marzo\"],[\"ESPERANZA\",\"Abril\"],[\"ESPERANZA\",\"Mayo\"],[\"ESPERANZA\",\"Junio\"],[\"ESPERANZA\",\"Julio\"],[\"ESPERANZA\",\"Agosto\"],[\"ESPERANZA\",\"Septiembre\"],[\"ESPERANZA\",\"Octubre\"],[\"ESPERANZA\",\"Noviembre\"],[\"ESPERANZA\",\"Diciembre\"],[\"FANNY-18B\",\"Enero\"],[\"FANNY-18B\",\"Febrero\"],[\"FANNY-18B\",\"Marzo\"],[\"FANNY-18B\",\"Abril\"],[\"FANNY-18B\",\"Mayo\"],[\"FANNY-18B\",\"Junio\"],[\"FANNY-18B\",\"Julio\"],[\"FANNY-18B\",\"Agosto\"],[\"FANNY-18B\",\"Septiembre\"],[\"FANNY-18B\",\"Octubre\"],[\"FANNY-18B\",\"Noviembre\"],[\"FANNY-18B\",\"Diciembre\"],[\"JOHANNA\",\"Enero\"],[\"JOHANNA\",\"Febrero\"],[\"JOHANNA\",\"Marzo\"],[\"JOHANNA\",\"Abril\"],[\"JOHANNA\",\"Mayo\"],[\"JOHANNA\",\"Junio\"],[\"JOHANNA\",\"Julio\"],[\"JOHANNA\",\"Agosto\"],[\"JOHANNA\",\"Septiembre\"],[\"JOHANNA\",\"Octubre\"],[\"JOHANNA\",\"Noviembre\"],[\"JOHANNA\",\"Diciembre\"],[\"MAHOGANY\",\"Enero\"],[\"MAHOGANY\",\"Febrero\"],[\"MAHOGANY\",\"Marzo\"],[\"MAHOGANY\",\"Abril\"],[\"MAHOGANY\",\"Mayo\"],[\"MAHOGANY\",\"Junio\"],[\"MAHOGANY\",\"Julio\"],[\"MAHOGANY\",\"Agosto\"],[\"MAHOGANY\",\"Septiembre\"],[\"MAHOGANY\",\"Octubre\"],[\"MAHOGANY\",\"Noviembre\"],[\"MAHOGANY\",\"Diciembre\"],[\"MARIANN\",\"Enero\"],[\"MARIANN\",\"Febrero\"],[\"MARIANN\",\"Marzo\"],[\"MARIANN\",\"Abril\"],[\"MARIANN\",\"Mayo\"],[\"MARIANN\",\"Junio\"],[\"MARIANN\",\"Julio\"],[\"MARIANN\",\"Agosto\"],[\"MARIANN\",\"Septiembre\"],[\"MARIANN\",\"Octubre\"],[\"MARIANN\",\"Noviembre\"],[\"MARIANN\",\"Diciembre\"],[\"MARIANN NORTE\",\"Enero\"],[\"MARIANN NORTE\",\"Febrero\"],[\"MARIANN NORTE\",\"Marzo\"],[\"MARIANN NORTE\",\"Abril\"],[\"MARIANN NORTE\",\"Mayo\"],[\"MARIANN NORTE\",\"Junio\"],[\"MARIANN NORTE\",\"Julio\"],[\"MARIANN NORTE\",\"Agosto\"],[\"MARIANN NORTE\",\"Septiembre\"],[\"MARIANN NORTE\",\"Octubre\"],[\"MARIANN NORTE\",\"Noviembre\"],[\"MARIANN NORTE\",\"Diciembre\"],[\"MARIANN SUR\",\"Enero\"],[\"MARIANN SUR\",\"Febrero\"],[\"MARIANN SUR\",\"Marzo\"],[\"MARIANN SUR\",\"Abril\"],[\"MARIANN SUR\",\"Mayo\"],[\"MARIANN SUR\",\"Junio\"],[\"MARIANN SUR\",\"Julio\"],[\"MARIANN SUR\",\"Agosto\"],[\"MARIANN SUR\",\"Septiembre\"],[\"MARIANN SUR\",\"Octubre\"],[\"MARIANN SUR\",\"Noviembre\"],[\"MARIANN SUR\",\"Diciembre\"],[\"MARIANN-4A\",\"Enero\"],[\"MARIANN-4A\",\"Febrero\"],[\"MARIANN-4A\",\"Marzo\"],[\"MARIANN-4A\",\"Abril\"],[\"MARIANN-4A\",\"Mayo\"],[\"MARIANN-4A\",\"Junio\"],[\"MARIANN-4A\",\"Julio\"],[\"MARIANN-4A\",\"Agosto\"],[\"MARIANN-4A\",\"Septiembre\"],[\"MARIANN-4A\",\"Octubre\"],[\"MARIANN-4A\",\"Noviembre\"],[\"MARIANN-4A\",\"Diciembre\"],[\"ORQUIDEA\",\"Enero\"],[\"ORQUIDEA\",\"Febrero\"],[\"ORQUIDEA\",\"Marzo\"],[\"ORQUIDEA\",\"Abril\"],[\"ORQUIDEA\",\"Mayo\"],[\"ORQUIDEA\",\"Junio\"],[\"ORQUIDEA\",\"Julio\"],[\"ORQUIDEA\",\"Agosto\"],[\"ORQUIDEA\",\"Septiembre\"],[\"ORQUIDEA\",\"Octubre\"],[\"ORQUIDEA\",\"Noviembre\"],[\"ORQUIDEA\",\"Diciembre\"],[\"SHIRLEY\",\"Enero\"],[\"SHIRLEY\",\"Febrero\"],[\"SHIRLEY\",\"Marzo\"],[\"SHIRLEY\",\"Abril\"],[\"SHIRLEY\",\"Mayo\"],[\"SHIRLEY\",\"Junio\"],[\"SHIRLEY\",\"Julio\"],[\"SHIRLEY\",\"Agosto\"],[\"SHIRLEY\",\"Septiembre\"],[\"SHIRLEY\",\"Octubre\"],[\"SHIRLEY\",\"Noviembre\"],[\"SHIRLEY\",\"Diciembre\"],[\"SONIA\",\"Enero\"],[\"SONIA\",\"Febrero\"],[\"SONIA\",\"Marzo\"],[\"SONIA\",\"Abril\"],[\"SONIA\",\"Mayo\"],[\"SONIA\",\"Junio\"],[\"SONIA\",\"Julio\"],[\"SONIA\",\"Agosto\"],[\"SONIA\",\"Septiembre\"],[\"SONIA\",\"Octubre\"],[\"SONIA\",\"Noviembre\"],[\"SONIA\",\"Diciembre\"],[\"TARAPOA NOROESTE\",\"Enero\"],[\"TARAPOA NOROESTE\",\"Febrero\"],[\"TARAPOA NOROESTE\",\"Marzo\"],[\"TARAPOA NOROESTE\",\"Abril\"],[\"TARAPOA NOROESTE\",\"Mayo\"],[\"TARAPOA NOROESTE\",\"Junio\"],[\"TARAPOA NOROESTE\",\"Julio\"],[\"TARAPOA NOROESTE\",\"Agosto\"],[\"TARAPOA NOROESTE\",\"Septiembre\"],[\"TARAPOA NOROESTE\",\"Octubre\"],[\"TARAPOA NOROESTE\",\"Noviembre\"],[\"TARAPOA NOROESTE\",\"Diciembre\"]],\"range_padding\":0.01},\"id\":\"1528\",\"type\":\"FactorRange\"},{\"attributes\":{\"formatter\":{\"id\":\"1588\",\"type\":\"BasicTickFormatter\"},\"plot\":{\"id\":\"1530\",\"subtype\":\"Figure\",\"type\":\"Plot\"},\"ticker\":{\"id\":\"1544\",\"type\":\"BasicTicker\"}},\"id\":\"1543\",\"type\":\"LinearAxis\"},{\"attributes\":{},\"id\":\"1535\",\"type\":\"CategoricalScale\"},{\"attributes\":{\"active_drag\":\"auto\",\"active_inspect\":\"auto\",\"active_multi\":null,\"active_scroll\":\"auto\",\"active_tap\":\"auto\"},\"id\":\"1548\",\"type\":\"Toolbar\"},{\"attributes\":{},\"id\":\"1544\",\"type\":\"BasicTicker\"},{\"attributes\":{\"fill_color\":{\"field\":\"x\",\"transform\":{\"id\":\"1549\",\"type\":\"CategoricalColorMapper\"}},\"line_color\":{\"value\":\"#1f77b4\"},\"top\":{\"field\":\"counts\"},\"width\":{\"value\":0.8},\"x\":{\"field\":\"x\"}},\"id\":\"1551\",\"type\":\"VBar\"},{\"attributes\":{\"grid_line_color\":{\"value\":null},\"plot\":{\"id\":\"1530\",\"subtype\":\"Figure\",\"type\":\"Plot\"},\"ticker\":{\"id\":\"1540\",\"type\":\"CategoricalTicker\"}},\"id\":\"1542\",\"type\":\"Grid\"},{\"attributes\":{\"dimension\":1,\"plot\":{\"id\":\"1530\",\"subtype\":\"Figure\",\"type\":\"Plot\"},\"ticker\":{\"id\":\"1544\",\"type\":\"BasicTicker\"}},\"id\":\"1547\",\"type\":\"Grid\"},{\"attributes\":{\"formatter\":{\"id\":\"1586\",\"type\":\"CategoricalTickFormatter\"},\"major_label_orientation\":1,\"plot\":{\"id\":\"1530\",\"subtype\":\"Figure\",\"type\":\"Plot\"},\"ticker\":{\"id\":\"1540\",\"type\":\"CategoricalTicker\"}},\"id\":\"1539\",\"type\":\"CategoricalAxis\"},{\"attributes\":{\"fill_alpha\":{\"value\":0.1},\"fill_color\":{\"value\":\"#1f77b4\"},\"line_alpha\":{\"value\":0.1},\"line_color\":{\"value\":\"#1f77b4\"},\"top\":{\"field\":\"counts\"},\"width\":{\"value\":0.8},\"x\":{\"field\":\"x\"}},\"id\":\"1552\",\"type\":\"VBar\"},{\"attributes\":{\"data_source\":{\"id\":\"1527\",\"type\":\"ColumnDataSource\"},\"glyph\":{\"id\":\"1551\",\"type\":\"VBar\"},\"hover_glyph\":null,\"muted_glyph\":null,\"nonselection_glyph\":{\"id\":\"1552\",\"type\":\"VBar\"},\"selection_glyph\":null,\"view\":{\"id\":\"1554\",\"type\":\"CDSView\"}},\"id\":\"1553\",\"type\":\"GlyphRenderer\"},{\"attributes\":{},\"id\":\"1586\",\"type\":\"CategoricalTickFormatter\"},{\"attributes\":{\"plot\":null,\"text\":\"INFORME DE PRESUPUESTO\"},\"id\":\"1529\",\"type\":\"Title\"},{\"attributes\":{\"source\":{\"id\":\"1527\",\"type\":\"ColumnDataSource\"}},\"id\":\"1554\",\"type\":\"CDSView\"},{\"attributes\":{},\"id\":\"1588\",\"type\":\"BasicTickFormatter\"},{\"attributes\":{},\"id\":\"1590\",\"type\":\"Selection\"}],\"root_ids\":[\"1530\"]},\"title\":\"Bokeh Application\",\"version\":\"1.0.3\"}};\n",
       "  var render_items = [{\"docid\":\"6d5275dc-4599-46ec-bb02-eed3a37de341\",\"roots\":{\"1530\":\"5db8bd75-6745-4d58-b0f1-7d237103cd31\"}}];\n",
       "  root.Bokeh.embed.embed_items_notebook(docs_json, render_items);\n",
       "\n",
       "  }\n",
       "  if (root.Bokeh !== undefined) {\n",
       "    embed_document(root);\n",
       "  } else {\n",
       "    var attempts = 0;\n",
       "    var timer = setInterval(function(root) {\n",
       "      if (root.Bokeh !== undefined) {\n",
       "        embed_document(root);\n",
       "        clearInterval(timer);\n",
       "      }\n",
       "      attempts++;\n",
       "      if (attempts > 100) {\n",
       "        console.log(\"Bokeh: ERROR: Unable to run BokehJS code because BokehJS library is missing\");\n",
       "        clearInterval(timer);\n",
       "      }\n",
       "    }, 10, root)\n",
       "  }\n",
       "})(window);"
      ],
      "application/vnd.bokehjs_exec.v0+json": ""
     },
     "metadata": {
      "application/vnd.bokehjs_exec.v0+json": {
       "id": "1530"
      }
     },
     "output_type": "display_data"
    }
   ],
   "source": [
    "campos=archivo['CAMPOS'].tolist()\n",
    "meses=[\"Enero\",\"Febrero\",\"Marzo\",\"Abril\",\"Mayo\",\"Junio\",\"Julio\",\"Agosto\",\"Septiembre\",\"Octubre\",\"Noviembre\",\"Diciembre\"]\n",
    "data={'campos':campos,\n",
    "      'Enero': archivo['ENERO'].tolist(),\n",
    "      'Febrero': archivo['FEBRERO'].tolist(),\n",
    "      'Marzo': archivo['MARZO'].tolist(),\n",
    "      'Abril': archivo['ABRIL'].tolist(),\n",
    "      'Mayo' : archivo['MAYO'].tolist(),\n",
    "      'Junio': archivo['JUNIO'].tolist(),\n",
    "      'Julio': archivo['JULIO'].tolist(),\n",
    "      'Agosto': archivo['AGOSTO'].tolist(),\n",
    "      'Septiembre' : archivo['SEPTIEMBRE'].tolist(),\n",
    "      'Octubre': archivo['OCTUBRE'].tolist(),\n",
    "      'Noviembre': archivo['NOVIEMBRE'].tolist(),\n",
    "      'Diciembre' : archivo['DICIEMBRE'].tolist()\n",
    "     }\n",
    "x = [ (i, j) for i in campos for j in meses ]\n",
    "counts = sum(zip(data['Enero'], data['Febrero'], data['Marzo'],data['Abril'],data['Mayo'],data['Junio'],data['Julio'],data['Agosto'],data['Septiembre'],data['Octubre'],data['Noviembre'],data['Diciembre']),()) \n",
    "\n",
    "source = ColumnDataSource(data=dict(x=x, counts=counts))\n",
    "\n",
    "p = figure(x_range=FactorRange(*x), plot_height=350,plot_width=3500, title=\"INFORME DE PRESUPUESTO\",\n",
    "           toolbar_location=None, tools=\"\")\n",
    "\n",
    "p.vbar(x='x', top='counts', width=0.8, source=source,fill_color=factor_cmap('x', palette=cividis(len(meses)), factors=meses, start=1, end=2))\n",
    "\n",
    "p.y_range.start = 0\n",
    "p.x_range.range_padding = 0.01\n",
    "p.xaxis.major_label_orientation = 1\n",
    "p.xgrid.grid_line_color = None\n",
    "\n",
    "show(p)"
   ]
  },
  {
   "cell_type": "code",
   "execution_count": 4,
   "metadata": {},
   "outputs": [
    {
     "data": {
      "text/html": [
       "\n",
       "\n",
       "\n",
       "\n",
       "\n",
       "\n",
       "  <div class=\"bk-root\" id=\"1860a501-fe05-4738-a551-2058b9f9dea2\" data-root-id=\"1634\"></div>\n"
      ]
     },
     "metadata": {},
     "output_type": "display_data"
    },
    {
     "data": {
      "application/javascript": [
       "(function(root) {\n",
       "  function embed_document(root) {\n",
       "    \n",
       "  var docs_json = {\"947fe034-2bf4-414e-9fdc-c689fbca7aec\":{\"roots\":{\"references\":[{\"attributes\":{\"below\":[{\"id\":\"1644\",\"type\":\"LinearAxis\"}],\"left\":[{\"id\":\"1649\",\"type\":\"LinearAxis\"}],\"plot_width\":800,\"renderers\":[{\"id\":\"1644\",\"type\":\"LinearAxis\"},{\"id\":\"1648\",\"type\":\"Grid\"},{\"id\":\"1649\",\"type\":\"LinearAxis\"},{\"id\":\"1653\",\"type\":\"Grid\"},{\"id\":\"1670\",\"type\":\"Legend\"},{\"id\":\"1663\",\"type\":\"GlyphRenderer\"}],\"title\":{\"id\":\"1633\",\"type\":\"Title\"},\"toolbar\":{\"id\":\"1655\",\"type\":\"Toolbar\"},\"toolbar_location\":null,\"x_range\":{\"id\":\"1636\",\"type\":\"DataRange1d\"},\"x_scale\":{\"id\":\"1640\",\"type\":\"LinearScale\"},\"y_range\":{\"id\":\"1638\",\"type\":\"DataRange1d\"},\"y_scale\":{\"id\":\"1642\",\"type\":\"LinearScale\"}},\"id\":\"1634\",\"subtype\":\"Figure\",\"type\":\"Plot\"},{\"attributes\":{\"field\":\"angle\",\"include_zero\":true},\"id\":\"1657\",\"type\":\"CumSum\"},{\"attributes\":{},\"id\":\"1642\",\"type\":\"LinearScale\"},{\"attributes\":{\"plot\":null,\"text\":\"INFORME DE PRESUPUESTO\"},\"id\":\"1633\",\"type\":\"Title\"},{\"attributes\":{\"formatter\":{\"id\":\"1669\",\"type\":\"BasicTickFormatter\"},\"plot\":{\"id\":\"1634\",\"subtype\":\"Figure\",\"type\":\"Plot\"},\"ticker\":{\"id\":\"1650\",\"type\":\"BasicTicker\"}},\"id\":\"1649\",\"type\":\"LinearAxis\"},{\"attributes\":{},\"id\":\"1645\",\"type\":\"BasicTicker\"},{\"attributes\":{},\"id\":\"1714\",\"type\":\"Selection\"},{\"attributes\":{\"callback\":null},\"id\":\"1638\",\"type\":\"DataRange1d\"},{\"attributes\":{},\"id\":\"1640\",\"type\":\"LinearScale\"},{\"attributes\":{\"plot\":{\"id\":\"1634\",\"subtype\":\"Figure\",\"type\":\"Plot\"},\"ticker\":{\"id\":\"1645\",\"type\":\"BasicTicker\"}},\"id\":\"1648\",\"type\":\"Grid\"},{\"attributes\":{\"callback\":null,\"range_padding\":0.5},\"id\":\"1636\",\"type\":\"DataRange1d\"},{\"attributes\":{\"label\":{\"field\":\"campos\"},\"renderers\":[{\"id\":\"1663\",\"type\":\"GlyphRenderer\"}]},\"id\":\"1671\",\"type\":\"LegendItem\"},{\"attributes\":{\"dimension\":1,\"plot\":{\"id\":\"1634\",\"subtype\":\"Figure\",\"type\":\"Plot\"},\"ticker\":{\"id\":\"1650\",\"type\":\"BasicTicker\"}},\"id\":\"1653\",\"type\":\"Grid\"},{\"attributes\":{\"end_angle\":{\"expr\":{\"id\":\"1658\",\"type\":\"CumSum\"},\"units\":\"rad\"},\"fill_color\":{\"field\":\"color\"},\"line_color\":{\"value\":\"white\"},\"radius\":{\"units\":\"data\",\"value\":0.5},\"start_angle\":{\"expr\":{\"id\":\"1657\",\"type\":\"CumSum\"},\"units\":\"rad\"},\"x\":{\"value\":2},\"y\":{\"value\":1}},\"id\":\"1661\",\"type\":\"Wedge\"},{\"attributes\":{},\"id\":\"1669\",\"type\":\"BasicTickFormatter\"},{\"attributes\":{\"callback\":null,\"data\":{\"angle\":{\"__ndarray__\":\"rGqm6JCb4D/bMGCSZJa0P9Ok/zlw66s/klN6SvMvcj+PRCgrUZHVP5vknROzIIA/VmhNBLQR8T9kwaREyzGLP5QqXGLU/6Y/qiStMURmxT/zjJqD4O8EQJqXZ5/RGaI/K32PFC3rpD/PSQmh1V3pP1HzELfwaXg/q7LZGHgbwT91d4x6Ow7CP9/Z6Xc9O8U/C9t3Gh0dnT8K3wVilVubPwAAAAAAAAAA\",\"dtype\":\"float64\",\"shape\":[21]},\"campos\":[\"ALICE\",\"ALICE OESTE\",\"CHORONGO\",\"CHORONGO ESTE\",\"COLIBRI\",\"DANA\",\"DORINE\",\"DORINE G\",\"DORINE NORTE\",\"ESPERANZA\",\"FANNY-18B\",\"JOHANNA\",\"MAHOGANY\",\"MARIANN\",\"MARIANN NORTE\",\"MARIANN SUR\",\"MARIANN-4A\",\"ORQUIDEA\",\"SHIRLEY\",\"SONIA\",\"TARAPOA NOROESTE\"],\"color\":[\"#440154\",\"#471265\",\"#482374\",\"#45347F\",\"#404387\",\"#3B518A\",\"#345E8D\",\"#2E6B8E\",\"#29788E\",\"#25838D\",\"#208F8C\",\"#1E9B89\",\"#22A784\",\"#2EB27C\",\"#42BE71\",\"#5BC862\",\"#79D151\",\"#97D83E\",\"#BADE27\",\"#DCE218\",\"#FDE724\"],\"index\":[0,1,2,3,4,5,6,7,8,9,10,11,12,13,14,15,16,17,18,19,20],\"value\":{\"__ndarray__\":\"BFYOLTJUkEBSuB6F6z1kQPp+arx0c1tAbxKDwMrhIUASg8DKoTSFQBFYObTIti9AmpmZmVnIoECxcmiR7bw6QKFFtvP9nFZA/Knx0k0KdUD91Hjp5pW0QHnpJjEIzFFA4XoUrkeRVEDo+6nx0vCYQBsv3SQGAShAy6FFtvPRcEBxPQrXo8BxQAAAAAAA4HRAAAAAAACgTEC8dJMYBOZKQAAAAAAAAAAA\",\"dtype\":\"float64\",\"shape\":[21]}},\"selected\":{\"id\":\"1714\",\"type\":\"Selection\"},\"selection_policy\":{\"id\":\"1713\",\"type\":\"UnionRenderers\"}},\"id\":\"1659\",\"type\":\"ColumnDataSource\"},{\"attributes\":{\"callback\":null,\"tooltips\":\"@campos: @value\"},\"id\":\"1654\",\"type\":\"HoverTool\"},{\"attributes\":{},\"id\":\"1713\",\"type\":\"UnionRenderers\"},{\"attributes\":{\"data_source\":{\"id\":\"1659\",\"type\":\"ColumnDataSource\"},\"glyph\":{\"id\":\"1661\",\"type\":\"Wedge\"},\"hover_glyph\":null,\"muted_glyph\":null,\"nonselection_glyph\":{\"id\":\"1662\",\"type\":\"Wedge\"},\"selection_glyph\":null,\"view\":{\"id\":\"1664\",\"type\":\"CDSView\"}},\"id\":\"1663\",\"type\":\"GlyphRenderer\"},{\"attributes\":{\"source\":{\"id\":\"1659\",\"type\":\"ColumnDataSource\"}},\"id\":\"1664\",\"type\":\"CDSView\"},{\"attributes\":{\"end_angle\":{\"expr\":{\"id\":\"1658\",\"type\":\"CumSum\"},\"units\":\"rad\"},\"fill_alpha\":{\"value\":0.1},\"fill_color\":{\"value\":\"#1f77b4\"},\"line_alpha\":{\"value\":0.1},\"line_color\":{\"value\":\"#1f77b4\"},\"radius\":{\"units\":\"data\",\"value\":0.5},\"start_angle\":{\"expr\":{\"id\":\"1657\",\"type\":\"CumSum\"},\"units\":\"rad\"},\"x\":{\"value\":2},\"y\":{\"value\":1}},\"id\":\"1662\",\"type\":\"Wedge\"},{\"attributes\":{\"formatter\":{\"id\":\"1667\",\"type\":\"BasicTickFormatter\"},\"plot\":{\"id\":\"1634\",\"subtype\":\"Figure\",\"type\":\"Plot\"},\"ticker\":{\"id\":\"1645\",\"type\":\"BasicTicker\"}},\"id\":\"1644\",\"type\":\"LinearAxis\"},{\"attributes\":{\"active_drag\":\"auto\",\"active_inspect\":\"auto\",\"active_multi\":null,\"active_scroll\":\"auto\",\"active_tap\":\"auto\",\"tools\":[{\"id\":\"1654\",\"type\":\"HoverTool\"}]},\"id\":\"1655\",\"type\":\"Toolbar\"},{\"attributes\":{},\"id\":\"1667\",\"type\":\"BasicTickFormatter\"},{\"attributes\":{\"field\":\"angle\"},\"id\":\"1658\",\"type\":\"CumSum\"},{\"attributes\":{},\"id\":\"1650\",\"type\":\"BasicTicker\"},{\"attributes\":{\"items\":[{\"id\":\"1671\",\"type\":\"LegendItem\"}],\"plot\":{\"id\":\"1634\",\"subtype\":\"Figure\",\"type\":\"Plot\"}},\"id\":\"1670\",\"type\":\"Legend\"}],\"root_ids\":[\"1634\"]},\"title\":\"Bokeh Application\",\"version\":\"1.0.3\"}};\n",
       "  var render_items = [{\"docid\":\"947fe034-2bf4-414e-9fdc-c689fbca7aec\",\"roots\":{\"1634\":\"1860a501-fe05-4738-a551-2058b9f9dea2\"}}];\n",
       "  root.Bokeh.embed.embed_items_notebook(docs_json, render_items);\n",
       "\n",
       "  }\n",
       "  if (root.Bokeh !== undefined) {\n",
       "    embed_document(root);\n",
       "  } else {\n",
       "    var attempts = 0;\n",
       "    var timer = setInterval(function(root) {\n",
       "      if (root.Bokeh !== undefined) {\n",
       "        embed_document(root);\n",
       "        clearInterval(timer);\n",
       "      }\n",
       "      attempts++;\n",
       "      if (attempts > 100) {\n",
       "        console.log(\"Bokeh: ERROR: Unable to run BokehJS code because BokehJS library is missing\");\n",
       "        clearInterval(timer);\n",
       "      }\n",
       "    }, 10, root)\n",
       "  }\n",
       "})(window);"
      ],
      "application/vnd.bokehjs_exec.v0+json": ""
     },
     "metadata": {
      "application/vnd.bokehjs_exec.v0+json": {
       "id": "1634"
      }
     },
     "output_type": "display_data"
    }
   ],
   "source": [
    "campos=archivo['CAMPOS'].tolist()\n",
    "total=archivo['TOTAL'].tolist()\n",
    "total=[float(i)for i in total]\n",
    "x=dict(zip(campos,total))\n",
    "data = pd.Series(x).reset_index(name='value').rename(columns={'index':'campos'})\n",
    "data['angle'] = data['value']/data['value'].sum() * 2*pi\n",
    "data['color'] = viridis(len(x))\n",
    "\n",
    "p = figure(plot_height=600,plot_width=800, title=\"INFORME DE PRESUPUESTO\", toolbar_location=None,\n",
    "        tools=\"hover\", tooltips=\"@campos: @value\")\n",
    "\n",
    "p.wedge(x=2, y=1, radius=0.5,\n",
    "        start_angle=cumsum('angle', include_zero=True), end_angle=cumsum('angle'),\n",
    "        line_color=\"white\", fill_color='color', legend='campos', source=data)\n",
    "\n",
    "p.x_range.range_padding = 0.5\n",
    "p.legend.location = \"top_right\"\n",
    "p.legend.orientation = \"vertical\"\n",
    "show(p)"
   ]
  },
  {
   "cell_type": "code",
   "execution_count": 5,
   "metadata": {},
   "outputs": [
    {
     "data": {
      "text/html": [
       "\n",
       "\n",
       "\n",
       "\n",
       "\n",
       "\n",
       "  <div class=\"bk-root\" id=\"07d86842-7880-442f-abe2-e4a0484e08bc\" data-root-id=\"1758\"></div>\n"
      ]
     },
     "metadata": {},
     "output_type": "display_data"
    },
    {
     "data": {
      "application/javascript": [
       "(function(root) {\n",
       "  function embed_document(root) {\n",
       "    \n",
       "  var docs_json = {\"02a1e492-ad7d-4bcc-be45-3317d405d729\":{\"roots\":{\"references\":[{\"attributes\":{\"below\":[{\"id\":\"1768\",\"type\":\"CategoricalAxis\"}],\"left\":[{\"id\":\"1772\",\"type\":\"LinearAxis\"}],\"plot_height\":550,\"plot_width\":550,\"renderers\":[{\"id\":\"1768\",\"type\":\"CategoricalAxis\"},{\"id\":\"1771\",\"type\":\"Grid\"},{\"id\":\"1772\",\"type\":\"LinearAxis\"},{\"id\":\"1776\",\"type\":\"Grid\"},{\"id\":\"1781\",\"type\":\"GlyphRenderer\"},{\"id\":\"1786\",\"type\":\"GlyphRenderer\"}],\"title\":{\"id\":\"1757\",\"type\":\"Title\"},\"toolbar\":{\"id\":\"1777\",\"type\":\"Toolbar\"},\"toolbar_location\":null,\"x_range\":{\"id\":\"1760\",\"type\":\"FactorRange\"},\"x_scale\":{\"id\":\"1764\",\"type\":\"CategoricalScale\"},\"y_range\":{\"id\":\"1762\",\"type\":\"DataRange1d\"},\"y_scale\":{\"id\":\"1766\",\"type\":\"LinearScale\"}},\"id\":\"1758\",\"subtype\":\"Figure\",\"type\":\"Plot\"},{\"attributes\":{\"line_color\":\"slateblue\",\"line_width\":3,\"x\":{\"field\":\"x\"},\"y\":{\"field\":\"y\"}},\"id\":\"1779\",\"type\":\"Line\"},{\"attributes\":{\"fill_color\":{\"value\":\"blue\"},\"line_color\":{\"value\":\"#1f77b4\"},\"size\":{\"units\":\"screen\",\"value\":8},\"x\":{\"field\":\"x\"},\"y\":{\"field\":\"y\"}},\"id\":\"1784\",\"type\":\"Circle\"},{\"attributes\":{\"callback\":null},\"id\":\"1762\",\"type\":\"DataRange1d\"},{\"attributes\":{},\"id\":\"1764\",\"type\":\"CategoricalScale\"},{\"attributes\":{},\"id\":\"1833\",\"type\":\"CategoricalTickFormatter\"},{\"attributes\":{},\"id\":\"1835\",\"type\":\"BasicTickFormatter\"},{\"attributes\":{},\"id\":\"1769\",\"type\":\"CategoricalTicker\"},{\"attributes\":{},\"id\":\"1837\",\"type\":\"Selection\"},{\"attributes\":{},\"id\":\"1838\",\"type\":\"UnionRenderers\"},{\"attributes\":{},\"id\":\"1839\",\"type\":\"Selection\"},{\"attributes\":{\"callback\":null,\"factors\":[\"ALICE\",\"ALICE OESTE\",\"CHORONGO\",\"CHORONGO ESTE\",\"COLIBRI\",\"DANA\",\"DORINE\",\"DORINE G\",\"DORINE NORTE\",\"ESPERANZA\",\"FANNY-18B\",\"JOHANNA\",\"MAHOGANY\",\"MARIANN\",\"MARIANN NORTE\",\"MARIANN SUR\",\"MARIANN-4A\",\"ORQUIDEA\",\"SHIRLEY\",\"SONIA\",\"TARAPOA NOROESTE\"]},\"id\":\"1760\",\"type\":\"FactorRange\"},{\"attributes\":{\"data_source\":{\"id\":\"1778\",\"type\":\"ColumnDataSource\"},\"glyph\":{\"id\":\"1779\",\"type\":\"Line\"},\"hover_glyph\":null,\"muted_glyph\":null,\"nonselection_glyph\":{\"id\":\"1780\",\"type\":\"Line\"},\"selection_glyph\":null,\"view\":{\"id\":\"1782\",\"type\":\"CDSView\"}},\"id\":\"1781\",\"type\":\"GlyphRenderer\"},{\"attributes\":{\"line_alpha\":0.1,\"line_color\":\"#1f77b4\",\"line_width\":3,\"x\":{\"field\":\"x\"},\"y\":{\"field\":\"y\"}},\"id\":\"1780\",\"type\":\"Line\"},{\"attributes\":{\"callback\":null,\"data\":{\"x\":[\"ALICE\",\"ALICE OESTE\",\"CHORONGO\",\"CHORONGO ESTE\",\"COLIBRI\",\"DANA\",\"DORINE\",\"DORINE G\",\"DORINE NORTE\",\"ESPERANZA\",\"FANNY-18B\",\"JOHANNA\",\"MAHOGANY\",\"MARIANN\",\"MARIANN NORTE\",\"MARIANN SUR\",\"MARIANN-4A\",\"ORQUIDEA\",\"SHIRLEY\",\"SONIA\",\"TARAPOA NOROESTE\"],\"y\":[1045.049,161.935,109.804,8.941,678.579,15.857000000000001,2148.175,26.738000000000003,90.45299999999999,336.644,5269.901999999999,71.188,82.27,1596.2060000000001,12.002,269.122,284.04,334.0,57.25,53.797,0.0]},\"selected\":{\"id\":\"1839\",\"type\":\"Selection\"},\"selection_policy\":{\"id\":\"1838\",\"type\":\"UnionRenderers\"}},\"id\":\"1783\",\"type\":\"ColumnDataSource\"},{\"attributes\":{\"active_drag\":\"auto\",\"active_inspect\":\"auto\",\"active_multi\":null,\"active_scroll\":\"auto\",\"active_tap\":\"auto\"},\"id\":\"1777\",\"type\":\"Toolbar\"},{\"attributes\":{},\"id\":\"1766\",\"type\":\"LinearScale\"},{\"attributes\":{},\"id\":\"1773\",\"type\":\"BasicTicker\"},{\"attributes\":{\"source\":{\"id\":\"1778\",\"type\":\"ColumnDataSource\"}},\"id\":\"1782\",\"type\":\"CDSView\"},{\"attributes\":{\"formatter\":{\"id\":\"1833\",\"type\":\"CategoricalTickFormatter\"},\"major_label_orientation\":1,\"plot\":{\"id\":\"1758\",\"subtype\":\"Figure\",\"type\":\"Plot\"},\"ticker\":{\"id\":\"1769\",\"type\":\"CategoricalTicker\"}},\"id\":\"1768\",\"type\":\"CategoricalAxis\"},{\"attributes\":{\"formatter\":{\"id\":\"1835\",\"type\":\"BasicTickFormatter\"},\"plot\":{\"id\":\"1758\",\"subtype\":\"Figure\",\"type\":\"Plot\"},\"ticker\":{\"id\":\"1773\",\"type\":\"BasicTicker\"}},\"id\":\"1772\",\"type\":\"LinearAxis\"},{\"attributes\":{\"callback\":null,\"data\":{\"x\":[\"ALICE\",\"ALICE OESTE\",\"CHORONGO\",\"CHORONGO ESTE\",\"COLIBRI\",\"DANA\",\"DORINE\",\"DORINE G\",\"DORINE NORTE\",\"ESPERANZA\",\"FANNY-18B\",\"JOHANNA\",\"MAHOGANY\",\"MARIANN\",\"MARIANN NORTE\",\"MARIANN SUR\",\"MARIANN-4A\",\"ORQUIDEA\",\"SHIRLEY\",\"SONIA\",\"TARAPOA NOROESTE\"],\"y\":[1045.049,161.935,109.804,8.941,678.579,15.857000000000001,2148.175,26.738000000000003,90.45299999999999,336.644,5269.901999999999,71.188,82.27,1596.2060000000001,12.002,269.122,284.04,334.0,57.25,53.797,0.0]},\"selected\":{\"id\":\"1837\",\"type\":\"Selection\"},\"selection_policy\":{\"id\":\"1836\",\"type\":\"UnionRenderers\"}},\"id\":\"1778\",\"type\":\"ColumnDataSource\"},{\"attributes\":{\"plot\":{\"id\":\"1758\",\"subtype\":\"Figure\",\"type\":\"Plot\"},\"ticker\":{\"id\":\"1769\",\"type\":\"CategoricalTicker\"}},\"id\":\"1771\",\"type\":\"Grid\"},{\"attributes\":{\"dimension\":1,\"plot\":{\"id\":\"1758\",\"subtype\":\"Figure\",\"type\":\"Plot\"},\"ticker\":{\"id\":\"1773\",\"type\":\"BasicTicker\"}},\"id\":\"1776\",\"type\":\"Grid\"},{\"attributes\":{\"data_source\":{\"id\":\"1783\",\"type\":\"ColumnDataSource\"},\"glyph\":{\"id\":\"1784\",\"type\":\"Circle\"},\"hover_glyph\":null,\"muted_glyph\":null,\"nonselection_glyph\":{\"id\":\"1785\",\"type\":\"Circle\"},\"selection_glyph\":null,\"view\":{\"id\":\"1787\",\"type\":\"CDSView\"}},\"id\":\"1786\",\"type\":\"GlyphRenderer\"},{\"attributes\":{},\"id\":\"1836\",\"type\":\"UnionRenderers\"},{\"attributes\":{\"source\":{\"id\":\"1783\",\"type\":\"ColumnDataSource\"}},\"id\":\"1787\",\"type\":\"CDSView\"},{\"attributes\":{\"plot\":null,\"text\":\"INFORME DE PRESUPUESTO\"},\"id\":\"1757\",\"type\":\"Title\"},{\"attributes\":{\"fill_alpha\":{\"value\":0.1},\"fill_color\":{\"value\":\"#1f77b4\"},\"line_alpha\":{\"value\":0.1},\"line_color\":{\"value\":\"#1f77b4\"},\"size\":{\"units\":\"screen\",\"value\":8},\"x\":{\"field\":\"x\"},\"y\":{\"field\":\"y\"}},\"id\":\"1785\",\"type\":\"Circle\"}],\"root_ids\":[\"1758\"]},\"title\":\"Bokeh Application\",\"version\":\"1.0.3\"}};\n",
       "  var render_items = [{\"docid\":\"02a1e492-ad7d-4bcc-be45-3317d405d729\",\"roots\":{\"1758\":\"07d86842-7880-442f-abe2-e4a0484e08bc\"}}];\n",
       "  root.Bokeh.embed.embed_items_notebook(docs_json, render_items);\n",
       "\n",
       "  }\n",
       "  if (root.Bokeh !== undefined) {\n",
       "    embed_document(root);\n",
       "  } else {\n",
       "    var attempts = 0;\n",
       "    var timer = setInterval(function(root) {\n",
       "      if (root.Bokeh !== undefined) {\n",
       "        embed_document(root);\n",
       "        clearInterval(timer);\n",
       "      }\n",
       "      attempts++;\n",
       "      if (attempts > 100) {\n",
       "        console.log(\"Bokeh: ERROR: Unable to run BokehJS code because BokehJS library is missing\");\n",
       "        clearInterval(timer);\n",
       "      }\n",
       "    }, 10, root)\n",
       "  }\n",
       "})(window);"
      ],
      "application/vnd.bokehjs_exec.v0+json": ""
     },
     "metadata": {
      "application/vnd.bokehjs_exec.v0+json": {
       "id": "1758"
      }
     },
     "output_type": "display_data"
    }
   ],
   "source": [
    "campos=archivo[\"CAMPOS\"].tolist()\n",
    "total=archivo[\"TOTAL\"].tolist()\n",
    "p = figure(x_range=campos, plot_height=550,plot_width=550 ,title=\"INFORME DE PRESUPUESTO\", toolbar_location=None, tools=\"\")\n",
    "p.line(x=campos, y=total, line_width=3,line_color=\"slateblue\")\n",
    "p.circle(campos, total, fill_color=\"blue\", size=8)\n",
    "p.xaxis.major_label_orientation = 1\n",
    "show(p)"
   ]
  },
  {
   "cell_type": "code",
   "execution_count": 6,
   "metadata": {
    "scrolled": false
   },
   "outputs": [
    {
     "data": {
      "text/html": [
       "\n",
       "\n",
       "\n",
       "\n",
       "\n",
       "\n",
       "  <div class=\"bk-root\" id=\"91d84e15-c199-4b28-8767-c5056cd37167\" data-root-id=\"1895\"></div>\n"
      ]
     },
     "metadata": {},
     "output_type": "display_data"
    },
    {
     "data": {
      "application/javascript": [
       "(function(root) {\n",
       "  function embed_document(root) {\n",
       "    \n",
       "  var docs_json = {\"2bbe64c9-b210-4454-a681-ac907276869e\":{\"roots\":{\"references\":[{\"attributes\":{\"below\":[{\"id\":\"1905\",\"type\":\"CategoricalAxis\"}],\"left\":[{\"id\":\"1909\",\"type\":\"LinearAxis\"}],\"plot_height\":550,\"plot_width\":550,\"renderers\":[{\"id\":\"1905\",\"type\":\"CategoricalAxis\"},{\"id\":\"1908\",\"type\":\"Grid\"},{\"id\":\"1909\",\"type\":\"LinearAxis\"},{\"id\":\"1913\",\"type\":\"Grid\"},{\"id\":\"1918\",\"type\":\"GlyphRenderer\"}],\"title\":{\"id\":\"1894\",\"type\":\"Title\"},\"toolbar\":{\"id\":\"1914\",\"type\":\"Toolbar\"},\"toolbar_location\":null,\"x_range\":{\"id\":\"1897\",\"type\":\"FactorRange\"},\"x_scale\":{\"id\":\"1901\",\"type\":\"CategoricalScale\"},\"y_range\":{\"id\":\"1899\",\"type\":\"DataRange1d\"},\"y_scale\":{\"id\":\"1903\",\"type\":\"LinearScale\"}},\"id\":\"1895\",\"subtype\":\"Figure\",\"type\":\"Plot\"},{\"attributes\":{\"data_source\":{\"id\":\"1915\",\"type\":\"ColumnDataSource\"},\"glyph\":{\"id\":\"1916\",\"type\":\"Line\"},\"hover_glyph\":null,\"muted_glyph\":null,\"nonselection_glyph\":{\"id\":\"1917\",\"type\":\"Line\"},\"selection_glyph\":null,\"view\":{\"id\":\"1919\",\"type\":\"CDSView\"}},\"id\":\"1918\",\"type\":\"GlyphRenderer\"},{\"attributes\":{\"source\":{\"id\":\"1915\",\"type\":\"ColumnDataSource\"}},\"id\":\"1919\",\"type\":\"CDSView\"},{\"attributes\":{\"plot\":{\"id\":\"1895\",\"subtype\":\"Figure\",\"type\":\"Plot\"},\"ticker\":{\"id\":\"1906\",\"type\":\"CategoricalTicker\"}},\"id\":\"1908\",\"type\":\"Grid\"},{\"attributes\":{\"callback\":null,\"data\":{\"x\":[\"ENERO\",\"FEBRERO\",\"MARZO\",\"ABRIL\",\"MAYO\",\"JUNIO\",\"JULIO\",\"AGOSTO\",\"SEPTIEMBRE\",\"OCTUBRE\",\"NOVIEMBRE\",\"DICIEMBRE\"],\"y\":{\"__ndarray__\":\"c2iR7XwHV0Cq8dJNYvhUQJ3vp8ZLv1ZAku18PzX+VUB9PzVeukFWQCPb+X5qvFVA6SYxCKz8VUAfhetRuPZVQBSuR+F65FRAw/UoXI+SVUC4HoXrUQBVQL+fGi/dHFVA\",\"dtype\":\"float64\",\"shape\":[12]}},\"selected\":{\"id\":\"1978\",\"type\":\"Selection\"},\"selection_policy\":{\"id\":\"1977\",\"type\":\"UnionRenderers\"}},\"id\":\"1915\",\"type\":\"ColumnDataSource\"},{\"attributes\":{},\"id\":\"1978\",\"type\":\"Selection\"},{\"attributes\":{\"plot\":null,\"text\":\"ALICE\"},\"id\":\"1894\",\"type\":\"Title\"},{\"attributes\":{},\"id\":\"1974\",\"type\":\"CategoricalTickFormatter\"},{\"attributes\":{},\"id\":\"1903\",\"type\":\"LinearScale\"},{\"attributes\":{},\"id\":\"1910\",\"type\":\"BasicTicker\"},{\"attributes\":{\"callback\":null},\"id\":\"1899\",\"type\":\"DataRange1d\"},{\"attributes\":{\"line_alpha\":0.1,\"line_color\":\"#1f77b4\",\"line_width\":2,\"x\":{\"field\":\"x\"},\"y\":{\"field\":\"y\"}},\"id\":\"1917\",\"type\":\"Line\"},{\"attributes\":{},\"id\":\"1976\",\"type\":\"BasicTickFormatter\"},{\"attributes\":{\"dimension\":1,\"plot\":{\"id\":\"1895\",\"subtype\":\"Figure\",\"type\":\"Plot\"},\"ticker\":{\"id\":\"1910\",\"type\":\"BasicTicker\"}},\"id\":\"1913\",\"type\":\"Grid\"},{\"attributes\":{\"active_drag\":\"auto\",\"active_inspect\":\"auto\",\"active_multi\":null,\"active_scroll\":\"auto\",\"active_tap\":\"auto\"},\"id\":\"1914\",\"type\":\"Toolbar\"},{\"attributes\":{},\"id\":\"1977\",\"type\":\"UnionRenderers\"},{\"attributes\":{\"callback\":null,\"factors\":[\"ENERO\",\"FEBRERO\",\"MARZO\",\"ABRIL\",\"MAYO\",\"JUNIO\",\"JULIO\",\"AGOSTO\",\"SEPTIEMBRE\",\"OCTUBRE\",\"NOVIEMBRE\",\"DICIEMBRE\"]},\"id\":\"1897\",\"type\":\"FactorRange\"},{\"attributes\":{},\"id\":\"1901\",\"type\":\"CategoricalScale\"},{\"attributes\":{},\"id\":\"1906\",\"type\":\"CategoricalTicker\"},{\"attributes\":{\"line_color\":\"#1f77b4\",\"line_width\":2,\"x\":{\"field\":\"x\"},\"y\":{\"field\":\"y\"}},\"id\":\"1916\",\"type\":\"Line\"},{\"attributes\":{\"formatter\":{\"id\":\"1974\",\"type\":\"CategoricalTickFormatter\"},\"major_label_orientation\":1,\"plot\":{\"id\":\"1895\",\"subtype\":\"Figure\",\"type\":\"Plot\"},\"ticker\":{\"id\":\"1906\",\"type\":\"CategoricalTicker\"}},\"id\":\"1905\",\"type\":\"CategoricalAxis\"},{\"attributes\":{\"formatter\":{\"id\":\"1976\",\"type\":\"BasicTickFormatter\"},\"plot\":{\"id\":\"1895\",\"subtype\":\"Figure\",\"type\":\"Plot\"},\"ticker\":{\"id\":\"1910\",\"type\":\"BasicTicker\"}},\"id\":\"1909\",\"type\":\"LinearAxis\"}],\"root_ids\":[\"1895\"]},\"title\":\"Bokeh Application\",\"version\":\"1.0.3\"}};\n",
       "  var render_items = [{\"docid\":\"2bbe64c9-b210-4454-a681-ac907276869e\",\"roots\":{\"1895\":\"91d84e15-c199-4b28-8767-c5056cd37167\"}}];\n",
       "  root.Bokeh.embed.embed_items_notebook(docs_json, render_items);\n",
       "\n",
       "  }\n",
       "  if (root.Bokeh !== undefined) {\n",
       "    embed_document(root);\n",
       "  } else {\n",
       "    var attempts = 0;\n",
       "    var timer = setInterval(function(root) {\n",
       "      if (root.Bokeh !== undefined) {\n",
       "        embed_document(root);\n",
       "        clearInterval(timer);\n",
       "      }\n",
       "      attempts++;\n",
       "      if (attempts > 100) {\n",
       "        console.log(\"Bokeh: ERROR: Unable to run BokehJS code because BokehJS library is missing\");\n",
       "        clearInterval(timer);\n",
       "      }\n",
       "    }, 10, root)\n",
       "  }\n",
       "})(window);"
      ],
      "application/vnd.bokehjs_exec.v0+json": ""
     },
     "metadata": {
      "application/vnd.bokehjs_exec.v0+json": {
       "id": "1895"
      }
     },
     "output_type": "display_data"
    },
    {
     "data": {
      "text/html": [
       "\n",
       "\n",
       "\n",
       "\n",
       "\n",
       "\n",
       "  <div class=\"bk-root\" id=\"8c4133a3-e087-4f9c-9821-f20afffa6f62\" data-root-id=\"2022\"></div>\n"
      ]
     },
     "metadata": {},
     "output_type": "display_data"
    },
    {
     "data": {
      "application/javascript": [
       "(function(root) {\n",
       "  function embed_document(root) {\n",
       "    \n",
       "  var docs_json = {\"76411fbb-ef34-4c47-b220-f0156c556ce9\":{\"roots\":{\"references\":[{\"attributes\":{\"below\":[{\"id\":\"2032\",\"type\":\"CategoricalAxis\"}],\"left\":[{\"id\":\"2036\",\"type\":\"LinearAxis\"}],\"plot_height\":550,\"plot_width\":550,\"renderers\":[{\"id\":\"2032\",\"type\":\"CategoricalAxis\"},{\"id\":\"2035\",\"type\":\"Grid\"},{\"id\":\"2036\",\"type\":\"LinearAxis\"},{\"id\":\"2040\",\"type\":\"Grid\"},{\"id\":\"2045\",\"type\":\"GlyphRenderer\"}],\"title\":{\"id\":\"2021\",\"type\":\"Title\"},\"toolbar\":{\"id\":\"2041\",\"type\":\"Toolbar\"},\"toolbar_location\":null,\"x_range\":{\"id\":\"2024\",\"type\":\"FactorRange\"},\"x_scale\":{\"id\":\"2028\",\"type\":\"CategoricalScale\"},\"y_range\":{\"id\":\"2026\",\"type\":\"DataRange1d\"},\"y_scale\":{\"id\":\"2030\",\"type\":\"LinearScale\"}},\"id\":\"2022\",\"subtype\":\"Figure\",\"type\":\"Plot\"},{\"attributes\":{\"callback\":null,\"data\":{\"x\":[\"ENERO\",\"FEBRERO\",\"MARZO\",\"ABRIL\",\"MAYO\",\"JUNIO\",\"JULIO\",\"AGOSTO\",\"SEPTIEMBRE\",\"OCTUBRE\",\"NOVIEMBRE\",\"DICIEMBRE\"],\"y\":{\"__ndarray__\":\"AAAAAAAAAAAAAAAAAAAAAAAAAAAAAAAAAAAAAAAAAAAAAAAAAAAAAAAAAAAAAAAAAAAAAAAAAADb+X5qvHQtQDq0yHa+Hz9AGARWDi1SQEBkO99PjVdAQBsv3SQGYUlA\",\"dtype\":\"float64\",\"shape\":[12]}},\"selected\":{\"id\":\"2112\",\"type\":\"Selection\"},\"selection_policy\":{\"id\":\"2111\",\"type\":\"UnionRenderers\"}},\"id\":\"2042\",\"type\":\"ColumnDataSource\"},{\"attributes\":{},\"id\":\"2112\",\"type\":\"Selection\"},{\"attributes\":{},\"id\":\"2030\",\"type\":\"LinearScale\"},{\"attributes\":{\"active_drag\":\"auto\",\"active_inspect\":\"auto\",\"active_multi\":null,\"active_scroll\":\"auto\",\"active_tap\":\"auto\"},\"id\":\"2041\",\"type\":\"Toolbar\"},{\"attributes\":{},\"id\":\"2033\",\"type\":\"CategoricalTicker\"},{\"attributes\":{\"formatter\":{\"id\":\"2108\",\"type\":\"CategoricalTickFormatter\"},\"major_label_orientation\":1,\"plot\":{\"id\":\"2022\",\"subtype\":\"Figure\",\"type\":\"Plot\"},\"ticker\":{\"id\":\"2033\",\"type\":\"CategoricalTicker\"}},\"id\":\"2032\",\"type\":\"CategoricalAxis\"},{\"attributes\":{\"dimension\":1,\"plot\":{\"id\":\"2022\",\"subtype\":\"Figure\",\"type\":\"Plot\"},\"ticker\":{\"id\":\"2037\",\"type\":\"BasicTicker\"}},\"id\":\"2040\",\"type\":\"Grid\"},{\"attributes\":{\"formatter\":{\"id\":\"2110\",\"type\":\"BasicTickFormatter\"},\"plot\":{\"id\":\"2022\",\"subtype\":\"Figure\",\"type\":\"Plot\"},\"ticker\":{\"id\":\"2037\",\"type\":\"BasicTicker\"}},\"id\":\"2036\",\"type\":\"LinearAxis\"},{\"attributes\":{\"line_color\":\"#1f77b4\",\"line_width\":2,\"x\":{\"field\":\"x\"},\"y\":{\"field\":\"y\"}},\"id\":\"2043\",\"type\":\"Line\"},{\"attributes\":{\"plot\":null,\"text\":\"ALICE OESTE\"},\"id\":\"2021\",\"type\":\"Title\"},{\"attributes\":{},\"id\":\"2108\",\"type\":\"CategoricalTickFormatter\"},{\"attributes\":{\"plot\":{\"id\":\"2022\",\"subtype\":\"Figure\",\"type\":\"Plot\"},\"ticker\":{\"id\":\"2033\",\"type\":\"CategoricalTicker\"}},\"id\":\"2035\",\"type\":\"Grid\"},{\"attributes\":{},\"id\":\"2111\",\"type\":\"UnionRenderers\"},{\"attributes\":{},\"id\":\"2037\",\"type\":\"BasicTicker\"},{\"attributes\":{},\"id\":\"2028\",\"type\":\"CategoricalScale\"},{\"attributes\":{},\"id\":\"2110\",\"type\":\"BasicTickFormatter\"},{\"attributes\":{\"callback\":null,\"factors\":[\"ENERO\",\"FEBRERO\",\"MARZO\",\"ABRIL\",\"MAYO\",\"JUNIO\",\"JULIO\",\"AGOSTO\",\"SEPTIEMBRE\",\"OCTUBRE\",\"NOVIEMBRE\",\"DICIEMBRE\"]},\"id\":\"2024\",\"type\":\"FactorRange\"},{\"attributes\":{\"source\":{\"id\":\"2042\",\"type\":\"ColumnDataSource\"}},\"id\":\"2046\",\"type\":\"CDSView\"},{\"attributes\":{\"line_alpha\":0.1,\"line_color\":\"#1f77b4\",\"line_width\":2,\"x\":{\"field\":\"x\"},\"y\":{\"field\":\"y\"}},\"id\":\"2044\",\"type\":\"Line\"},{\"attributes\":{\"callback\":null},\"id\":\"2026\",\"type\":\"DataRange1d\"},{\"attributes\":{\"data_source\":{\"id\":\"2042\",\"type\":\"ColumnDataSource\"},\"glyph\":{\"id\":\"2043\",\"type\":\"Line\"},\"hover_glyph\":null,\"muted_glyph\":null,\"nonselection_glyph\":{\"id\":\"2044\",\"type\":\"Line\"},\"selection_glyph\":null,\"view\":{\"id\":\"2046\",\"type\":\"CDSView\"}},\"id\":\"2045\",\"type\":\"GlyphRenderer\"}],\"root_ids\":[\"2022\"]},\"title\":\"Bokeh Application\",\"version\":\"1.0.3\"}};\n",
       "  var render_items = [{\"docid\":\"76411fbb-ef34-4c47-b220-f0156c556ce9\",\"roots\":{\"2022\":\"8c4133a3-e087-4f9c-9821-f20afffa6f62\"}}];\n",
       "  root.Bokeh.embed.embed_items_notebook(docs_json, render_items);\n",
       "\n",
       "  }\n",
       "  if (root.Bokeh !== undefined) {\n",
       "    embed_document(root);\n",
       "  } else {\n",
       "    var attempts = 0;\n",
       "    var timer = setInterval(function(root) {\n",
       "      if (root.Bokeh !== undefined) {\n",
       "        embed_document(root);\n",
       "        clearInterval(timer);\n",
       "      }\n",
       "      attempts++;\n",
       "      if (attempts > 100) {\n",
       "        console.log(\"Bokeh: ERROR: Unable to run BokehJS code because BokehJS library is missing\");\n",
       "        clearInterval(timer);\n",
       "      }\n",
       "    }, 10, root)\n",
       "  }\n",
       "})(window);"
      ],
      "application/vnd.bokehjs_exec.v0+json": ""
     },
     "metadata": {
      "application/vnd.bokehjs_exec.v0+json": {
       "id": "2022"
      }
     },
     "output_type": "display_data"
    },
    {
     "data": {
      "text/html": [
       "\n",
       "\n",
       "\n",
       "\n",
       "\n",
       "\n",
       "  <div class=\"bk-root\" id=\"ab2ea1fb-c19f-4ae3-ba83-40fc3d8e5ea5\" data-root-id=\"2156\"></div>\n"
      ]
     },
     "metadata": {},
     "output_type": "display_data"
    },
    {
     "data": {
      "application/javascript": [
       "(function(root) {\n",
       "  function embed_document(root) {\n",
       "    \n",
       "  var docs_json = {\"e45a3b10-ea16-4533-ba8b-19e27ce7ff59\":{\"roots\":{\"references\":[{\"attributes\":{\"below\":[{\"id\":\"2166\",\"type\":\"CategoricalAxis\"}],\"left\":[{\"id\":\"2170\",\"type\":\"LinearAxis\"}],\"plot_height\":550,\"plot_width\":550,\"renderers\":[{\"id\":\"2166\",\"type\":\"CategoricalAxis\"},{\"id\":\"2169\",\"type\":\"Grid\"},{\"id\":\"2170\",\"type\":\"LinearAxis\"},{\"id\":\"2174\",\"type\":\"Grid\"},{\"id\":\"2179\",\"type\":\"GlyphRenderer\"}],\"title\":{\"id\":\"2155\",\"type\":\"Title\"},\"toolbar\":{\"id\":\"2175\",\"type\":\"Toolbar\"},\"toolbar_location\":null,\"x_range\":{\"id\":\"2158\",\"type\":\"FactorRange\"},\"x_scale\":{\"id\":\"2162\",\"type\":\"CategoricalScale\"},\"y_range\":{\"id\":\"2160\",\"type\":\"DataRange1d\"},\"y_scale\":{\"id\":\"2164\",\"type\":\"LinearScale\"}},\"id\":\"2156\",\"subtype\":\"Figure\",\"type\":\"Plot\"},{\"attributes\":{\"line_color\":\"#1f77b4\",\"line_width\":2,\"x\":{\"field\":\"x\"},\"y\":{\"field\":\"y\"}},\"id\":\"2177\",\"type\":\"Line\"},{\"attributes\":{\"data_source\":{\"id\":\"2176\",\"type\":\"ColumnDataSource\"},\"glyph\":{\"id\":\"2177\",\"type\":\"Line\"},\"hover_glyph\":null,\"muted_glyph\":null,\"nonselection_glyph\":{\"id\":\"2178\",\"type\":\"Line\"},\"selection_glyph\":null,\"view\":{\"id\":\"2180\",\"type\":\"CDSView\"}},\"id\":\"2179\",\"type\":\"GlyphRenderer\"},{\"attributes\":{},\"id\":\"2167\",\"type\":\"CategoricalTicker\"},{\"attributes\":{\"callback\":null,\"factors\":[\"ENERO\",\"FEBRERO\",\"MARZO\",\"ABRIL\",\"MAYO\",\"JUNIO\",\"JULIO\",\"AGOSTO\",\"SEPTIEMBRE\",\"OCTUBRE\",\"NOVIEMBRE\",\"DICIEMBRE\"]},\"id\":\"2158\",\"type\":\"FactorRange\"},{\"attributes\":{\"line_alpha\":0.1,\"line_color\":\"#1f77b4\",\"line_width\":2,\"x\":{\"field\":\"x\"},\"y\":{\"field\":\"y\"}},\"id\":\"2178\",\"type\":\"Line\"},{\"attributes\":{\"plot\":{\"id\":\"2156\",\"subtype\":\"Figure\",\"type\":\"Plot\"},\"ticker\":{\"id\":\"2167\",\"type\":\"CategoricalTicker\"}},\"id\":\"2169\",\"type\":\"Grid\"},{\"attributes\":{\"active_drag\":\"auto\",\"active_inspect\":\"auto\",\"active_multi\":null,\"active_scroll\":\"auto\",\"active_tap\":\"auto\"},\"id\":\"2175\",\"type\":\"Toolbar\"},{\"attributes\":{},\"id\":\"2251\",\"type\":\"BasicTickFormatter\"},{\"attributes\":{},\"id\":\"2249\",\"type\":\"CategoricalTickFormatter\"},{\"attributes\":{},\"id\":\"2253\",\"type\":\"Selection\"},{\"attributes\":{\"plot\":null,\"text\":\"CHORONGO\"},\"id\":\"2155\",\"type\":\"Title\"},{\"attributes\":{},\"id\":\"2252\",\"type\":\"UnionRenderers\"},{\"attributes\":{\"source\":{\"id\":\"2176\",\"type\":\"ColumnDataSource\"}},\"id\":\"2180\",\"type\":\"CDSView\"},{\"attributes\":{},\"id\":\"2171\",\"type\":\"BasicTicker\"},{\"attributes\":{\"dimension\":1,\"plot\":{\"id\":\"2156\",\"subtype\":\"Figure\",\"type\":\"Plot\"},\"ticker\":{\"id\":\"2171\",\"type\":\"BasicTicker\"}},\"id\":\"2174\",\"type\":\"Grid\"},{\"attributes\":{\"callback\":null,\"data\":{\"x\":[\"ENERO\",\"FEBRERO\",\"MARZO\",\"ABRIL\",\"MAYO\",\"JUNIO\",\"JULIO\",\"AGOSTO\",\"SEPTIEMBRE\",\"OCTUBRE\",\"NOVIEMBRE\",\"DICIEMBRE\"],\"y\":{\"__ndarray__\":\"xSCwcmiRGkAGgZVDi2wgQCGwcmiR7R5AiBbZzvfTHUDsUbgehesWQFCNl24SwyJARrbz/dR4I0Coxks3iYEkQCYxCKwc2iRAMQisHFqkJUAGgZVDi6wmQIGVQ4tsJyhA\",\"dtype\":\"float64\",\"shape\":[12]}},\"selected\":{\"id\":\"2253\",\"type\":\"Selection\"},\"selection_policy\":{\"id\":\"2252\",\"type\":\"UnionRenderers\"}},\"id\":\"2176\",\"type\":\"ColumnDataSource\"},{\"attributes\":{\"callback\":null},\"id\":\"2160\",\"type\":\"DataRange1d\"},{\"attributes\":{},\"id\":\"2164\",\"type\":\"LinearScale\"},{\"attributes\":{},\"id\":\"2162\",\"type\":\"CategoricalScale\"},{\"attributes\":{\"formatter\":{\"id\":\"2249\",\"type\":\"CategoricalTickFormatter\"},\"major_label_orientation\":1,\"plot\":{\"id\":\"2156\",\"subtype\":\"Figure\",\"type\":\"Plot\"},\"ticker\":{\"id\":\"2167\",\"type\":\"CategoricalTicker\"}},\"id\":\"2166\",\"type\":\"CategoricalAxis\"},{\"attributes\":{\"formatter\":{\"id\":\"2251\",\"type\":\"BasicTickFormatter\"},\"plot\":{\"id\":\"2156\",\"subtype\":\"Figure\",\"type\":\"Plot\"},\"ticker\":{\"id\":\"2171\",\"type\":\"BasicTicker\"}},\"id\":\"2170\",\"type\":\"LinearAxis\"}],\"root_ids\":[\"2156\"]},\"title\":\"Bokeh Application\",\"version\":\"1.0.3\"}};\n",
       "  var render_items = [{\"docid\":\"e45a3b10-ea16-4533-ba8b-19e27ce7ff59\",\"roots\":{\"2156\":\"ab2ea1fb-c19f-4ae3-ba83-40fc3d8e5ea5\"}}];\n",
       "  root.Bokeh.embed.embed_items_notebook(docs_json, render_items);\n",
       "\n",
       "  }\n",
       "  if (root.Bokeh !== undefined) {\n",
       "    embed_document(root);\n",
       "  } else {\n",
       "    var attempts = 0;\n",
       "    var timer = setInterval(function(root) {\n",
       "      if (root.Bokeh !== undefined) {\n",
       "        embed_document(root);\n",
       "        clearInterval(timer);\n",
       "      }\n",
       "      attempts++;\n",
       "      if (attempts > 100) {\n",
       "        console.log(\"Bokeh: ERROR: Unable to run BokehJS code because BokehJS library is missing\");\n",
       "        clearInterval(timer);\n",
       "      }\n",
       "    }, 10, root)\n",
       "  }\n",
       "})(window);"
      ],
      "application/vnd.bokehjs_exec.v0+json": ""
     },
     "metadata": {
      "application/vnd.bokehjs_exec.v0+json": {
       "id": "2156"
      }
     },
     "output_type": "display_data"
    },
    {
     "data": {
      "text/html": [
       "\n",
       "\n",
       "\n",
       "\n",
       "\n",
       "\n",
       "  <div class=\"bk-root\" id=\"d4bee7e1-0cdc-4c13-91df-269dd05ac0cd\" data-root-id=\"2297\"></div>\n"
      ]
     },
     "metadata": {},
     "output_type": "display_data"
    },
    {
     "data": {
      "application/javascript": [
       "(function(root) {\n",
       "  function embed_document(root) {\n",
       "    \n",
       "  var docs_json = {\"aa7352f3-d544-44c2-81b8-7ed6f0a9b8a9\":{\"roots\":{\"references\":[{\"attributes\":{\"below\":[{\"id\":\"2307\",\"type\":\"CategoricalAxis\"}],\"left\":[{\"id\":\"2311\",\"type\":\"LinearAxis\"}],\"plot_height\":550,\"plot_width\":550,\"renderers\":[{\"id\":\"2307\",\"type\":\"CategoricalAxis\"},{\"id\":\"2310\",\"type\":\"Grid\"},{\"id\":\"2311\",\"type\":\"LinearAxis\"},{\"id\":\"2315\",\"type\":\"Grid\"},{\"id\":\"2320\",\"type\":\"GlyphRenderer\"}],\"title\":{\"id\":\"2296\",\"type\":\"Title\"},\"toolbar\":{\"id\":\"2316\",\"type\":\"Toolbar\"},\"toolbar_location\":null,\"x_range\":{\"id\":\"2299\",\"type\":\"FactorRange\"},\"x_scale\":{\"id\":\"2303\",\"type\":\"CategoricalScale\"},\"y_range\":{\"id\":\"2301\",\"type\":\"DataRange1d\"},\"y_scale\":{\"id\":\"2305\",\"type\":\"LinearScale\"}},\"id\":\"2297\",\"subtype\":\"Figure\",\"type\":\"Plot\"},{\"attributes\":{\"data_source\":{\"id\":\"2317\",\"type\":\"ColumnDataSource\"},\"glyph\":{\"id\":\"2318\",\"type\":\"Line\"},\"hover_glyph\":null,\"muted_glyph\":null,\"nonselection_glyph\":{\"id\":\"2319\",\"type\":\"Line\"},\"selection_glyph\":null,\"view\":{\"id\":\"2321\",\"type\":\"CDSView\"}},\"id\":\"2320\",\"type\":\"GlyphRenderer\"},{\"attributes\":{\"source\":{\"id\":\"2317\",\"type\":\"ColumnDataSource\"}},\"id\":\"2321\",\"type\":\"CDSView\"},{\"attributes\":{\"dimension\":1,\"plot\":{\"id\":\"2297\",\"subtype\":\"Figure\",\"type\":\"Plot\"},\"ticker\":{\"id\":\"2312\",\"type\":\"BasicTicker\"}},\"id\":\"2315\",\"type\":\"Grid\"},{\"attributes\":{\"line_alpha\":0.1,\"line_color\":\"#1f77b4\",\"line_width\":2,\"x\":{\"field\":\"x\"},\"y\":{\"field\":\"y\"}},\"id\":\"2319\",\"type\":\"Line\"},{\"attributes\":{},\"id\":\"2400\",\"type\":\"UnionRenderers\"},{\"attributes\":{},\"id\":\"2401\",\"type\":\"Selection\"},{\"attributes\":{},\"id\":\"2399\",\"type\":\"BasicTickFormatter\"},{\"attributes\":{\"formatter\":{\"id\":\"2397\",\"type\":\"CategoricalTickFormatter\"},\"major_label_orientation\":1,\"plot\":{\"id\":\"2297\",\"subtype\":\"Figure\",\"type\":\"Plot\"},\"ticker\":{\"id\":\"2308\",\"type\":\"CategoricalTicker\"}},\"id\":\"2307\",\"type\":\"CategoricalAxis\"},{\"attributes\":{},\"id\":\"2397\",\"type\":\"CategoricalTickFormatter\"},{\"attributes\":{},\"id\":\"2305\",\"type\":\"LinearScale\"},{\"attributes\":{\"line_color\":\"#1f77b4\",\"line_width\":2,\"x\":{\"field\":\"x\"},\"y\":{\"field\":\"y\"}},\"id\":\"2318\",\"type\":\"Line\"},{\"attributes\":{\"formatter\":{\"id\":\"2399\",\"type\":\"BasicTickFormatter\"},\"plot\":{\"id\":\"2297\",\"subtype\":\"Figure\",\"type\":\"Plot\"},\"ticker\":{\"id\":\"2312\",\"type\":\"BasicTicker\"}},\"id\":\"2311\",\"type\":\"LinearAxis\"},{\"attributes\":{\"plot\":{\"id\":\"2297\",\"subtype\":\"Figure\",\"type\":\"Plot\"},\"ticker\":{\"id\":\"2308\",\"type\":\"CategoricalTicker\"}},\"id\":\"2310\",\"type\":\"Grid\"},{\"attributes\":{\"plot\":null,\"text\":\"CHORONGO ESTE\"},\"id\":\"2296\",\"type\":\"Title\"},{\"attributes\":{},\"id\":\"2308\",\"type\":\"CategoricalTicker\"},{\"attributes\":{},\"id\":\"2303\",\"type\":\"CategoricalScale\"},{\"attributes\":{\"callback\":null},\"id\":\"2301\",\"type\":\"DataRange1d\"},{\"attributes\":{\"callback\":null,\"factors\":[\"ENERO\",\"FEBRERO\",\"MARZO\",\"ABRIL\",\"MAYO\",\"JUNIO\",\"JULIO\",\"AGOSTO\",\"SEPTIEMBRE\",\"OCTUBRE\",\"NOVIEMBRE\",\"DICIEMBRE\"]},\"id\":\"2299\",\"type\":\"FactorRange\"},{\"attributes\":{\"callback\":null,\"data\":{\"x\":[\"ENERO\",\"FEBRERO\",\"MARZO\",\"ABRIL\",\"MAYO\",\"JUNIO\",\"JULIO\",\"AGOSTO\",\"SEPTIEMBRE\",\"OCTUBRE\",\"NOVIEMBRE\",\"DICIEMBRE\"],\"y\":{\"__ndarray__\":\"7FG4HoXrCkCMbOf7qfEEQK5H4XoUrgFAAAAAAABgh0AAAAAAAAAAAAAAAAAAAAAAAAAAAAAAAAAAAAAAAAAAAAAAAAAAAAAAAAAAAAAAAAAAAAAAAAAAAAAAAAAAAAAA\",\"dtype\":\"float64\",\"shape\":[12]}},\"selected\":{\"id\":\"2401\",\"type\":\"Selection\"},\"selection_policy\":{\"id\":\"2400\",\"type\":\"UnionRenderers\"}},\"id\":\"2317\",\"type\":\"ColumnDataSource\"},{\"attributes\":{\"active_drag\":\"auto\",\"active_inspect\":\"auto\",\"active_multi\":null,\"active_scroll\":\"auto\",\"active_tap\":\"auto\"},\"id\":\"2316\",\"type\":\"Toolbar\"},{\"attributes\":{},\"id\":\"2312\",\"type\":\"BasicTicker\"}],\"root_ids\":[\"2297\"]},\"title\":\"Bokeh Application\",\"version\":\"1.0.3\"}};\n",
       "  var render_items = [{\"docid\":\"aa7352f3-d544-44c2-81b8-7ed6f0a9b8a9\",\"roots\":{\"2297\":\"d4bee7e1-0cdc-4c13-91df-269dd05ac0cd\"}}];\n",
       "  root.Bokeh.embed.embed_items_notebook(docs_json, render_items);\n",
       "\n",
       "  }\n",
       "  if (root.Bokeh !== undefined) {\n",
       "    embed_document(root);\n",
       "  } else {\n",
       "    var attempts = 0;\n",
       "    var timer = setInterval(function(root) {\n",
       "      if (root.Bokeh !== undefined) {\n",
       "        embed_document(root);\n",
       "        clearInterval(timer);\n",
       "      }\n",
       "      attempts++;\n",
       "      if (attempts > 100) {\n",
       "        console.log(\"Bokeh: ERROR: Unable to run BokehJS code because BokehJS library is missing\");\n",
       "        clearInterval(timer);\n",
       "      }\n",
       "    }, 10, root)\n",
       "  }\n",
       "})(window);"
      ],
      "application/vnd.bokehjs_exec.v0+json": ""
     },
     "metadata": {
      "application/vnd.bokehjs_exec.v0+json": {
       "id": "2297"
      }
     },
     "output_type": "display_data"
    },
    {
     "data": {
      "text/html": [
       "\n",
       "\n",
       "\n",
       "\n",
       "\n",
       "\n",
       "  <div class=\"bk-root\" id=\"38227dc9-aabd-48f1-8eab-809c921e5280\" data-root-id=\"2445\"></div>\n"
      ]
     },
     "metadata": {},
     "output_type": "display_data"
    },
    {
     "data": {
      "application/javascript": [
       "(function(root) {\n",
       "  function embed_document(root) {\n",
       "    \n",
       "  var docs_json = {\"ce18b68f-d3db-4792-bf3c-8a47d8c877b1\":{\"roots\":{\"references\":[{\"attributes\":{\"below\":[{\"id\":\"2455\",\"type\":\"CategoricalAxis\"}],\"left\":[{\"id\":\"2459\",\"type\":\"LinearAxis\"}],\"plot_height\":550,\"plot_width\":550,\"renderers\":[{\"id\":\"2455\",\"type\":\"CategoricalAxis\"},{\"id\":\"2458\",\"type\":\"Grid\"},{\"id\":\"2459\",\"type\":\"LinearAxis\"},{\"id\":\"2463\",\"type\":\"Grid\"},{\"id\":\"2468\",\"type\":\"GlyphRenderer\"}],\"title\":{\"id\":\"2444\",\"type\":\"Title\"},\"toolbar\":{\"id\":\"2464\",\"type\":\"Toolbar\"},\"toolbar_location\":null,\"x_range\":{\"id\":\"2447\",\"type\":\"FactorRange\"},\"x_scale\":{\"id\":\"2451\",\"type\":\"CategoricalScale\"},\"y_range\":{\"id\":\"2449\",\"type\":\"DataRange1d\"},\"y_scale\":{\"id\":\"2453\",\"type\":\"LinearScale\"}},\"id\":\"2445\",\"subtype\":\"Figure\",\"type\":\"Plot\"},{\"attributes\":{\"line_alpha\":0.1,\"line_color\":\"#1f77b4\",\"line_width\":2,\"x\":{\"field\":\"x\"},\"y\":{\"field\":\"y\"}},\"id\":\"2467\",\"type\":\"Line\"},{\"attributes\":{\"source\":{\"id\":\"2465\",\"type\":\"ColumnDataSource\"}},\"id\":\"2469\",\"type\":\"CDSView\"},{\"attributes\":{\"active_drag\":\"auto\",\"active_inspect\":\"auto\",\"active_multi\":null,\"active_scroll\":\"auto\",\"active_tap\":\"auto\"},\"id\":\"2464\",\"type\":\"Toolbar\"},{\"attributes\":{\"data_source\":{\"id\":\"2465\",\"type\":\"ColumnDataSource\"},\"glyph\":{\"id\":\"2466\",\"type\":\"Line\"},\"hover_glyph\":null,\"muted_glyph\":null,\"nonselection_glyph\":{\"id\":\"2467\",\"type\":\"Line\"},\"selection_glyph\":null,\"view\":{\"id\":\"2469\",\"type\":\"CDSView\"}},\"id\":\"2468\",\"type\":\"GlyphRenderer\"},{\"attributes\":{},\"id\":\"2555\",\"type\":\"UnionRenderers\"},{\"attributes\":{\"dimension\":1,\"plot\":{\"id\":\"2445\",\"subtype\":\"Figure\",\"type\":\"Plot\"},\"ticker\":{\"id\":\"2460\",\"type\":\"BasicTicker\"}},\"id\":\"2463\",\"type\":\"Grid\"},{\"attributes\":{\"plot\":{\"id\":\"2445\",\"subtype\":\"Figure\",\"type\":\"Plot\"},\"ticker\":{\"id\":\"2456\",\"type\":\"CategoricalTicker\"}},\"id\":\"2458\",\"type\":\"Grid\"},{\"attributes\":{},\"id\":\"2552\",\"type\":\"CategoricalTickFormatter\"},{\"attributes\":{},\"id\":\"2460\",\"type\":\"BasicTicker\"},{\"attributes\":{\"formatter\":{\"id\":\"2554\",\"type\":\"BasicTickFormatter\"},\"plot\":{\"id\":\"2445\",\"subtype\":\"Figure\",\"type\":\"Plot\"},\"ticker\":{\"id\":\"2460\",\"type\":\"BasicTicker\"}},\"id\":\"2459\",\"type\":\"LinearAxis\"},{\"attributes\":{\"callback\":null,\"data\":{\"x\":[\"ENERO\",\"FEBRERO\",\"MARZO\",\"ABRIL\",\"MAYO\",\"JUNIO\",\"JULIO\",\"AGOSTO\",\"SEPTIEMBRE\",\"OCTUBRE\",\"NOVIEMBRE\",\"DICIEMBRE\"],\"y\":{\"__ndarray__\":\"DQIrhxZZT0Cmm8QgsJJMQL+fGi/dtExAhetRuB51RkAzMzMzMzNMQDVeukkMKlJA2/l+arycUUB/arx0kyhRQCGwcmiRnUhA6Pup8dLdSED91HjpJtFGQPYoXI/C1UVA\",\"dtype\":\"float64\",\"shape\":[12]}},\"selected\":{\"id\":\"2556\",\"type\":\"Selection\"},\"selection_policy\":{\"id\":\"2555\",\"type\":\"UnionRenderers\"}},\"id\":\"2465\",\"type\":\"ColumnDataSource\"},{\"attributes\":{},\"id\":\"2556\",\"type\":\"Selection\"},{\"attributes\":{},\"id\":\"2453\",\"type\":\"LinearScale\"},{\"attributes\":{\"formatter\":{\"id\":\"2552\",\"type\":\"CategoricalTickFormatter\"},\"major_label_orientation\":1,\"plot\":{\"id\":\"2445\",\"subtype\":\"Figure\",\"type\":\"Plot\"},\"ticker\":{\"id\":\"2456\",\"type\":\"CategoricalTicker\"}},\"id\":\"2455\",\"type\":\"CategoricalAxis\"},{\"attributes\":{\"plot\":null,\"text\":\"COLIBRI\"},\"id\":\"2444\",\"type\":\"Title\"},{\"attributes\":{},\"id\":\"2456\",\"type\":\"CategoricalTicker\"},{\"attributes\":{},\"id\":\"2554\",\"type\":\"BasicTickFormatter\"},{\"attributes\":{\"line_color\":\"#1f77b4\",\"line_width\":2,\"x\":{\"field\":\"x\"},\"y\":{\"field\":\"y\"}},\"id\":\"2466\",\"type\":\"Line\"},{\"attributes\":{\"callback\":null,\"factors\":[\"ENERO\",\"FEBRERO\",\"MARZO\",\"ABRIL\",\"MAYO\",\"JUNIO\",\"JULIO\",\"AGOSTO\",\"SEPTIEMBRE\",\"OCTUBRE\",\"NOVIEMBRE\",\"DICIEMBRE\"]},\"id\":\"2447\",\"type\":\"FactorRange\"},{\"attributes\":{},\"id\":\"2451\",\"type\":\"CategoricalScale\"},{\"attributes\":{\"callback\":null},\"id\":\"2449\",\"type\":\"DataRange1d\"}],\"root_ids\":[\"2445\"]},\"title\":\"Bokeh Application\",\"version\":\"1.0.3\"}};\n",
       "  var render_items = [{\"docid\":\"ce18b68f-d3db-4792-bf3c-8a47d8c877b1\",\"roots\":{\"2445\":\"38227dc9-aabd-48f1-8eab-809c921e5280\"}}];\n",
       "  root.Bokeh.embed.embed_items_notebook(docs_json, render_items);\n",
       "\n",
       "  }\n",
       "  if (root.Bokeh !== undefined) {\n",
       "    embed_document(root);\n",
       "  } else {\n",
       "    var attempts = 0;\n",
       "    var timer = setInterval(function(root) {\n",
       "      if (root.Bokeh !== undefined) {\n",
       "        embed_document(root);\n",
       "        clearInterval(timer);\n",
       "      }\n",
       "      attempts++;\n",
       "      if (attempts > 100) {\n",
       "        console.log(\"Bokeh: ERROR: Unable to run BokehJS code because BokehJS library is missing\");\n",
       "        clearInterval(timer);\n",
       "      }\n",
       "    }, 10, root)\n",
       "  }\n",
       "})(window);"
      ],
      "application/vnd.bokehjs_exec.v0+json": ""
     },
     "metadata": {
      "application/vnd.bokehjs_exec.v0+json": {
       "id": "2445"
      }
     },
     "output_type": "display_data"
    },
    {
     "data": {
      "text/html": [
       "\n",
       "\n",
       "\n",
       "\n",
       "\n",
       "\n",
       "  <div class=\"bk-root\" id=\"2012c9c8-3d93-4fd3-8778-df5689d8a279\" data-root-id=\"2600\"></div>\n"
      ]
     },
     "metadata": {},
     "output_type": "display_data"
    },
    {
     "data": {
      "application/javascript": [
       "(function(root) {\n",
       "  function embed_document(root) {\n",
       "    \n",
       "  var docs_json = {\"d5a020f4-0bce-41ea-8610-b73b614417a3\":{\"roots\":{\"references\":[{\"attributes\":{\"below\":[{\"id\":\"2610\",\"type\":\"CategoricalAxis\"}],\"left\":[{\"id\":\"2614\",\"type\":\"LinearAxis\"}],\"plot_height\":550,\"plot_width\":550,\"renderers\":[{\"id\":\"2610\",\"type\":\"CategoricalAxis\"},{\"id\":\"2613\",\"type\":\"Grid\"},{\"id\":\"2614\",\"type\":\"LinearAxis\"},{\"id\":\"2618\",\"type\":\"Grid\"},{\"id\":\"2623\",\"type\":\"GlyphRenderer\"}],\"title\":{\"id\":\"2599\",\"type\":\"Title\"},\"toolbar\":{\"id\":\"2619\",\"type\":\"Toolbar\"},\"toolbar_location\":null,\"x_range\":{\"id\":\"2602\",\"type\":\"FactorRange\"},\"x_scale\":{\"id\":\"2606\",\"type\":\"CategoricalScale\"},\"y_range\":{\"id\":\"2604\",\"type\":\"DataRange1d\"},\"y_scale\":{\"id\":\"2608\",\"type\":\"LinearScale\"}},\"id\":\"2600\",\"subtype\":\"Figure\",\"type\":\"Plot\"},{\"attributes\":{\"callback\":null,\"factors\":[\"ENERO\",\"FEBRERO\",\"MARZO\",\"ABRIL\",\"MAYO\",\"JUNIO\",\"JULIO\",\"AGOSTO\",\"SEPTIEMBRE\",\"OCTUBRE\",\"NOVIEMBRE\",\"DICIEMBRE\"]},\"id\":\"2602\",\"type\":\"FactorRange\"},{\"attributes\":{},\"id\":\"2606\",\"type\":\"CategoricalScale\"},{\"attributes\":{\"callback\":null},\"id\":\"2604\",\"type\":\"DataRange1d\"},{\"attributes\":{},\"id\":\"2608\",\"type\":\"LinearScale\"},{\"attributes\":{},\"id\":\"2611\",\"type\":\"CategoricalTicker\"},{\"attributes\":{\"formatter\":{\"id\":\"2714\",\"type\":\"CategoricalTickFormatter\"},\"major_label_orientation\":1,\"plot\":{\"id\":\"2600\",\"subtype\":\"Figure\",\"type\":\"Plot\"},\"ticker\":{\"id\":\"2611\",\"type\":\"CategoricalTicker\"}},\"id\":\"2610\",\"type\":\"CategoricalAxis\"},{\"attributes\":{\"source\":{\"id\":\"2620\",\"type\":\"ColumnDataSource\"}},\"id\":\"2624\",\"type\":\"CDSView\"},{\"attributes\":{\"plot\":{\"id\":\"2600\",\"subtype\":\"Figure\",\"type\":\"Plot\"},\"ticker\":{\"id\":\"2611\",\"type\":\"CategoricalTicker\"}},\"id\":\"2613\",\"type\":\"Grid\"},{\"attributes\":{\"formatter\":{\"id\":\"2716\",\"type\":\"BasicTickFormatter\"},\"plot\":{\"id\":\"2600\",\"subtype\":\"Figure\",\"type\":\"Plot\"},\"ticker\":{\"id\":\"2615\",\"type\":\"BasicTicker\"}},\"id\":\"2614\",\"type\":\"LinearAxis\"},{\"attributes\":{\"dimension\":1,\"plot\":{\"id\":\"2600\",\"subtype\":\"Figure\",\"type\":\"Plot\"},\"ticker\":{\"id\":\"2615\",\"type\":\"BasicTicker\"}},\"id\":\"2618\",\"type\":\"Grid\"},{\"attributes\":{},\"id\":\"2615\",\"type\":\"BasicTicker\"},{\"attributes\":{\"callback\":null,\"data\":{\"x\":[\"ENERO\",\"FEBRERO\",\"MARZO\",\"ABRIL\",\"MAYO\",\"JUNIO\",\"JULIO\",\"AGOSTO\",\"SEPTIEMBRE\",\"OCTUBRE\",\"NOVIEMBRE\",\"DICIEMBRE\"],\"y\":{\"__ndarray__\":\"rBxaZDtfHECF61G4HgUSQHsUrkfhegZAdJMYBFYO9T8AAAAAAAAAAAAAAAAAAAAAAAAAAAAAAAAAAAAAAAAAAAAAAAAAAAAAAAAAAAAAWEAAAAAAAIBCQAAAAAAAAAAA\",\"dtype\":\"float64\",\"shape\":[12]}},\"selected\":{\"id\":\"2718\",\"type\":\"Selection\"},\"selection_policy\":{\"id\":\"2717\",\"type\":\"UnionRenderers\"}},\"id\":\"2620\",\"type\":\"ColumnDataSource\"},{\"attributes\":{\"active_drag\":\"auto\",\"active_inspect\":\"auto\",\"active_multi\":null,\"active_scroll\":\"auto\",\"active_tap\":\"auto\"},\"id\":\"2619\",\"type\":\"Toolbar\"},{\"attributes\":{},\"id\":\"2714\",\"type\":\"CategoricalTickFormatter\"},{\"attributes\":{},\"id\":\"2716\",\"type\":\"BasicTickFormatter\"},{\"attributes\":{},\"id\":\"2717\",\"type\":\"UnionRenderers\"},{\"attributes\":{\"line_alpha\":0.1,\"line_color\":\"#1f77b4\",\"line_width\":2,\"x\":{\"field\":\"x\"},\"y\":{\"field\":\"y\"}},\"id\":\"2622\",\"type\":\"Line\"},{\"attributes\":{\"data_source\":{\"id\":\"2620\",\"type\":\"ColumnDataSource\"},\"glyph\":{\"id\":\"2621\",\"type\":\"Line\"},\"hover_glyph\":null,\"muted_glyph\":null,\"nonselection_glyph\":{\"id\":\"2622\",\"type\":\"Line\"},\"selection_glyph\":null,\"view\":{\"id\":\"2624\",\"type\":\"CDSView\"}},\"id\":\"2623\",\"type\":\"GlyphRenderer\"},{\"attributes\":{\"plot\":null,\"text\":\"DANA\"},\"id\":\"2599\",\"type\":\"Title\"},{\"attributes\":{},\"id\":\"2718\",\"type\":\"Selection\"},{\"attributes\":{\"line_color\":\"#1f77b4\",\"line_width\":2,\"x\":{\"field\":\"x\"},\"y\":{\"field\":\"y\"}},\"id\":\"2621\",\"type\":\"Line\"}],\"root_ids\":[\"2600\"]},\"title\":\"Bokeh Application\",\"version\":\"1.0.3\"}};\n",
       "  var render_items = [{\"docid\":\"d5a020f4-0bce-41ea-8610-b73b614417a3\",\"roots\":{\"2600\":\"2012c9c8-3d93-4fd3-8778-df5689d8a279\"}}];\n",
       "  root.Bokeh.embed.embed_items_notebook(docs_json, render_items);\n",
       "\n",
       "  }\n",
       "  if (root.Bokeh !== undefined) {\n",
       "    embed_document(root);\n",
       "  } else {\n",
       "    var attempts = 0;\n",
       "    var timer = setInterval(function(root) {\n",
       "      if (root.Bokeh !== undefined) {\n",
       "        embed_document(root);\n",
       "        clearInterval(timer);\n",
       "      }\n",
       "      attempts++;\n",
       "      if (attempts > 100) {\n",
       "        console.log(\"Bokeh: ERROR: Unable to run BokehJS code because BokehJS library is missing\");\n",
       "        clearInterval(timer);\n",
       "      }\n",
       "    }, 10, root)\n",
       "  }\n",
       "})(window);"
      ],
      "application/vnd.bokehjs_exec.v0+json": ""
     },
     "metadata": {
      "application/vnd.bokehjs_exec.v0+json": {
       "id": "2600"
      }
     },
     "output_type": "display_data"
    },
    {
     "data": {
      "text/html": [
       "\n",
       "\n",
       "\n",
       "\n",
       "\n",
       "\n",
       "  <div class=\"bk-root\" id=\"25f18425-436d-49b4-b8c1-f4364769b15b\" data-root-id=\"2762\"></div>\n"
      ]
     },
     "metadata": {},
     "output_type": "display_data"
    },
    {
     "data": {
      "application/javascript": [
       "(function(root) {\n",
       "  function embed_document(root) {\n",
       "    \n",
       "  var docs_json = {\"46d4686c-a0c9-4438-98fa-dd33a0f8e14e\":{\"roots\":{\"references\":[{\"attributes\":{\"below\":[{\"id\":\"2772\",\"type\":\"CategoricalAxis\"}],\"left\":[{\"id\":\"2776\",\"type\":\"LinearAxis\"}],\"plot_height\":550,\"plot_width\":550,\"renderers\":[{\"id\":\"2772\",\"type\":\"CategoricalAxis\"},{\"id\":\"2775\",\"type\":\"Grid\"},{\"id\":\"2776\",\"type\":\"LinearAxis\"},{\"id\":\"2780\",\"type\":\"Grid\"},{\"id\":\"2785\",\"type\":\"GlyphRenderer\"}],\"title\":{\"id\":\"2761\",\"type\":\"Title\"},\"toolbar\":{\"id\":\"2781\",\"type\":\"Toolbar\"},\"toolbar_location\":null,\"x_range\":{\"id\":\"2764\",\"type\":\"FactorRange\"},\"x_scale\":{\"id\":\"2768\",\"type\":\"CategoricalScale\"},\"y_range\":{\"id\":\"2766\",\"type\":\"DataRange1d\"},\"y_scale\":{\"id\":\"2770\",\"type\":\"LinearScale\"}},\"id\":\"2762\",\"subtype\":\"Figure\",\"type\":\"Plot\"},{\"attributes\":{},\"id\":\"2885\",\"type\":\"BasicTickFormatter\"},{\"attributes\":{\"callback\":null},\"id\":\"2766\",\"type\":\"DataRange1d\"},{\"attributes\":{},\"id\":\"2768\",\"type\":\"CategoricalScale\"},{\"attributes\":{\"line_color\":\"#1f77b4\",\"line_width\":2,\"x\":{\"field\":\"x\"},\"y\":{\"field\":\"y\"}},\"id\":\"2783\",\"type\":\"Line\"},{\"attributes\":{\"plot\":null,\"text\":\"DORINE\"},\"id\":\"2761\",\"type\":\"Title\"},{\"attributes\":{\"callback\":null,\"factors\":[\"ENERO\",\"FEBRERO\",\"MARZO\",\"ABRIL\",\"MAYO\",\"JUNIO\",\"JULIO\",\"AGOSTO\",\"SEPTIEMBRE\",\"OCTUBRE\",\"NOVIEMBRE\",\"DICIEMBRE\"]},\"id\":\"2764\",\"type\":\"FactorRange\"},{\"attributes\":{},\"id\":\"2886\",\"type\":\"UnionRenderers\"},{\"attributes\":{\"dimension\":1,\"plot\":{\"id\":\"2762\",\"subtype\":\"Figure\",\"type\":\"Plot\"},\"ticker\":{\"id\":\"2777\",\"type\":\"BasicTicker\"}},\"id\":\"2780\",\"type\":\"Grid\"},{\"attributes\":{},\"id\":\"2777\",\"type\":\"BasicTicker\"},{\"attributes\":{\"callback\":null,\"data\":{\"x\":[\"ENERO\",\"FEBRERO\",\"MARZO\",\"ABRIL\",\"MAYO\",\"JUNIO\",\"JULIO\",\"AGOSTO\",\"SEPTIEMBRE\",\"OCTUBRE\",\"NOVIEMBRE\",\"DICIEMBRE\"],\"y\":{\"__ndarray__\":\"w/UoXI+SaEAv3SQGgSFlQOkmMQiszGdACKwcWmSDZ0CWQ4ts53tnQFK4HoXrpWdAppvEILDiZUCxcmiR7WxlQEw3iUFgFWVAI9v5fmqEZUAzMzMzM+9kQF+6SQwCh2VA\",\"dtype\":\"float64\",\"shape\":[12]}},\"selected\":{\"id\":\"2887\",\"type\":\"Selection\"},\"selection_policy\":{\"id\":\"2886\",\"type\":\"UnionRenderers\"}},\"id\":\"2782\",\"type\":\"ColumnDataSource\"},{\"attributes\":{\"active_drag\":\"auto\",\"active_inspect\":\"auto\",\"active_multi\":null,\"active_scroll\":\"auto\",\"active_tap\":\"auto\"},\"id\":\"2781\",\"type\":\"Toolbar\"},{\"attributes\":{\"line_alpha\":0.1,\"line_color\":\"#1f77b4\",\"line_width\":2,\"x\":{\"field\":\"x\"},\"y\":{\"field\":\"y\"}},\"id\":\"2784\",\"type\":\"Line\"},{\"attributes\":{\"data_source\":{\"id\":\"2782\",\"type\":\"ColumnDataSource\"},\"glyph\":{\"id\":\"2783\",\"type\":\"Line\"},\"hover_glyph\":null,\"muted_glyph\":null,\"nonselection_glyph\":{\"id\":\"2784\",\"type\":\"Line\"},\"selection_glyph\":null,\"view\":{\"id\":\"2786\",\"type\":\"CDSView\"}},\"id\":\"2785\",\"type\":\"GlyphRenderer\"},{\"attributes\":{\"source\":{\"id\":\"2782\",\"type\":\"ColumnDataSource\"}},\"id\":\"2786\",\"type\":\"CDSView\"},{\"attributes\":{},\"id\":\"2883\",\"type\":\"CategoricalTickFormatter\"},{\"attributes\":{\"formatter\":{\"id\":\"2883\",\"type\":\"CategoricalTickFormatter\"},\"major_label_orientation\":1,\"plot\":{\"id\":\"2762\",\"subtype\":\"Figure\",\"type\":\"Plot\"},\"ticker\":{\"id\":\"2773\",\"type\":\"CategoricalTicker\"}},\"id\":\"2772\",\"type\":\"CategoricalAxis\"},{\"attributes\":{},\"id\":\"2770\",\"type\":\"LinearScale\"},{\"attributes\":{},\"id\":\"2773\",\"type\":\"CategoricalTicker\"},{\"attributes\":{\"plot\":{\"id\":\"2762\",\"subtype\":\"Figure\",\"type\":\"Plot\"},\"ticker\":{\"id\":\"2773\",\"type\":\"CategoricalTicker\"}},\"id\":\"2775\",\"type\":\"Grid\"},{\"attributes\":{\"formatter\":{\"id\":\"2885\",\"type\":\"BasicTickFormatter\"},\"plot\":{\"id\":\"2762\",\"subtype\":\"Figure\",\"type\":\"Plot\"},\"ticker\":{\"id\":\"2777\",\"type\":\"BasicTicker\"}},\"id\":\"2776\",\"type\":\"LinearAxis\"},{\"attributes\":{},\"id\":\"2887\",\"type\":\"Selection\"}],\"root_ids\":[\"2762\"]},\"title\":\"Bokeh Application\",\"version\":\"1.0.3\"}};\n",
       "  var render_items = [{\"docid\":\"46d4686c-a0c9-4438-98fa-dd33a0f8e14e\",\"roots\":{\"2762\":\"25f18425-436d-49b4-b8c1-f4364769b15b\"}}];\n",
       "  root.Bokeh.embed.embed_items_notebook(docs_json, render_items);\n",
       "\n",
       "  }\n",
       "  if (root.Bokeh !== undefined) {\n",
       "    embed_document(root);\n",
       "  } else {\n",
       "    var attempts = 0;\n",
       "    var timer = setInterval(function(root) {\n",
       "      if (root.Bokeh !== undefined) {\n",
       "        embed_document(root);\n",
       "        clearInterval(timer);\n",
       "      }\n",
       "      attempts++;\n",
       "      if (attempts > 100) {\n",
       "        console.log(\"Bokeh: ERROR: Unable to run BokehJS code because BokehJS library is missing\");\n",
       "        clearInterval(timer);\n",
       "      }\n",
       "    }, 10, root)\n",
       "  }\n",
       "})(window);"
      ],
      "application/vnd.bokehjs_exec.v0+json": ""
     },
     "metadata": {
      "application/vnd.bokehjs_exec.v0+json": {
       "id": "2762"
      }
     },
     "output_type": "display_data"
    },
    {
     "data": {
      "text/html": [
       "\n",
       "\n",
       "\n",
       "\n",
       "\n",
       "\n",
       "  <div class=\"bk-root\" id=\"ec427faa-e00b-4a8c-99f9-aae03c042c82\" data-root-id=\"2931\"></div>\n"
      ]
     },
     "metadata": {},
     "output_type": "display_data"
    },
    {
     "data": {
      "application/javascript": [
       "(function(root) {\n",
       "  function embed_document(root) {\n",
       "    \n",
       "  var docs_json = {\"b885bd4f-62b1-420c-8b43-804e73154ad7\":{\"roots\":{\"references\":[{\"attributes\":{\"below\":[{\"id\":\"2941\",\"type\":\"CategoricalAxis\"}],\"left\":[{\"id\":\"2945\",\"type\":\"LinearAxis\"}],\"plot_height\":550,\"plot_width\":550,\"renderers\":[{\"id\":\"2941\",\"type\":\"CategoricalAxis\"},{\"id\":\"2944\",\"type\":\"Grid\"},{\"id\":\"2945\",\"type\":\"LinearAxis\"},{\"id\":\"2949\",\"type\":\"Grid\"},{\"id\":\"2954\",\"type\":\"GlyphRenderer\"}],\"title\":{\"id\":\"2930\",\"type\":\"Title\"},\"toolbar\":{\"id\":\"2950\",\"type\":\"Toolbar\"},\"toolbar_location\":null,\"x_range\":{\"id\":\"2933\",\"type\":\"FactorRange\"},\"x_scale\":{\"id\":\"2937\",\"type\":\"CategoricalScale\"},\"y_range\":{\"id\":\"2935\",\"type\":\"DataRange1d\"},\"y_scale\":{\"id\":\"2939\",\"type\":\"LinearScale\"}},\"id\":\"2931\",\"subtype\":\"Figure\",\"type\":\"Plot\"},{\"attributes\":{\"source\":{\"id\":\"2951\",\"type\":\"ColumnDataSource\"}},\"id\":\"2955\",\"type\":\"CDSView\"},{\"attributes\":{},\"id\":\"3061\",\"type\":\"BasicTickFormatter\"},{\"attributes\":{},\"id\":\"3059\",\"type\":\"CategoricalTickFormatter\"},{\"attributes\":{},\"id\":\"3063\",\"type\":\"Selection\"},{\"attributes\":{\"line_color\":\"#1f77b4\",\"line_width\":2,\"x\":{\"field\":\"x\"},\"y\":{\"field\":\"y\"}},\"id\":\"2952\",\"type\":\"Line\"},{\"attributes\":{\"line_alpha\":0.1,\"line_color\":\"#1f77b4\",\"line_width\":2,\"x\":{\"field\":\"x\"},\"y\":{\"field\":\"y\"}},\"id\":\"2953\",\"type\":\"Line\"},{\"attributes\":{},\"id\":\"3062\",\"type\":\"UnionRenderers\"},{\"attributes\":{\"dimension\":1,\"plot\":{\"id\":\"2931\",\"subtype\":\"Figure\",\"type\":\"Plot\"},\"ticker\":{\"id\":\"2946\",\"type\":\"BasicTicker\"}},\"id\":\"2949\",\"type\":\"Grid\"},{\"attributes\":{\"callback\":null},\"id\":\"2935\",\"type\":\"DataRange1d\"},{\"attributes\":{\"data_source\":{\"id\":\"2951\",\"type\":\"ColumnDataSource\"},\"glyph\":{\"id\":\"2952\",\"type\":\"Line\"},\"hover_glyph\":null,\"muted_glyph\":null,\"nonselection_glyph\":{\"id\":\"2953\",\"type\":\"Line\"},\"selection_glyph\":null,\"view\":{\"id\":\"2955\",\"type\":\"CDSView\"}},\"id\":\"2954\",\"type\":\"GlyphRenderer\"},{\"attributes\":{},\"id\":\"2937\",\"type\":\"CategoricalScale\"},{\"attributes\":{\"formatter\":{\"id\":\"3061\",\"type\":\"BasicTickFormatter\"},\"plot\":{\"id\":\"2931\",\"subtype\":\"Figure\",\"type\":\"Plot\"},\"ticker\":{\"id\":\"2946\",\"type\":\"BasicTicker\"}},\"id\":\"2945\",\"type\":\"LinearAxis\"},{\"attributes\":{},\"id\":\"2939\",\"type\":\"LinearScale\"},{\"attributes\":{\"callback\":null,\"data\":{\"x\":[\"ENERO\",\"FEBRERO\",\"MARZO\",\"ABRIL\",\"MAYO\",\"JUNIO\",\"JULIO\",\"AGOSTO\",\"SEPTIEMBRE\",\"OCTUBRE\",\"NOVIEMBRE\",\"DICIEMBRE\"],\"y\":{\"__ndarray__\":\"KVyPwvUoAUCuR+F6FK4BQBbZzvdT4wNAOrTIdr6fA0Dy0k1iEFgEQESLbOf7qQNAPzVeukkMBEDqJjEIrBwEQG3n+6nx0gNAuB6F61G4BEAOLbKd76cCQAAAAAAAADhA\",\"dtype\":\"float64\",\"shape\":[12]}},\"selected\":{\"id\":\"3063\",\"type\":\"Selection\"},\"selection_policy\":{\"id\":\"3062\",\"type\":\"UnionRenderers\"}},\"id\":\"2951\",\"type\":\"ColumnDataSource\"},{\"attributes\":{\"active_drag\":\"auto\",\"active_inspect\":\"auto\",\"active_multi\":null,\"active_scroll\":\"auto\",\"active_tap\":\"auto\"},\"id\":\"2950\",\"type\":\"Toolbar\"},{\"attributes\":{\"plot\":null,\"text\":\"DORINE G\"},\"id\":\"2930\",\"type\":\"Title\"},{\"attributes\":{},\"id\":\"2946\",\"type\":\"BasicTicker\"},{\"attributes\":{\"plot\":{\"id\":\"2931\",\"subtype\":\"Figure\",\"type\":\"Plot\"},\"ticker\":{\"id\":\"2942\",\"type\":\"CategoricalTicker\"}},\"id\":\"2944\",\"type\":\"Grid\"},{\"attributes\":{\"callback\":null,\"factors\":[\"ENERO\",\"FEBRERO\",\"MARZO\",\"ABRIL\",\"MAYO\",\"JUNIO\",\"JULIO\",\"AGOSTO\",\"SEPTIEMBRE\",\"OCTUBRE\",\"NOVIEMBRE\",\"DICIEMBRE\"]},\"id\":\"2933\",\"type\":\"FactorRange\"},{\"attributes\":{},\"id\":\"2942\",\"type\":\"CategoricalTicker\"},{\"attributes\":{\"formatter\":{\"id\":\"3059\",\"type\":\"CategoricalTickFormatter\"},\"major_label_orientation\":1,\"plot\":{\"id\":\"2931\",\"subtype\":\"Figure\",\"type\":\"Plot\"},\"ticker\":{\"id\":\"2942\",\"type\":\"CategoricalTicker\"}},\"id\":\"2941\",\"type\":\"CategoricalAxis\"}],\"root_ids\":[\"2931\"]},\"title\":\"Bokeh Application\",\"version\":\"1.0.3\"}};\n",
       "  var render_items = [{\"docid\":\"b885bd4f-62b1-420c-8b43-804e73154ad7\",\"roots\":{\"2931\":\"ec427faa-e00b-4a8c-99f9-aae03c042c82\"}}];\n",
       "  root.Bokeh.embed.embed_items_notebook(docs_json, render_items);\n",
       "\n",
       "  }\n",
       "  if (root.Bokeh !== undefined) {\n",
       "    embed_document(root);\n",
       "  } else {\n",
       "    var attempts = 0;\n",
       "    var timer = setInterval(function(root) {\n",
       "      if (root.Bokeh !== undefined) {\n",
       "        embed_document(root);\n",
       "        clearInterval(timer);\n",
       "      }\n",
       "      attempts++;\n",
       "      if (attempts > 100) {\n",
       "        console.log(\"Bokeh: ERROR: Unable to run BokehJS code because BokehJS library is missing\");\n",
       "        clearInterval(timer);\n",
       "      }\n",
       "    }, 10, root)\n",
       "  }\n",
       "})(window);"
      ],
      "application/vnd.bokehjs_exec.v0+json": ""
     },
     "metadata": {
      "application/vnd.bokehjs_exec.v0+json": {
       "id": "2931"
      }
     },
     "output_type": "display_data"
    },
    {
     "data": {
      "text/html": [
       "\n",
       "\n",
       "\n",
       "\n",
       "\n",
       "\n",
       "  <div class=\"bk-root\" id=\"2606c473-ae97-4b16-bb19-e7065d3c7cea\" data-root-id=\"3107\"></div>\n"
      ]
     },
     "metadata": {},
     "output_type": "display_data"
    },
    {
     "data": {
      "application/javascript": [
       "(function(root) {\n",
       "  function embed_document(root) {\n",
       "    \n",
       "  var docs_json = {\"13f98600-b905-4c80-9539-0242116e1994\":{\"roots\":{\"references\":[{\"attributes\":{\"below\":[{\"id\":\"3117\",\"type\":\"CategoricalAxis\"}],\"left\":[{\"id\":\"3121\",\"type\":\"LinearAxis\"}],\"plot_height\":550,\"plot_width\":550,\"renderers\":[{\"id\":\"3117\",\"type\":\"CategoricalAxis\"},{\"id\":\"3120\",\"type\":\"Grid\"},{\"id\":\"3121\",\"type\":\"LinearAxis\"},{\"id\":\"3125\",\"type\":\"Grid\"},{\"id\":\"3130\",\"type\":\"GlyphRenderer\"}],\"title\":{\"id\":\"3106\",\"type\":\"Title\"},\"toolbar\":{\"id\":\"3126\",\"type\":\"Toolbar\"},\"toolbar_location\":null,\"x_range\":{\"id\":\"3109\",\"type\":\"FactorRange\"},\"x_scale\":{\"id\":\"3113\",\"type\":\"CategoricalScale\"},\"y_range\":{\"id\":\"3111\",\"type\":\"DataRange1d\"},\"y_scale\":{\"id\":\"3115\",\"type\":\"LinearScale\"}},\"id\":\"3107\",\"subtype\":\"Figure\",\"type\":\"Plot\"},{\"attributes\":{\"source\":{\"id\":\"3127\",\"type\":\"ColumnDataSource\"}},\"id\":\"3131\",\"type\":\"CDSView\"},{\"attributes\":{\"plot\":null,\"text\":\"DORINE NORTE\"},\"id\":\"3106\",\"type\":\"Title\"},{\"attributes\":{\"formatter\":{\"id\":\"3244\",\"type\":\"BasicTickFormatter\"},\"plot\":{\"id\":\"3107\",\"subtype\":\"Figure\",\"type\":\"Plot\"},\"ticker\":{\"id\":\"3122\",\"type\":\"BasicTicker\"}},\"id\":\"3121\",\"type\":\"LinearAxis\"},{\"attributes\":{},\"id\":\"3245\",\"type\":\"UnionRenderers\"},{\"attributes\":{\"line_color\":\"#1f77b4\",\"line_width\":2,\"x\":{\"field\":\"x\"},\"y\":{\"field\":\"y\"}},\"id\":\"3128\",\"type\":\"Line\"},{\"attributes\":{\"formatter\":{\"id\":\"3242\",\"type\":\"CategoricalTickFormatter\"},\"major_label_orientation\":1,\"plot\":{\"id\":\"3107\",\"subtype\":\"Figure\",\"type\":\"Plot\"},\"ticker\":{\"id\":\"3118\",\"type\":\"CategoricalTicker\"}},\"id\":\"3117\",\"type\":\"CategoricalAxis\"},{\"attributes\":{},\"id\":\"3115\",\"type\":\"LinearScale\"},{\"attributes\":{},\"id\":\"3118\",\"type\":\"CategoricalTicker\"},{\"attributes\":{\"plot\":{\"id\":\"3107\",\"subtype\":\"Figure\",\"type\":\"Plot\"},\"ticker\":{\"id\":\"3118\",\"type\":\"CategoricalTicker\"}},\"id\":\"3120\",\"type\":\"Grid\"},{\"attributes\":{},\"id\":\"3242\",\"type\":\"CategoricalTickFormatter\"},{\"attributes\":{\"callback\":null},\"id\":\"3111\",\"type\":\"DataRange1d\"},{\"attributes\":{},\"id\":\"3113\",\"type\":\"CategoricalScale\"},{\"attributes\":{},\"id\":\"3244\",\"type\":\"BasicTickFormatter\"},{\"attributes\":{\"dimension\":1,\"plot\":{\"id\":\"3107\",\"subtype\":\"Figure\",\"type\":\"Plot\"},\"ticker\":{\"id\":\"3122\",\"type\":\"BasicTicker\"}},\"id\":\"3125\",\"type\":\"Grid\"},{\"attributes\":{\"callback\":null,\"factors\":[\"ENERO\",\"FEBRERO\",\"MARZO\",\"ABRIL\",\"MAYO\",\"JUNIO\",\"JULIO\",\"AGOSTO\",\"SEPTIEMBRE\",\"OCTUBRE\",\"NOVIEMBRE\",\"DICIEMBRE\"]},\"id\":\"3109\",\"type\":\"FactorRange\"},{\"attributes\":{\"line_alpha\":0.1,\"line_color\":\"#1f77b4\",\"line_width\":2,\"x\":{\"field\":\"x\"},\"y\":{\"field\":\"y\"}},\"id\":\"3129\",\"type\":\"Line\"},{\"attributes\":{},\"id\":\"3122\",\"type\":\"BasicTicker\"},{\"attributes\":{\"active_drag\":\"auto\",\"active_inspect\":\"auto\",\"active_multi\":null,\"active_scroll\":\"auto\",\"active_tap\":\"auto\"},\"id\":\"3126\",\"type\":\"Toolbar\"},{\"attributes\":{\"callback\":null,\"data\":{\"x\":[\"ENERO\",\"FEBRERO\",\"MARZO\",\"ABRIL\",\"MAYO\",\"JUNIO\",\"JULIO\",\"AGOSTO\",\"SEPTIEMBRE\",\"OCTUBRE\",\"NOVIEMBRE\",\"DICIEMBRE\"],\"y\":{\"__ndarray__\":\"2/l+ary0IEC28/3UeGkdQCPb+X5qPCBAlkOLbOd7H0CMbOf7qfEeQLKd76fGyx1AhetRuB6FHkAxCKwcWuQdQM/3U+OlGxxACtejcD0KHUBFtvP91PgbQKjGSzeJwRxA\",\"dtype\":\"float64\",\"shape\":[12]}},\"selected\":{\"id\":\"3246\",\"type\":\"Selection\"},\"selection_policy\":{\"id\":\"3245\",\"type\":\"UnionRenderers\"}},\"id\":\"3127\",\"type\":\"ColumnDataSource\"},{\"attributes\":{},\"id\":\"3246\",\"type\":\"Selection\"},{\"attributes\":{\"data_source\":{\"id\":\"3127\",\"type\":\"ColumnDataSource\"},\"glyph\":{\"id\":\"3128\",\"type\":\"Line\"},\"hover_glyph\":null,\"muted_glyph\":null,\"nonselection_glyph\":{\"id\":\"3129\",\"type\":\"Line\"},\"selection_glyph\":null,\"view\":{\"id\":\"3131\",\"type\":\"CDSView\"}},\"id\":\"3130\",\"type\":\"GlyphRenderer\"}],\"root_ids\":[\"3107\"]},\"title\":\"Bokeh Application\",\"version\":\"1.0.3\"}};\n",
       "  var render_items = [{\"docid\":\"13f98600-b905-4c80-9539-0242116e1994\",\"roots\":{\"3107\":\"2606c473-ae97-4b16-bb19-e7065d3c7cea\"}}];\n",
       "  root.Bokeh.embed.embed_items_notebook(docs_json, render_items);\n",
       "\n",
       "  }\n",
       "  if (root.Bokeh !== undefined) {\n",
       "    embed_document(root);\n",
       "  } else {\n",
       "    var attempts = 0;\n",
       "    var timer = setInterval(function(root) {\n",
       "      if (root.Bokeh !== undefined) {\n",
       "        embed_document(root);\n",
       "        clearInterval(timer);\n",
       "      }\n",
       "      attempts++;\n",
       "      if (attempts > 100) {\n",
       "        console.log(\"Bokeh: ERROR: Unable to run BokehJS code because BokehJS library is missing\");\n",
       "        clearInterval(timer);\n",
       "      }\n",
       "    }, 10, root)\n",
       "  }\n",
       "})(window);"
      ],
      "application/vnd.bokehjs_exec.v0+json": ""
     },
     "metadata": {
      "application/vnd.bokehjs_exec.v0+json": {
       "id": "3107"
      }
     },
     "output_type": "display_data"
    },
    {
     "data": {
      "text/html": [
       "\n",
       "\n",
       "\n",
       "\n",
       "\n",
       "\n",
       "  <div class=\"bk-root\" id=\"584a9847-f03c-4706-a416-326853cb0c12\" data-root-id=\"3290\"></div>\n"
      ]
     },
     "metadata": {},
     "output_type": "display_data"
    },
    {
     "data": {
      "application/javascript": [
       "(function(root) {\n",
       "  function embed_document(root) {\n",
       "    \n",
       "  var docs_json = {\"cb14d1e5-ab21-449c-adbb-977e9797c1d1\":{\"roots\":{\"references\":[{\"attributes\":{\"below\":[{\"id\":\"3300\",\"type\":\"CategoricalAxis\"}],\"left\":[{\"id\":\"3304\",\"type\":\"LinearAxis\"}],\"plot_height\":550,\"plot_width\":550,\"renderers\":[{\"id\":\"3300\",\"type\":\"CategoricalAxis\"},{\"id\":\"3303\",\"type\":\"Grid\"},{\"id\":\"3304\",\"type\":\"LinearAxis\"},{\"id\":\"3308\",\"type\":\"Grid\"},{\"id\":\"3313\",\"type\":\"GlyphRenderer\"}],\"title\":{\"id\":\"3289\",\"type\":\"Title\"},\"toolbar\":{\"id\":\"3309\",\"type\":\"Toolbar\"},\"toolbar_location\":null,\"x_range\":{\"id\":\"3292\",\"type\":\"FactorRange\"},\"x_scale\":{\"id\":\"3296\",\"type\":\"CategoricalScale\"},\"y_range\":{\"id\":\"3294\",\"type\":\"DataRange1d\"},\"y_scale\":{\"id\":\"3298\",\"type\":\"LinearScale\"}},\"id\":\"3290\",\"subtype\":\"Figure\",\"type\":\"Plot\"},{\"attributes\":{\"line_alpha\":0.1,\"line_color\":\"#1f77b4\",\"line_width\":2,\"x\":{\"field\":\"x\"},\"y\":{\"field\":\"y\"}},\"id\":\"3312\",\"type\":\"Line\"},{\"attributes\":{},\"id\":\"3436\",\"type\":\"Selection\"},{\"attributes\":{},\"id\":\"3432\",\"type\":\"CategoricalTickFormatter\"},{\"attributes\":{},\"id\":\"3298\",\"type\":\"LinearScale\"},{\"attributes\":{},\"id\":\"3435\",\"type\":\"UnionRenderers\"},{\"attributes\":{\"callback\":null},\"id\":\"3294\",\"type\":\"DataRange1d\"},{\"attributes\":{\"source\":{\"id\":\"3310\",\"type\":\"ColumnDataSource\"}},\"id\":\"3314\",\"type\":\"CDSView\"},{\"attributes\":{\"dimension\":1,\"plot\":{\"id\":\"3290\",\"subtype\":\"Figure\",\"type\":\"Plot\"},\"ticker\":{\"id\":\"3305\",\"type\":\"BasicTicker\"}},\"id\":\"3308\",\"type\":\"Grid\"},{\"attributes\":{\"data_source\":{\"id\":\"3310\",\"type\":\"ColumnDataSource\"},\"glyph\":{\"id\":\"3311\",\"type\":\"Line\"},\"hover_glyph\":null,\"muted_glyph\":null,\"nonselection_glyph\":{\"id\":\"3312\",\"type\":\"Line\"},\"selection_glyph\":null,\"view\":{\"id\":\"3314\",\"type\":\"CDSView\"}},\"id\":\"3313\",\"type\":\"GlyphRenderer\"},{\"attributes\":{},\"id\":\"3301\",\"type\":\"CategoricalTicker\"},{\"attributes\":{\"plot\":{\"id\":\"3290\",\"subtype\":\"Figure\",\"type\":\"Plot\"},\"ticker\":{\"id\":\"3301\",\"type\":\"CategoricalTicker\"}},\"id\":\"3303\",\"type\":\"Grid\"},{\"attributes\":{},\"id\":\"3296\",\"type\":\"CategoricalScale\"},{\"attributes\":{\"callback\":null,\"factors\":[\"ENERO\",\"FEBRERO\",\"MARZO\",\"ABRIL\",\"MAYO\",\"JUNIO\",\"JULIO\",\"AGOSTO\",\"SEPTIEMBRE\",\"OCTUBRE\",\"NOVIEMBRE\",\"DICIEMBRE\"]},\"id\":\"3292\",\"type\":\"FactorRange\"},{\"attributes\":{},\"id\":\"3305\",\"type\":\"BasicTicker\"},{\"attributes\":{\"formatter\":{\"id\":\"3432\",\"type\":\"CategoricalTickFormatter\"},\"major_label_orientation\":1,\"plot\":{\"id\":\"3290\",\"subtype\":\"Figure\",\"type\":\"Plot\"},\"ticker\":{\"id\":\"3301\",\"type\":\"CategoricalTicker\"}},\"id\":\"3300\",\"type\":\"CategoricalAxis\"},{\"attributes\":{\"formatter\":{\"id\":\"3434\",\"type\":\"BasicTickFormatter\"},\"plot\":{\"id\":\"3290\",\"subtype\":\"Figure\",\"type\":\"Plot\"},\"ticker\":{\"id\":\"3305\",\"type\":\"BasicTicker\"}},\"id\":\"3304\",\"type\":\"LinearAxis\"},{\"attributes\":{\"plot\":null,\"text\":\"ESPERANZA\"},\"id\":\"3289\",\"type\":\"Title\"},{\"attributes\":{\"line_color\":\"#1f77b4\",\"line_width\":2,\"x\":{\"field\":\"x\"},\"y\":{\"field\":\"y\"}},\"id\":\"3311\",\"type\":\"Line\"},{\"attributes\":{\"active_drag\":\"auto\",\"active_inspect\":\"auto\",\"active_multi\":null,\"active_scroll\":\"auto\",\"active_tap\":\"auto\"},\"id\":\"3309\",\"type\":\"Toolbar\"},{\"attributes\":{},\"id\":\"3434\",\"type\":\"BasicTickFormatter\"},{\"attributes\":{\"callback\":null,\"data\":{\"x\":[\"ENERO\",\"FEBRERO\",\"MARZO\",\"ABRIL\",\"MAYO\",\"JUNIO\",\"JULIO\",\"AGOSTO\",\"SEPTIEMBRE\",\"OCTUBRE\",\"NOVIEMBRE\",\"DICIEMBRE\"],\"y\":{\"__ndarray__\":\"w/UoXI+iPkBmZmZmZmY8QFK4HoXrET9AGARWDi2yPUA9CtejcP09QNEi2/l+ajxAZmZmZmamPEDhehSuR2E9QNEi2/l+qjpAGARWDi3SOkCIFtnO95M4QGQ730+NVzZA\",\"dtype\":\"float64\",\"shape\":[12]}},\"selected\":{\"id\":\"3436\",\"type\":\"Selection\"},\"selection_policy\":{\"id\":\"3435\",\"type\":\"UnionRenderers\"}},\"id\":\"3310\",\"type\":\"ColumnDataSource\"}],\"root_ids\":[\"3290\"]},\"title\":\"Bokeh Application\",\"version\":\"1.0.3\"}};\n",
       "  var render_items = [{\"docid\":\"cb14d1e5-ab21-449c-adbb-977e9797c1d1\",\"roots\":{\"3290\":\"584a9847-f03c-4706-a416-326853cb0c12\"}}];\n",
       "  root.Bokeh.embed.embed_items_notebook(docs_json, render_items);\n",
       "\n",
       "  }\n",
       "  if (root.Bokeh !== undefined) {\n",
       "    embed_document(root);\n",
       "  } else {\n",
       "    var attempts = 0;\n",
       "    var timer = setInterval(function(root) {\n",
       "      if (root.Bokeh !== undefined) {\n",
       "        embed_document(root);\n",
       "        clearInterval(timer);\n",
       "      }\n",
       "      attempts++;\n",
       "      if (attempts > 100) {\n",
       "        console.log(\"Bokeh: ERROR: Unable to run BokehJS code because BokehJS library is missing\");\n",
       "        clearInterval(timer);\n",
       "      }\n",
       "    }, 10, root)\n",
       "  }\n",
       "})(window);"
      ],
      "application/vnd.bokehjs_exec.v0+json": ""
     },
     "metadata": {
      "application/vnd.bokehjs_exec.v0+json": {
       "id": "3290"
      }
     },
     "output_type": "display_data"
    },
    {
     "data": {
      "text/html": [
       "\n",
       "\n",
       "\n",
       "\n",
       "\n",
       "\n",
       "  <div class=\"bk-root\" id=\"e3652d63-2c18-4e94-b8a7-c91409f33cfc\" data-root-id=\"3480\"></div>\n"
      ]
     },
     "metadata": {},
     "output_type": "display_data"
    },
    {
     "data": {
      "application/javascript": [
       "(function(root) {\n",
       "  function embed_document(root) {\n",
       "    \n",
       "  var docs_json = {\"df9876e5-846b-48c5-b1dd-ef8f10432a76\":{\"roots\":{\"references\":[{\"attributes\":{\"below\":[{\"id\":\"3490\",\"type\":\"CategoricalAxis\"}],\"left\":[{\"id\":\"3494\",\"type\":\"LinearAxis\"}],\"plot_height\":550,\"plot_width\":550,\"renderers\":[{\"id\":\"3490\",\"type\":\"CategoricalAxis\"},{\"id\":\"3493\",\"type\":\"Grid\"},{\"id\":\"3494\",\"type\":\"LinearAxis\"},{\"id\":\"3498\",\"type\":\"Grid\"},{\"id\":\"3503\",\"type\":\"GlyphRenderer\"}],\"title\":{\"id\":\"3479\",\"type\":\"Title\"},\"toolbar\":{\"id\":\"3499\",\"type\":\"Toolbar\"},\"toolbar_location\":null,\"x_range\":{\"id\":\"3482\",\"type\":\"FactorRange\"},\"x_scale\":{\"id\":\"3486\",\"type\":\"CategoricalScale\"},\"y_range\":{\"id\":\"3484\",\"type\":\"DataRange1d\"},\"y_scale\":{\"id\":\"3488\",\"type\":\"LinearScale\"}},\"id\":\"3480\",\"subtype\":\"Figure\",\"type\":\"Plot\"},{\"attributes\":{\"data_source\":{\"id\":\"3500\",\"type\":\"ColumnDataSource\"},\"glyph\":{\"id\":\"3501\",\"type\":\"Line\"},\"hover_glyph\":null,\"muted_glyph\":null,\"nonselection_glyph\":{\"id\":\"3502\",\"type\":\"Line\"},\"selection_glyph\":null,\"view\":{\"id\":\"3504\",\"type\":\"CDSView\"}},\"id\":\"3503\",\"type\":\"GlyphRenderer\"},{\"attributes\":{\"line_alpha\":0.1,\"line_color\":\"#1f77b4\",\"line_width\":2,\"x\":{\"field\":\"x\"},\"y\":{\"field\":\"y\"}},\"id\":\"3502\",\"type\":\"Line\"},{\"attributes\":{},\"id\":\"3486\",\"type\":\"CategoricalScale\"},{\"attributes\":{\"active_drag\":\"auto\",\"active_inspect\":\"auto\",\"active_multi\":null,\"active_scroll\":\"auto\",\"active_tap\":\"auto\"},\"id\":\"3499\",\"type\":\"Toolbar\"},{\"attributes\":{\"callback\":null,\"data\":{\"x\":[\"ENERO\",\"FEBRERO\",\"MARZO\",\"ABRIL\",\"MAYO\",\"JUNIO\",\"JULIO\",\"AGOSTO\",\"SEPTIEMBRE\",\"OCTUBRE\",\"NOVIEMBRE\",\"DICIEMBRE\"],\"y\":{\"__ndarray__\":\"8tJNYhDQfUDNzMzMzDB8QLbz/dR4F35AEoPAyqETfEDD9Shcjzh8QKrx0k1iHntA001iEFh7e0CMbOf7qSV7QLTIdr6fqnlAAyuHFtksekAxCKwcWkB5QGMQWDm0InpA\",\"dtype\":\"float64\",\"shape\":[12]}},\"selected\":{\"id\":\"3633\",\"type\":\"Selection\"},\"selection_policy\":{\"id\":\"3632\",\"type\":\"UnionRenderers\"}},\"id\":\"3500\",\"type\":\"ColumnDataSource\"},{\"attributes\":{},\"id\":\"3495\",\"type\":\"BasicTicker\"},{\"attributes\":{\"dimension\":1,\"plot\":{\"id\":\"3480\",\"subtype\":\"Figure\",\"type\":\"Plot\"},\"ticker\":{\"id\":\"3495\",\"type\":\"BasicTicker\"}},\"id\":\"3498\",\"type\":\"Grid\"},{\"attributes\":{\"callback\":null,\"factors\":[\"ENERO\",\"FEBRERO\",\"MARZO\",\"ABRIL\",\"MAYO\",\"JUNIO\",\"JULIO\",\"AGOSTO\",\"SEPTIEMBRE\",\"OCTUBRE\",\"NOVIEMBRE\",\"DICIEMBRE\"]},\"id\":\"3482\",\"type\":\"FactorRange\"},{\"attributes\":{\"formatter\":{\"id\":\"3631\",\"type\":\"BasicTickFormatter\"},\"plot\":{\"id\":\"3480\",\"subtype\":\"Figure\",\"type\":\"Plot\"},\"ticker\":{\"id\":\"3495\",\"type\":\"BasicTicker\"}},\"id\":\"3494\",\"type\":\"LinearAxis\"},{\"attributes\":{\"plot\":{\"id\":\"3480\",\"subtype\":\"Figure\",\"type\":\"Plot\"},\"ticker\":{\"id\":\"3491\",\"type\":\"CategoricalTicker\"}},\"id\":\"3493\",\"type\":\"Grid\"},{\"attributes\":{\"formatter\":{\"id\":\"3629\",\"type\":\"CategoricalTickFormatter\"},\"major_label_orientation\":1,\"plot\":{\"id\":\"3480\",\"subtype\":\"Figure\",\"type\":\"Plot\"},\"ticker\":{\"id\":\"3491\",\"type\":\"CategoricalTicker\"}},\"id\":\"3490\",\"type\":\"CategoricalAxis\"},{\"attributes\":{},\"id\":\"3491\",\"type\":\"CategoricalTicker\"},{\"attributes\":{},\"id\":\"3488\",\"type\":\"LinearScale\"},{\"attributes\":{\"source\":{\"id\":\"3500\",\"type\":\"ColumnDataSource\"}},\"id\":\"3504\",\"type\":\"CDSView\"},{\"attributes\":{},\"id\":\"3629\",\"type\":\"CategoricalTickFormatter\"},{\"attributes\":{},\"id\":\"3632\",\"type\":\"UnionRenderers\"},{\"attributes\":{},\"id\":\"3633\",\"type\":\"Selection\"},{\"attributes\":{},\"id\":\"3631\",\"type\":\"BasicTickFormatter\"},{\"attributes\":{\"plot\":null,\"text\":\"FANNY-18B\"},\"id\":\"3479\",\"type\":\"Title\"},{\"attributes\":{\"callback\":null},\"id\":\"3484\",\"type\":\"DataRange1d\"},{\"attributes\":{\"line_color\":\"#1f77b4\",\"line_width\":2,\"x\":{\"field\":\"x\"},\"y\":{\"field\":\"y\"}},\"id\":\"3501\",\"type\":\"Line\"}],\"root_ids\":[\"3480\"]},\"title\":\"Bokeh Application\",\"version\":\"1.0.3\"}};\n",
       "  var render_items = [{\"docid\":\"df9876e5-846b-48c5-b1dd-ef8f10432a76\",\"roots\":{\"3480\":\"e3652d63-2c18-4e94-b8a7-c91409f33cfc\"}}];\n",
       "  root.Bokeh.embed.embed_items_notebook(docs_json, render_items);\n",
       "\n",
       "  }\n",
       "  if (root.Bokeh !== undefined) {\n",
       "    embed_document(root);\n",
       "  } else {\n",
       "    var attempts = 0;\n",
       "    var timer = setInterval(function(root) {\n",
       "      if (root.Bokeh !== undefined) {\n",
       "        embed_document(root);\n",
       "        clearInterval(timer);\n",
       "      }\n",
       "      attempts++;\n",
       "      if (attempts > 100) {\n",
       "        console.log(\"Bokeh: ERROR: Unable to run BokehJS code because BokehJS library is missing\");\n",
       "        clearInterval(timer);\n",
       "      }\n",
       "    }, 10, root)\n",
       "  }\n",
       "})(window);"
      ],
      "application/vnd.bokehjs_exec.v0+json": ""
     },
     "metadata": {
      "application/vnd.bokehjs_exec.v0+json": {
       "id": "3480"
      }
     },
     "output_type": "display_data"
    },
    {
     "data": {
      "text/html": [
       "\n",
       "\n",
       "\n",
       "\n",
       "\n",
       "\n",
       "  <div class=\"bk-root\" id=\"f0464c91-de16-4090-abf9-73e2b4be1e07\" data-root-id=\"3677\"></div>\n"
      ]
     },
     "metadata": {},
     "output_type": "display_data"
    },
    {
     "data": {
      "application/javascript": [
       "(function(root) {\n",
       "  function embed_document(root) {\n",
       "    \n",
       "  var docs_json = {\"df6d94d7-39a9-4793-8e45-70ca62681784\":{\"roots\":{\"references\":[{\"attributes\":{\"below\":[{\"id\":\"3687\",\"type\":\"CategoricalAxis\"}],\"left\":[{\"id\":\"3691\",\"type\":\"LinearAxis\"}],\"plot_height\":550,\"plot_width\":550,\"renderers\":[{\"id\":\"3687\",\"type\":\"CategoricalAxis\"},{\"id\":\"3690\",\"type\":\"Grid\"},{\"id\":\"3691\",\"type\":\"LinearAxis\"},{\"id\":\"3695\",\"type\":\"Grid\"},{\"id\":\"3700\",\"type\":\"GlyphRenderer\"}],\"title\":{\"id\":\"3676\",\"type\":\"Title\"},\"toolbar\":{\"id\":\"3696\",\"type\":\"Toolbar\"},\"toolbar_location\":null,\"x_range\":{\"id\":\"3679\",\"type\":\"FactorRange\"},\"x_scale\":{\"id\":\"3683\",\"type\":\"CategoricalScale\"},\"y_range\":{\"id\":\"3681\",\"type\":\"DataRange1d\"},\"y_scale\":{\"id\":\"3685\",\"type\":\"LinearScale\"}},\"id\":\"3677\",\"subtype\":\"Figure\",\"type\":\"Plot\"},{\"attributes\":{},\"id\":\"3833\",\"type\":\"CategoricalTickFormatter\"},{\"attributes\":{\"line_color\":\"#1f77b4\",\"line_width\":2,\"x\":{\"field\":\"x\"},\"y\":{\"field\":\"y\"}},\"id\":\"3698\",\"type\":\"Line\"},{\"attributes\":{\"callback\":null,\"factors\":[\"ENERO\",\"FEBRERO\",\"MARZO\",\"ABRIL\",\"MAYO\",\"JUNIO\",\"JULIO\",\"AGOSTO\",\"SEPTIEMBRE\",\"OCTUBRE\",\"NOVIEMBRE\",\"DICIEMBRE\"]},\"id\":\"3679\",\"type\":\"FactorRange\"},{\"attributes\":{\"active_drag\":\"auto\",\"active_inspect\":\"auto\",\"active_multi\":null,\"active_scroll\":\"auto\",\"active_tap\":\"auto\"},\"id\":\"3696\",\"type\":\"Toolbar\"},{\"attributes\":{\"line_alpha\":0.1,\"line_color\":\"#1f77b4\",\"line_width\":2,\"x\":{\"field\":\"x\"},\"y\":{\"field\":\"y\"}},\"id\":\"3699\",\"type\":\"Line\"},{\"attributes\":{\"source\":{\"id\":\"3697\",\"type\":\"ColumnDataSource\"}},\"id\":\"3701\",\"type\":\"CDSView\"},{\"attributes\":{\"dimension\":1,\"plot\":{\"id\":\"3677\",\"subtype\":\"Figure\",\"type\":\"Plot\"},\"ticker\":{\"id\":\"3692\",\"type\":\"BasicTicker\"}},\"id\":\"3695\",\"type\":\"Grid\"},{\"attributes\":{},\"id\":\"3692\",\"type\":\"BasicTicker\"},{\"attributes\":{\"callback\":null,\"data\":{\"x\":[\"ENERO\",\"FEBRERO\",\"MARZO\",\"ABRIL\",\"MAYO\",\"JUNIO\",\"JULIO\",\"AGOSTO\",\"SEPTIEMBRE\",\"OCTUBRE\",\"NOVIEMBRE\",\"DICIEMBRE\"],\"y\":{\"__ndarray__\":\"AAAAAAAAAAAAAAAAAAAAAAAAAAAAAAAAAAAAAAAAAAAAAAAAAAAAAAAAAAAAAAAA46WbxCAQNECDwMqhRTYwQFK4HoXrUSVAJzEIrBxaIkDy0k1iEFgfQCyHFtnO9xxA\",\"dtype\":\"float64\",\"shape\":[12]}},\"selected\":{\"id\":\"3837\",\"type\":\"Selection\"},\"selection_policy\":{\"id\":\"3836\",\"type\":\"UnionRenderers\"}},\"id\":\"3697\",\"type\":\"ColumnDataSource\"},{\"attributes\":{},\"id\":\"3837\",\"type\":\"Selection\"},{\"attributes\":{\"data_source\":{\"id\":\"3697\",\"type\":\"ColumnDataSource\"},\"glyph\":{\"id\":\"3698\",\"type\":\"Line\"},\"hover_glyph\":null,\"muted_glyph\":null,\"nonselection_glyph\":{\"id\":\"3699\",\"type\":\"Line\"},\"selection_glyph\":null,\"view\":{\"id\":\"3701\",\"type\":\"CDSView\"}},\"id\":\"3700\",\"type\":\"GlyphRenderer\"},{\"attributes\":{},\"id\":\"3835\",\"type\":\"BasicTickFormatter\"},{\"attributes\":{},\"id\":\"3836\",\"type\":\"UnionRenderers\"},{\"attributes\":{\"plot\":null,\"text\":\"JOHANNA\"},\"id\":\"3676\",\"type\":\"Title\"},{\"attributes\":{\"formatter\":{\"id\":\"3835\",\"type\":\"BasicTickFormatter\"},\"plot\":{\"id\":\"3677\",\"subtype\":\"Figure\",\"type\":\"Plot\"},\"ticker\":{\"id\":\"3692\",\"type\":\"BasicTicker\"}},\"id\":\"3691\",\"type\":\"LinearAxis\"},{\"attributes\":{\"plot\":{\"id\":\"3677\",\"subtype\":\"Figure\",\"type\":\"Plot\"},\"ticker\":{\"id\":\"3688\",\"type\":\"CategoricalTicker\"}},\"id\":\"3690\",\"type\":\"Grid\"},{\"attributes\":{},\"id\":\"3688\",\"type\":\"CategoricalTicker\"},{\"attributes\":{},\"id\":\"3685\",\"type\":\"LinearScale\"},{\"attributes\":{\"formatter\":{\"id\":\"3833\",\"type\":\"CategoricalTickFormatter\"},\"major_label_orientation\":1,\"plot\":{\"id\":\"3677\",\"subtype\":\"Figure\",\"type\":\"Plot\"},\"ticker\":{\"id\":\"3688\",\"type\":\"CategoricalTicker\"}},\"id\":\"3687\",\"type\":\"CategoricalAxis\"},{\"attributes\":{},\"id\":\"3683\",\"type\":\"CategoricalScale\"},{\"attributes\":{\"callback\":null},\"id\":\"3681\",\"type\":\"DataRange1d\"}],\"root_ids\":[\"3677\"]},\"title\":\"Bokeh Application\",\"version\":\"1.0.3\"}};\n",
       "  var render_items = [{\"docid\":\"df6d94d7-39a9-4793-8e45-70ca62681784\",\"roots\":{\"3677\":\"f0464c91-de16-4090-abf9-73e2b4be1e07\"}}];\n",
       "  root.Bokeh.embed.embed_items_notebook(docs_json, render_items);\n",
       "\n",
       "  }\n",
       "  if (root.Bokeh !== undefined) {\n",
       "    embed_document(root);\n",
       "  } else {\n",
       "    var attempts = 0;\n",
       "    var timer = setInterval(function(root) {\n",
       "      if (root.Bokeh !== undefined) {\n",
       "        embed_document(root);\n",
       "        clearInterval(timer);\n",
       "      }\n",
       "      attempts++;\n",
       "      if (attempts > 100) {\n",
       "        console.log(\"Bokeh: ERROR: Unable to run BokehJS code because BokehJS library is missing\");\n",
       "        clearInterval(timer);\n",
       "      }\n",
       "    }, 10, root)\n",
       "  }\n",
       "})(window);"
      ],
      "application/vnd.bokehjs_exec.v0+json": ""
     },
     "metadata": {
      "application/vnd.bokehjs_exec.v0+json": {
       "id": "3677"
      }
     },
     "output_type": "display_data"
    },
    {
     "data": {
      "text/html": [
       "\n",
       "\n",
       "\n",
       "\n",
       "\n",
       "\n",
       "  <div class=\"bk-root\" id=\"2bc02767-8c89-475d-b4dd-80bee456a239\" data-root-id=\"3881\"></div>\n"
      ]
     },
     "metadata": {},
     "output_type": "display_data"
    },
    {
     "data": {
      "application/javascript": [
       "(function(root) {\n",
       "  function embed_document(root) {\n",
       "    \n",
       "  var docs_json = {\"48a3cd79-2640-4b54-a1ff-b7edae31235a\":{\"roots\":{\"references\":[{\"attributes\":{\"below\":[{\"id\":\"3891\",\"type\":\"CategoricalAxis\"}],\"left\":[{\"id\":\"3895\",\"type\":\"LinearAxis\"}],\"plot_height\":550,\"plot_width\":550,\"renderers\":[{\"id\":\"3891\",\"type\":\"CategoricalAxis\"},{\"id\":\"3894\",\"type\":\"Grid\"},{\"id\":\"3895\",\"type\":\"LinearAxis\"},{\"id\":\"3899\",\"type\":\"Grid\"},{\"id\":\"3904\",\"type\":\"GlyphRenderer\"}],\"title\":{\"id\":\"3880\",\"type\":\"Title\"},\"toolbar\":{\"id\":\"3900\",\"type\":\"Toolbar\"},\"toolbar_location\":null,\"x_range\":{\"id\":\"3883\",\"type\":\"FactorRange\"},\"x_scale\":{\"id\":\"3887\",\"type\":\"CategoricalScale\"},\"y_range\":{\"id\":\"3885\",\"type\":\"DataRange1d\"},\"y_scale\":{\"id\":\"3889\",\"type\":\"LinearScale\"}},\"id\":\"3881\",\"subtype\":\"Figure\",\"type\":\"Plot\"},{\"attributes\":{\"data_source\":{\"id\":\"3901\",\"type\":\"ColumnDataSource\"},\"glyph\":{\"id\":\"3902\",\"type\":\"Line\"},\"hover_glyph\":null,\"muted_glyph\":null,\"nonselection_glyph\":{\"id\":\"3903\",\"type\":\"Line\"},\"selection_glyph\":null,\"view\":{\"id\":\"3905\",\"type\":\"CDSView\"}},\"id\":\"3904\",\"type\":\"GlyphRenderer\"},{\"attributes\":{\"source\":{\"id\":\"3901\",\"type\":\"ColumnDataSource\"}},\"id\":\"3905\",\"type\":\"CDSView\"},{\"attributes\":{},\"id\":\"4046\",\"type\":\"BasicTickFormatter\"},{\"attributes\":{},\"id\":\"4044\",\"type\":\"CategoricalTickFormatter\"},{\"attributes\":{},\"id\":\"4047\",\"type\":\"UnionRenderers\"},{\"attributes\":{\"active_drag\":\"auto\",\"active_inspect\":\"auto\",\"active_multi\":null,\"active_scroll\":\"auto\",\"active_tap\":\"auto\"},\"id\":\"3900\",\"type\":\"Toolbar\"},{\"attributes\":{},\"id\":\"3896\",\"type\":\"BasicTicker\"},{\"attributes\":{},\"id\":\"4048\",\"type\":\"Selection\"},{\"attributes\":{},\"id\":\"3889\",\"type\":\"LinearScale\"},{\"attributes\":{\"callback\":null,\"factors\":[\"ENERO\",\"FEBRERO\",\"MARZO\",\"ABRIL\",\"MAYO\",\"JUNIO\",\"JULIO\",\"AGOSTO\",\"SEPTIEMBRE\",\"OCTUBRE\",\"NOVIEMBRE\",\"DICIEMBRE\"]},\"id\":\"3883\",\"type\":\"FactorRange\"},{\"attributes\":{\"callback\":null,\"data\":{\"x\":[\"ENERO\",\"FEBRERO\",\"MARZO\",\"ABRIL\",\"MAYO\",\"JUNIO\",\"JULIO\",\"AGOSTO\",\"SEPTIEMBRE\",\"OCTUBRE\",\"NOVIEMBRE\",\"DICIEMBRE\"],\"y\":{\"__ndarray__\":\"sp3vp8bLHkCgGi/dJIYZQGMQWDm0SB5AwMqhRbbzHkAhsHJokS0gQMl2vp8aLxxAc2iR7Xw/GkBBYOXQItsaQCPb+X5qvBhAI9v5fmo8GUDhehSuR+EXQNR46SYxCBhA\",\"dtype\":\"float64\",\"shape\":[12]}},\"selected\":{\"id\":\"4048\",\"type\":\"Selection\"},\"selection_policy\":{\"id\":\"4047\",\"type\":\"UnionRenderers\"}},\"id\":\"3901\",\"type\":\"ColumnDataSource\"},{\"attributes\":{},\"id\":\"3887\",\"type\":\"CategoricalScale\"},{\"attributes\":{\"line_alpha\":0.1,\"line_color\":\"#1f77b4\",\"line_width\":2,\"x\":{\"field\":\"x\"},\"y\":{\"field\":\"y\"}},\"id\":\"3903\",\"type\":\"Line\"},{\"attributes\":{\"plot\":{\"id\":\"3881\",\"subtype\":\"Figure\",\"type\":\"Plot\"},\"ticker\":{\"id\":\"3892\",\"type\":\"CategoricalTicker\"}},\"id\":\"3894\",\"type\":\"Grid\"},{\"attributes\":{\"formatter\":{\"id\":\"4044\",\"type\":\"CategoricalTickFormatter\"},\"major_label_orientation\":1,\"plot\":{\"id\":\"3881\",\"subtype\":\"Figure\",\"type\":\"Plot\"},\"ticker\":{\"id\":\"3892\",\"type\":\"CategoricalTicker\"}},\"id\":\"3891\",\"type\":\"CategoricalAxis\"},{\"attributes\":{},\"id\":\"3892\",\"type\":\"CategoricalTicker\"},{\"attributes\":{\"callback\":null},\"id\":\"3885\",\"type\":\"DataRange1d\"},{\"attributes\":{\"line_color\":\"#1f77b4\",\"line_width\":2,\"x\":{\"field\":\"x\"},\"y\":{\"field\":\"y\"}},\"id\":\"3902\",\"type\":\"Line\"},{\"attributes\":{\"formatter\":{\"id\":\"4046\",\"type\":\"BasicTickFormatter\"},\"plot\":{\"id\":\"3881\",\"subtype\":\"Figure\",\"type\":\"Plot\"},\"ticker\":{\"id\":\"3896\",\"type\":\"BasicTicker\"}},\"id\":\"3895\",\"type\":\"LinearAxis\"},{\"attributes\":{\"plot\":null,\"text\":\"MAHOGANY\"},\"id\":\"3880\",\"type\":\"Title\"},{\"attributes\":{\"dimension\":1,\"plot\":{\"id\":\"3881\",\"subtype\":\"Figure\",\"type\":\"Plot\"},\"ticker\":{\"id\":\"3896\",\"type\":\"BasicTicker\"}},\"id\":\"3899\",\"type\":\"Grid\"}],\"root_ids\":[\"3881\"]},\"title\":\"Bokeh Application\",\"version\":\"1.0.3\"}};\n",
       "  var render_items = [{\"docid\":\"48a3cd79-2640-4b54-a1ff-b7edae31235a\",\"roots\":{\"3881\":\"2bc02767-8c89-475d-b4dd-80bee456a239\"}}];\n",
       "  root.Bokeh.embed.embed_items_notebook(docs_json, render_items);\n",
       "\n",
       "  }\n",
       "  if (root.Bokeh !== undefined) {\n",
       "    embed_document(root);\n",
       "  } else {\n",
       "    var attempts = 0;\n",
       "    var timer = setInterval(function(root) {\n",
       "      if (root.Bokeh !== undefined) {\n",
       "        embed_document(root);\n",
       "        clearInterval(timer);\n",
       "      }\n",
       "      attempts++;\n",
       "      if (attempts > 100) {\n",
       "        console.log(\"Bokeh: ERROR: Unable to run BokehJS code because BokehJS library is missing\");\n",
       "        clearInterval(timer);\n",
       "      }\n",
       "    }, 10, root)\n",
       "  }\n",
       "})(window);"
      ],
      "application/vnd.bokehjs_exec.v0+json": ""
     },
     "metadata": {
      "application/vnd.bokehjs_exec.v0+json": {
       "id": "3881"
      }
     },
     "output_type": "display_data"
    },
    {
     "data": {
      "text/html": [
       "\n",
       "\n",
       "\n",
       "\n",
       "\n",
       "\n",
       "  <div class=\"bk-root\" id=\"657d0b6b-6920-41ac-bacc-22d109c8a17f\" data-root-id=\"4092\"></div>\n"
      ]
     },
     "metadata": {},
     "output_type": "display_data"
    },
    {
     "data": {
      "application/javascript": [
       "(function(root) {\n",
       "  function embed_document(root) {\n",
       "    \n",
       "  var docs_json = {\"4bb68024-5d1d-45db-88dc-3a3b481f7036\":{\"roots\":{\"references\":[{\"attributes\":{\"below\":[{\"id\":\"4102\",\"type\":\"CategoricalAxis\"}],\"left\":[{\"id\":\"4106\",\"type\":\"LinearAxis\"}],\"plot_height\":550,\"plot_width\":550,\"renderers\":[{\"id\":\"4102\",\"type\":\"CategoricalAxis\"},{\"id\":\"4105\",\"type\":\"Grid\"},{\"id\":\"4106\",\"type\":\"LinearAxis\"},{\"id\":\"4110\",\"type\":\"Grid\"},{\"id\":\"4115\",\"type\":\"GlyphRenderer\"}],\"title\":{\"id\":\"4091\",\"type\":\"Title\"},\"toolbar\":{\"id\":\"4111\",\"type\":\"Toolbar\"},\"toolbar_location\":null,\"x_range\":{\"id\":\"4094\",\"type\":\"FactorRange\"},\"x_scale\":{\"id\":\"4098\",\"type\":\"CategoricalScale\"},\"y_range\":{\"id\":\"4096\",\"type\":\"DataRange1d\"},\"y_scale\":{\"id\":\"4100\",\"type\":\"LinearScale\"}},\"id\":\"4092\",\"subtype\":\"Figure\",\"type\":\"Plot\"},{\"attributes\":{\"plot\":null,\"text\":\"MARIANN\"},\"id\":\"4091\",\"type\":\"Title\"},{\"attributes\":{\"active_drag\":\"auto\",\"active_inspect\":\"auto\",\"active_multi\":null,\"active_scroll\":\"auto\",\"active_tap\":\"auto\"},\"id\":\"4111\",\"type\":\"Toolbar\"},{\"attributes\":{},\"id\":\"4107\",\"type\":\"BasicTicker\"},{\"attributes\":{\"dimension\":1,\"plot\":{\"id\":\"4092\",\"subtype\":\"Figure\",\"type\":\"Plot\"},\"ticker\":{\"id\":\"4107\",\"type\":\"BasicTicker\"}},\"id\":\"4110\",\"type\":\"Grid\"},{\"attributes\":{\"callback\":null,\"data\":{\"x\":[\"ENERO\",\"FEBRERO\",\"MARZO\",\"ABRIL\",\"MAYO\",\"JUNIO\",\"JULIO\",\"AGOSTO\",\"SEPTIEMBRE\",\"OCTUBRE\",\"NOVIEMBRE\",\"DICIEMBRE\"],\"y\":{\"__ndarray__\":\"30+Nl27aVUBoke18P9VTQESLbOf7sVRAf2q8dJMIWUBg5dAi20ldQKrx0k1ieF5AexSuR+GCX0A3iUFg5aBkQCcxCKwc/mNAlkOLbOc/ZkA9CtejcAFmQMP1KFyPTmlA\",\"dtype\":\"float64\",\"shape\":[12]}},\"selected\":{\"id\":\"4266\",\"type\":\"Selection\"},\"selection_policy\":{\"id\":\"4265\",\"type\":\"UnionRenderers\"}},\"id\":\"4112\",\"type\":\"ColumnDataSource\"},{\"attributes\":{\"formatter\":{\"id\":\"4264\",\"type\":\"BasicTickFormatter\"},\"plot\":{\"id\":\"4092\",\"subtype\":\"Figure\",\"type\":\"Plot\"},\"ticker\":{\"id\":\"4107\",\"type\":\"BasicTicker\"}},\"id\":\"4106\",\"type\":\"LinearAxis\"},{\"attributes\":{\"line_color\":\"#1f77b4\",\"line_width\":2,\"x\":{\"field\":\"x\"},\"y\":{\"field\":\"y\"}},\"id\":\"4113\",\"type\":\"Line\"},{\"attributes\":{\"plot\":{\"id\":\"4092\",\"subtype\":\"Figure\",\"type\":\"Plot\"},\"ticker\":{\"id\":\"4103\",\"type\":\"CategoricalTicker\"}},\"id\":\"4105\",\"type\":\"Grid\"},{\"attributes\":{\"formatter\":{\"id\":\"4262\",\"type\":\"CategoricalTickFormatter\"},\"major_label_orientation\":1,\"plot\":{\"id\":\"4092\",\"subtype\":\"Figure\",\"type\":\"Plot\"},\"ticker\":{\"id\":\"4103\",\"type\":\"CategoricalTicker\"}},\"id\":\"4102\",\"type\":\"CategoricalAxis\"},{\"attributes\":{},\"id\":\"4103\",\"type\":\"CategoricalTicker\"},{\"attributes\":{},\"id\":\"4100\",\"type\":\"LinearScale\"},{\"attributes\":{\"callback\":null},\"id\":\"4096\",\"type\":\"DataRange1d\"},{\"attributes\":{},\"id\":\"4264\",\"type\":\"BasicTickFormatter\"},{\"attributes\":{},\"id\":\"4098\",\"type\":\"CategoricalScale\"},{\"attributes\":{},\"id\":\"4262\",\"type\":\"CategoricalTickFormatter\"},{\"attributes\":{\"callback\":null,\"factors\":[\"ENERO\",\"FEBRERO\",\"MARZO\",\"ABRIL\",\"MAYO\",\"JUNIO\",\"JULIO\",\"AGOSTO\",\"SEPTIEMBRE\",\"OCTUBRE\",\"NOVIEMBRE\",\"DICIEMBRE\"]},\"id\":\"4094\",\"type\":\"FactorRange\"},{\"attributes\":{},\"id\":\"4266\",\"type\":\"Selection\"},{\"attributes\":{},\"id\":\"4265\",\"type\":\"UnionRenderers\"},{\"attributes\":{\"source\":{\"id\":\"4112\",\"type\":\"ColumnDataSource\"}},\"id\":\"4116\",\"type\":\"CDSView\"},{\"attributes\":{\"data_source\":{\"id\":\"4112\",\"type\":\"ColumnDataSource\"},\"glyph\":{\"id\":\"4113\",\"type\":\"Line\"},\"hover_glyph\":null,\"muted_glyph\":null,\"nonselection_glyph\":{\"id\":\"4114\",\"type\":\"Line\"},\"selection_glyph\":null,\"view\":{\"id\":\"4116\",\"type\":\"CDSView\"}},\"id\":\"4115\",\"type\":\"GlyphRenderer\"},{\"attributes\":{\"line_alpha\":0.1,\"line_color\":\"#1f77b4\",\"line_width\":2,\"x\":{\"field\":\"x\"},\"y\":{\"field\":\"y\"}},\"id\":\"4114\",\"type\":\"Line\"}],\"root_ids\":[\"4092\"]},\"title\":\"Bokeh Application\",\"version\":\"1.0.3\"}};\n",
       "  var render_items = [{\"docid\":\"4bb68024-5d1d-45db-88dc-3a3b481f7036\",\"roots\":{\"4092\":\"657d0b6b-6920-41ac-bacc-22d109c8a17f\"}}];\n",
       "  root.Bokeh.embed.embed_items_notebook(docs_json, render_items);\n",
       "\n",
       "  }\n",
       "  if (root.Bokeh !== undefined) {\n",
       "    embed_document(root);\n",
       "  } else {\n",
       "    var attempts = 0;\n",
       "    var timer = setInterval(function(root) {\n",
       "      if (root.Bokeh !== undefined) {\n",
       "        embed_document(root);\n",
       "        clearInterval(timer);\n",
       "      }\n",
       "      attempts++;\n",
       "      if (attempts > 100) {\n",
       "        console.log(\"Bokeh: ERROR: Unable to run BokehJS code because BokehJS library is missing\");\n",
       "        clearInterval(timer);\n",
       "      }\n",
       "    }, 10, root)\n",
       "  }\n",
       "})(window);"
      ],
      "application/vnd.bokehjs_exec.v0+json": ""
     },
     "metadata": {
      "application/vnd.bokehjs_exec.v0+json": {
       "id": "4092"
      }
     },
     "output_type": "display_data"
    },
    {
     "data": {
      "text/html": [
       "\n",
       "\n",
       "\n",
       "\n",
       "\n",
       "\n",
       "  <div class=\"bk-root\" id=\"3c144bbf-4c74-42f1-a8cd-ea9798c7a505\" data-root-id=\"4310\"></div>\n"
      ]
     },
     "metadata": {},
     "output_type": "display_data"
    },
    {
     "data": {
      "application/javascript": [
       "(function(root) {\n",
       "  function embed_document(root) {\n",
       "    \n",
       "  var docs_json = {\"a82012b5-f956-4165-b372-c1b57db3925e\":{\"roots\":{\"references\":[{\"attributes\":{\"below\":[{\"id\":\"4320\",\"type\":\"CategoricalAxis\"}],\"left\":[{\"id\":\"4324\",\"type\":\"LinearAxis\"}],\"plot_height\":550,\"plot_width\":550,\"renderers\":[{\"id\":\"4320\",\"type\":\"CategoricalAxis\"},{\"id\":\"4323\",\"type\":\"Grid\"},{\"id\":\"4324\",\"type\":\"LinearAxis\"},{\"id\":\"4328\",\"type\":\"Grid\"},{\"id\":\"4333\",\"type\":\"GlyphRenderer\"}],\"title\":{\"id\":\"4309\",\"type\":\"Title\"},\"toolbar\":{\"id\":\"4329\",\"type\":\"Toolbar\"},\"toolbar_location\":null,\"x_range\":{\"id\":\"4312\",\"type\":\"FactorRange\"},\"x_scale\":{\"id\":\"4316\",\"type\":\"CategoricalScale\"},\"y_range\":{\"id\":\"4314\",\"type\":\"DataRange1d\"},\"y_scale\":{\"id\":\"4318\",\"type\":\"LinearScale\"}},\"id\":\"4310\",\"subtype\":\"Figure\",\"type\":\"Plot\"},{\"attributes\":{},\"id\":\"4321\",\"type\":\"CategoricalTicker\"},{\"attributes\":{},\"id\":\"4325\",\"type\":\"BasicTicker\"},{\"attributes\":{},\"id\":\"4318\",\"type\":\"LinearScale\"},{\"attributes\":{\"plot\":{\"id\":\"4310\",\"subtype\":\"Figure\",\"type\":\"Plot\"},\"ticker\":{\"id\":\"4321\",\"type\":\"CategoricalTicker\"}},\"id\":\"4323\",\"type\":\"Grid\"},{\"attributes\":{\"formatter\":{\"id\":\"4489\",\"type\":\"BasicTickFormatter\"},\"plot\":{\"id\":\"4310\",\"subtype\":\"Figure\",\"type\":\"Plot\"},\"ticker\":{\"id\":\"4325\",\"type\":\"BasicTicker\"}},\"id\":\"4324\",\"type\":\"LinearAxis\"},{\"attributes\":{\"formatter\":{\"id\":\"4487\",\"type\":\"CategoricalTickFormatter\"},\"major_label_orientation\":1,\"plot\":{\"id\":\"4310\",\"subtype\":\"Figure\",\"type\":\"Plot\"},\"ticker\":{\"id\":\"4321\",\"type\":\"CategoricalTicker\"}},\"id\":\"4320\",\"type\":\"CategoricalAxis\"},{\"attributes\":{\"callback\":null},\"id\":\"4314\",\"type\":\"DataRange1d\"},{\"attributes\":{\"data_source\":{\"id\":\"4330\",\"type\":\"ColumnDataSource\"},\"glyph\":{\"id\":\"4331\",\"type\":\"Line\"},\"hover_glyph\":null,\"muted_glyph\":null,\"nonselection_glyph\":{\"id\":\"4332\",\"type\":\"Line\"},\"selection_glyph\":null,\"view\":{\"id\":\"4334\",\"type\":\"CDSView\"}},\"id\":\"4333\",\"type\":\"GlyphRenderer\"},{\"attributes\":{},\"id\":\"4316\",\"type\":\"CategoricalScale\"},{\"attributes\":{\"callback\":null,\"data\":{\"x\":[\"ENERO\",\"FEBRERO\",\"MARZO\",\"ABRIL\",\"MAYO\",\"JUNIO\",\"JULIO\",\"AGOSTO\",\"SEPTIEMBRE\",\"OCTUBRE\",\"NOVIEMBRE\",\"DICIEMBRE\"],\"y\":{\"__ndarray__\":\"d76fGi9dFUA6tMh2vp8GQAAAAAAAAAAAAAAAAAAAAAAAAAAAAOiJQMl2vp8aL/c/TDeJQWDl+D8AAAAAAAAAAAAAAAAAAAAAAAAAAAAAAAAAAAAAAAAAAAAAAAAAAAAA\",\"dtype\":\"float64\",\"shape\":[12]}},\"selected\":{\"id\":\"4491\",\"type\":\"Selection\"},\"selection_policy\":{\"id\":\"4490\",\"type\":\"UnionRenderers\"}},\"id\":\"4330\",\"type\":\"ColumnDataSource\"},{\"attributes\":{},\"id\":\"4487\",\"type\":\"CategoricalTickFormatter\"},{\"attributes\":{},\"id\":\"4490\",\"type\":\"UnionRenderers\"},{\"attributes\":{\"active_drag\":\"auto\",\"active_inspect\":\"auto\",\"active_multi\":null,\"active_scroll\":\"auto\",\"active_tap\":\"auto\"},\"id\":\"4329\",\"type\":\"Toolbar\"},{\"attributes\":{\"callback\":null,\"factors\":[\"ENERO\",\"FEBRERO\",\"MARZO\",\"ABRIL\",\"MAYO\",\"JUNIO\",\"JULIO\",\"AGOSTO\",\"SEPTIEMBRE\",\"OCTUBRE\",\"NOVIEMBRE\",\"DICIEMBRE\"]},\"id\":\"4312\",\"type\":\"FactorRange\"},{\"attributes\":{\"dimension\":1,\"plot\":{\"id\":\"4310\",\"subtype\":\"Figure\",\"type\":\"Plot\"},\"ticker\":{\"id\":\"4325\",\"type\":\"BasicTicker\"}},\"id\":\"4328\",\"type\":\"Grid\"},{\"attributes\":{},\"id\":\"4489\",\"type\":\"BasicTickFormatter\"},{\"attributes\":{\"plot\":null,\"text\":\"MARIANN NORTE\"},\"id\":\"4309\",\"type\":\"Title\"},{\"attributes\":{\"line_alpha\":0.1,\"line_color\":\"#1f77b4\",\"line_width\":2,\"x\":{\"field\":\"x\"},\"y\":{\"field\":\"y\"}},\"id\":\"4332\",\"type\":\"Line\"},{\"attributes\":{\"line_color\":\"#1f77b4\",\"line_width\":2,\"x\":{\"field\":\"x\"},\"y\":{\"field\":\"y\"}},\"id\":\"4331\",\"type\":\"Line\"},{\"attributes\":{\"source\":{\"id\":\"4330\",\"type\":\"ColumnDataSource\"}},\"id\":\"4334\",\"type\":\"CDSView\"},{\"attributes\":{},\"id\":\"4491\",\"type\":\"Selection\"}],\"root_ids\":[\"4310\"]},\"title\":\"Bokeh Application\",\"version\":\"1.0.3\"}};\n",
       "  var render_items = [{\"docid\":\"a82012b5-f956-4165-b372-c1b57db3925e\",\"roots\":{\"4310\":\"3c144bbf-4c74-42f1-a8cd-ea9798c7a505\"}}];\n",
       "  root.Bokeh.embed.embed_items_notebook(docs_json, render_items);\n",
       "\n",
       "  }\n",
       "  if (root.Bokeh !== undefined) {\n",
       "    embed_document(root);\n",
       "  } else {\n",
       "    var attempts = 0;\n",
       "    var timer = setInterval(function(root) {\n",
       "      if (root.Bokeh !== undefined) {\n",
       "        embed_document(root);\n",
       "        clearInterval(timer);\n",
       "      }\n",
       "      attempts++;\n",
       "      if (attempts > 100) {\n",
       "        console.log(\"Bokeh: ERROR: Unable to run BokehJS code because BokehJS library is missing\");\n",
       "        clearInterval(timer);\n",
       "      }\n",
       "    }, 10, root)\n",
       "  }\n",
       "})(window);"
      ],
      "application/vnd.bokehjs_exec.v0+json": ""
     },
     "metadata": {
      "application/vnd.bokehjs_exec.v0+json": {
       "id": "4310"
      }
     },
     "output_type": "display_data"
    },
    {
     "data": {
      "text/html": [
       "\n",
       "\n",
       "\n",
       "\n",
       "\n",
       "\n",
       "  <div class=\"bk-root\" id=\"a952a3c4-4baa-4edb-a5e8-c20bdb73784e\" data-root-id=\"4535\"></div>\n"
      ]
     },
     "metadata": {},
     "output_type": "display_data"
    },
    {
     "data": {
      "application/javascript": [
       "(function(root) {\n",
       "  function embed_document(root) {\n",
       "    \n",
       "  var docs_json = {\"cab15170-b82b-4c1d-bd72-1a898b3aa332\":{\"roots\":{\"references\":[{\"attributes\":{\"below\":[{\"id\":\"4545\",\"type\":\"CategoricalAxis\"}],\"left\":[{\"id\":\"4549\",\"type\":\"LinearAxis\"}],\"plot_height\":550,\"plot_width\":550,\"renderers\":[{\"id\":\"4545\",\"type\":\"CategoricalAxis\"},{\"id\":\"4548\",\"type\":\"Grid\"},{\"id\":\"4549\",\"type\":\"LinearAxis\"},{\"id\":\"4553\",\"type\":\"Grid\"},{\"id\":\"4558\",\"type\":\"GlyphRenderer\"}],\"title\":{\"id\":\"4534\",\"type\":\"Title\"},\"toolbar\":{\"id\":\"4554\",\"type\":\"Toolbar\"},\"toolbar_location\":null,\"x_range\":{\"id\":\"4537\",\"type\":\"FactorRange\"},\"x_scale\":{\"id\":\"4541\",\"type\":\"CategoricalScale\"},\"y_range\":{\"id\":\"4539\",\"type\":\"DataRange1d\"},\"y_scale\":{\"id\":\"4543\",\"type\":\"LinearScale\"}},\"id\":\"4535\",\"subtype\":\"Figure\",\"type\":\"Plot\"},{\"attributes\":{\"active_drag\":\"auto\",\"active_inspect\":\"auto\",\"active_multi\":null,\"active_scroll\":\"auto\",\"active_tap\":\"auto\"},\"id\":\"4554\",\"type\":\"Toolbar\"},{\"attributes\":{},\"id\":\"4550\",\"type\":\"BasicTicker\"},{\"attributes\":{\"dimension\":1,\"plot\":{\"id\":\"4535\",\"subtype\":\"Figure\",\"type\":\"Plot\"},\"ticker\":{\"id\":\"4550\",\"type\":\"BasicTicker\"}},\"id\":\"4553\",\"type\":\"Grid\"},{\"attributes\":{\"callback\":null,\"factors\":[\"ENERO\",\"FEBRERO\",\"MARZO\",\"ABRIL\",\"MAYO\",\"JUNIO\",\"JULIO\",\"AGOSTO\",\"SEPTIEMBRE\",\"OCTUBRE\",\"NOVIEMBRE\",\"DICIEMBRE\"]},\"id\":\"4537\",\"type\":\"FactorRange\"},{\"attributes\":{\"callback\":null,\"data\":{\"x\":[\"ENERO\",\"FEBRERO\",\"MARZO\",\"ABRIL\",\"MAYO\",\"JUNIO\",\"JULIO\",\"AGOSTO\",\"SEPTIEMBRE\",\"OCTUBRE\",\"NOVIEMBRE\",\"DICIEMBRE\"],\"y\":{\"__ndarray__\":\"u0kMAitHLkDXo3A9CvcxQPT91HjpVkFAppvEILBCR0Bcj8L1KGxNQJLtfD81nkhAWDm0yHZeR0AAAAAAAAAAAAAAAAAAAAAAAAAAAAAAAAAAAAAAAAAAAAAAAAAAAAAA\",\"dtype\":\"float64\",\"shape\":[12]}},\"selected\":{\"id\":\"4723\",\"type\":\"Selection\"},\"selection_policy\":{\"id\":\"4722\",\"type\":\"UnionRenderers\"}},\"id\":\"4555\",\"type\":\"ColumnDataSource\"},{\"attributes\":{\"source\":{\"id\":\"4555\",\"type\":\"ColumnDataSource\"}},\"id\":\"4559\",\"type\":\"CDSView\"},{\"attributes\":{},\"id\":\"4722\",\"type\":\"UnionRenderers\"},{\"attributes\":{\"data_source\":{\"id\":\"4555\",\"type\":\"ColumnDataSource\"},\"glyph\":{\"id\":\"4556\",\"type\":\"Line\"},\"hover_glyph\":null,\"muted_glyph\":null,\"nonselection_glyph\":{\"id\":\"4557\",\"type\":\"Line\"},\"selection_glyph\":null,\"view\":{\"id\":\"4559\",\"type\":\"CDSView\"}},\"id\":\"4558\",\"type\":\"GlyphRenderer\"},{\"attributes\":{},\"id\":\"4719\",\"type\":\"CategoricalTickFormatter\"},{\"attributes\":{\"line_alpha\":0.1,\"line_color\":\"#1f77b4\",\"line_width\":2,\"x\":{\"field\":\"x\"},\"y\":{\"field\":\"y\"}},\"id\":\"4557\",\"type\":\"Line\"},{\"attributes\":{\"plot\":null,\"text\":\"MARIANN SUR\"},\"id\":\"4534\",\"type\":\"Title\"},{\"attributes\":{},\"id\":\"4723\",\"type\":\"Selection\"},{\"attributes\":{\"formatter\":{\"id\":\"4721\",\"type\":\"BasicTickFormatter\"},\"plot\":{\"id\":\"4535\",\"subtype\":\"Figure\",\"type\":\"Plot\"},\"ticker\":{\"id\":\"4550\",\"type\":\"BasicTicker\"}},\"id\":\"4549\",\"type\":\"LinearAxis\"},{\"attributes\":{\"line_color\":\"#1f77b4\",\"line_width\":2,\"x\":{\"field\":\"x\"},\"y\":{\"field\":\"y\"}},\"id\":\"4556\",\"type\":\"Line\"},{\"attributes\":{\"callback\":null},\"id\":\"4539\",\"type\":\"DataRange1d\"},{\"attributes\":{},\"id\":\"4541\",\"type\":\"CategoricalScale\"},{\"attributes\":{\"formatter\":{\"id\":\"4719\",\"type\":\"CategoricalTickFormatter\"},\"major_label_orientation\":1,\"plot\":{\"id\":\"4535\",\"subtype\":\"Figure\",\"type\":\"Plot\"},\"ticker\":{\"id\":\"4546\",\"type\":\"CategoricalTicker\"}},\"id\":\"4545\",\"type\":\"CategoricalAxis\"},{\"attributes\":{},\"id\":\"4546\",\"type\":\"CategoricalTicker\"},{\"attributes\":{\"plot\":{\"id\":\"4535\",\"subtype\":\"Figure\",\"type\":\"Plot\"},\"ticker\":{\"id\":\"4546\",\"type\":\"CategoricalTicker\"}},\"id\":\"4548\",\"type\":\"Grid\"},{\"attributes\":{},\"id\":\"4721\",\"type\":\"BasicTickFormatter\"},{\"attributes\":{},\"id\":\"4543\",\"type\":\"LinearScale\"}],\"root_ids\":[\"4535\"]},\"title\":\"Bokeh Application\",\"version\":\"1.0.3\"}};\n",
       "  var render_items = [{\"docid\":\"cab15170-b82b-4c1d-bd72-1a898b3aa332\",\"roots\":{\"4535\":\"a952a3c4-4baa-4edb-a5e8-c20bdb73784e\"}}];\n",
       "  root.Bokeh.embed.embed_items_notebook(docs_json, render_items);\n",
       "\n",
       "  }\n",
       "  if (root.Bokeh !== undefined) {\n",
       "    embed_document(root);\n",
       "  } else {\n",
       "    var attempts = 0;\n",
       "    var timer = setInterval(function(root) {\n",
       "      if (root.Bokeh !== undefined) {\n",
       "        embed_document(root);\n",
       "        clearInterval(timer);\n",
       "      }\n",
       "      attempts++;\n",
       "      if (attempts > 100) {\n",
       "        console.log(\"Bokeh: ERROR: Unable to run BokehJS code because BokehJS library is missing\");\n",
       "        clearInterval(timer);\n",
       "      }\n",
       "    }, 10, root)\n",
       "  }\n",
       "})(window);"
      ],
      "application/vnd.bokehjs_exec.v0+json": ""
     },
     "metadata": {
      "application/vnd.bokehjs_exec.v0+json": {
       "id": "4535"
      }
     },
     "output_type": "display_data"
    },
    {
     "data": {
      "text/html": [
       "\n",
       "\n",
       "\n",
       "\n",
       "\n",
       "\n",
       "  <div class=\"bk-root\" id=\"1374e925-4db4-4569-9ff6-814f00b8849b\" data-root-id=\"4767\"></div>\n"
      ]
     },
     "metadata": {},
     "output_type": "display_data"
    },
    {
     "data": {
      "application/javascript": [
       "(function(root) {\n",
       "  function embed_document(root) {\n",
       "    \n",
       "  var docs_json = {\"e541b97b-f1ec-4060-bfe9-55483e3f2293\":{\"roots\":{\"references\":[{\"attributes\":{\"below\":[{\"id\":\"4777\",\"type\":\"CategoricalAxis\"}],\"left\":[{\"id\":\"4781\",\"type\":\"LinearAxis\"}],\"plot_height\":550,\"plot_width\":550,\"renderers\":[{\"id\":\"4777\",\"type\":\"CategoricalAxis\"},{\"id\":\"4780\",\"type\":\"Grid\"},{\"id\":\"4781\",\"type\":\"LinearAxis\"},{\"id\":\"4785\",\"type\":\"Grid\"},{\"id\":\"4790\",\"type\":\"GlyphRenderer\"}],\"title\":{\"id\":\"4766\",\"type\":\"Title\"},\"toolbar\":{\"id\":\"4786\",\"type\":\"Toolbar\"},\"toolbar_location\":null,\"x_range\":{\"id\":\"4769\",\"type\":\"FactorRange\"},\"x_scale\":{\"id\":\"4773\",\"type\":\"CategoricalScale\"},\"y_range\":{\"id\":\"4771\",\"type\":\"DataRange1d\"},\"y_scale\":{\"id\":\"4775\",\"type\":\"LinearScale\"}},\"id\":\"4767\",\"subtype\":\"Figure\",\"type\":\"Plot\"},{\"attributes\":{\"dimension\":1,\"plot\":{\"id\":\"4767\",\"subtype\":\"Figure\",\"type\":\"Plot\"},\"ticker\":{\"id\":\"4782\",\"type\":\"BasicTicker\"}},\"id\":\"4785\",\"type\":\"Grid\"},{\"attributes\":{\"line_alpha\":0.1,\"line_color\":\"#1f77b4\",\"line_width\":2,\"x\":{\"field\":\"x\"},\"y\":{\"field\":\"y\"}},\"id\":\"4789\",\"type\":\"Line\"},{\"attributes\":{\"data_source\":{\"id\":\"4787\",\"type\":\"ColumnDataSource\"},\"glyph\":{\"id\":\"4788\",\"type\":\"Line\"},\"hover_glyph\":null,\"muted_glyph\":null,\"nonselection_glyph\":{\"id\":\"4789\",\"type\":\"Line\"},\"selection_glyph\":null,\"view\":{\"id\":\"4791\",\"type\":\"CDSView\"}},\"id\":\"4790\",\"type\":\"GlyphRenderer\"},{\"attributes\":{},\"id\":\"4961\",\"type\":\"UnionRenderers\"},{\"attributes\":{\"source\":{\"id\":\"4787\",\"type\":\"ColumnDataSource\"}},\"id\":\"4791\",\"type\":\"CDSView\"},{\"attributes\":{},\"id\":\"4773\",\"type\":\"CategoricalScale\"},{\"attributes\":{\"callback\":null},\"id\":\"4771\",\"type\":\"DataRange1d\"},{\"attributes\":{},\"id\":\"4958\",\"type\":\"CategoricalTickFormatter\"},{\"attributes\":{},\"id\":\"4962\",\"type\":\"Selection\"},{\"attributes\":{\"plot\":null,\"text\":\"MARIANN-4A\"},\"id\":\"4766\",\"type\":\"Title\"},{\"attributes\":{\"formatter\":{\"id\":\"4958\",\"type\":\"CategoricalTickFormatter\"},\"major_label_orientation\":1,\"plot\":{\"id\":\"4767\",\"subtype\":\"Figure\",\"type\":\"Plot\"},\"ticker\":{\"id\":\"4778\",\"type\":\"CategoricalTicker\"}},\"id\":\"4777\",\"type\":\"CategoricalAxis\"},{\"attributes\":{},\"id\":\"4778\",\"type\":\"CategoricalTicker\"},{\"attributes\":{},\"id\":\"4775\",\"type\":\"LinearScale\"},{\"attributes\":{\"plot\":{\"id\":\"4767\",\"subtype\":\"Figure\",\"type\":\"Plot\"},\"ticker\":{\"id\":\"4778\",\"type\":\"CategoricalTicker\"}},\"id\":\"4780\",\"type\":\"Grid\"},{\"attributes\":{\"line_color\":\"#1f77b4\",\"line_width\":2,\"x\":{\"field\":\"x\"},\"y\":{\"field\":\"y\"}},\"id\":\"4788\",\"type\":\"Line\"},{\"attributes\":{\"formatter\":{\"id\":\"4960\",\"type\":\"BasicTickFormatter\"},\"plot\":{\"id\":\"4767\",\"subtype\":\"Figure\",\"type\":\"Plot\"},\"ticker\":{\"id\":\"4782\",\"type\":\"BasicTicker\"}},\"id\":\"4781\",\"type\":\"LinearAxis\"},{\"attributes\":{},\"id\":\"4782\",\"type\":\"BasicTicker\"},{\"attributes\":{\"callback\":null,\"factors\":[\"ENERO\",\"FEBRERO\",\"MARZO\",\"ABRIL\",\"MAYO\",\"JUNIO\",\"JULIO\",\"AGOSTO\",\"SEPTIEMBRE\",\"OCTUBRE\",\"NOVIEMBRE\",\"DICIEMBRE\"]},\"id\":\"4769\",\"type\":\"FactorRange\"},{\"attributes\":{\"callback\":null,\"data\":{\"x\":[\"ENERO\",\"FEBRERO\",\"MARZO\",\"ABRIL\",\"MAYO\",\"JUNIO\",\"JULIO\",\"AGOSTO\",\"SEPTIEMBRE\",\"OCTUBRE\",\"NOVIEMBRE\",\"DICIEMBRE\"],\"y\":{\"__ndarray__\":\"TDeJQWDFOEChRbbz/bQ2QNv5fmq8lDtAnMQgsHLoNkBKDAIrh/Y6QFg5tMh23jhAVg4tsp2POUAzMzMzM5M4QDvfT42XrjVAmpmZmZmZNkADK4cW2a40QDEIrBxaJDNA\",\"dtype\":\"float64\",\"shape\":[12]}},\"selected\":{\"id\":\"4962\",\"type\":\"Selection\"},\"selection_policy\":{\"id\":\"4961\",\"type\":\"UnionRenderers\"}},\"id\":\"4787\",\"type\":\"ColumnDataSource\"},{\"attributes\":{},\"id\":\"4960\",\"type\":\"BasicTickFormatter\"},{\"attributes\":{\"active_drag\":\"auto\",\"active_inspect\":\"auto\",\"active_multi\":null,\"active_scroll\":\"auto\",\"active_tap\":\"auto\"},\"id\":\"4786\",\"type\":\"Toolbar\"}],\"root_ids\":[\"4767\"]},\"title\":\"Bokeh Application\",\"version\":\"1.0.3\"}};\n",
       "  var render_items = [{\"docid\":\"e541b97b-f1ec-4060-bfe9-55483e3f2293\",\"roots\":{\"4767\":\"1374e925-4db4-4569-9ff6-814f00b8849b\"}}];\n",
       "  root.Bokeh.embed.embed_items_notebook(docs_json, render_items);\n",
       "\n",
       "  }\n",
       "  if (root.Bokeh !== undefined) {\n",
       "    embed_document(root);\n",
       "  } else {\n",
       "    var attempts = 0;\n",
       "    var timer = setInterval(function(root) {\n",
       "      if (root.Bokeh !== undefined) {\n",
       "        embed_document(root);\n",
       "        clearInterval(timer);\n",
       "      }\n",
       "      attempts++;\n",
       "      if (attempts > 100) {\n",
       "        console.log(\"Bokeh: ERROR: Unable to run BokehJS code because BokehJS library is missing\");\n",
       "        clearInterval(timer);\n",
       "      }\n",
       "    }, 10, root)\n",
       "  }\n",
       "})(window);"
      ],
      "application/vnd.bokehjs_exec.v0+json": ""
     },
     "metadata": {
      "application/vnd.bokehjs_exec.v0+json": {
       "id": "4767"
      }
     },
     "output_type": "display_data"
    },
    {
     "data": {
      "text/html": [
       "\n",
       "\n",
       "\n",
       "\n",
       "\n",
       "\n",
       "  <div class=\"bk-root\" id=\"e75f3dcf-58d0-4aaf-a23b-4d48bc8bfe5a\" data-root-id=\"5006\"></div>\n"
      ]
     },
     "metadata": {},
     "output_type": "display_data"
    },
    {
     "data": {
      "application/javascript": [
       "(function(root) {\n",
       "  function embed_document(root) {\n",
       "    \n",
       "  var docs_json = {\"a11a5c3d-e420-4d58-bba7-f722a1efb215\":{\"roots\":{\"references\":[{\"attributes\":{\"below\":[{\"id\":\"5016\",\"type\":\"CategoricalAxis\"}],\"left\":[{\"id\":\"5020\",\"type\":\"LinearAxis\"}],\"plot_height\":550,\"plot_width\":550,\"renderers\":[{\"id\":\"5016\",\"type\":\"CategoricalAxis\"},{\"id\":\"5019\",\"type\":\"Grid\"},{\"id\":\"5020\",\"type\":\"LinearAxis\"},{\"id\":\"5024\",\"type\":\"Grid\"},{\"id\":\"5029\",\"type\":\"GlyphRenderer\"}],\"title\":{\"id\":\"5005\",\"type\":\"Title\"},\"toolbar\":{\"id\":\"5025\",\"type\":\"Toolbar\"},\"toolbar_location\":null,\"x_range\":{\"id\":\"5008\",\"type\":\"FactorRange\"},\"x_scale\":{\"id\":\"5012\",\"type\":\"CategoricalScale\"},\"y_range\":{\"id\":\"5010\",\"type\":\"DataRange1d\"},\"y_scale\":{\"id\":\"5014\",\"type\":\"LinearScale\"}},\"id\":\"5006\",\"subtype\":\"Figure\",\"type\":\"Plot\"},{\"attributes\":{},\"id\":\"5017\",\"type\":\"CategoricalTicker\"},{\"attributes\":{},\"id\":\"5208\",\"type\":\"Selection\"},{\"attributes\":{\"formatter\":{\"id\":\"5206\",\"type\":\"BasicTickFormatter\"},\"plot\":{\"id\":\"5006\",\"subtype\":\"Figure\",\"type\":\"Plot\"},\"ticker\":{\"id\":\"5021\",\"type\":\"BasicTicker\"}},\"id\":\"5020\",\"type\":\"LinearAxis\"},{\"attributes\":{\"callback\":null,\"data\":{\"x\":[\"ENERO\",\"FEBRERO\",\"MARZO\",\"ABRIL\",\"MAYO\",\"JUNIO\",\"JULIO\",\"AGOSTO\",\"SEPTIEMBRE\",\"OCTUBRE\",\"NOVIEMBRE\",\"DICIEMBRE\"],\"y\":{\"__ndarray__\":\"AAAAAAAAAAAAAAAAAAAAAAAAAAAAAAAAAAAAAAAAAAAAAAAAAAAAAAAAAAAAAAAAAAAAAAAAAAAAAAAAAAAAAAAAAAAAAAAAAAAAAADgdEAAAAAAAAAAAAAAAAAAAAAA\",\"dtype\":\"float64\",\"shape\":[12]}},\"selected\":{\"id\":\"5208\",\"type\":\"Selection\"},\"selection_policy\":{\"id\":\"5207\",\"type\":\"UnionRenderers\"}},\"id\":\"5026\",\"type\":\"ColumnDataSource\"},{\"attributes\":{},\"id\":\"5014\",\"type\":\"LinearScale\"},{\"attributes\":{\"source\":{\"id\":\"5026\",\"type\":\"ColumnDataSource\"}},\"id\":\"5030\",\"type\":\"CDSView\"},{\"attributes\":{},\"id\":\"5012\",\"type\":\"CategoricalScale\"},{\"attributes\":{},\"id\":\"5207\",\"type\":\"UnionRenderers\"},{\"attributes\":{},\"id\":\"5204\",\"type\":\"CategoricalTickFormatter\"},{\"attributes\":{\"plot\":{\"id\":\"5006\",\"subtype\":\"Figure\",\"type\":\"Plot\"},\"ticker\":{\"id\":\"5017\",\"type\":\"CategoricalTicker\"}},\"id\":\"5019\",\"type\":\"Grid\"},{\"attributes\":{\"data_source\":{\"id\":\"5026\",\"type\":\"ColumnDataSource\"},\"glyph\":{\"id\":\"5027\",\"type\":\"Line\"},\"hover_glyph\":null,\"muted_glyph\":null,\"nonselection_glyph\":{\"id\":\"5028\",\"type\":\"Line\"},\"selection_glyph\":null,\"view\":{\"id\":\"5030\",\"type\":\"CDSView\"}},\"id\":\"5029\",\"type\":\"GlyphRenderer\"},{\"attributes\":{\"callback\":null},\"id\":\"5010\",\"type\":\"DataRange1d\"},{\"attributes\":{\"formatter\":{\"id\":\"5204\",\"type\":\"CategoricalTickFormatter\"},\"major_label_orientation\":1,\"plot\":{\"id\":\"5006\",\"subtype\":\"Figure\",\"type\":\"Plot\"},\"ticker\":{\"id\":\"5017\",\"type\":\"CategoricalTicker\"}},\"id\":\"5016\",\"type\":\"CategoricalAxis\"},{\"attributes\":{\"line_alpha\":0.1,\"line_color\":\"#1f77b4\",\"line_width\":2,\"x\":{\"field\":\"x\"},\"y\":{\"field\":\"y\"}},\"id\":\"5028\",\"type\":\"Line\"},{\"attributes\":{\"line_color\":\"#1f77b4\",\"line_width\":2,\"x\":{\"field\":\"x\"},\"y\":{\"field\":\"y\"}},\"id\":\"5027\",\"type\":\"Line\"},{\"attributes\":{\"dimension\":1,\"plot\":{\"id\":\"5006\",\"subtype\":\"Figure\",\"type\":\"Plot\"},\"ticker\":{\"id\":\"5021\",\"type\":\"BasicTicker\"}},\"id\":\"5024\",\"type\":\"Grid\"},{\"attributes\":{},\"id\":\"5021\",\"type\":\"BasicTicker\"},{\"attributes\":{\"callback\":null,\"factors\":[\"ENERO\",\"FEBRERO\",\"MARZO\",\"ABRIL\",\"MAYO\",\"JUNIO\",\"JULIO\",\"AGOSTO\",\"SEPTIEMBRE\",\"OCTUBRE\",\"NOVIEMBRE\",\"DICIEMBRE\"]},\"id\":\"5008\",\"type\":\"FactorRange\"},{\"attributes\":{\"plot\":null,\"text\":\"ORQUIDEA\"},\"id\":\"5005\",\"type\":\"Title\"},{\"attributes\":{},\"id\":\"5206\",\"type\":\"BasicTickFormatter\"},{\"attributes\":{\"active_drag\":\"auto\",\"active_inspect\":\"auto\",\"active_multi\":null,\"active_scroll\":\"auto\",\"active_tap\":\"auto\"},\"id\":\"5025\",\"type\":\"Toolbar\"}],\"root_ids\":[\"5006\"]},\"title\":\"Bokeh Application\",\"version\":\"1.0.3\"}};\n",
       "  var render_items = [{\"docid\":\"a11a5c3d-e420-4d58-bba7-f722a1efb215\",\"roots\":{\"5006\":\"e75f3dcf-58d0-4aaf-a23b-4d48bc8bfe5a\"}}];\n",
       "  root.Bokeh.embed.embed_items_notebook(docs_json, render_items);\n",
       "\n",
       "  }\n",
       "  if (root.Bokeh !== undefined) {\n",
       "    embed_document(root);\n",
       "  } else {\n",
       "    var attempts = 0;\n",
       "    var timer = setInterval(function(root) {\n",
       "      if (root.Bokeh !== undefined) {\n",
       "        embed_document(root);\n",
       "        clearInterval(timer);\n",
       "      }\n",
       "      attempts++;\n",
       "      if (attempts > 100) {\n",
       "        console.log(\"Bokeh: ERROR: Unable to run BokehJS code because BokehJS library is missing\");\n",
       "        clearInterval(timer);\n",
       "      }\n",
       "    }, 10, root)\n",
       "  }\n",
       "})(window);"
      ],
      "application/vnd.bokehjs_exec.v0+json": ""
     },
     "metadata": {
      "application/vnd.bokehjs_exec.v0+json": {
       "id": "5006"
      }
     },
     "output_type": "display_data"
    },
    {
     "data": {
      "text/html": [
       "\n",
       "\n",
       "\n",
       "\n",
       "\n",
       "\n",
       "  <div class=\"bk-root\" id=\"a8849b0c-795b-4b00-8f86-97b6776a28ab\" data-root-id=\"5252\"></div>\n"
      ]
     },
     "metadata": {},
     "output_type": "display_data"
    },
    {
     "data": {
      "application/javascript": [
       "(function(root) {\n",
       "  function embed_document(root) {\n",
       "    \n",
       "  var docs_json = {\"1ff90dbb-ae22-4e25-9ebb-e71903dffe40\":{\"roots\":{\"references\":[{\"attributes\":{\"below\":[{\"id\":\"5262\",\"type\":\"CategoricalAxis\"}],\"left\":[{\"id\":\"5266\",\"type\":\"LinearAxis\"}],\"plot_height\":550,\"plot_width\":550,\"renderers\":[{\"id\":\"5262\",\"type\":\"CategoricalAxis\"},{\"id\":\"5265\",\"type\":\"Grid\"},{\"id\":\"5266\",\"type\":\"LinearAxis\"},{\"id\":\"5270\",\"type\":\"Grid\"},{\"id\":\"5275\",\"type\":\"GlyphRenderer\"}],\"title\":{\"id\":\"5251\",\"type\":\"Title\"},\"toolbar\":{\"id\":\"5271\",\"type\":\"Toolbar\"},\"toolbar_location\":null,\"x_range\":{\"id\":\"5254\",\"type\":\"FactorRange\"},\"x_scale\":{\"id\":\"5258\",\"type\":\"CategoricalScale\"},\"y_range\":{\"id\":\"5256\",\"type\":\"DataRange1d\"},\"y_scale\":{\"id\":\"5260\",\"type\":\"LinearScale\"}},\"id\":\"5252\",\"subtype\":\"Figure\",\"type\":\"Plot\"},{\"attributes\":{\"callback\":null,\"factors\":[\"ENERO\",\"FEBRERO\",\"MARZO\",\"ABRIL\",\"MAYO\",\"JUNIO\",\"JULIO\",\"AGOSTO\",\"SEPTIEMBRE\",\"OCTUBRE\",\"NOVIEMBRE\",\"DICIEMBRE\"]},\"id\":\"5254\",\"type\":\"FactorRange\"},{\"attributes\":{},\"id\":\"5258\",\"type\":\"CategoricalScale\"},{\"attributes\":{\"callback\":null},\"id\":\"5256\",\"type\":\"DataRange1d\"},{\"attributes\":{},\"id\":\"5457\",\"type\":\"CategoricalTickFormatter\"},{\"attributes\":{},\"id\":\"5260\",\"type\":\"LinearScale\"},{\"attributes\":{},\"id\":\"5263\",\"type\":\"CategoricalTicker\"},{\"attributes\":{\"formatter\":{\"id\":\"5457\",\"type\":\"CategoricalTickFormatter\"},\"major_label_orientation\":1,\"plot\":{\"id\":\"5252\",\"subtype\":\"Figure\",\"type\":\"Plot\"},\"ticker\":{\"id\":\"5263\",\"type\":\"CategoricalTicker\"}},\"id\":\"5262\",\"type\":\"CategoricalAxis\"},{\"attributes\":{\"plot\":{\"id\":\"5252\",\"subtype\":\"Figure\",\"type\":\"Plot\"},\"ticker\":{\"id\":\"5263\",\"type\":\"CategoricalTicker\"}},\"id\":\"5265\",\"type\":\"Grid\"},{\"attributes\":{\"formatter\":{\"id\":\"5459\",\"type\":\"BasicTickFormatter\"},\"plot\":{\"id\":\"5252\",\"subtype\":\"Figure\",\"type\":\"Plot\"},\"ticker\":{\"id\":\"5267\",\"type\":\"BasicTicker\"}},\"id\":\"5266\",\"type\":\"LinearAxis\"},{\"attributes\":{\"dimension\":1,\"plot\":{\"id\":\"5252\",\"subtype\":\"Figure\",\"type\":\"Plot\"},\"ticker\":{\"id\":\"5267\",\"type\":\"BasicTicker\"}},\"id\":\"5270\",\"type\":\"Grid\"},{\"attributes\":{},\"id\":\"5267\",\"type\":\"BasicTicker\"},{\"attributes\":{\"callback\":null,\"data\":{\"x\":[\"ENERO\",\"FEBRERO\",\"MARZO\",\"ABRIL\",\"MAYO\",\"JUNIO\",\"JULIO\",\"AGOSTO\",\"SEPTIEMBRE\",\"OCTUBRE\",\"NOVIEMBRE\",\"DICIEMBRE\"],\"y\":{\"__ndarray__\":\"iUFg5dAi+z9kO99PjZf0P3e+nxov3fQ/CKwcWmQ79z/4U+Olm8T2P9Ei2/l+av4/QWDl0CLbA0DNzMzMzMwFQHsUrkfhOjJAqvHSTWKQJEDdJAaBlUMcQLTIdr6fmh1A\",\"dtype\":\"float64\",\"shape\":[12]}},\"selected\":{\"id\":\"5461\",\"type\":\"Selection\"},\"selection_policy\":{\"id\":\"5460\",\"type\":\"UnionRenderers\"}},\"id\":\"5272\",\"type\":\"ColumnDataSource\"},{\"attributes\":{},\"id\":\"5459\",\"type\":\"BasicTickFormatter\"},{\"attributes\":{\"active_drag\":\"auto\",\"active_inspect\":\"auto\",\"active_multi\":null,\"active_scroll\":\"auto\",\"active_tap\":\"auto\"},\"id\":\"5271\",\"type\":\"Toolbar\"},{\"attributes\":{},\"id\":\"5460\",\"type\":\"UnionRenderers\"},{\"attributes\":{\"line_alpha\":0.1,\"line_color\":\"#1f77b4\",\"line_width\":2,\"x\":{\"field\":\"x\"},\"y\":{\"field\":\"y\"}},\"id\":\"5274\",\"type\":\"Line\"},{\"attributes\":{\"data_source\":{\"id\":\"5272\",\"type\":\"ColumnDataSource\"},\"glyph\":{\"id\":\"5273\",\"type\":\"Line\"},\"hover_glyph\":null,\"muted_glyph\":null,\"nonselection_glyph\":{\"id\":\"5274\",\"type\":\"Line\"},\"selection_glyph\":null,\"view\":{\"id\":\"5276\",\"type\":\"CDSView\"}},\"id\":\"5275\",\"type\":\"GlyphRenderer\"},{\"attributes\":{\"source\":{\"id\":\"5272\",\"type\":\"ColumnDataSource\"}},\"id\":\"5276\",\"type\":\"CDSView\"},{\"attributes\":{},\"id\":\"5461\",\"type\":\"Selection\"},{\"attributes\":{\"line_color\":\"#1f77b4\",\"line_width\":2,\"x\":{\"field\":\"x\"},\"y\":{\"field\":\"y\"}},\"id\":\"5273\",\"type\":\"Line\"},{\"attributes\":{\"plot\":null,\"text\":\"SHIRLEY\"},\"id\":\"5251\",\"type\":\"Title\"}],\"root_ids\":[\"5252\"]},\"title\":\"Bokeh Application\",\"version\":\"1.0.3\"}};\n",
       "  var render_items = [{\"docid\":\"1ff90dbb-ae22-4e25-9ebb-e71903dffe40\",\"roots\":{\"5252\":\"a8849b0c-795b-4b00-8f86-97b6776a28ab\"}}];\n",
       "  root.Bokeh.embed.embed_items_notebook(docs_json, render_items);\n",
       "\n",
       "  }\n",
       "  if (root.Bokeh !== undefined) {\n",
       "    embed_document(root);\n",
       "  } else {\n",
       "    var attempts = 0;\n",
       "    var timer = setInterval(function(root) {\n",
       "      if (root.Bokeh !== undefined) {\n",
       "        embed_document(root);\n",
       "        clearInterval(timer);\n",
       "      }\n",
       "      attempts++;\n",
       "      if (attempts > 100) {\n",
       "        console.log(\"Bokeh: ERROR: Unable to run BokehJS code because BokehJS library is missing\");\n",
       "        clearInterval(timer);\n",
       "      }\n",
       "    }, 10, root)\n",
       "  }\n",
       "})(window);"
      ],
      "application/vnd.bokehjs_exec.v0+json": ""
     },
     "metadata": {
      "application/vnd.bokehjs_exec.v0+json": {
       "id": "5252"
      }
     },
     "output_type": "display_data"
    },
    {
     "data": {
      "text/html": [
       "\n",
       "\n",
       "\n",
       "\n",
       "\n",
       "\n",
       "  <div class=\"bk-root\" id=\"62dccd1b-e353-4224-97d8-eefa3398bc2a\" data-root-id=\"5505\"></div>\n"
      ]
     },
     "metadata": {},
     "output_type": "display_data"
    },
    {
     "data": {
      "application/javascript": [
       "(function(root) {\n",
       "  function embed_document(root) {\n",
       "    \n",
       "  var docs_json = {\"fc3d91a6-dd07-4dcc-a822-29e59c938534\":{\"roots\":{\"references\":[{\"attributes\":{\"below\":[{\"id\":\"5515\",\"type\":\"CategoricalAxis\"}],\"left\":[{\"id\":\"5519\",\"type\":\"LinearAxis\"}],\"plot_height\":550,\"plot_width\":550,\"renderers\":[{\"id\":\"5515\",\"type\":\"CategoricalAxis\"},{\"id\":\"5518\",\"type\":\"Grid\"},{\"id\":\"5519\",\"type\":\"LinearAxis\"},{\"id\":\"5523\",\"type\":\"Grid\"},{\"id\":\"5528\",\"type\":\"GlyphRenderer\"}],\"title\":{\"id\":\"5504\",\"type\":\"Title\"},\"toolbar\":{\"id\":\"5524\",\"type\":\"Toolbar\"},\"toolbar_location\":null,\"x_range\":{\"id\":\"5507\",\"type\":\"FactorRange\"},\"x_scale\":{\"id\":\"5511\",\"type\":\"CategoricalScale\"},\"y_range\":{\"id\":\"5509\",\"type\":\"DataRange1d\"},\"y_scale\":{\"id\":\"5513\",\"type\":\"LinearScale\"}},\"id\":\"5505\",\"subtype\":\"Figure\",\"type\":\"Plot\"},{\"attributes\":{\"line_color\":\"#1f77b4\",\"line_width\":2,\"x\":{\"field\":\"x\"},\"y\":{\"field\":\"y\"}},\"id\":\"5526\",\"type\":\"Line\"},{\"attributes\":{},\"id\":\"5720\",\"type\":\"UnionRenderers\"},{\"attributes\":{\"plot\":null,\"text\":\"SONIA\"},\"id\":\"5504\",\"type\":\"Title\"},{\"attributes\":{\"callback\":null,\"factors\":[\"ENERO\",\"FEBRERO\",\"MARZO\",\"ABRIL\",\"MAYO\",\"JUNIO\",\"JULIO\",\"AGOSTO\",\"SEPTIEMBRE\",\"OCTUBRE\",\"NOVIEMBRE\",\"DICIEMBRE\"]},\"id\":\"5507\",\"type\":\"FactorRange\"},{\"attributes\":{},\"id\":\"5717\",\"type\":\"CategoricalTickFormatter\"},{\"attributes\":{},\"id\":\"5721\",\"type\":\"Selection\"},{\"attributes\":{\"source\":{\"id\":\"5525\",\"type\":\"ColumnDataSource\"}},\"id\":\"5529\",\"type\":\"CDSView\"},{\"attributes\":{\"line_alpha\":0.1,\"line_color\":\"#1f77b4\",\"line_width\":2,\"x\":{\"field\":\"x\"},\"y\":{\"field\":\"y\"}},\"id\":\"5527\",\"type\":\"Line\"},{\"attributes\":{\"dimension\":1,\"plot\":{\"id\":\"5505\",\"subtype\":\"Figure\",\"type\":\"Plot\"},\"ticker\":{\"id\":\"5520\",\"type\":\"BasicTicker\"}},\"id\":\"5523\",\"type\":\"Grid\"},{\"attributes\":{},\"id\":\"5520\",\"type\":\"BasicTicker\"},{\"attributes\":{\"callback\":null,\"data\":{\"x\":[\"ENERO\",\"FEBRERO\",\"MARZO\",\"ABRIL\",\"MAYO\",\"JUNIO\",\"JULIO\",\"AGOSTO\",\"SEPTIEMBRE\",\"OCTUBRE\",\"NOVIEMBRE\",\"DICIEMBRE\"],\"y\":{\"__ndarray__\":\"okW28/3UEEAUrkfhehQOQFTjpZvEoBBAmG4Sg8BKEkAYBFYOLbITQN9PjZdukhJATmIQWDk0E0CTGARWDi0TQI/C9ShcjxJAI9v5fmq8EkB/arx0kxgRQFyPwvUoXBFA\",\"dtype\":\"float64\",\"shape\":[12]}},\"selected\":{\"id\":\"5721\",\"type\":\"Selection\"},\"selection_policy\":{\"id\":\"5720\",\"type\":\"UnionRenderers\"}},\"id\":\"5525\",\"type\":\"ColumnDataSource\"},{\"attributes\":{\"active_drag\":\"auto\",\"active_inspect\":\"auto\",\"active_multi\":null,\"active_scroll\":\"auto\",\"active_tap\":\"auto\"},\"id\":\"5524\",\"type\":\"Toolbar\"},{\"attributes\":{\"data_source\":{\"id\":\"5525\",\"type\":\"ColumnDataSource\"},\"glyph\":{\"id\":\"5526\",\"type\":\"Line\"},\"hover_glyph\":null,\"muted_glyph\":null,\"nonselection_glyph\":{\"id\":\"5527\",\"type\":\"Line\"},\"selection_glyph\":null,\"view\":{\"id\":\"5529\",\"type\":\"CDSView\"}},\"id\":\"5528\",\"type\":\"GlyphRenderer\"},{\"attributes\":{},\"id\":\"5719\",\"type\":\"BasicTickFormatter\"},{\"attributes\":{\"formatter\":{\"id\":\"5719\",\"type\":\"BasicTickFormatter\"},\"plot\":{\"id\":\"5505\",\"subtype\":\"Figure\",\"type\":\"Plot\"},\"ticker\":{\"id\":\"5520\",\"type\":\"BasicTicker\"}},\"id\":\"5519\",\"type\":\"LinearAxis\"},{\"attributes\":{\"callback\":null},\"id\":\"5509\",\"type\":\"DataRange1d\"},{\"attributes\":{\"plot\":{\"id\":\"5505\",\"subtype\":\"Figure\",\"type\":\"Plot\"},\"ticker\":{\"id\":\"5516\",\"type\":\"CategoricalTicker\"}},\"id\":\"5518\",\"type\":\"Grid\"},{\"attributes\":{},\"id\":\"5513\",\"type\":\"LinearScale\"},{\"attributes\":{},\"id\":\"5511\",\"type\":\"CategoricalScale\"},{\"attributes\":{},\"id\":\"5516\",\"type\":\"CategoricalTicker\"},{\"attributes\":{\"formatter\":{\"id\":\"5717\",\"type\":\"CategoricalTickFormatter\"},\"major_label_orientation\":1,\"plot\":{\"id\":\"5505\",\"subtype\":\"Figure\",\"type\":\"Plot\"},\"ticker\":{\"id\":\"5516\",\"type\":\"CategoricalTicker\"}},\"id\":\"5515\",\"type\":\"CategoricalAxis\"}],\"root_ids\":[\"5505\"]},\"title\":\"Bokeh Application\",\"version\":\"1.0.3\"}};\n",
       "  var render_items = [{\"docid\":\"fc3d91a6-dd07-4dcc-a822-29e59c938534\",\"roots\":{\"5505\":\"62dccd1b-e353-4224-97d8-eefa3398bc2a\"}}];\n",
       "  root.Bokeh.embed.embed_items_notebook(docs_json, render_items);\n",
       "\n",
       "  }\n",
       "  if (root.Bokeh !== undefined) {\n",
       "    embed_document(root);\n",
       "  } else {\n",
       "    var attempts = 0;\n",
       "    var timer = setInterval(function(root) {\n",
       "      if (root.Bokeh !== undefined) {\n",
       "        embed_document(root);\n",
       "        clearInterval(timer);\n",
       "      }\n",
       "      attempts++;\n",
       "      if (attempts > 100) {\n",
       "        console.log(\"Bokeh: ERROR: Unable to run BokehJS code because BokehJS library is missing\");\n",
       "        clearInterval(timer);\n",
       "      }\n",
       "    }, 10, root)\n",
       "  }\n",
       "})(window);"
      ],
      "application/vnd.bokehjs_exec.v0+json": ""
     },
     "metadata": {
      "application/vnd.bokehjs_exec.v0+json": {
       "id": "5505"
      }
     },
     "output_type": "display_data"
    },
    {
     "data": {
      "text/html": [
       "\n",
       "\n",
       "\n",
       "\n",
       "\n",
       "\n",
       "  <div class=\"bk-root\" id=\"70936cff-bdc1-42f4-b693-acff9b2db616\" data-root-id=\"5765\"></div>\n"
      ]
     },
     "metadata": {},
     "output_type": "display_data"
    },
    {
     "data": {
      "application/javascript": [
       "(function(root) {\n",
       "  function embed_document(root) {\n",
       "    \n",
       "  var docs_json = {\"fa000736-5667-44b4-853d-bbbf99711a13\":{\"roots\":{\"references\":[{\"attributes\":{\"below\":[{\"id\":\"5775\",\"type\":\"CategoricalAxis\"}],\"left\":[{\"id\":\"5779\",\"type\":\"LinearAxis\"}],\"plot_height\":550,\"plot_width\":550,\"renderers\":[{\"id\":\"5775\",\"type\":\"CategoricalAxis\"},{\"id\":\"5778\",\"type\":\"Grid\"},{\"id\":\"5779\",\"type\":\"LinearAxis\"},{\"id\":\"5783\",\"type\":\"Grid\"},{\"id\":\"5788\",\"type\":\"GlyphRenderer\"}],\"title\":{\"id\":\"5764\",\"type\":\"Title\"},\"toolbar\":{\"id\":\"5784\",\"type\":\"Toolbar\"},\"toolbar_location\":null,\"x_range\":{\"id\":\"5767\",\"type\":\"FactorRange\"},\"x_scale\":{\"id\":\"5771\",\"type\":\"CategoricalScale\"},\"y_range\":{\"id\":\"5769\",\"type\":\"DataRange1d\"},\"y_scale\":{\"id\":\"5773\",\"type\":\"LinearScale\"}},\"id\":\"5765\",\"subtype\":\"Figure\",\"type\":\"Plot\"},{\"attributes\":{},\"id\":\"5780\",\"type\":\"BasicTicker\"},{\"attributes\":{\"line_alpha\":0.1,\"line_color\":\"#1f77b4\",\"line_width\":2,\"x\":{\"field\":\"x\"},\"y\":{\"field\":\"y\"}},\"id\":\"5787\",\"type\":\"Line\"},{\"attributes\":{\"data_source\":{\"id\":\"5785\",\"type\":\"ColumnDataSource\"},\"glyph\":{\"id\":\"5786\",\"type\":\"Line\"},\"hover_glyph\":null,\"muted_glyph\":null,\"nonselection_glyph\":{\"id\":\"5787\",\"type\":\"Line\"},\"selection_glyph\":null,\"view\":{\"id\":\"5789\",\"type\":\"CDSView\"}},\"id\":\"5788\",\"type\":\"GlyphRenderer\"},{\"attributes\":{\"source\":{\"id\":\"5785\",\"type\":\"ColumnDataSource\"}},\"id\":\"5789\",\"type\":\"CDSView\"},{\"attributes\":{},\"id\":\"5984\",\"type\":\"CategoricalTickFormatter\"},{\"attributes\":{},\"id\":\"5986\",\"type\":\"BasicTickFormatter\"},{\"attributes\":{\"line_color\":\"#1f77b4\",\"line_width\":2,\"x\":{\"field\":\"x\"},\"y\":{\"field\":\"y\"}},\"id\":\"5786\",\"type\":\"Line\"},{\"attributes\":{},\"id\":\"5987\",\"type\":\"UnionRenderers\"},{\"attributes\":{},\"id\":\"5988\",\"type\":\"Selection\"},{\"attributes\":{\"formatter\":{\"id\":\"5984\",\"type\":\"CategoricalTickFormatter\"},\"major_label_orientation\":1,\"plot\":{\"id\":\"5765\",\"subtype\":\"Figure\",\"type\":\"Plot\"},\"ticker\":{\"id\":\"5776\",\"type\":\"CategoricalTicker\"}},\"id\":\"5775\",\"type\":\"CategoricalAxis\"},{\"attributes\":{\"dimension\":1,\"plot\":{\"id\":\"5765\",\"subtype\":\"Figure\",\"type\":\"Plot\"},\"ticker\":{\"id\":\"5780\",\"type\":\"BasicTicker\"}},\"id\":\"5783\",\"type\":\"Grid\"},{\"attributes\":{\"callback\":null,\"data\":{\"x\":[\"ENERO\",\"FEBRERO\",\"MARZO\",\"ABRIL\",\"MAYO\",\"JUNIO\",\"JULIO\",\"AGOSTO\",\"SEPTIEMBRE\",\"OCTUBRE\",\"NOVIEMBRE\",\"DICIEMBRE\"],\"y\":{\"__ndarray__\":\"AAAAAAAA+H8AAAAAAAAAAAAAAAAAAAAAAAAAAAAAAAAAAAAAAAAAAAAAAAAAAAAAAAAAAAAAAAAAAAAAAAAAAAAAAAAAAAAAAAAAAAAAAAAAAAAAAAAAAAAAAAAAAAAA\",\"dtype\":\"float64\",\"shape\":[12]}},\"selected\":{\"id\":\"5988\",\"type\":\"Selection\"},\"selection_policy\":{\"id\":\"5987\",\"type\":\"UnionRenderers\"}},\"id\":\"5785\",\"type\":\"ColumnDataSource\"},{\"attributes\":{\"plot\":{\"id\":\"5765\",\"subtype\":\"Figure\",\"type\":\"Plot\"},\"ticker\":{\"id\":\"5776\",\"type\":\"CategoricalTicker\"}},\"id\":\"5778\",\"type\":\"Grid\"},{\"attributes\":{\"active_drag\":\"auto\",\"active_inspect\":\"auto\",\"active_multi\":null,\"active_scroll\":\"auto\",\"active_tap\":\"auto\"},\"id\":\"5784\",\"type\":\"Toolbar\"},{\"attributes\":{},\"id\":\"5773\",\"type\":\"LinearScale\"},{\"attributes\":{\"callback\":null,\"factors\":[\"ENERO\",\"FEBRERO\",\"MARZO\",\"ABRIL\",\"MAYO\",\"JUNIO\",\"JULIO\",\"AGOSTO\",\"SEPTIEMBRE\",\"OCTUBRE\",\"NOVIEMBRE\",\"DICIEMBRE\"]},\"id\":\"5767\",\"type\":\"FactorRange\"},{\"attributes\":{\"formatter\":{\"id\":\"5986\",\"type\":\"BasicTickFormatter\"},\"plot\":{\"id\":\"5765\",\"subtype\":\"Figure\",\"type\":\"Plot\"},\"ticker\":{\"id\":\"5780\",\"type\":\"BasicTicker\"}},\"id\":\"5779\",\"type\":\"LinearAxis\"},{\"attributes\":{\"plot\":null,\"text\":\"TARAPOA NOROESTE\"},\"id\":\"5764\",\"type\":\"Title\"},{\"attributes\":{\"callback\":null},\"id\":\"5769\",\"type\":\"DataRange1d\"},{\"attributes\":{},\"id\":\"5776\",\"type\":\"CategoricalTicker\"},{\"attributes\":{},\"id\":\"5771\",\"type\":\"CategoricalScale\"}],\"root_ids\":[\"5765\"]},\"title\":\"Bokeh Application\",\"version\":\"1.0.3\"}};\n",
       "  var render_items = [{\"docid\":\"fa000736-5667-44b4-853d-bbbf99711a13\",\"roots\":{\"5765\":\"70936cff-bdc1-42f4-b693-acff9b2db616\"}}];\n",
       "  root.Bokeh.embed.embed_items_notebook(docs_json, render_items);\n",
       "\n",
       "  }\n",
       "  if (root.Bokeh !== undefined) {\n",
       "    embed_document(root);\n",
       "  } else {\n",
       "    var attempts = 0;\n",
       "    var timer = setInterval(function(root) {\n",
       "      if (root.Bokeh !== undefined) {\n",
       "        embed_document(root);\n",
       "        clearInterval(timer);\n",
       "      }\n",
       "      attempts++;\n",
       "      if (attempts > 100) {\n",
       "        console.log(\"Bokeh: ERROR: Unable to run BokehJS code because BokehJS library is missing\");\n",
       "        clearInterval(timer);\n",
       "      }\n",
       "    }, 10, root)\n",
       "  }\n",
       "})(window);"
      ],
      "application/vnd.bokehjs_exec.v0+json": ""
     },
     "metadata": {
      "application/vnd.bokehjs_exec.v0+json": {
       "id": "5765"
      }
     },
     "output_type": "display_data"
    }
   ],
   "source": [
    "campos=archivo[\"CAMPOS\"].tolist()\n",
    "for i in range(0,len(campos)):\n",
    "    data=archivo.iloc[i:i+1,2:-1]\n",
    "    x_range = data.to_dict('split')['columns']\n",
    "    p = figure(x_range=x_range, plot_height=550,plot_width=550 ,title=campos[i], toolbar_location=None, tools=\"\")\n",
    "    y_range = data.iloc[0]\n",
    "    p.line(x=x_range, y=y_range, line_width=2)\n",
    "    p.xaxis.major_label_orientation = 1\n",
    "    show(p)"
   ]
  },
  {
   "cell_type": "code",
   "execution_count": null,
   "metadata": {},
   "outputs": [],
   "source": []
  },
  {
   "cell_type": "code",
   "execution_count": 7,
   "metadata": {
    "scrolled": false
   },
   "outputs": [
    {
     "data": {
      "text/html": [
       "\n",
       "\n",
       "\n",
       "\n",
       "\n",
       "\n",
       "  <div class=\"bk-root\" id=\"973bd3f8-1c09-40ed-911b-bf4047d811e7\" data-root-id=\"6033\"></div>\n"
      ]
     },
     "metadata": {},
     "output_type": "display_data"
    },
    {
     "data": {
      "application/javascript": [
       "(function(root) {\n",
       "  function embed_document(root) {\n",
       "    \n",
       "  var docs_json = {\"ee30e100-c177-4d89-ba98-eec630061b97\":{\"roots\":{\"references\":[{\"attributes\":{\"below\":[{\"id\":\"6043\",\"type\":\"CategoricalAxis\"}],\"left\":[{\"id\":\"6047\",\"type\":\"LinearAxis\"}],\"plot_height\":650,\"plot_width\":1500,\"renderers\":[{\"id\":\"6043\",\"type\":\"CategoricalAxis\"},{\"id\":\"6046\",\"type\":\"Grid\"},{\"id\":\"6047\",\"type\":\"LinearAxis\"},{\"id\":\"6051\",\"type\":\"Grid\"},{\"id\":\"6063\",\"type\":\"Legend\"},{\"id\":\"6056\",\"type\":\"GlyphRenderer\"}],\"title\":{\"id\":\"6032\",\"type\":\"Title\"},\"toolbar\":{\"id\":\"6052\",\"type\":\"Toolbar\"},\"toolbar_location\":null,\"x_range\":{\"id\":\"6035\",\"type\":\"FactorRange\"},\"x_scale\":{\"id\":\"6039\",\"type\":\"CategoricalScale\"},\"y_range\":{\"id\":\"6037\",\"type\":\"Range1d\"},\"y_scale\":{\"id\":\"6041\",\"type\":\"LinearScale\"}},\"id\":\"6033\",\"subtype\":\"Figure\",\"type\":\"Plot\"},{\"attributes\":{\"label\":{\"field\":\"campos\"},\"renderers\":[{\"id\":\"6056\",\"type\":\"GlyphRenderer\"}]},\"id\":\"6064\",\"type\":\"LegendItem\"},{\"attributes\":{\"fill_color\":{\"field\":\"color\"},\"line_color\":{\"field\":\"color\"},\"top\":{\"field\":\"total\"},\"width\":{\"value\":0.9},\"x\":{\"field\":\"campos\"}},\"id\":\"6054\",\"type\":\"VBar\"},{\"attributes\":{\"callback\":null,\"data\":{\"campos\":[\"ALICE\",\"ALICE OESTE\",\"CHORONGO\",\"CHORONGO ESTE\",\"COLIBRI\",\"DANA\",\"DORINE\",\"DORINE G\",\"DORINE NORTE\",\"ESPERANZA\",\"FANNY-18B\",\"JOHANNA\",\"MAHOGANY\",\"MARIANN\",\"MARIANN NORTE\",\"MARIANN SUR\",\"MARIANN-4A\",\"ORQUIDEA\",\"SHIRLEY\",\"SONIA\",\"TARAPOA NOROESTE\"],\"color\":[\"#393b79\",\"#5254a3\",\"#6b6ecf\",\"#9c9ede\",\"#637939\",\"#8ca252\",\"#b5cf6b\",\"#cedb9c\",\"#8c6d31\",\"#bd9e39\",\"#e7ba52\",\"#e7cb94\",\"#843c39\",\"#ad494a\",\"#d6616b\",\"#e7969c\",\"#7b4173\",\"#a55194\",\"#ce6dbd\",\"#de9ed6\",\"slateblue\"],\"total\":[1045.049,161.935,109.804,8.941,678.579,15.857000000000001,2148.175,26.738000000000003,90.45299999999999,336.644,5269.901999999999,71.188,82.27,1596.2060000000001,12.002,269.122,284.04,334.0,57.25,53.797,0.0]},\"selected\":{\"id\":\"6270\",\"type\":\"Selection\"},\"selection_policy\":{\"id\":\"6269\",\"type\":\"UnionRenderers\"}},\"id\":\"6031\",\"type\":\"ColumnDataSource\"},{\"attributes\":{},\"id\":\"6041\",\"type\":\"LinearScale\"},{\"attributes\":{},\"id\":\"6039\",\"type\":\"CategoricalScale\"},{\"attributes\":{\"callback\":null,\"factors\":[\"ALICE\",\"ALICE OESTE\",\"CHORONGO\",\"CHORONGO ESTE\",\"COLIBRI\",\"DANA\",\"DORINE\",\"DORINE G\",\"DORINE NORTE\",\"ESPERANZA\",\"FANNY-18B\",\"JOHANNA\",\"MAHOGANY\",\"MARIANN\",\"MARIANN NORTE\",\"MARIANN SUR\",\"MARIANN-4A\",\"ORQUIDEA\",\"SHIRLEY\",\"SONIA\",\"TARAPOA NOROESTE\"],\"range_padding\":0.5},\"id\":\"6035\",\"type\":\"FactorRange\"},{\"attributes\":{\"plot\":{\"id\":\"6033\",\"subtype\":\"Figure\",\"type\":\"Plot\"},\"ticker\":{\"id\":\"6044\",\"type\":\"CategoricalTicker\"}},\"id\":\"6046\",\"type\":\"Grid\"},{\"attributes\":{\"plot\":null,\"text\":\"INFORME DE PRESUPUESTO\"},\"id\":\"6032\",\"type\":\"Title\"},{\"attributes\":{\"formatter\":{\"id\":\"6060\",\"type\":\"CategoricalTickFormatter\"},\"major_label_orientation\":1,\"plot\":{\"id\":\"6033\",\"subtype\":\"Figure\",\"type\":\"Plot\"},\"ticker\":{\"id\":\"6044\",\"type\":\"CategoricalTicker\"}},\"id\":\"6043\",\"type\":\"CategoricalAxis\"},{\"attributes\":{},\"id\":\"6044\",\"type\":\"CategoricalTicker\"},{\"attributes\":{\"formatter\":{\"id\":\"6062\",\"type\":\"BasicTickFormatter\"},\"plot\":{\"id\":\"6033\",\"subtype\":\"Figure\",\"type\":\"Plot\"},\"ticker\":{\"id\":\"6048\",\"type\":\"BasicTicker\"}},\"id\":\"6047\",\"type\":\"LinearAxis\"},{\"attributes\":{\"fill_alpha\":{\"value\":0.1},\"fill_color\":{\"value\":\"#1f77b4\"},\"line_alpha\":{\"value\":0.1},\"line_color\":{\"value\":\"#1f77b4\"},\"top\":{\"field\":\"total\"},\"width\":{\"value\":0.9},\"x\":{\"field\":\"campos\"}},\"id\":\"6055\",\"type\":\"VBar\"},{\"attributes\":{},\"id\":\"6269\",\"type\":\"UnionRenderers\"},{\"attributes\":{\"callback\":null,\"end\":5600},\"id\":\"6037\",\"type\":\"Range1d\"},{\"attributes\":{\"dimension\":1,\"plot\":{\"id\":\"6033\",\"subtype\":\"Figure\",\"type\":\"Plot\"},\"ticker\":{\"id\":\"6048\",\"type\":\"BasicTicker\"}},\"id\":\"6051\",\"type\":\"Grid\"},{\"attributes\":{},\"id\":\"6048\",\"type\":\"BasicTicker\"},{\"attributes\":{\"active_drag\":\"auto\",\"active_inspect\":\"auto\",\"active_multi\":null,\"active_scroll\":\"auto\",\"active_tap\":\"auto\"},\"id\":\"6052\",\"type\":\"Toolbar\"},{\"attributes\":{\"data_source\":{\"id\":\"6031\",\"type\":\"ColumnDataSource\"},\"glyph\":{\"id\":\"6054\",\"type\":\"VBar\"},\"hover_glyph\":null,\"muted_glyph\":null,\"nonselection_glyph\":{\"id\":\"6055\",\"type\":\"VBar\"},\"selection_glyph\":null,\"view\":{\"id\":\"6057\",\"type\":\"CDSView\"}},\"id\":\"6056\",\"type\":\"GlyphRenderer\"},{\"attributes\":{\"source\":{\"id\":\"6031\",\"type\":\"ColumnDataSource\"}},\"id\":\"6057\",\"type\":\"CDSView\"},{\"attributes\":{},\"id\":\"6060\",\"type\":\"CategoricalTickFormatter\"},{\"attributes\":{\"items\":[{\"id\":\"6064\",\"type\":\"LegendItem\"}],\"location\":\"top_left\",\"plot\":{\"id\":\"6033\",\"subtype\":\"Figure\",\"type\":\"Plot\"}},\"id\":\"6063\",\"type\":\"Legend\"},{\"attributes\":{},\"id\":\"6062\",\"type\":\"BasicTickFormatter\"},{\"attributes\":{},\"id\":\"6270\",\"type\":\"Selection\"}],\"root_ids\":[\"6033\"]},\"title\":\"Bokeh Application\",\"version\":\"1.0.3\"}};\n",
       "  var render_items = [{\"docid\":\"ee30e100-c177-4d89-ba98-eec630061b97\",\"roots\":{\"6033\":\"973bd3f8-1c09-40ed-911b-bf4047d811e7\"}}];\n",
       "  root.Bokeh.embed.embed_items_notebook(docs_json, render_items);\n",
       "\n",
       "  }\n",
       "  if (root.Bokeh !== undefined) {\n",
       "    embed_document(root);\n",
       "  } else {\n",
       "    var attempts = 0;\n",
       "    var timer = setInterval(function(root) {\n",
       "      if (root.Bokeh !== undefined) {\n",
       "        embed_document(root);\n",
       "        clearInterval(timer);\n",
       "      }\n",
       "      attempts++;\n",
       "      if (attempts > 100) {\n",
       "        console.log(\"Bokeh: ERROR: Unable to run BokehJS code because BokehJS library is missing\");\n",
       "        clearInterval(timer);\n",
       "      }\n",
       "    }, 10, root)\n",
       "  }\n",
       "})(window);"
      ],
      "application/vnd.bokehjs_exec.v0+json": ""
     },
     "metadata": {
      "application/vnd.bokehjs_exec.v0+json": {
       "id": "6033"
      }
     },
     "output_type": "display_data"
    }
   ],
   "source": [
    "campos=archivo[\"CAMPOS\"].tolist()\n",
    "total=archivo[\"TOTAL\"].tolist()\n",
    "color=d3[\"Category20b\"][20]\n",
    "color.append(\"slateblue\")\n",
    "source = ColumnDataSource(data=dict(campos=campos, total=total, color=color))\n",
    "\n",
    "p = figure(x_range=campos,y_range=(0,5600), plot_height=650,plot_width=1500, title=\"INFORME DE PRESUPUESTO\",\n",
    "           toolbar_location=None, tools=\"\")\n",
    "\n",
    "p.vbar(x='campos', top='total', width=0.9, color='color', legend=\"campos\", source=source)\n",
    "\n",
    "p.xaxis.major_label_orientation = 1\n",
    "p.x_range.range_padding = 0.5\n",
    "p.legend.orientation = \"vertical\"\n",
    "p.legend.location = \"top_left\"\n",
    "\n",
    "show(p)"
   ]
  },
  {
   "cell_type": "code",
   "execution_count": 8,
   "metadata": {},
   "outputs": [
    {
     "data": {
      "text/html": [
       "\n",
       "\n",
       "\n",
       "\n",
       "\n",
       "\n",
       "  <div class=\"bk-root\" id=\"50a2c8fe-52b7-4cca-9d45-c193e3172d6e\" data-root-id=\"6314\"></div>\n"
      ]
     },
     "metadata": {},
     "output_type": "display_data"
    },
    {
     "data": {
      "application/javascript": [
       "(function(root) {\n",
       "  function embed_document(root) {\n",
       "    \n",
       "  var docs_json = {\"41b48440-26ee-4f83-925d-29f78ff4e5b5\":{\"roots\":{\"references\":[{\"attributes\":{\"below\":[{\"id\":\"6324\",\"type\":\"CategoricalAxis\"}],\"left\":[{\"id\":\"6328\",\"type\":\"LinearAxis\"}],\"plot_height\":550,\"plot_width\":950,\"renderers\":[{\"id\":\"6324\",\"type\":\"CategoricalAxis\"},{\"id\":\"6327\",\"type\":\"Grid\"},{\"id\":\"6328\",\"type\":\"LinearAxis\"},{\"id\":\"6332\",\"type\":\"Grid\"},{\"id\":\"6337\",\"type\":\"GlyphRenderer\"}],\"title\":{\"id\":\"6313\",\"type\":\"Title\"},\"toolbar\":{\"id\":\"6333\",\"type\":\"Toolbar\"},\"toolbar_location\":null,\"x_range\":{\"id\":\"6316\",\"type\":\"FactorRange\"},\"x_scale\":{\"id\":\"6320\",\"type\":\"CategoricalScale\"},\"y_range\":{\"id\":\"6318\",\"type\":\"DataRange1d\"},\"y_scale\":{\"id\":\"6322\",\"type\":\"LinearScale\"}},\"id\":\"6314\",\"subtype\":\"Figure\",\"type\":\"Plot\"},{\"attributes\":{\"formatter\":{\"id\":\"6547\",\"type\":\"CategoricalTickFormatter\"},\"major_label_orientation\":1,\"plot\":{\"id\":\"6314\",\"subtype\":\"Figure\",\"type\":\"Plot\"},\"ticker\":{\"id\":\"6325\",\"type\":\"CategoricalTicker\"}},\"id\":\"6324\",\"type\":\"CategoricalAxis\"},{\"attributes\":{},\"id\":\"6322\",\"type\":\"LinearScale\"},{\"attributes\":{\"formatter\":{\"id\":\"6549\",\"type\":\"BasicTickFormatter\"},\"plot\":{\"id\":\"6314\",\"subtype\":\"Figure\",\"type\":\"Plot\"},\"ticker\":{\"id\":\"6329\",\"type\":\"BasicTicker\"}},\"id\":\"6328\",\"type\":\"LinearAxis\"},{\"attributes\":{\"source\":{\"id\":\"6334\",\"type\":\"ColumnDataSource\"}},\"id\":\"6338\",\"type\":\"CDSView\"},{\"attributes\":{\"fill_alpha\":{\"value\":0.1},\"fill_color\":{\"value\":\"#1f77b4\"},\"line_alpha\":{\"value\":0.1},\"line_color\":{\"value\":\"#1f77b4\"},\"size\":{\"units\":\"screen\",\"value\":30},\"x\":{\"field\":\"x\"},\"y\":{\"field\":\"y\"}},\"id\":\"6336\",\"type\":\"Circle\"},{\"attributes\":{\"plot\":{\"id\":\"6314\",\"subtype\":\"Figure\",\"type\":\"Plot\"},\"ticker\":{\"id\":\"6325\",\"type\":\"CategoricalTicker\"}},\"id\":\"6327\",\"type\":\"Grid\"},{\"attributes\":{},\"id\":\"6550\",\"type\":\"UnionRenderers\"},{\"attributes\":{},\"id\":\"6549\",\"type\":\"BasicTickFormatter\"},{\"attributes\":{\"data_source\":{\"id\":\"6334\",\"type\":\"ColumnDataSource\"},\"glyph\":{\"id\":\"6335\",\"type\":\"Circle\"},\"hover_glyph\":null,\"muted_glyph\":null,\"nonselection_glyph\":{\"id\":\"6336\",\"type\":\"Circle\"},\"selection_glyph\":null,\"view\":{\"id\":\"6338\",\"type\":\"CDSView\"}},\"id\":\"6337\",\"type\":\"GlyphRenderer\"},{\"attributes\":{},\"id\":\"6547\",\"type\":\"CategoricalTickFormatter\"},{\"attributes\":{\"active_drag\":\"auto\",\"active_inspect\":\"auto\",\"active_multi\":null,\"active_scroll\":\"auto\",\"active_tap\":\"auto\"},\"id\":\"6333\",\"type\":\"Toolbar\"},{\"attributes\":{\"dimension\":1,\"plot\":{\"id\":\"6314\",\"subtype\":\"Figure\",\"type\":\"Plot\"},\"ticker\":{\"id\":\"6329\",\"type\":\"BasicTicker\"}},\"id\":\"6332\",\"type\":\"Grid\"},{\"attributes\":{},\"id\":\"6320\",\"type\":\"CategoricalScale\"},{\"attributes\":{},\"id\":\"6551\",\"type\":\"Selection\"},{\"attributes\":{\"fill_alpha\":{\"value\":0.5},\"fill_color\":{\"field\":\"fill_color\"},\"line_alpha\":{\"value\":0.5},\"line_color\":{\"field\":\"line_color\"},\"size\":{\"units\":\"screen\",\"value\":30},\"x\":{\"field\":\"x\"},\"y\":{\"field\":\"y\"}},\"id\":\"6335\",\"type\":\"Circle\"},{\"attributes\":{},\"id\":\"6325\",\"type\":\"CategoricalTicker\"},{\"attributes\":{\"plot\":null,\"text\":\"INFORME DE PRESUPUESTO\"},\"id\":\"6313\",\"type\":\"Title\"},{\"attributes\":{\"callback\":null,\"factors\":[\"ALICE\",\"ALICE OESTE\",\"CHORONGO\",\"CHORONGO ESTE\",\"COLIBRI\",\"DANA\",\"DORINE\",\"DORINE G\",\"DORINE NORTE\",\"ESPERANZA\",\"FANNY-18B\",\"JOHANNA\",\"MAHOGANY\",\"MARIANN\",\"MARIANN NORTE\",\"MARIANN SUR\",\"MARIANN-4A\",\"ORQUIDEA\",\"SHIRLEY\",\"SONIA\",\"TARAPOA NOROESTE\"]},\"id\":\"6316\",\"type\":\"FactorRange\"},{\"attributes\":{\"callback\":null,\"data\":{\"fill_color\":[\"#440154\",\"#471265\",\"#482374\",\"#45347F\",\"#404387\",\"#3B518A\",\"#345E8D\",\"#2E6B8E\",\"#29788E\",\"#25838D\",\"#208F8C\",\"#1E9B89\",\"#22A784\",\"#2EB27C\",\"#42BE71\",\"#5BC862\",\"#79D151\",\"#97D83E\",\"#BADE27\",\"#DCE218\",\"#FDE724\"],\"line_color\":[\"#440154\",\"#471265\",\"#482374\",\"#45347F\",\"#404387\",\"#3B518A\",\"#345E8D\",\"#2E6B8E\",\"#29788E\",\"#25838D\",\"#208F8C\",\"#1E9B89\",\"#22A784\",\"#2EB27C\",\"#42BE71\",\"#5BC862\",\"#79D151\",\"#97D83E\",\"#BADE27\",\"#DCE218\",\"#FDE724\"],\"x\":[\"ALICE\",\"ALICE OESTE\",\"CHORONGO\",\"CHORONGO ESTE\",\"COLIBRI\",\"DANA\",\"DORINE\",\"DORINE G\",\"DORINE NORTE\",\"ESPERANZA\",\"FANNY-18B\",\"JOHANNA\",\"MAHOGANY\",\"MARIANN\",\"MARIANN NORTE\",\"MARIANN SUR\",\"MARIANN-4A\",\"ORQUIDEA\",\"SHIRLEY\",\"SONIA\",\"TARAPOA NOROESTE\"],\"y\":[1045.049,161.935,109.804,8.941,678.579,15.857000000000001,2148.175,26.738000000000003,90.45299999999999,336.644,5269.901999999999,71.188,82.27,1596.2060000000001,12.002,269.122,284.04,334.0,57.25,53.797,0.0]},\"selected\":{\"id\":\"6551\",\"type\":\"Selection\"},\"selection_policy\":{\"id\":\"6550\",\"type\":\"UnionRenderers\"}},\"id\":\"6334\",\"type\":\"ColumnDataSource\"},{\"attributes\":{},\"id\":\"6329\",\"type\":\"BasicTicker\"},{\"attributes\":{\"callback\":null},\"id\":\"6318\",\"type\":\"DataRange1d\"}],\"root_ids\":[\"6314\"]},\"title\":\"Bokeh Application\",\"version\":\"1.0.3\"}};\n",
       "  var render_items = [{\"docid\":\"41b48440-26ee-4f83-925d-29f78ff4e5b5\",\"roots\":{\"6314\":\"50a2c8fe-52b7-4cca-9d45-c193e3172d6e\"}}];\n",
       "  root.Bokeh.embed.embed_items_notebook(docs_json, render_items);\n",
       "\n",
       "  }\n",
       "  if (root.Bokeh !== undefined) {\n",
       "    embed_document(root);\n",
       "  } else {\n",
       "    var attempts = 0;\n",
       "    var timer = setInterval(function(root) {\n",
       "      if (root.Bokeh !== undefined) {\n",
       "        embed_document(root);\n",
       "        clearInterval(timer);\n",
       "      }\n",
       "      attempts++;\n",
       "      if (attempts > 100) {\n",
       "        console.log(\"Bokeh: ERROR: Unable to run BokehJS code because BokehJS library is missing\");\n",
       "        clearInterval(timer);\n",
       "      }\n",
       "    }, 10, root)\n",
       "  }\n",
       "})(window);"
      ],
      "application/vnd.bokehjs_exec.v0+json": ""
     },
     "metadata": {
      "application/vnd.bokehjs_exec.v0+json": {
       "id": "6314"
      }
     },
     "output_type": "display_data"
    }
   ],
   "source": [
    "campos=archivo[\"CAMPOS\"].tolist()\n",
    "total=archivo[\"TOTAL\"].tolist()\n",
    "data= dict(zip(campos,total))\n",
    "p = figure(x_range=campos, plot_height=550,plot_width=950 ,title=\"INFORME DE PRESUPUESTO\", toolbar_location=None, tools=\"\")\n",
    "p.circle(campos, total,size=30, color=viridis(len(campos)), alpha=0.5)\n",
    "p.xaxis.major_label_orientation = 1\n",
    "show(p)"
   ]
  },
  {
   "cell_type": "code",
   "execution_count": null,
   "metadata": {},
   "outputs": [],
   "source": []
  },
  {
   "cell_type": "code",
   "execution_count": null,
   "metadata": {},
   "outputs": [],
   "source": []
  }
 ],
 "metadata": {
  "kernelspec": {
   "display_name": "Python 3",
   "language": "python",
   "name": "python3"
  },
  "language_info": {
   "codemirror_mode": {
    "name": "ipython",
    "version": 3
   },
   "file_extension": ".py",
   "mimetype": "text/x-python",
   "name": "python",
   "nbconvert_exporter": "python",
   "pygments_lexer": "ipython3",
   "version": "3.6.5"
  }
 },
 "nbformat": 4,
 "nbformat_minor": 2
}
