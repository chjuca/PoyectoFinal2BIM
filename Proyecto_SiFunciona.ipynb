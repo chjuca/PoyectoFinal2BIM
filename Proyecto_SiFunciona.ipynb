{
 "cells": [
  {
   "cell_type": "code",
   "execution_count": 2,
   "metadata": {},
   "outputs": [
    {
     "data": {
      "text/html": [
       "\n",
       "    <div class=\"bk-root\">\n",
       "        <a href=\"https://bokeh.pydata.org\" target=\"_blank\" class=\"bk-logo bk-logo-small bk-logo-notebook\"></a>\n",
       "        <span id=\"1001\">Loading BokehJS ...</span>\n",
       "    </div>"
      ]
     },
     "metadata": {},
     "output_type": "display_data"
    },
    {
     "data": {
      "application/javascript": [
       "\n",
       "(function(root) {\n",
       "  function now() {\n",
       "    return new Date();\n",
       "  }\n",
       "\n",
       "  var force = true;\n",
       "\n",
       "  if (typeof (root._bokeh_onload_callbacks) === \"undefined\" || force === true) {\n",
       "    root._bokeh_onload_callbacks = [];\n",
       "    root._bokeh_is_loading = undefined;\n",
       "  }\n",
       "\n",
       "  var JS_MIME_TYPE = 'application/javascript';\n",
       "  var HTML_MIME_TYPE = 'text/html';\n",
       "  var EXEC_MIME_TYPE = 'application/vnd.bokehjs_exec.v0+json';\n",
       "  var CLASS_NAME = 'output_bokeh rendered_html';\n",
       "\n",
       "  /**\n",
       "   * Render data to the DOM node\n",
       "   */\n",
       "  function render(props, node) {\n",
       "    var script = document.createElement(\"script\");\n",
       "    node.appendChild(script);\n",
       "  }\n",
       "\n",
       "  /**\n",
       "   * Handle when an output is cleared or removed\n",
       "   */\n",
       "  function handleClearOutput(event, handle) {\n",
       "    var cell = handle.cell;\n",
       "\n",
       "    var id = cell.output_area._bokeh_element_id;\n",
       "    var server_id = cell.output_area._bokeh_server_id;\n",
       "    // Clean up Bokeh references\n",
       "    if (id != null && id in Bokeh.index) {\n",
       "      Bokeh.index[id].model.document.clear();\n",
       "      delete Bokeh.index[id];\n",
       "    }\n",
       "\n",
       "    if (server_id !== undefined) {\n",
       "      // Clean up Bokeh references\n",
       "      var cmd = \"from bokeh.io.state import curstate; print(curstate().uuid_to_server['\" + server_id + \"'].get_sessions()[0].document.roots[0]._id)\";\n",
       "      cell.notebook.kernel.execute(cmd, {\n",
       "        iopub: {\n",
       "          output: function(msg) {\n",
       "            var id = msg.content.text.trim();\n",
       "            if (id in Bokeh.index) {\n",
       "              Bokeh.index[id].model.document.clear();\n",
       "              delete Bokeh.index[id];\n",
       "            }\n",
       "          }\n",
       "        }\n",
       "      });\n",
       "      // Destroy server and session\n",
       "      var cmd = \"import bokeh.io.notebook as ion; ion.destroy_server('\" + server_id + \"')\";\n",
       "      cell.notebook.kernel.execute(cmd);\n",
       "    }\n",
       "  }\n",
       "\n",
       "  /**\n",
       "   * Handle when a new output is added\n",
       "   */\n",
       "  function handleAddOutput(event, handle) {\n",
       "    var output_area = handle.output_area;\n",
       "    var output = handle.output;\n",
       "\n",
       "    // limit handleAddOutput to display_data with EXEC_MIME_TYPE content only\n",
       "    if ((output.output_type != \"display_data\") || (!output.data.hasOwnProperty(EXEC_MIME_TYPE))) {\n",
       "      return\n",
       "    }\n",
       "\n",
       "    var toinsert = output_area.element.find(\".\" + CLASS_NAME.split(' ')[0]);\n",
       "\n",
       "    if (output.metadata[EXEC_MIME_TYPE][\"id\"] !== undefined) {\n",
       "      toinsert[toinsert.length - 1].firstChild.textContent = output.data[JS_MIME_TYPE];\n",
       "      // store reference to embed id on output_area\n",
       "      output_area._bokeh_element_id = output.metadata[EXEC_MIME_TYPE][\"id\"];\n",
       "    }\n",
       "    if (output.metadata[EXEC_MIME_TYPE][\"server_id\"] !== undefined) {\n",
       "      var bk_div = document.createElement(\"div\");\n",
       "      bk_div.innerHTML = output.data[HTML_MIME_TYPE];\n",
       "      var script_attrs = bk_div.children[0].attributes;\n",
       "      for (var i = 0; i < script_attrs.length; i++) {\n",
       "        toinsert[toinsert.length - 1].firstChild.setAttribute(script_attrs[i].name, script_attrs[i].value);\n",
       "      }\n",
       "      // store reference to server id on output_area\n",
       "      output_area._bokeh_server_id = output.metadata[EXEC_MIME_TYPE][\"server_id\"];\n",
       "    }\n",
       "  }\n",
       "\n",
       "  function register_renderer(events, OutputArea) {\n",
       "\n",
       "    function append_mime(data, metadata, element) {\n",
       "      // create a DOM node to render to\n",
       "      var toinsert = this.create_output_subarea(\n",
       "        metadata,\n",
       "        CLASS_NAME,\n",
       "        EXEC_MIME_TYPE\n",
       "      );\n",
       "      this.keyboard_manager.register_events(toinsert);\n",
       "      // Render to node\n",
       "      var props = {data: data, metadata: metadata[EXEC_MIME_TYPE]};\n",
       "      render(props, toinsert[toinsert.length - 1]);\n",
       "      element.append(toinsert);\n",
       "      return toinsert\n",
       "    }\n",
       "\n",
       "    /* Handle when an output is cleared or removed */\n",
       "    events.on('clear_output.CodeCell', handleClearOutput);\n",
       "    events.on('delete.Cell', handleClearOutput);\n",
       "\n",
       "    /* Handle when a new output is added */\n",
       "    events.on('output_added.OutputArea', handleAddOutput);\n",
       "\n",
       "    /**\n",
       "     * Register the mime type and append_mime function with output_area\n",
       "     */\n",
       "    OutputArea.prototype.register_mime_type(EXEC_MIME_TYPE, append_mime, {\n",
       "      /* Is output safe? */\n",
       "      safe: true,\n",
       "      /* Index of renderer in `output_area.display_order` */\n",
       "      index: 0\n",
       "    });\n",
       "  }\n",
       "\n",
       "  // register the mime type if in Jupyter Notebook environment and previously unregistered\n",
       "  if (root.Jupyter !== undefined) {\n",
       "    var events = require('base/js/events');\n",
       "    var OutputArea = require('notebook/js/outputarea').OutputArea;\n",
       "\n",
       "    if (OutputArea.prototype.mime_types().indexOf(EXEC_MIME_TYPE) == -1) {\n",
       "      register_renderer(events, OutputArea);\n",
       "    }\n",
       "  }\n",
       "\n",
       "  \n",
       "  if (typeof (root._bokeh_timeout) === \"undefined\" || force === true) {\n",
       "    root._bokeh_timeout = Date.now() + 5000;\n",
       "    root._bokeh_failed_load = false;\n",
       "  }\n",
       "\n",
       "  var NB_LOAD_WARNING = {'data': {'text/html':\n",
       "     \"<div style='background-color: #fdd'>\\n\"+\n",
       "     \"<p>\\n\"+\n",
       "     \"BokehJS does not appear to have successfully loaded. If loading BokehJS from CDN, this \\n\"+\n",
       "     \"may be due to a slow or bad network connection. Possible fixes:\\n\"+\n",
       "     \"</p>\\n\"+\n",
       "     \"<ul>\\n\"+\n",
       "     \"<li>re-rerun `output_notebook()` to attempt to load from CDN again, or</li>\\n\"+\n",
       "     \"<li>use INLINE resources instead, as so:</li>\\n\"+\n",
       "     \"</ul>\\n\"+\n",
       "     \"<code>\\n\"+\n",
       "     \"from bokeh.resources import INLINE\\n\"+\n",
       "     \"output_notebook(resources=INLINE)\\n\"+\n",
       "     \"</code>\\n\"+\n",
       "     \"</div>\"}};\n",
       "\n",
       "  function display_loaded() {\n",
       "    var el = document.getElementById(\"1001\");\n",
       "    if (el != null) {\n",
       "      el.textContent = \"BokehJS is loading...\";\n",
       "    }\n",
       "    if (root.Bokeh !== undefined) {\n",
       "      if (el != null) {\n",
       "        el.textContent = \"BokehJS \" + root.Bokeh.version + \" successfully loaded.\";\n",
       "      }\n",
       "    } else if (Date.now() < root._bokeh_timeout) {\n",
       "      setTimeout(display_loaded, 100)\n",
       "    }\n",
       "  }\n",
       "\n",
       "\n",
       "  function run_callbacks() {\n",
       "    try {\n",
       "      root._bokeh_onload_callbacks.forEach(function(callback) { callback() });\n",
       "    }\n",
       "    finally {\n",
       "      delete root._bokeh_onload_callbacks\n",
       "    }\n",
       "    console.info(\"Bokeh: all callbacks have finished\");\n",
       "  }\n",
       "\n",
       "  function load_libs(js_urls, callback) {\n",
       "    root._bokeh_onload_callbacks.push(callback);\n",
       "    if (root._bokeh_is_loading > 0) {\n",
       "      console.log(\"Bokeh: BokehJS is being loaded, scheduling callback at\", now());\n",
       "      return null;\n",
       "    }\n",
       "    if (js_urls == null || js_urls.length === 0) {\n",
       "      run_callbacks();\n",
       "      return null;\n",
       "    }\n",
       "    console.log(\"Bokeh: BokehJS not loaded, scheduling load and callback at\", now());\n",
       "    root._bokeh_is_loading = js_urls.length;\n",
       "    for (var i = 0; i < js_urls.length; i++) {\n",
       "      var url = js_urls[i];\n",
       "      var s = document.createElement('script');\n",
       "      s.src = url;\n",
       "      s.async = false;\n",
       "      s.onreadystatechange = s.onload = function() {\n",
       "        root._bokeh_is_loading--;\n",
       "        if (root._bokeh_is_loading === 0) {\n",
       "          console.log(\"Bokeh: all BokehJS libraries loaded\");\n",
       "          run_callbacks()\n",
       "        }\n",
       "      };\n",
       "      s.onerror = function() {\n",
       "        console.warn(\"failed to load library \" + url);\n",
       "      };\n",
       "      console.log(\"Bokeh: injecting script tag for BokehJS library: \", url);\n",
       "      document.getElementsByTagName(\"head\")[0].appendChild(s);\n",
       "    }\n",
       "  };var element = document.getElementById(\"1001\");\n",
       "  if (element == null) {\n",
       "    console.log(\"Bokeh: ERROR: autoload.js configured with elementid '1001' but no matching script tag was found. \")\n",
       "    return false;\n",
       "  }\n",
       "\n",
       "  var js_urls = [\"https://cdn.pydata.org/bokeh/release/bokeh-1.0.3.min.js\", \"https://cdn.pydata.org/bokeh/release/bokeh-widgets-1.0.3.min.js\", \"https://cdn.pydata.org/bokeh/release/bokeh-tables-1.0.3.min.js\", \"https://cdn.pydata.org/bokeh/release/bokeh-gl-1.0.3.min.js\"];\n",
       "\n",
       "  var inline_js = [\n",
       "    function(Bokeh) {\n",
       "      Bokeh.set_log_level(\"info\");\n",
       "    },\n",
       "    \n",
       "    function(Bokeh) {\n",
       "      \n",
       "    },\n",
       "    function(Bokeh) {\n",
       "      console.log(\"Bokeh: injecting CSS: https://cdn.pydata.org/bokeh/release/bokeh-1.0.3.min.css\");\n",
       "      Bokeh.embed.inject_css(\"https://cdn.pydata.org/bokeh/release/bokeh-1.0.3.min.css\");\n",
       "      console.log(\"Bokeh: injecting CSS: https://cdn.pydata.org/bokeh/release/bokeh-widgets-1.0.3.min.css\");\n",
       "      Bokeh.embed.inject_css(\"https://cdn.pydata.org/bokeh/release/bokeh-widgets-1.0.3.min.css\");\n",
       "      console.log(\"Bokeh: injecting CSS: https://cdn.pydata.org/bokeh/release/bokeh-tables-1.0.3.min.css\");\n",
       "      Bokeh.embed.inject_css(\"https://cdn.pydata.org/bokeh/release/bokeh-tables-1.0.3.min.css\");\n",
       "    }\n",
       "  ];\n",
       "\n",
       "  function run_inline_js() {\n",
       "    \n",
       "    if ((root.Bokeh !== undefined) || (force === true)) {\n",
       "      for (var i = 0; i < inline_js.length; i++) {\n",
       "        inline_js[i].call(root, root.Bokeh);\n",
       "      }if (force === true) {\n",
       "        display_loaded();\n",
       "      }} else if (Date.now() < root._bokeh_timeout) {\n",
       "      setTimeout(run_inline_js, 100);\n",
       "    } else if (!root._bokeh_failed_load) {\n",
       "      console.log(\"Bokeh: BokehJS failed to load within specified timeout.\");\n",
       "      root._bokeh_failed_load = true;\n",
       "    } else if (force !== true) {\n",
       "      var cell = $(document.getElementById(\"1001\")).parents('.cell').data().cell;\n",
       "      cell.output_area.append_execute_result(NB_LOAD_WARNING)\n",
       "    }\n",
       "\n",
       "  }\n",
       "\n",
       "  if (root._bokeh_is_loading === 0) {\n",
       "    console.log(\"Bokeh: BokehJS loaded, going straight to plotting\");\n",
       "    run_inline_js();\n",
       "  } else {\n",
       "    load_libs(js_urls, function() {\n",
       "      console.log(\"Bokeh: BokehJS plotting callback run at\", now());\n",
       "      run_inline_js();\n",
       "    });\n",
       "  }\n",
       "}(window));"
      ],
      "application/vnd.bokehjs_load.v0+json": "\n(function(root) {\n  function now() {\n    return new Date();\n  }\n\n  var force = true;\n\n  if (typeof (root._bokeh_onload_callbacks) === \"undefined\" || force === true) {\n    root._bokeh_onload_callbacks = [];\n    root._bokeh_is_loading = undefined;\n  }\n\n  \n\n  \n  if (typeof (root._bokeh_timeout) === \"undefined\" || force === true) {\n    root._bokeh_timeout = Date.now() + 5000;\n    root._bokeh_failed_load = false;\n  }\n\n  var NB_LOAD_WARNING = {'data': {'text/html':\n     \"<div style='background-color: #fdd'>\\n\"+\n     \"<p>\\n\"+\n     \"BokehJS does not appear to have successfully loaded. If loading BokehJS from CDN, this \\n\"+\n     \"may be due to a slow or bad network connection. Possible fixes:\\n\"+\n     \"</p>\\n\"+\n     \"<ul>\\n\"+\n     \"<li>re-rerun `output_notebook()` to attempt to load from CDN again, or</li>\\n\"+\n     \"<li>use INLINE resources instead, as so:</li>\\n\"+\n     \"</ul>\\n\"+\n     \"<code>\\n\"+\n     \"from bokeh.resources import INLINE\\n\"+\n     \"output_notebook(resources=INLINE)\\n\"+\n     \"</code>\\n\"+\n     \"</div>\"}};\n\n  function display_loaded() {\n    var el = document.getElementById(\"1001\");\n    if (el != null) {\n      el.textContent = \"BokehJS is loading...\";\n    }\n    if (root.Bokeh !== undefined) {\n      if (el != null) {\n        el.textContent = \"BokehJS \" + root.Bokeh.version + \" successfully loaded.\";\n      }\n    } else if (Date.now() < root._bokeh_timeout) {\n      setTimeout(display_loaded, 100)\n    }\n  }\n\n\n  function run_callbacks() {\n    try {\n      root._bokeh_onload_callbacks.forEach(function(callback) { callback() });\n    }\n    finally {\n      delete root._bokeh_onload_callbacks\n    }\n    console.info(\"Bokeh: all callbacks have finished\");\n  }\n\n  function load_libs(js_urls, callback) {\n    root._bokeh_onload_callbacks.push(callback);\n    if (root._bokeh_is_loading > 0) {\n      console.log(\"Bokeh: BokehJS is being loaded, scheduling callback at\", now());\n      return null;\n    }\n    if (js_urls == null || js_urls.length === 0) {\n      run_callbacks();\n      return null;\n    }\n    console.log(\"Bokeh: BokehJS not loaded, scheduling load and callback at\", now());\n    root._bokeh_is_loading = js_urls.length;\n    for (var i = 0; i < js_urls.length; i++) {\n      var url = js_urls[i];\n      var s = document.createElement('script');\n      s.src = url;\n      s.async = false;\n      s.onreadystatechange = s.onload = function() {\n        root._bokeh_is_loading--;\n        if (root._bokeh_is_loading === 0) {\n          console.log(\"Bokeh: all BokehJS libraries loaded\");\n          run_callbacks()\n        }\n      };\n      s.onerror = function() {\n        console.warn(\"failed to load library \" + url);\n      };\n      console.log(\"Bokeh: injecting script tag for BokehJS library: \", url);\n      document.getElementsByTagName(\"head\")[0].appendChild(s);\n    }\n  };var element = document.getElementById(\"1001\");\n  if (element == null) {\n    console.log(\"Bokeh: ERROR: autoload.js configured with elementid '1001' but no matching script tag was found. \")\n    return false;\n  }\n\n  var js_urls = [\"https://cdn.pydata.org/bokeh/release/bokeh-1.0.3.min.js\", \"https://cdn.pydata.org/bokeh/release/bokeh-widgets-1.0.3.min.js\", \"https://cdn.pydata.org/bokeh/release/bokeh-tables-1.0.3.min.js\", \"https://cdn.pydata.org/bokeh/release/bokeh-gl-1.0.3.min.js\"];\n\n  var inline_js = [\n    function(Bokeh) {\n      Bokeh.set_log_level(\"info\");\n    },\n    \n    function(Bokeh) {\n      \n    },\n    function(Bokeh) {\n      console.log(\"Bokeh: injecting CSS: https://cdn.pydata.org/bokeh/release/bokeh-1.0.3.min.css\");\n      Bokeh.embed.inject_css(\"https://cdn.pydata.org/bokeh/release/bokeh-1.0.3.min.css\");\n      console.log(\"Bokeh: injecting CSS: https://cdn.pydata.org/bokeh/release/bokeh-widgets-1.0.3.min.css\");\n      Bokeh.embed.inject_css(\"https://cdn.pydata.org/bokeh/release/bokeh-widgets-1.0.3.min.css\");\n      console.log(\"Bokeh: injecting CSS: https://cdn.pydata.org/bokeh/release/bokeh-tables-1.0.3.min.css\");\n      Bokeh.embed.inject_css(\"https://cdn.pydata.org/bokeh/release/bokeh-tables-1.0.3.min.css\");\n    }\n  ];\n\n  function run_inline_js() {\n    \n    if ((root.Bokeh !== undefined) || (force === true)) {\n      for (var i = 0; i < inline_js.length; i++) {\n        inline_js[i].call(root, root.Bokeh);\n      }if (force === true) {\n        display_loaded();\n      }} else if (Date.now() < root._bokeh_timeout) {\n      setTimeout(run_inline_js, 100);\n    } else if (!root._bokeh_failed_load) {\n      console.log(\"Bokeh: BokehJS failed to load within specified timeout.\");\n      root._bokeh_failed_load = true;\n    } else if (force !== true) {\n      var cell = $(document.getElementById(\"1001\")).parents('.cell').data().cell;\n      cell.output_area.append_execute_result(NB_LOAD_WARNING)\n    }\n\n  }\n\n  if (root._bokeh_is_loading === 0) {\n    console.log(\"Bokeh: BokehJS loaded, going straight to plotting\");\n    run_inline_js();\n  } else {\n    load_libs(js_urls, function() {\n      console.log(\"Bokeh: BokehJS plotting callback run at\", now());\n      run_inline_js();\n    });\n  }\n}(window));"
     },
     "metadata": {},
     "output_type": "display_data"
    },
    {
     "data": {
      "text/html": [
       "<div>\n",
       "<style scoped>\n",
       "    .dataframe tbody tr th:only-of-type {\n",
       "        vertical-align: middle;\n",
       "    }\n",
       "\n",
       "    .dataframe tbody tr th {\n",
       "        vertical-align: top;\n",
       "    }\n",
       "\n",
       "    .dataframe thead th {\n",
       "        text-align: right;\n",
       "    }\n",
       "</style>\n",
       "<table border=\"1\" class=\"dataframe\">\n",
       "  <thead>\n",
       "    <tr style=\"text-align: right;\">\n",
       "      <th></th>\n",
       "      <th>BLOQUE</th>\n",
       "      <th>CAMPOS</th>\n",
       "      <th>ENERO</th>\n",
       "      <th>FEBRERO</th>\n",
       "      <th>MARZO</th>\n",
       "      <th>ABRIL</th>\n",
       "      <th>MAYO</th>\n",
       "      <th>JUNIO</th>\n",
       "      <th>JULIO</th>\n",
       "      <th>AGOSTO</th>\n",
       "      <th>SEPTIEMBRE</th>\n",
       "      <th>OCTUBRE</th>\n",
       "      <th>NOVIEMBRE</th>\n",
       "      <th>DICIEMBRE</th>\n",
       "      <th>TOTAL</th>\n",
       "    </tr>\n",
       "  </thead>\n",
       "  <tbody>\n",
       "    <tr>\n",
       "      <th>0</th>\n",
       "      <td>TARAPOA</td>\n",
       "      <td>ALICE</td>\n",
       "      <td>92.117</td>\n",
       "      <td>83.881</td>\n",
       "      <td>90.989</td>\n",
       "      <td>87.972</td>\n",
       "      <td>89.027</td>\n",
       "      <td>86.944</td>\n",
       "      <td>87.948</td>\n",
       "      <td>87.855</td>\n",
       "      <td>83.570</td>\n",
       "      <td>86.290</td>\n",
       "      <td>84.005</td>\n",
       "      <td>84.451</td>\n",
       "      <td>1045.049</td>\n",
       "    </tr>\n",
       "    <tr>\n",
       "      <th>1</th>\n",
       "      <td>TARAPOA</td>\n",
       "      <td>ALICE OESTE</td>\n",
       "      <td>0.000</td>\n",
       "      <td>0.000</td>\n",
       "      <td>0.000</td>\n",
       "      <td>0.000</td>\n",
       "      <td>0.000</td>\n",
       "      <td>0.000</td>\n",
       "      <td>0.000</td>\n",
       "      <td>14.728</td>\n",
       "      <td>31.124</td>\n",
       "      <td>32.642</td>\n",
       "      <td>32.684</td>\n",
       "      <td>50.758</td>\n",
       "      <td>161.935</td>\n",
       "    </tr>\n",
       "    <tr>\n",
       "      <th>2</th>\n",
       "      <td>TARAPOA</td>\n",
       "      <td>CHORONGO</td>\n",
       "      <td>6.642</td>\n",
       "      <td>8.212</td>\n",
       "      <td>7.732</td>\n",
       "      <td>7.457</td>\n",
       "      <td>5.730</td>\n",
       "      <td>9.381</td>\n",
       "      <td>9.736</td>\n",
       "      <td>10.253</td>\n",
       "      <td>10.426</td>\n",
       "      <td>10.821</td>\n",
       "      <td>11.337</td>\n",
       "      <td>12.077</td>\n",
       "      <td>109.804</td>\n",
       "    </tr>\n",
       "    <tr>\n",
       "      <th>3</th>\n",
       "      <td>TARAPOA</td>\n",
       "      <td>CHORONGO ESTE</td>\n",
       "      <td>3.365</td>\n",
       "      <td>2.618</td>\n",
       "      <td>2.210</td>\n",
       "      <td>748.000</td>\n",
       "      <td>0.000</td>\n",
       "      <td>0.000</td>\n",
       "      <td>0.000</td>\n",
       "      <td>0.000</td>\n",
       "      <td>0.000</td>\n",
       "      <td>0.000</td>\n",
       "      <td>0.000</td>\n",
       "      <td>0.000</td>\n",
       "      <td>8.941</td>\n",
       "    </tr>\n",
       "    <tr>\n",
       "      <th>4</th>\n",
       "      <td>TARAPOA</td>\n",
       "      <td>COLIBRI</td>\n",
       "      <td>62.696</td>\n",
       "      <td>57.146</td>\n",
       "      <td>57.413</td>\n",
       "      <td>44.915</td>\n",
       "      <td>56.400</td>\n",
       "      <td>72.657</td>\n",
       "      <td>70.449</td>\n",
       "      <td>68.634</td>\n",
       "      <td>49.231</td>\n",
       "      <td>49.733</td>\n",
       "      <td>45.634</td>\n",
       "      <td>43.670</td>\n",
       "      <td>678.579</td>\n",
       "    </tr>\n",
       "    <tr>\n",
       "      <th>5</th>\n",
       "      <td>TARAPOA</td>\n",
       "      <td>DANA</td>\n",
       "      <td>7.093</td>\n",
       "      <td>4.505</td>\n",
       "      <td>2.810</td>\n",
       "      <td>1.316</td>\n",
       "      <td>0.000</td>\n",
       "      <td>0.000</td>\n",
       "      <td>0.000</td>\n",
       "      <td>0.000</td>\n",
       "      <td>0.000</td>\n",
       "      <td>96.000</td>\n",
       "      <td>37.000</td>\n",
       "      <td>0.000</td>\n",
       "      <td>15.857</td>\n",
       "    </tr>\n",
       "    <tr>\n",
       "      <th>6</th>\n",
       "      <td>TARAPOA</td>\n",
       "      <td>DORINE</td>\n",
       "      <td>196.580</td>\n",
       "      <td>169.047</td>\n",
       "      <td>190.396</td>\n",
       "      <td>188.106</td>\n",
       "      <td>187.872</td>\n",
       "      <td>189.185</td>\n",
       "      <td>175.084</td>\n",
       "      <td>171.404</td>\n",
       "      <td>168.668</td>\n",
       "      <td>172.138</td>\n",
       "      <td>167.475</td>\n",
       "      <td>172.219</td>\n",
       "      <td>2148.175</td>\n",
       "    </tr>\n",
       "    <tr>\n",
       "      <th>7</th>\n",
       "      <td>TARAPOA</td>\n",
       "      <td>DORINE G</td>\n",
       "      <td>2.145</td>\n",
       "      <td>2.210</td>\n",
       "      <td>2.486</td>\n",
       "      <td>2.453</td>\n",
       "      <td>2.543</td>\n",
       "      <td>2.458</td>\n",
       "      <td>2.506</td>\n",
       "      <td>2.514</td>\n",
       "      <td>2.478</td>\n",
       "      <td>2.590</td>\n",
       "      <td>2.332</td>\n",
       "      <td>24.000</td>\n",
       "      <td>26.738</td>\n",
       "    </tr>\n",
       "    <tr>\n",
       "      <th>8</th>\n",
       "      <td>TARAPOA</td>\n",
       "      <td>DORINE NORTE</td>\n",
       "      <td>8.353</td>\n",
       "      <td>7.353</td>\n",
       "      <td>8.118</td>\n",
       "      <td>7.871</td>\n",
       "      <td>7.736</td>\n",
       "      <td>7.449</td>\n",
       "      <td>7.630</td>\n",
       "      <td>7.473</td>\n",
       "      <td>7.027</td>\n",
       "      <td>7.260</td>\n",
       "      <td>6.993</td>\n",
       "      <td>7.189</td>\n",
       "      <td>90.453</td>\n",
       "    </tr>\n",
       "    <tr>\n",
       "      <th>9</th>\n",
       "      <td>TARAPOA</td>\n",
       "      <td>ESPERANZA</td>\n",
       "      <td>30.635</td>\n",
       "      <td>28.400</td>\n",
       "      <td>31.070</td>\n",
       "      <td>29.696</td>\n",
       "      <td>29.990</td>\n",
       "      <td>28.416</td>\n",
       "      <td>28.650</td>\n",
       "      <td>29.380</td>\n",
       "      <td>26.666</td>\n",
       "      <td>26.821</td>\n",
       "      <td>24.578</td>\n",
       "      <td>22.342</td>\n",
       "      <td>336.644</td>\n",
       "    </tr>\n",
       "    <tr>\n",
       "      <th>10</th>\n",
       "      <td>TARAPOA</td>\n",
       "      <td>FANNY-18B</td>\n",
       "      <td>477.004</td>\n",
       "      <td>451.050</td>\n",
       "      <td>481.467</td>\n",
       "      <td>449.227</td>\n",
       "      <td>451.535</td>\n",
       "      <td>433.899</td>\n",
       "      <td>439.709</td>\n",
       "      <td>434.354</td>\n",
       "      <td>410.664</td>\n",
       "      <td>418.803</td>\n",
       "      <td>404.022</td>\n",
       "      <td>418.169</td>\n",
       "      <td>5269.902</td>\n",
       "    </tr>\n",
       "    <tr>\n",
       "      <th>11</th>\n",
       "      <td>TARAPOA</td>\n",
       "      <td>JOHANNA</td>\n",
       "      <td>0.000</td>\n",
       "      <td>0.000</td>\n",
       "      <td>0.000</td>\n",
       "      <td>0.000</td>\n",
       "      <td>0.000</td>\n",
       "      <td>0.000</td>\n",
       "      <td>20.063</td>\n",
       "      <td>16.212</td>\n",
       "      <td>10.660</td>\n",
       "      <td>9.176</td>\n",
       "      <td>7.836</td>\n",
       "      <td>7.242</td>\n",
       "      <td>71.188</td>\n",
       "    </tr>\n",
       "    <tr>\n",
       "      <th>12</th>\n",
       "      <td>TARAPOA</td>\n",
       "      <td>MAHOGANY</td>\n",
       "      <td>7.699</td>\n",
       "      <td>6.381</td>\n",
       "      <td>7.571</td>\n",
       "      <td>7.738</td>\n",
       "      <td>8.089</td>\n",
       "      <td>7.046</td>\n",
       "      <td>6.562</td>\n",
       "      <td>6.714</td>\n",
       "      <td>6.184</td>\n",
       "      <td>6.309</td>\n",
       "      <td>5.970</td>\n",
       "      <td>6.008</td>\n",
       "      <td>82.270</td>\n",
       "    </tr>\n",
       "    <tr>\n",
       "      <th>13</th>\n",
       "      <td>TARAPOA</td>\n",
       "      <td>MARIANN</td>\n",
       "      <td>87.413</td>\n",
       "      <td>79.332</td>\n",
       "      <td>82.781</td>\n",
       "      <td>100.134</td>\n",
       "      <td>117.154</td>\n",
       "      <td>121.881</td>\n",
       "      <td>126.045</td>\n",
       "      <td>165.028</td>\n",
       "      <td>159.941</td>\n",
       "      <td>177.997</td>\n",
       "      <td>176.045</td>\n",
       "      <td>202.455</td>\n",
       "      <td>1596.206</td>\n",
       "    </tr>\n",
       "    <tr>\n",
       "      <th>14</th>\n",
       "      <td>TARAPOA</td>\n",
       "      <td>MARIANN NORTE</td>\n",
       "      <td>5.341</td>\n",
       "      <td>2.828</td>\n",
       "      <td>0.000</td>\n",
       "      <td>0.000</td>\n",
       "      <td>829.000</td>\n",
       "      <td>1.449</td>\n",
       "      <td>1.556</td>\n",
       "      <td>0.000</td>\n",
       "      <td>0.000</td>\n",
       "      <td>0.000</td>\n",
       "      <td>0.000</td>\n",
       "      <td>0.000</td>\n",
       "      <td>12.002</td>\n",
       "    </tr>\n",
       "    <tr>\n",
       "      <th>15</th>\n",
       "      <td>TARAPOA</td>\n",
       "      <td>MARIANN SUR</td>\n",
       "      <td>15.139</td>\n",
       "      <td>17.965</td>\n",
       "      <td>34.679</td>\n",
       "      <td>46.521</td>\n",
       "      <td>58.845</td>\n",
       "      <td>49.236</td>\n",
       "      <td>46.738</td>\n",
       "      <td>0.000</td>\n",
       "      <td>0.000</td>\n",
       "      <td>0.000</td>\n",
       "      <td>0.000</td>\n",
       "      <td>0.000</td>\n",
       "      <td>269.122</td>\n",
       "    </tr>\n",
       "    <tr>\n",
       "      <th>16</th>\n",
       "      <td>TARAPOA</td>\n",
       "      <td>MARIANN-4A</td>\n",
       "      <td>24.771</td>\n",
       "      <td>22.707</td>\n",
       "      <td>27.581</td>\n",
       "      <td>22.908</td>\n",
       "      <td>26.963</td>\n",
       "      <td>24.869</td>\n",
       "      <td>25.561</td>\n",
       "      <td>24.575</td>\n",
       "      <td>21.682</td>\n",
       "      <td>22.600</td>\n",
       "      <td>20.683</td>\n",
       "      <td>19.142</td>\n",
       "      <td>284.040</td>\n",
       "    </tr>\n",
       "    <tr>\n",
       "      <th>17</th>\n",
       "      <td>TARAPOA</td>\n",
       "      <td>ORQUIDEA</td>\n",
       "      <td>0.000</td>\n",
       "      <td>0.000</td>\n",
       "      <td>0.000</td>\n",
       "      <td>0.000</td>\n",
       "      <td>0.000</td>\n",
       "      <td>0.000</td>\n",
       "      <td>0.000</td>\n",
       "      <td>0.000</td>\n",
       "      <td>0.000</td>\n",
       "      <td>334.000</td>\n",
       "      <td>0.000</td>\n",
       "      <td>0.000</td>\n",
       "      <td>334.000</td>\n",
       "    </tr>\n",
       "    <tr>\n",
       "      <th>18</th>\n",
       "      <td>TARAPOA</td>\n",
       "      <td>SHIRLEY</td>\n",
       "      <td>1.696</td>\n",
       "      <td>1.287</td>\n",
       "      <td>1.304</td>\n",
       "      <td>1.452</td>\n",
       "      <td>1.423</td>\n",
       "      <td>1.901</td>\n",
       "      <td>2.482</td>\n",
       "      <td>2.725</td>\n",
       "      <td>18.230</td>\n",
       "      <td>10.282</td>\n",
       "      <td>7.066</td>\n",
       "      <td>7.401</td>\n",
       "      <td>57.250</td>\n",
       "    </tr>\n",
       "    <tr>\n",
       "      <th>19</th>\n",
       "      <td>TARAPOA</td>\n",
       "      <td>SONIA</td>\n",
       "      <td>4.208</td>\n",
       "      <td>3.760</td>\n",
       "      <td>4.157</td>\n",
       "      <td>4.573</td>\n",
       "      <td>4.924</td>\n",
       "      <td>4.643</td>\n",
       "      <td>4.801</td>\n",
       "      <td>4.794</td>\n",
       "      <td>4.640</td>\n",
       "      <td>4.684</td>\n",
       "      <td>4.274</td>\n",
       "      <td>4.340</td>\n",
       "      <td>53.797</td>\n",
       "    </tr>\n",
       "    <tr>\n",
       "      <th>20</th>\n",
       "      <td>TARAPOA</td>\n",
       "      <td>TARAPOA NOROESTE</td>\n",
       "      <td>NaN</td>\n",
       "      <td>0.000</td>\n",
       "      <td>0.000</td>\n",
       "      <td>0.000</td>\n",
       "      <td>0.000</td>\n",
       "      <td>0.000</td>\n",
       "      <td>0.000</td>\n",
       "      <td>0.000</td>\n",
       "      <td>0.000</td>\n",
       "      <td>0.000</td>\n",
       "      <td>0.000</td>\n",
       "      <td>0.000</td>\n",
       "      <td>0.000</td>\n",
       "    </tr>\n",
       "  </tbody>\n",
       "</table>\n",
       "</div>"
      ],
      "text/plain": [
       "     BLOQUE            CAMPOS    ENERO  FEBRERO    MARZO    ABRIL     MAYO  \\\n",
       "0   TARAPOA             ALICE   92.117   83.881   90.989   87.972   89.027   \n",
       "1   TARAPOA       ALICE OESTE    0.000    0.000    0.000    0.000    0.000   \n",
       "2   TARAPOA          CHORONGO    6.642    8.212    7.732    7.457    5.730   \n",
       "3   TARAPOA     CHORONGO ESTE    3.365    2.618    2.210  748.000    0.000   \n",
       "4   TARAPOA           COLIBRI   62.696   57.146   57.413   44.915   56.400   \n",
       "5   TARAPOA              DANA    7.093    4.505    2.810    1.316    0.000   \n",
       "6   TARAPOA            DORINE  196.580  169.047  190.396  188.106  187.872   \n",
       "7   TARAPOA          DORINE G    2.145    2.210    2.486    2.453    2.543   \n",
       "8   TARAPOA      DORINE NORTE    8.353    7.353    8.118    7.871    7.736   \n",
       "9   TARAPOA         ESPERANZA   30.635   28.400   31.070   29.696   29.990   \n",
       "10  TARAPOA         FANNY-18B  477.004  451.050  481.467  449.227  451.535   \n",
       "11  TARAPOA           JOHANNA    0.000    0.000    0.000    0.000    0.000   \n",
       "12  TARAPOA          MAHOGANY    7.699    6.381    7.571    7.738    8.089   \n",
       "13  TARAPOA           MARIANN   87.413   79.332   82.781  100.134  117.154   \n",
       "14  TARAPOA     MARIANN NORTE    5.341    2.828    0.000    0.000  829.000   \n",
       "15  TARAPOA       MARIANN SUR   15.139   17.965   34.679   46.521   58.845   \n",
       "16  TARAPOA        MARIANN-4A   24.771   22.707   27.581   22.908   26.963   \n",
       "17  TARAPOA          ORQUIDEA    0.000    0.000    0.000    0.000    0.000   \n",
       "18  TARAPOA           SHIRLEY    1.696    1.287    1.304    1.452    1.423   \n",
       "19  TARAPOA             SONIA    4.208    3.760    4.157    4.573    4.924   \n",
       "20  TARAPOA  TARAPOA NOROESTE      NaN    0.000    0.000    0.000    0.000   \n",
       "\n",
       "      JUNIO    JULIO   AGOSTO  SEPTIEMBRE  OCTUBRE  NOVIEMBRE  DICIEMBRE  \\\n",
       "0    86.944   87.948   87.855      83.570   86.290     84.005     84.451   \n",
       "1     0.000    0.000   14.728      31.124   32.642     32.684     50.758   \n",
       "2     9.381    9.736   10.253      10.426   10.821     11.337     12.077   \n",
       "3     0.000    0.000    0.000       0.000    0.000      0.000      0.000   \n",
       "4    72.657   70.449   68.634      49.231   49.733     45.634     43.670   \n",
       "5     0.000    0.000    0.000       0.000   96.000     37.000      0.000   \n",
       "6   189.185  175.084  171.404     168.668  172.138    167.475    172.219   \n",
       "7     2.458    2.506    2.514       2.478    2.590      2.332     24.000   \n",
       "8     7.449    7.630    7.473       7.027    7.260      6.993      7.189   \n",
       "9    28.416   28.650   29.380      26.666   26.821     24.578     22.342   \n",
       "10  433.899  439.709  434.354     410.664  418.803    404.022    418.169   \n",
       "11    0.000   20.063   16.212      10.660    9.176      7.836      7.242   \n",
       "12    7.046    6.562    6.714       6.184    6.309      5.970      6.008   \n",
       "13  121.881  126.045  165.028     159.941  177.997    176.045    202.455   \n",
       "14    1.449    1.556    0.000       0.000    0.000      0.000      0.000   \n",
       "15   49.236   46.738    0.000       0.000    0.000      0.000      0.000   \n",
       "16   24.869   25.561   24.575      21.682   22.600     20.683     19.142   \n",
       "17    0.000    0.000    0.000       0.000  334.000      0.000      0.000   \n",
       "18    1.901    2.482    2.725      18.230   10.282      7.066      7.401   \n",
       "19    4.643    4.801    4.794       4.640    4.684      4.274      4.340   \n",
       "20    0.000    0.000    0.000       0.000    0.000      0.000      0.000   \n",
       "\n",
       "       TOTAL  \n",
       "0   1045.049  \n",
       "1    161.935  \n",
       "2    109.804  \n",
       "3      8.941  \n",
       "4    678.579  \n",
       "5     15.857  \n",
       "6   2148.175  \n",
       "7     26.738  \n",
       "8     90.453  \n",
       "9    336.644  \n",
       "10  5269.902  \n",
       "11    71.188  \n",
       "12    82.270  \n",
       "13  1596.206  \n",
       "14    12.002  \n",
       "15   269.122  \n",
       "16   284.040  \n",
       "17   334.000  \n",
       "18    57.250  \n",
       "19    53.797  \n",
       "20     0.000  "
      ]
     },
     "execution_count": 2,
     "metadata": {},
     "output_type": "execute_result"
    }
   ],
   "source": [
    "import pandas as pd\n",
    "from math import pi\n",
    "from bokeh.core.properties import value\n",
    "from bokeh.io import show, output_notebook\n",
    "from bokeh.models import ColumnDataSource, FactorRange\n",
    "from bokeh.plotting import figure\n",
    "from bokeh.transform import factor_cmap,cumsum     # DataSpec\n",
    "from bokeh.palettes import *\n",
    "output_notebook()\n",
    "archivo=pd.read_csv(\"andes-petroleum.csv\", sep=\";\")\n",
    "archivo"
   ]
  },
  {
   "cell_type": "code",
   "execution_count": 2,
   "metadata": {},
   "outputs": [
    {
     "data": {
      "text/html": [
       "\n",
       "\n",
       "\n",
       "\n",
       "\n",
       "\n",
       "  <div class=\"bk-root\" id=\"745b532d-1f41-42db-97b8-8d2e4d181d3c\" data-root-id=\"1003\"></div>\n"
      ]
     },
     "metadata": {},
     "output_type": "display_data"
    },
    {
     "data": {
      "application/javascript": [
       "(function(root) {\n",
       "  function embed_document(root) {\n",
       "    \n",
       "  var docs_json = {\"cf33ef1f-1116-4f56-85e6-b51c416e7797\":{\"roots\":{\"references\":[{\"attributes\":{\"below\":[{\"id\":\"1013\",\"type\":\"CategoricalAxis\"}],\"left\":[{\"id\":\"1017\",\"type\":\"LinearAxis\"}],\"plot_width\":1500,\"renderers\":[{\"id\":\"1013\",\"type\":\"CategoricalAxis\"},{\"id\":\"1016\",\"type\":\"Grid\"},{\"id\":\"1017\",\"type\":\"LinearAxis\"},{\"id\":\"1021\",\"type\":\"Grid\"},{\"id\":\"1058\",\"type\":\"Legend\"},{\"id\":\"1051\",\"type\":\"GlyphRenderer\"},{\"id\":\"1064\",\"type\":\"GlyphRenderer\"},{\"id\":\"1078\",\"type\":\"GlyphRenderer\"},{\"id\":\"1094\",\"type\":\"GlyphRenderer\"},{\"id\":\"1112\",\"type\":\"GlyphRenderer\"},{\"id\":\"1132\",\"type\":\"GlyphRenderer\"},{\"id\":\"1154\",\"type\":\"GlyphRenderer\"},{\"id\":\"1178\",\"type\":\"GlyphRenderer\"},{\"id\":\"1204\",\"type\":\"GlyphRenderer\"},{\"id\":\"1232\",\"type\":\"GlyphRenderer\"},{\"id\":\"1262\",\"type\":\"GlyphRenderer\"},{\"id\":\"1294\",\"type\":\"GlyphRenderer\"}],\"title\":{\"id\":\"1002\",\"type\":\"Title\"},\"toolbar\":{\"id\":\"1022\",\"type\":\"Toolbar\"},\"toolbar_location\":null,\"x_range\":{\"id\":\"1005\",\"type\":\"FactorRange\"},\"x_scale\":{\"id\":\"1009\",\"type\":\"CategoricalScale\"},\"y_range\":{\"id\":\"1007\",\"type\":\"Range1d\"},\"y_scale\":{\"id\":\"1011\",\"type\":\"LinearScale\"}},\"id\":\"1003\",\"subtype\":\"Figure\",\"type\":\"Plot\"},{\"attributes\":{\"source\":{\"id\":\"1108\",\"type\":\"ColumnDataSource\"}},\"id\":\"1113\",\"type\":\"CDSView\"},{\"attributes\":{\"bottom\":{\"expr\":{\"id\":\"1031\",\"type\":\"Stack\"}},\"fill_alpha\":{\"value\":0.1},\"fill_color\":{\"value\":\"#1f77b4\"},\"line_alpha\":{\"value\":0.1},\"line_color\":{\"value\":\"#1f77b4\"},\"top\":{\"expr\":{\"id\":\"1032\",\"type\":\"Stack\"}},\"width\":{\"value\":0.9},\"x\":{\"field\":\"campos\"}},\"id\":\"1111\",\"type\":\"VBar\"},{\"attributes\":{\"data_source\":{\"id\":\"1108\",\"type\":\"ColumnDataSource\"},\"glyph\":{\"id\":\"1110\",\"type\":\"VBar\"},\"hover_glyph\":null,\"muted_glyph\":null,\"name\":\"Mayo\",\"nonselection_glyph\":{\"id\":\"1111\",\"type\":\"VBar\"},\"selection_glyph\":null,\"view\":{\"id\":\"1113\",\"type\":\"CDSView\"}},\"id\":\"1112\",\"type\":\"GlyphRenderer\"},{\"attributes\":{\"source\":{\"id\":\"1150\",\"type\":\"ColumnDataSource\"}},\"id\":\"1155\",\"type\":\"CDSView\"},{\"attributes\":{},\"id\":\"1126\",\"type\":\"Selection\"},{\"attributes\":{\"label\":{\"value\":\"Mayo\"},\"renderers\":[{\"id\":\"1112\",\"type\":\"GlyphRenderer\"}]},\"id\":\"1127\",\"type\":\"LegendItem\"},{\"attributes\":{\"source\":{\"id\":\"1128\",\"type\":\"ColumnDataSource\"}},\"id\":\"1133\",\"type\":\"CDSView\"},{\"attributes\":{\"callback\":null,\"data\":{\"Abril\":[87.97200000000001,0.0,7.457000000000001,748.0,44.915,1.3159999999999998,188.106,2.4530000000000003,7.871,29.695999999999998,449.227,0.0,7.7379999999999995,100.134,0.0,46.521,22.908,0.0,1.452,4.573,0.0],\"Agosto\":[87.855,14.728,10.253,0.0,68.634,0.0,171.40400000000002,2.5140000000000002,7.473,29.38,434.35400000000004,16.212,6.7139999999999995,165.028,0.0,0.0,24.575,0.0,2.725,4.794,0.0],\"Diciembre\":[84.45100000000001,50.758,12.077,0.0,43.67,0.0,172.21900000000002,24.0,7.189,22.342,418.16900000000004,7.242000000000001,6.007999999999999,202.455,0.0,0.0,19.142,0.0,7.401,4.34,0.0],\"Enero\":[92.117,0.0,6.642,3.365,62.696000000000005,7.093,196.58,2.145,8.353,30.635,477.004,0.0,7.699,87.413,5.341,15.139000000000001,24.771,0.0,1.696,4.208,\"NaN\"],\"Febrero\":[83.881,0.0,8.212,2.6180000000000003,57.146,4.505,169.047,2.21,7.353,28.4,451.05,0.0,6.381,79.332,2.8280000000000003,17.965,22.706999999999997,0.0,1.287,3.76,0.0],\"Julio\":[87.948,0.0,9.736,0.0,70.449,0.0,175.084,2.506,7.63,28.65,439.709,20.063,6.562,126.045,1.556,46.738,25.561,0.0,2.4819999999999998,4.801,0.0],\"Junio\":[86.944,0.0,9.381,0.0,72.657,0.0,189.185,2.458,7.449,28.416,433.899,0.0,7.046,121.881,1.449,49.236000000000004,24.869,0.0,1.901,4.643,0.0],\"Marzo\":[90.98899999999999,0.0,7.732,2.21,57.413000000000004,2.81,190.396,2.4859999999999998,8.118,31.07,481.467,0.0,7.571000000000001,82.781,0.0,34.679,27.581,0.0,1.304,4.157,0.0],\"Mayo\":[89.027,0.0,5.73,0.0,56.4,0.0,187.872,2.543,7.736000000000001,29.99,451.535,0.0,8.089,117.154,829.0,58.845,26.963,0.0,1.423,4.9239999999999995,0.0],\"Noviembre\":[84.005,32.684,11.337,0.0,45.63399999999999,37.0,167.475,2.332,6.992999999999999,24.578000000000003,404.022,7.836,5.97,176.045,0.0,0.0,20.683000000000003,0.0,7.066,4.274,0.0],\"Octubre\":[86.29,32.641999999999996,10.821,0.0,49.733000000000004,96.0,172.138,2.59,7.26,26.820999999999998,418.80300000000005,9.176,6.309,177.997,0.0,0.0,22.6,334.0,10.282,4.684,0.0],\"Septiembre\":[83.57,31.124000000000002,10.425999999999998,0.0,49.231,0.0,168.668,2.478,7.027,26.666,410.664,10.66,6.184,159.941,0.0,0.0,21.682,0.0,18.23,4.64,0.0],\"campos\":[\"ALICE\",\"ALICE OESTE\",\"CHORONGO\",\"CHORONGO ESTE\",\"COLIBRI\",\"DANA\",\"DORINE\",\"DORINE G\",\"DORINE NORTE\",\"ESPERANZA\",\"FANNY-18B\",\"JOHANNA\",\"MAHOGANY\",\"MARIANN\",\"MARIANN NORTE\",\"MARIANN SUR\",\"MARIANN-4A\",\"ORQUIDEA\",\"SHIRLEY\",\"SONIA\",\"TARAPOA NOROESTE\"]},\"selected\":{\"id\":\"1172\",\"type\":\"Selection\"},\"selection_policy\":{\"id\":\"1171\",\"type\":\"UnionRenderers\"}},\"id\":\"1128\",\"type\":\"ColumnDataSource\"},{\"attributes\":{},\"id\":\"1148\",\"type\":\"Selection\"},{\"attributes\":{\"bottom\":{\"expr\":{\"id\":\"1033\",\"type\":\"Stack\"}},\"fill_color\":{\"value\":\"#24848D\"},\"line_color\":{\"value\":\"#24848D\"},\"top\":{\"expr\":{\"id\":\"1034\",\"type\":\"Stack\"}},\"width\":{\"value\":0.9},\"x\":{\"field\":\"campos\"}},\"id\":\"1130\",\"type\":\"VBar\"},{\"attributes\":{\"callback\":null,\"data\":{\"Abril\":[87.97200000000001,0.0,7.457000000000001,748.0,44.915,1.3159999999999998,188.106,2.4530000000000003,7.871,29.695999999999998,449.227,0.0,7.7379999999999995,100.134,0.0,46.521,22.908,0.0,1.452,4.573,0.0],\"Agosto\":[87.855,14.728,10.253,0.0,68.634,0.0,171.40400000000002,2.5140000000000002,7.473,29.38,434.35400000000004,16.212,6.7139999999999995,165.028,0.0,0.0,24.575,0.0,2.725,4.794,0.0],\"Diciembre\":[84.45100000000001,50.758,12.077,0.0,43.67,0.0,172.21900000000002,24.0,7.189,22.342,418.16900000000004,7.242000000000001,6.007999999999999,202.455,0.0,0.0,19.142,0.0,7.401,4.34,0.0],\"Enero\":[92.117,0.0,6.642,3.365,62.696000000000005,7.093,196.58,2.145,8.353,30.635,477.004,0.0,7.699,87.413,5.341,15.139000000000001,24.771,0.0,1.696,4.208,\"NaN\"],\"Febrero\":[83.881,0.0,8.212,2.6180000000000003,57.146,4.505,169.047,2.21,7.353,28.4,451.05,0.0,6.381,79.332,2.8280000000000003,17.965,22.706999999999997,0.0,1.287,3.76,0.0],\"Julio\":[87.948,0.0,9.736,0.0,70.449,0.0,175.084,2.506,7.63,28.65,439.709,20.063,6.562,126.045,1.556,46.738,25.561,0.0,2.4819999999999998,4.801,0.0],\"Junio\":[86.944,0.0,9.381,0.0,72.657,0.0,189.185,2.458,7.449,28.416,433.899,0.0,7.046,121.881,1.449,49.236000000000004,24.869,0.0,1.901,4.643,0.0],\"Marzo\":[90.98899999999999,0.0,7.732,2.21,57.413000000000004,2.81,190.396,2.4859999999999998,8.118,31.07,481.467,0.0,7.571000000000001,82.781,0.0,34.679,27.581,0.0,1.304,4.157,0.0],\"Mayo\":[89.027,0.0,5.73,0.0,56.4,0.0,187.872,2.543,7.736000000000001,29.99,451.535,0.0,8.089,117.154,829.0,58.845,26.963,0.0,1.423,4.9239999999999995,0.0],\"Noviembre\":[84.005,32.684,11.337,0.0,45.63399999999999,37.0,167.475,2.332,6.992999999999999,24.578000000000003,404.022,7.836,5.97,176.045,0.0,0.0,20.683000000000003,0.0,7.066,4.274,0.0],\"Octubre\":[86.29,32.641999999999996,10.821,0.0,49.733000000000004,96.0,172.138,2.59,7.26,26.820999999999998,418.80300000000005,9.176,6.309,177.997,0.0,0.0,22.6,334.0,10.282,4.684,0.0],\"Septiembre\":[83.57,31.124000000000002,10.425999999999998,0.0,49.231,0.0,168.668,2.478,7.027,26.666,410.664,10.66,6.184,159.941,0.0,0.0,21.682,0.0,18.23,4.64,0.0],\"campos\":[\"ALICE\",\"ALICE OESTE\",\"CHORONGO\",\"CHORONGO ESTE\",\"COLIBRI\",\"DANA\",\"DORINE\",\"DORINE G\",\"DORINE NORTE\",\"ESPERANZA\",\"FANNY-18B\",\"JOHANNA\",\"MAHOGANY\",\"MARIANN\",\"MARIANN NORTE\",\"MARIANN SUR\",\"MARIANN-4A\",\"ORQUIDEA\",\"SHIRLEY\",\"SONIA\",\"TARAPOA NOROESTE\"]},\"selected\":{\"id\":\"1288\",\"type\":\"Selection\"},\"selection_policy\":{\"id\":\"1287\",\"type\":\"UnionRenderers\"}},\"id\":\"1228\",\"type\":\"ColumnDataSource\"},{\"attributes\":{},\"id\":\"1198\",\"type\":\"Selection\"},{\"attributes\":{\"bottom\":{\"expr\":{\"id\":\"1033\",\"type\":\"Stack\"}},\"fill_alpha\":{\"value\":0.1},\"fill_color\":{\"value\":\"#1f77b4\"},\"line_alpha\":{\"value\":0.1},\"line_color\":{\"value\":\"#1f77b4\"},\"top\":{\"expr\":{\"id\":\"1034\",\"type\":\"Stack\"}},\"width\":{\"value\":0.9},\"x\":{\"field\":\"campos\"}},\"id\":\"1131\",\"type\":\"VBar\"},{\"attributes\":{\"data_source\":{\"id\":\"1128\",\"type\":\"ColumnDataSource\"},\"glyph\":{\"id\":\"1130\",\"type\":\"VBar\"},\"hover_glyph\":null,\"muted_glyph\":null,\"name\":\"Junio\",\"nonselection_glyph\":{\"id\":\"1131\",\"type\":\"VBar\"},\"selection_glyph\":null,\"view\":{\"id\":\"1133\",\"type\":\"CDSView\"}},\"id\":\"1132\",\"type\":\"GlyphRenderer\"},{\"attributes\":{\"label\":{\"value\":\"Junio\"},\"renderers\":[{\"id\":\"1132\",\"type\":\"GlyphRenderer\"}]},\"id\":\"1149\",\"type\":\"LegendItem\"},{\"attributes\":{\"bottom\":{\"expr\":{\"id\":\"1037\",\"type\":\"Stack\"}},\"fill_alpha\":{\"value\":0.1},\"fill_color\":{\"value\":\"#1f77b4\"},\"line_alpha\":{\"value\":0.1},\"line_color\":{\"value\":\"#1f77b4\"},\"top\":{\"expr\":{\"id\":\"1038\",\"type\":\"Stack\"}},\"width\":{\"value\":0.9},\"x\":{\"field\":\"campos\"}},\"id\":\"1177\",\"type\":\"VBar\"},{\"attributes\":{\"data_source\":{\"id\":\"1174\",\"type\":\"ColumnDataSource\"},\"glyph\":{\"id\":\"1176\",\"type\":\"VBar\"},\"hover_glyph\":null,\"muted_glyph\":null,\"name\":\"Agosto\",\"nonselection_glyph\":{\"id\":\"1177\",\"type\":\"VBar\"},\"selection_glyph\":null,\"view\":{\"id\":\"1179\",\"type\":\"CDSView\"}},\"id\":\"1178\",\"type\":\"GlyphRenderer\"},{\"attributes\":{\"bottom\":{\"expr\":{\"id\":\"1035\",\"type\":\"Stack\"}},\"fill_color\":{\"value\":\"#1E9A89\"},\"line_color\":{\"value\":\"#1E9A89\"},\"top\":{\"expr\":{\"id\":\"1036\",\"type\":\"Stack\"}},\"width\":{\"value\":0.9},\"x\":{\"field\":\"campos\"}},\"id\":\"1152\",\"type\":\"VBar\"},{\"attributes\":{\"callback\":null,\"data\":{\"Abril\":[87.97200000000001,0.0,7.457000000000001,748.0,44.915,1.3159999999999998,188.106,2.4530000000000003,7.871,29.695999999999998,449.227,0.0,7.7379999999999995,100.134,0.0,46.521,22.908,0.0,1.452,4.573,0.0],\"Agosto\":[87.855,14.728,10.253,0.0,68.634,0.0,171.40400000000002,2.5140000000000002,7.473,29.38,434.35400000000004,16.212,6.7139999999999995,165.028,0.0,0.0,24.575,0.0,2.725,4.794,0.0],\"Diciembre\":[84.45100000000001,50.758,12.077,0.0,43.67,0.0,172.21900000000002,24.0,7.189,22.342,418.16900000000004,7.242000000000001,6.007999999999999,202.455,0.0,0.0,19.142,0.0,7.401,4.34,0.0],\"Enero\":[92.117,0.0,6.642,3.365,62.696000000000005,7.093,196.58,2.145,8.353,30.635,477.004,0.0,7.699,87.413,5.341,15.139000000000001,24.771,0.0,1.696,4.208,\"NaN\"],\"Febrero\":[83.881,0.0,8.212,2.6180000000000003,57.146,4.505,169.047,2.21,7.353,28.4,451.05,0.0,6.381,79.332,2.8280000000000003,17.965,22.706999999999997,0.0,1.287,3.76,0.0],\"Julio\":[87.948,0.0,9.736,0.0,70.449,0.0,175.084,2.506,7.63,28.65,439.709,20.063,6.562,126.045,1.556,46.738,25.561,0.0,2.4819999999999998,4.801,0.0],\"Junio\":[86.944,0.0,9.381,0.0,72.657,0.0,189.185,2.458,7.449,28.416,433.899,0.0,7.046,121.881,1.449,49.236000000000004,24.869,0.0,1.901,4.643,0.0],\"Marzo\":[90.98899999999999,0.0,7.732,2.21,57.413000000000004,2.81,190.396,2.4859999999999998,8.118,31.07,481.467,0.0,7.571000000000001,82.781,0.0,34.679,27.581,0.0,1.304,4.157,0.0],\"Mayo\":[89.027,0.0,5.73,0.0,56.4,0.0,187.872,2.543,7.736000000000001,29.99,451.535,0.0,8.089,117.154,829.0,58.845,26.963,0.0,1.423,4.9239999999999995,0.0],\"Noviembre\":[84.005,32.684,11.337,0.0,45.63399999999999,37.0,167.475,2.332,6.992999999999999,24.578000000000003,404.022,7.836,5.97,176.045,0.0,0.0,20.683000000000003,0.0,7.066,4.274,0.0],\"Octubre\":[86.29,32.641999999999996,10.821,0.0,49.733000000000004,96.0,172.138,2.59,7.26,26.820999999999998,418.80300000000005,9.176,6.309,177.997,0.0,0.0,22.6,334.0,10.282,4.684,0.0],\"Septiembre\":[83.57,31.124000000000002,10.425999999999998,0.0,49.231,0.0,168.668,2.478,7.027,26.666,410.664,10.66,6.184,159.941,0.0,0.0,21.682,0.0,18.23,4.64,0.0],\"campos\":[\"ALICE\",\"ALICE OESTE\",\"CHORONGO\",\"CHORONGO ESTE\",\"COLIBRI\",\"DANA\",\"DORINE\",\"DORINE G\",\"DORINE NORTE\",\"ESPERANZA\",\"FANNY-18B\",\"JOHANNA\",\"MAHOGANY\",\"MARIANN\",\"MARIANN NORTE\",\"MARIANN SUR\",\"MARIANN-4A\",\"ORQUIDEA\",\"SHIRLEY\",\"SONIA\",\"TARAPOA NOROESTE\"]},\"selected\":{\"id\":\"1198\",\"type\":\"Selection\"},\"selection_policy\":{\"id\":\"1197\",\"type\":\"UnionRenderers\"}},\"id\":\"1150\",\"type\":\"ColumnDataSource\"},{\"attributes\":{\"bottom\":{\"expr\":{\"id\":\"1035\",\"type\":\"Stack\"}},\"fill_alpha\":{\"value\":0.1},\"fill_color\":{\"value\":\"#1f77b4\"},\"line_alpha\":{\"value\":0.1},\"line_color\":{\"value\":\"#1f77b4\"},\"top\":{\"expr\":{\"id\":\"1036\",\"type\":\"Stack\"}},\"width\":{\"value\":0.9},\"x\":{\"field\":\"campos\"}},\"id\":\"1153\",\"type\":\"VBar\"},{\"attributes\":{\"source\":{\"id\":\"1174\",\"type\":\"ColumnDataSource\"}},\"id\":\"1179\",\"type\":\"CDSView\"},{\"attributes\":{},\"id\":\"1197\",\"type\":\"UnionRenderers\"},{\"attributes\":{\"label\":{\"value\":\"Agosto\"},\"renderers\":[{\"id\":\"1178\",\"type\":\"GlyphRenderer\"}]},\"id\":\"1199\",\"type\":\"LegendItem\"},{\"attributes\":{\"bottom\":{\"expr\":{\"id\":\"1039\",\"type\":\"Stack\"}},\"fill_color\":{\"value\":\"#4FC369\"},\"line_color\":{\"value\":\"#4FC369\"},\"top\":{\"expr\":{\"id\":\"1040\",\"type\":\"Stack\"}},\"width\":{\"value\":0.9},\"x\":{\"field\":\"campos\"}},\"id\":\"1202\",\"type\":\"VBar\"},{\"attributes\":{\"callback\":null,\"data\":{\"Abril\":[87.97200000000001,0.0,7.457000000000001,748.0,44.915,1.3159999999999998,188.106,2.4530000000000003,7.871,29.695999999999998,449.227,0.0,7.7379999999999995,100.134,0.0,46.521,22.908,0.0,1.452,4.573,0.0],\"Agosto\":[87.855,14.728,10.253,0.0,68.634,0.0,171.40400000000002,2.5140000000000002,7.473,29.38,434.35400000000004,16.212,6.7139999999999995,165.028,0.0,0.0,24.575,0.0,2.725,4.794,0.0],\"Diciembre\":[84.45100000000001,50.758,12.077,0.0,43.67,0.0,172.21900000000002,24.0,7.189,22.342,418.16900000000004,7.242000000000001,6.007999999999999,202.455,0.0,0.0,19.142,0.0,7.401,4.34,0.0],\"Enero\":[92.117,0.0,6.642,3.365,62.696000000000005,7.093,196.58,2.145,8.353,30.635,477.004,0.0,7.699,87.413,5.341,15.139000000000001,24.771,0.0,1.696,4.208,\"NaN\"],\"Febrero\":[83.881,0.0,8.212,2.6180000000000003,57.146,4.505,169.047,2.21,7.353,28.4,451.05,0.0,6.381,79.332,2.8280000000000003,17.965,22.706999999999997,0.0,1.287,3.76,0.0],\"Julio\":[87.948,0.0,9.736,0.0,70.449,0.0,175.084,2.506,7.63,28.65,439.709,20.063,6.562,126.045,1.556,46.738,25.561,0.0,2.4819999999999998,4.801,0.0],\"Junio\":[86.944,0.0,9.381,0.0,72.657,0.0,189.185,2.458,7.449,28.416,433.899,0.0,7.046,121.881,1.449,49.236000000000004,24.869,0.0,1.901,4.643,0.0],\"Marzo\":[90.98899999999999,0.0,7.732,2.21,57.413000000000004,2.81,190.396,2.4859999999999998,8.118,31.07,481.467,0.0,7.571000000000001,82.781,0.0,34.679,27.581,0.0,1.304,4.157,0.0],\"Mayo\":[89.027,0.0,5.73,0.0,56.4,0.0,187.872,2.543,7.736000000000001,29.99,451.535,0.0,8.089,117.154,829.0,58.845,26.963,0.0,1.423,4.9239999999999995,0.0],\"Noviembre\":[84.005,32.684,11.337,0.0,45.63399999999999,37.0,167.475,2.332,6.992999999999999,24.578000000000003,404.022,7.836,5.97,176.045,0.0,0.0,20.683000000000003,0.0,7.066,4.274,0.0],\"Octubre\":[86.29,32.641999999999996,10.821,0.0,49.733000000000004,96.0,172.138,2.59,7.26,26.820999999999998,418.80300000000005,9.176,6.309,177.997,0.0,0.0,22.6,334.0,10.282,4.684,0.0],\"Septiembre\":[83.57,31.124000000000002,10.425999999999998,0.0,49.231,0.0,168.668,2.478,7.027,26.666,410.664,10.66,6.184,159.941,0.0,0.0,21.682,0.0,18.23,4.64,0.0],\"campos\":[\"ALICE\",\"ALICE OESTE\",\"CHORONGO\",\"CHORONGO ESTE\",\"COLIBRI\",\"DANA\",\"DORINE\",\"DORINE G\",\"DORINE NORTE\",\"ESPERANZA\",\"FANNY-18B\",\"JOHANNA\",\"MAHOGANY\",\"MARIANN\",\"MARIANN NORTE\",\"MARIANN SUR\",\"MARIANN-4A\",\"ORQUIDEA\",\"SHIRLEY\",\"SONIA\",\"TARAPOA NOROESTE\"]},\"selected\":{\"id\":\"1256\",\"type\":\"Selection\"},\"selection_policy\":{\"id\":\"1255\",\"type\":\"UnionRenderers\"}},\"id\":\"1200\",\"type\":\"ColumnDataSource\"},{\"attributes\":{\"source\":{\"id\":\"1200\",\"type\":\"ColumnDataSource\"}},\"id\":\"1205\",\"type\":\"CDSView\"},{\"attributes\":{\"bottom\":{\"expr\":{\"id\":\"1039\",\"type\":\"Stack\"}},\"fill_alpha\":{\"value\":0.1},\"fill_color\":{\"value\":\"#1f77b4\"},\"line_alpha\":{\"value\":0.1},\"line_color\":{\"value\":\"#1f77b4\"},\"top\":{\"expr\":{\"id\":\"1040\",\"type\":\"Stack\"}},\"width\":{\"value\":0.9},\"x\":{\"field\":\"campos\"}},\"id\":\"1203\",\"type\":\"VBar\"},{\"attributes\":{\"data_source\":{\"id\":\"1200\",\"type\":\"ColumnDataSource\"},\"glyph\":{\"id\":\"1202\",\"type\":\"VBar\"},\"hover_glyph\":null,\"muted_glyph\":null,\"name\":\"Septiembre\",\"nonselection_glyph\":{\"id\":\"1203\",\"type\":\"VBar\"},\"selection_glyph\":null,\"view\":{\"id\":\"1205\",\"type\":\"CDSView\"}},\"id\":\"1204\",\"type\":\"GlyphRenderer\"},{\"attributes\":{},\"id\":\"1226\",\"type\":\"Selection\"},{\"attributes\":{},\"id\":\"1225\",\"type\":\"UnionRenderers\"},{\"attributes\":{\"label\":{\"value\":\"Septiembre\"},\"renderers\":[{\"id\":\"1204\",\"type\":\"GlyphRenderer\"}]},\"id\":\"1227\",\"type\":\"LegendItem\"},{\"attributes\":{\"bottom\":{\"expr\":{\"id\":\"1041\",\"type\":\"Stack\"}},\"fill_color\":{\"value\":\"#83D34B\"},\"line_color\":{\"value\":\"#83D34B\"},\"top\":{\"expr\":{\"id\":\"1042\",\"type\":\"Stack\"}},\"width\":{\"value\":0.9},\"x\":{\"field\":\"campos\"}},\"id\":\"1230\",\"type\":\"VBar\"},{\"attributes\":{\"fields\":[\"Enero\"]},\"id\":\"1025\",\"type\":\"Stack\"},{\"attributes\":{\"source\":{\"id\":\"1228\",\"type\":\"ColumnDataSource\"}},\"id\":\"1233\",\"type\":\"CDSView\"},{\"attributes\":{},\"id\":\"1351\",\"type\":\"UnionRenderers\"},{\"attributes\":{\"bottom\":{\"expr\":{\"id\":\"1041\",\"type\":\"Stack\"}},\"fill_alpha\":{\"value\":0.1},\"fill_color\":{\"value\":\"#1f77b4\"},\"line_alpha\":{\"value\":0.1},\"line_color\":{\"value\":\"#1f77b4\"},\"top\":{\"expr\":{\"id\":\"1042\",\"type\":\"Stack\"}},\"width\":{\"value\":0.9},\"x\":{\"field\":\"campos\"}},\"id\":\"1231\",\"type\":\"VBar\"},{\"attributes\":{\"data_source\":{\"id\":\"1228\",\"type\":\"ColumnDataSource\"},\"glyph\":{\"id\":\"1230\",\"type\":\"VBar\"},\"hover_glyph\":null,\"muted_glyph\":null,\"name\":\"Octubre\",\"nonselection_glyph\":{\"id\":\"1231\",\"type\":\"VBar\"},\"selection_glyph\":null,\"view\":{\"id\":\"1233\",\"type\":\"CDSView\"}},\"id\":\"1232\",\"type\":\"GlyphRenderer\"},{\"attributes\":{},\"id\":\"1256\",\"type\":\"Selection\"},{\"attributes\":{},\"id\":\"1255\",\"type\":\"UnionRenderers\"},{\"attributes\":{\"label\":{\"value\":\"Octubre\"},\"renderers\":[{\"id\":\"1232\",\"type\":\"GlyphRenderer\"}]},\"id\":\"1257\",\"type\":\"LegendItem\"},{\"attributes\":{\"bottom\":{\"expr\":{\"id\":\"1043\",\"type\":\"Stack\"}},\"fill_color\":{\"value\":\"#BFDF24\"},\"line_color\":{\"value\":\"#BFDF24\"},\"top\":{\"expr\":{\"id\":\"1044\",\"type\":\"Stack\"}},\"width\":{\"value\":0.9},\"x\":{\"field\":\"campos\"}},\"id\":\"1260\",\"type\":\"VBar\"},{\"attributes\":{\"callback\":null,\"data\":{\"Abril\":[87.97200000000001,0.0,7.457000000000001,748.0,44.915,1.3159999999999998,188.106,2.4530000000000003,7.871,29.695999999999998,449.227,0.0,7.7379999999999995,100.134,0.0,46.521,22.908,0.0,1.452,4.573,0.0],\"Agosto\":[87.855,14.728,10.253,0.0,68.634,0.0,171.40400000000002,2.5140000000000002,7.473,29.38,434.35400000000004,16.212,6.7139999999999995,165.028,0.0,0.0,24.575,0.0,2.725,4.794,0.0],\"Diciembre\":[84.45100000000001,50.758,12.077,0.0,43.67,0.0,172.21900000000002,24.0,7.189,22.342,418.16900000000004,7.242000000000001,6.007999999999999,202.455,0.0,0.0,19.142,0.0,7.401,4.34,0.0],\"Enero\":[92.117,0.0,6.642,3.365,62.696000000000005,7.093,196.58,2.145,8.353,30.635,477.004,0.0,7.699,87.413,5.341,15.139000000000001,24.771,0.0,1.696,4.208,\"NaN\"],\"Febrero\":[83.881,0.0,8.212,2.6180000000000003,57.146,4.505,169.047,2.21,7.353,28.4,451.05,0.0,6.381,79.332,2.8280000000000003,17.965,22.706999999999997,0.0,1.287,3.76,0.0],\"Julio\":[87.948,0.0,9.736,0.0,70.449,0.0,175.084,2.506,7.63,28.65,439.709,20.063,6.562,126.045,1.556,46.738,25.561,0.0,2.4819999999999998,4.801,0.0],\"Junio\":[86.944,0.0,9.381,0.0,72.657,0.0,189.185,2.458,7.449,28.416,433.899,0.0,7.046,121.881,1.449,49.236000000000004,24.869,0.0,1.901,4.643,0.0],\"Marzo\":[90.98899999999999,0.0,7.732,2.21,57.413000000000004,2.81,190.396,2.4859999999999998,8.118,31.07,481.467,0.0,7.571000000000001,82.781,0.0,34.679,27.581,0.0,1.304,4.157,0.0],\"Mayo\":[89.027,0.0,5.73,0.0,56.4,0.0,187.872,2.543,7.736000000000001,29.99,451.535,0.0,8.089,117.154,829.0,58.845,26.963,0.0,1.423,4.9239999999999995,0.0],\"Noviembre\":[84.005,32.684,11.337,0.0,45.63399999999999,37.0,167.475,2.332,6.992999999999999,24.578000000000003,404.022,7.836,5.97,176.045,0.0,0.0,20.683000000000003,0.0,7.066,4.274,0.0],\"Octubre\":[86.29,32.641999999999996,10.821,0.0,49.733000000000004,96.0,172.138,2.59,7.26,26.820999999999998,418.80300000000005,9.176,6.309,177.997,0.0,0.0,22.6,334.0,10.282,4.684,0.0],\"Septiembre\":[83.57,31.124000000000002,10.425999999999998,0.0,49.231,0.0,168.668,2.478,7.027,26.666,410.664,10.66,6.184,159.941,0.0,0.0,21.682,0.0,18.23,4.64,0.0],\"campos\":[\"ALICE\",\"ALICE OESTE\",\"CHORONGO\",\"CHORONGO ESTE\",\"COLIBRI\",\"DANA\",\"DORINE\",\"DORINE G\",\"DORINE NORTE\",\"ESPERANZA\",\"FANNY-18B\",\"JOHANNA\",\"MAHOGANY\",\"MARIANN\",\"MARIANN NORTE\",\"MARIANN SUR\",\"MARIANN-4A\",\"ORQUIDEA\",\"SHIRLEY\",\"SONIA\",\"TARAPOA NOROESTE\"]},\"selected\":{\"id\":\"1322\",\"type\":\"Selection\"},\"selection_policy\":{\"id\":\"1321\",\"type\":\"UnionRenderers\"}},\"id\":\"1258\",\"type\":\"ColumnDataSource\"},{\"attributes\":{\"source\":{\"id\":\"1258\",\"type\":\"ColumnDataSource\"}},\"id\":\"1263\",\"type\":\"CDSView\"},{\"attributes\":{},\"id\":\"1171\",\"type\":\"UnionRenderers\"},{\"attributes\":{\"label\":{\"value\":\"Julio\"},\"renderers\":[{\"id\":\"1154\",\"type\":\"GlyphRenderer\"}]},\"id\":\"1173\",\"type\":\"LegendItem\"},{\"attributes\":{},\"id\":\"1352\",\"type\":\"Selection\"},{\"attributes\":{\"bottom\":{\"expr\":{\"id\":\"1043\",\"type\":\"Stack\"}},\"fill_alpha\":{\"value\":0.1},\"fill_color\":{\"value\":\"#1f77b4\"},\"line_alpha\":{\"value\":0.1},\"line_color\":{\"value\":\"#1f77b4\"},\"top\":{\"expr\":{\"id\":\"1044\",\"type\":\"Stack\"}},\"width\":{\"value\":0.9},\"x\":{\"field\":\"campos\"}},\"id\":\"1261\",\"type\":\"VBar\"},{\"attributes\":{\"data_source\":{\"id\":\"1258\",\"type\":\"ColumnDataSource\"},\"glyph\":{\"id\":\"1260\",\"type\":\"VBar\"},\"hover_glyph\":null,\"muted_glyph\":null,\"name\":\"Noviembre\",\"nonselection_glyph\":{\"id\":\"1261\",\"type\":\"VBar\"},\"selection_glyph\":null,\"view\":{\"id\":\"1263\",\"type\":\"CDSView\"}},\"id\":\"1262\",\"type\":\"GlyphRenderer\"},{\"attributes\":{},\"id\":\"1288\",\"type\":\"Selection\"},{\"attributes\":{},\"id\":\"1287\",\"type\":\"UnionRenderers\"},{\"attributes\":{\"label\":{\"value\":\"Noviembre\"},\"renderers\":[{\"id\":\"1262\",\"type\":\"GlyphRenderer\"}]},\"id\":\"1289\",\"type\":\"LegendItem\"},{\"attributes\":{\"bottom\":{\"expr\":{\"id\":\"1045\",\"type\":\"Stack\"}},\"fill_color\":{\"value\":\"#FDE724\"},\"line_color\":{\"value\":\"#FDE724\"},\"top\":{\"expr\":{\"id\":\"1046\",\"type\":\"Stack\"}},\"width\":{\"value\":0.9},\"x\":{\"field\":\"campos\"}},\"id\":\"1292\",\"type\":\"VBar\"},{\"attributes\":{\"callback\":null,\"data\":{\"Abril\":[87.97200000000001,0.0,7.457000000000001,748.0,44.915,1.3159999999999998,188.106,2.4530000000000003,7.871,29.695999999999998,449.227,0.0,7.7379999999999995,100.134,0.0,46.521,22.908,0.0,1.452,4.573,0.0],\"Agosto\":[87.855,14.728,10.253,0.0,68.634,0.0,171.40400000000002,2.5140000000000002,7.473,29.38,434.35400000000004,16.212,6.7139999999999995,165.028,0.0,0.0,24.575,0.0,2.725,4.794,0.0],\"Diciembre\":[84.45100000000001,50.758,12.077,0.0,43.67,0.0,172.21900000000002,24.0,7.189,22.342,418.16900000000004,7.242000000000001,6.007999999999999,202.455,0.0,0.0,19.142,0.0,7.401,4.34,0.0],\"Enero\":[92.117,0.0,6.642,3.365,62.696000000000005,7.093,196.58,2.145,8.353,30.635,477.004,0.0,7.699,87.413,5.341,15.139000000000001,24.771,0.0,1.696,4.208,\"NaN\"],\"Febrero\":[83.881,0.0,8.212,2.6180000000000003,57.146,4.505,169.047,2.21,7.353,28.4,451.05,0.0,6.381,79.332,2.8280000000000003,17.965,22.706999999999997,0.0,1.287,3.76,0.0],\"Julio\":[87.948,0.0,9.736,0.0,70.449,0.0,175.084,2.506,7.63,28.65,439.709,20.063,6.562,126.045,1.556,46.738,25.561,0.0,2.4819999999999998,4.801,0.0],\"Junio\":[86.944,0.0,9.381,0.0,72.657,0.0,189.185,2.458,7.449,28.416,433.899,0.0,7.046,121.881,1.449,49.236000000000004,24.869,0.0,1.901,4.643,0.0],\"Marzo\":[90.98899999999999,0.0,7.732,2.21,57.413000000000004,2.81,190.396,2.4859999999999998,8.118,31.07,481.467,0.0,7.571000000000001,82.781,0.0,34.679,27.581,0.0,1.304,4.157,0.0],\"Mayo\":[89.027,0.0,5.73,0.0,56.4,0.0,187.872,2.543,7.736000000000001,29.99,451.535,0.0,8.089,117.154,829.0,58.845,26.963,0.0,1.423,4.9239999999999995,0.0],\"Noviembre\":[84.005,32.684,11.337,0.0,45.63399999999999,37.0,167.475,2.332,6.992999999999999,24.578000000000003,404.022,7.836,5.97,176.045,0.0,0.0,20.683000000000003,0.0,7.066,4.274,0.0],\"Octubre\":[86.29,32.641999999999996,10.821,0.0,49.733000000000004,96.0,172.138,2.59,7.26,26.820999999999998,418.80300000000005,9.176,6.309,177.997,0.0,0.0,22.6,334.0,10.282,4.684,0.0],\"Septiembre\":[83.57,31.124000000000002,10.425999999999998,0.0,49.231,0.0,168.668,2.478,7.027,26.666,410.664,10.66,6.184,159.941,0.0,0.0,21.682,0.0,18.23,4.64,0.0],\"campos\":[\"ALICE\",\"ALICE OESTE\",\"CHORONGO\",\"CHORONGO ESTE\",\"COLIBRI\",\"DANA\",\"DORINE\",\"DORINE G\",\"DORINE NORTE\",\"ESPERANZA\",\"FANNY-18B\",\"JOHANNA\",\"MAHOGANY\",\"MARIANN\",\"MARIANN NORTE\",\"MARIANN SUR\",\"MARIANN-4A\",\"ORQUIDEA\",\"SHIRLEY\",\"SONIA\",\"TARAPOA NOROESTE\"]},\"selected\":{\"id\":\"1352\",\"type\":\"Selection\"},\"selection_policy\":{\"id\":\"1351\",\"type\":\"UnionRenderers\"}},\"id\":\"1290\",\"type\":\"ColumnDataSource\"},{\"attributes\":{\"source\":{\"id\":\"1290\",\"type\":\"ColumnDataSource\"}},\"id\":\"1295\",\"type\":\"CDSView\"},{\"attributes\":{\"bottom\":{\"expr\":{\"id\":\"1045\",\"type\":\"Stack\"}},\"fill_alpha\":{\"value\":0.1},\"fill_color\":{\"value\":\"#1f77b4\"},\"line_alpha\":{\"value\":0.1},\"line_color\":{\"value\":\"#1f77b4\"},\"top\":{\"expr\":{\"id\":\"1046\",\"type\":\"Stack\"}},\"width\":{\"value\":0.9},\"x\":{\"field\":\"campos\"}},\"id\":\"1293\",\"type\":\"VBar\"},{\"attributes\":{\"data_source\":{\"id\":\"1290\",\"type\":\"ColumnDataSource\"},\"glyph\":{\"id\":\"1292\",\"type\":\"VBar\"},\"hover_glyph\":null,\"muted_glyph\":null,\"name\":\"Diciembre\",\"nonselection_glyph\":{\"id\":\"1293\",\"type\":\"VBar\"},\"selection_glyph\":null,\"view\":{\"id\":\"1295\",\"type\":\"CDSView\"}},\"id\":\"1294\",\"type\":\"GlyphRenderer\"},{\"attributes\":{},\"id\":\"1322\",\"type\":\"Selection\"},{\"attributes\":{},\"id\":\"1321\",\"type\":\"UnionRenderers\"},{\"attributes\":{\"label\":{\"value\":\"Diciembre\"},\"renderers\":[{\"id\":\"1294\",\"type\":\"GlyphRenderer\"}]},\"id\":\"1323\",\"type\":\"LegendItem\"},{\"attributes\":{},\"id\":\"1125\",\"type\":\"UnionRenderers\"},{\"attributes\":{\"fields\":[\"Enero\",\"Febrero\"]},\"id\":\"1026\",\"type\":\"Stack\"},{\"attributes\":{\"fields\":[\"Enero\",\"Febrero\"]},\"id\":\"1027\",\"type\":\"Stack\"},{\"attributes\":{\"fields\":[\"Enero\",\"Febrero\",\"Marzo\"]},\"id\":\"1028\",\"type\":\"Stack\"},{\"attributes\":{\"fields\":[\"Enero\",\"Febrero\",\"Marzo\",\"Abril\",\"Mayo\",\"Junio\",\"Julio\",\"Agosto\"]},\"id\":\"1039\",\"type\":\"Stack\"},{\"attributes\":{\"fields\":[\"Enero\",\"Febrero\",\"Marzo\"]},\"id\":\"1029\",\"type\":\"Stack\"},{\"attributes\":{\"fields\":[\"Enero\",\"Febrero\",\"Marzo\",\"Abril\",\"Mayo\",\"Junio\",\"Julio\"]},\"id\":\"1036\",\"type\":\"Stack\"},{\"attributes\":{\"fields\":[\"Enero\",\"Febrero\",\"Marzo\",\"Abril\"]},\"id\":\"1030\",\"type\":\"Stack\"},{\"attributes\":{\"fields\":[\"Enero\",\"Febrero\",\"Marzo\",\"Abril\",\"Mayo\"]},\"id\":\"1032\",\"type\":\"Stack\"},{\"attributes\":{\"fields\":[\"Enero\",\"Febrero\",\"Marzo\",\"Abril\",\"Mayo\"]},\"id\":\"1033\",\"type\":\"Stack\"},{\"attributes\":{\"fields\":[\"Enero\",\"Febrero\",\"Marzo\",\"Abril\"]},\"id\":\"1031\",\"type\":\"Stack\"},{\"attributes\":{\"fields\":[\"Enero\",\"Febrero\",\"Marzo\",\"Abril\",\"Mayo\",\"Junio\"]},\"id\":\"1035\",\"type\":\"Stack\"},{\"attributes\":{\"fields\":[\"Enero\",\"Febrero\",\"Marzo\",\"Abril\",\"Mayo\",\"Junio\",\"Julio\",\"Agosto\",\"Septiembre\"]},\"id\":\"1040\",\"type\":\"Stack\"},{\"attributes\":{\"fields\":[\"Enero\",\"Febrero\",\"Marzo\",\"Abril\",\"Mayo\",\"Junio\",\"Julio\",\"Agosto\",\"Septiembre\"]},\"id\":\"1041\",\"type\":\"Stack\"},{\"attributes\":{\"fields\":[\"Enero\",\"Febrero\",\"Marzo\",\"Abril\",\"Mayo\",\"Junio\"]},\"id\":\"1034\",\"type\":\"Stack\"},{\"attributes\":{\"fields\":[\"Enero\",\"Febrero\",\"Marzo\",\"Abril\",\"Mayo\",\"Junio\",\"Julio\"]},\"id\":\"1037\",\"type\":\"Stack\"},{\"attributes\":{\"fields\":[\"Enero\",\"Febrero\",\"Marzo\",\"Abril\",\"Mayo\",\"Junio\",\"Julio\",\"Agosto\"]},\"id\":\"1038\",\"type\":\"Stack\"},{\"attributes\":{\"fields\":[\"Enero\",\"Febrero\",\"Marzo\",\"Abril\",\"Mayo\",\"Junio\",\"Julio\",\"Agosto\",\"Septiembre\",\"Octubre\"]},\"id\":\"1042\",\"type\":\"Stack\"},{\"attributes\":{\"fields\":[\"Enero\",\"Febrero\",\"Marzo\",\"Abril\",\"Mayo\",\"Junio\",\"Julio\",\"Agosto\",\"Septiembre\",\"Octubre\"]},\"id\":\"1043\",\"type\":\"Stack\"},{\"attributes\":{\"fields\":[\"Enero\",\"Febrero\",\"Marzo\",\"Abril\",\"Mayo\",\"Junio\",\"Julio\",\"Agosto\",\"Septiembre\",\"Octubre\",\"Noviembre\"]},\"id\":\"1044\",\"type\":\"Stack\"},{\"attributes\":{\"fields\":[\"Enero\",\"Febrero\",\"Marzo\",\"Abril\",\"Mayo\",\"Junio\",\"Julio\",\"Agosto\",\"Septiembre\",\"Octubre\",\"Noviembre\"]},\"id\":\"1045\",\"type\":\"Stack\"},{\"attributes\":{\"data_source\":{\"id\":\"1047\",\"type\":\"ColumnDataSource\"},\"glyph\":{\"id\":\"1049\",\"type\":\"VBar\"},\"hover_glyph\":null,\"muted_glyph\":null,\"name\":\"Enero\",\"nonselection_glyph\":{\"id\":\"1050\",\"type\":\"VBar\"},\"selection_glyph\":null,\"view\":{\"id\":\"1052\",\"type\":\"CDSView\"}},\"id\":\"1051\",\"type\":\"GlyphRenderer\"},{\"attributes\":{\"fields\":[\"Enero\",\"Febrero\",\"Marzo\",\"Abril\",\"Mayo\",\"Junio\",\"Julio\",\"Agosto\",\"Septiembre\",\"Octubre\",\"Noviembre\",\"Diciembre\"]},\"id\":\"1046\",\"type\":\"Stack\"},{\"attributes\":{\"bottom\":{\"expr\":{\"id\":\"1023\",\"type\":\"Stack\"}},\"fill_color\":{\"value\":\"#440154\"},\"line_color\":{\"value\":\"#440154\"},\"top\":{\"expr\":{\"id\":\"1024\",\"type\":\"Stack\"}},\"width\":{\"value\":0.9},\"x\":{\"field\":\"campos\"}},\"id\":\"1049\",\"type\":\"VBar\"},{\"attributes\":{\"callback\":null,\"data\":{\"Abril\":[87.97200000000001,0.0,7.457000000000001,748.0,44.915,1.3159999999999998,188.106,2.4530000000000003,7.871,29.695999999999998,449.227,0.0,7.7379999999999995,100.134,0.0,46.521,22.908,0.0,1.452,4.573,0.0],\"Agosto\":[87.855,14.728,10.253,0.0,68.634,0.0,171.40400000000002,2.5140000000000002,7.473,29.38,434.35400000000004,16.212,6.7139999999999995,165.028,0.0,0.0,24.575,0.0,2.725,4.794,0.0],\"Diciembre\":[84.45100000000001,50.758,12.077,0.0,43.67,0.0,172.21900000000002,24.0,7.189,22.342,418.16900000000004,7.242000000000001,6.007999999999999,202.455,0.0,0.0,19.142,0.0,7.401,4.34,0.0],\"Enero\":[92.117,0.0,6.642,3.365,62.696000000000005,7.093,196.58,2.145,8.353,30.635,477.004,0.0,7.699,87.413,5.341,15.139000000000001,24.771,0.0,1.696,4.208,\"NaN\"],\"Febrero\":[83.881,0.0,8.212,2.6180000000000003,57.146,4.505,169.047,2.21,7.353,28.4,451.05,0.0,6.381,79.332,2.8280000000000003,17.965,22.706999999999997,0.0,1.287,3.76,0.0],\"Julio\":[87.948,0.0,9.736,0.0,70.449,0.0,175.084,2.506,7.63,28.65,439.709,20.063,6.562,126.045,1.556,46.738,25.561,0.0,2.4819999999999998,4.801,0.0],\"Junio\":[86.944,0.0,9.381,0.0,72.657,0.0,189.185,2.458,7.449,28.416,433.899,0.0,7.046,121.881,1.449,49.236000000000004,24.869,0.0,1.901,4.643,0.0],\"Marzo\":[90.98899999999999,0.0,7.732,2.21,57.413000000000004,2.81,190.396,2.4859999999999998,8.118,31.07,481.467,0.0,7.571000000000001,82.781,0.0,34.679,27.581,0.0,1.304,4.157,0.0],\"Mayo\":[89.027,0.0,5.73,0.0,56.4,0.0,187.872,2.543,7.736000000000001,29.99,451.535,0.0,8.089,117.154,829.0,58.845,26.963,0.0,1.423,4.9239999999999995,0.0],\"Noviembre\":[84.005,32.684,11.337,0.0,45.63399999999999,37.0,167.475,2.332,6.992999999999999,24.578000000000003,404.022,7.836,5.97,176.045,0.0,0.0,20.683000000000003,0.0,7.066,4.274,0.0],\"Octubre\":[86.29,32.641999999999996,10.821,0.0,49.733000000000004,96.0,172.138,2.59,7.26,26.820999999999998,418.80300000000005,9.176,6.309,177.997,0.0,0.0,22.6,334.0,10.282,4.684,0.0],\"Septiembre\":[83.57,31.124000000000002,10.425999999999998,0.0,49.231,0.0,168.668,2.478,7.027,26.666,410.664,10.66,6.184,159.941,0.0,0.0,21.682,0.0,18.23,4.64,0.0],\"campos\":[\"ALICE\",\"ALICE OESTE\",\"CHORONGO\",\"CHORONGO ESTE\",\"COLIBRI\",\"DANA\",\"DORINE\",\"DORINE G\",\"DORINE NORTE\",\"ESPERANZA\",\"FANNY-18B\",\"JOHANNA\",\"MAHOGANY\",\"MARIANN\",\"MARIANN NORTE\",\"MARIANN SUR\",\"MARIANN-4A\",\"ORQUIDEA\",\"SHIRLEY\",\"SONIA\",\"TARAPOA NOROESTE\"]},\"selected\":{\"id\":\"1072\",\"type\":\"Selection\"},\"selection_policy\":{\"id\":\"1071\",\"type\":\"UnionRenderers\"}},\"id\":\"1047\",\"type\":\"ColumnDataSource\"},{\"attributes\":{\"callback\":null,\"data\":{\"Abril\":[87.97200000000001,0.0,7.457000000000001,748.0,44.915,1.3159999999999998,188.106,2.4530000000000003,7.871,29.695999999999998,449.227,0.0,7.7379999999999995,100.134,0.0,46.521,22.908,0.0,1.452,4.573,0.0],\"Agosto\":[87.855,14.728,10.253,0.0,68.634,0.0,171.40400000000002,2.5140000000000002,7.473,29.38,434.35400000000004,16.212,6.7139999999999995,165.028,0.0,0.0,24.575,0.0,2.725,4.794,0.0],\"Diciembre\":[84.45100000000001,50.758,12.077,0.0,43.67,0.0,172.21900000000002,24.0,7.189,22.342,418.16900000000004,7.242000000000001,6.007999999999999,202.455,0.0,0.0,19.142,0.0,7.401,4.34,0.0],\"Enero\":[92.117,0.0,6.642,3.365,62.696000000000005,7.093,196.58,2.145,8.353,30.635,477.004,0.0,7.699,87.413,5.341,15.139000000000001,24.771,0.0,1.696,4.208,\"NaN\"],\"Febrero\":[83.881,0.0,8.212,2.6180000000000003,57.146,4.505,169.047,2.21,7.353,28.4,451.05,0.0,6.381,79.332,2.8280000000000003,17.965,22.706999999999997,0.0,1.287,3.76,0.0],\"Julio\":[87.948,0.0,9.736,0.0,70.449,0.0,175.084,2.506,7.63,28.65,439.709,20.063,6.562,126.045,1.556,46.738,25.561,0.0,2.4819999999999998,4.801,0.0],\"Junio\":[86.944,0.0,9.381,0.0,72.657,0.0,189.185,2.458,7.449,28.416,433.899,0.0,7.046,121.881,1.449,49.236000000000004,24.869,0.0,1.901,4.643,0.0],\"Marzo\":[90.98899999999999,0.0,7.732,2.21,57.413000000000004,2.81,190.396,2.4859999999999998,8.118,31.07,481.467,0.0,7.571000000000001,82.781,0.0,34.679,27.581,0.0,1.304,4.157,0.0],\"Mayo\":[89.027,0.0,5.73,0.0,56.4,0.0,187.872,2.543,7.736000000000001,29.99,451.535,0.0,8.089,117.154,829.0,58.845,26.963,0.0,1.423,4.9239999999999995,0.0],\"Noviembre\":[84.005,32.684,11.337,0.0,45.63399999999999,37.0,167.475,2.332,6.992999999999999,24.578000000000003,404.022,7.836,5.97,176.045,0.0,0.0,20.683000000000003,0.0,7.066,4.274,0.0],\"Octubre\":[86.29,32.641999999999996,10.821,0.0,49.733000000000004,96.0,172.138,2.59,7.26,26.820999999999998,418.80300000000005,9.176,6.309,177.997,0.0,0.0,22.6,334.0,10.282,4.684,0.0],\"Septiembre\":[83.57,31.124000000000002,10.425999999999998,0.0,49.231,0.0,168.668,2.478,7.027,26.666,410.664,10.66,6.184,159.941,0.0,0.0,21.682,0.0,18.23,4.64,0.0],\"campos\":[\"ALICE\",\"ALICE OESTE\",\"CHORONGO\",\"CHORONGO ESTE\",\"COLIBRI\",\"DANA\",\"DORINE\",\"DORINE G\",\"DORINE NORTE\",\"ESPERANZA\",\"FANNY-18B\",\"JOHANNA\",\"MAHOGANY\",\"MARIANN\",\"MARIANN NORTE\",\"MARIANN SUR\",\"MARIANN-4A\",\"ORQUIDEA\",\"SHIRLEY\",\"SONIA\",\"TARAPOA NOROESTE\"]},\"selected\":{\"id\":\"1106\",\"type\":\"Selection\"},\"selection_policy\":{\"id\":\"1105\",\"type\":\"UnionRenderers\"}},\"id\":\"1074\",\"type\":\"ColumnDataSource\"},{\"attributes\":{\"bottom\":{\"expr\":{\"id\":\"1023\",\"type\":\"Stack\"}},\"fill_alpha\":{\"value\":0.1},\"fill_color\":{\"value\":\"#1f77b4\"},\"line_alpha\":{\"value\":0.1},\"line_color\":{\"value\":\"#1f77b4\"},\"top\":{\"expr\":{\"id\":\"1024\",\"type\":\"Stack\"}},\"width\":{\"value\":0.9},\"x\":{\"field\":\"campos\"}},\"id\":\"1050\",\"type\":\"VBar\"},{\"attributes\":{\"source\":{\"id\":\"1047\",\"type\":\"ColumnDataSource\"}},\"id\":\"1052\",\"type\":\"CDSView\"},{\"attributes\":{},\"id\":\"1055\",\"type\":\"CategoricalTickFormatter\"},{\"attributes\":{},\"id\":\"1057\",\"type\":\"BasicTickFormatter\"},{\"attributes\":{\"items\":[{\"id\":\"1059\",\"type\":\"LegendItem\"},{\"id\":\"1073\",\"type\":\"LegendItem\"},{\"id\":\"1089\",\"type\":\"LegendItem\"},{\"id\":\"1107\",\"type\":\"LegendItem\"},{\"id\":\"1127\",\"type\":\"LegendItem\"},{\"id\":\"1149\",\"type\":\"LegendItem\"},{\"id\":\"1173\",\"type\":\"LegendItem\"},{\"id\":\"1199\",\"type\":\"LegendItem\"},{\"id\":\"1227\",\"type\":\"LegendItem\"},{\"id\":\"1257\",\"type\":\"LegendItem\"},{\"id\":\"1289\",\"type\":\"LegendItem\"},{\"id\":\"1323\",\"type\":\"LegendItem\"}],\"location\":\"top_left\",\"plot\":{\"id\":\"1003\",\"subtype\":\"Figure\",\"type\":\"Plot\"}},\"id\":\"1058\",\"type\":\"Legend\"},{\"attributes\":{\"callback\":null,\"data\":{\"Abril\":[87.97200000000001,0.0,7.457000000000001,748.0,44.915,1.3159999999999998,188.106,2.4530000000000003,7.871,29.695999999999998,449.227,0.0,7.7379999999999995,100.134,0.0,46.521,22.908,0.0,1.452,4.573,0.0],\"Agosto\":[87.855,14.728,10.253,0.0,68.634,0.0,171.40400000000002,2.5140000000000002,7.473,29.38,434.35400000000004,16.212,6.7139999999999995,165.028,0.0,0.0,24.575,0.0,2.725,4.794,0.0],\"Diciembre\":[84.45100000000001,50.758,12.077,0.0,43.67,0.0,172.21900000000002,24.0,7.189,22.342,418.16900000000004,7.242000000000001,6.007999999999999,202.455,0.0,0.0,19.142,0.0,7.401,4.34,0.0],\"Enero\":[92.117,0.0,6.642,3.365,62.696000000000005,7.093,196.58,2.145,8.353,30.635,477.004,0.0,7.699,87.413,5.341,15.139000000000001,24.771,0.0,1.696,4.208,\"NaN\"],\"Febrero\":[83.881,0.0,8.212,2.6180000000000003,57.146,4.505,169.047,2.21,7.353,28.4,451.05,0.0,6.381,79.332,2.8280000000000003,17.965,22.706999999999997,0.0,1.287,3.76,0.0],\"Julio\":[87.948,0.0,9.736,0.0,70.449,0.0,175.084,2.506,7.63,28.65,439.709,20.063,6.562,126.045,1.556,46.738,25.561,0.0,2.4819999999999998,4.801,0.0],\"Junio\":[86.944,0.0,9.381,0.0,72.657,0.0,189.185,2.458,7.449,28.416,433.899,0.0,7.046,121.881,1.449,49.236000000000004,24.869,0.0,1.901,4.643,0.0],\"Marzo\":[90.98899999999999,0.0,7.732,2.21,57.413000000000004,2.81,190.396,2.4859999999999998,8.118,31.07,481.467,0.0,7.571000000000001,82.781,0.0,34.679,27.581,0.0,1.304,4.157,0.0],\"Mayo\":[89.027,0.0,5.73,0.0,56.4,0.0,187.872,2.543,7.736000000000001,29.99,451.535,0.0,8.089,117.154,829.0,58.845,26.963,0.0,1.423,4.9239999999999995,0.0],\"Noviembre\":[84.005,32.684,11.337,0.0,45.63399999999999,37.0,167.475,2.332,6.992999999999999,24.578000000000003,404.022,7.836,5.97,176.045,0.0,0.0,20.683000000000003,0.0,7.066,4.274,0.0],\"Octubre\":[86.29,32.641999999999996,10.821,0.0,49.733000000000004,96.0,172.138,2.59,7.26,26.820999999999998,418.80300000000005,9.176,6.309,177.997,0.0,0.0,22.6,334.0,10.282,4.684,0.0],\"Septiembre\":[83.57,31.124000000000002,10.425999999999998,0.0,49.231,0.0,168.668,2.478,7.027,26.666,410.664,10.66,6.184,159.941,0.0,0.0,21.682,0.0,18.23,4.64,0.0],\"campos\":[\"ALICE\",\"ALICE OESTE\",\"CHORONGO\",\"CHORONGO ESTE\",\"COLIBRI\",\"DANA\",\"DORINE\",\"DORINE G\",\"DORINE NORTE\",\"ESPERANZA\",\"FANNY-18B\",\"JOHANNA\",\"MAHOGANY\",\"MARIANN\",\"MARIANN NORTE\",\"MARIANN SUR\",\"MARIANN-4A\",\"ORQUIDEA\",\"SHIRLEY\",\"SONIA\",\"TARAPOA NOROESTE\"]},\"selected\":{\"id\":\"1226\",\"type\":\"Selection\"},\"selection_policy\":{\"id\":\"1225\",\"type\":\"UnionRenderers\"}},\"id\":\"1174\",\"type\":\"ColumnDataSource\"},{\"attributes\":{\"label\":{\"value\":\"Enero\"},\"renderers\":[{\"id\":\"1051\",\"type\":\"GlyphRenderer\"}]},\"id\":\"1059\",\"type\":\"LegendItem\"},{\"attributes\":{\"callback\":null,\"data\":{\"Abril\":[87.97200000000001,0.0,7.457000000000001,748.0,44.915,1.3159999999999998,188.106,2.4530000000000003,7.871,29.695999999999998,449.227,0.0,7.7379999999999995,100.134,0.0,46.521,22.908,0.0,1.452,4.573,0.0],\"Agosto\":[87.855,14.728,10.253,0.0,68.634,0.0,171.40400000000002,2.5140000000000002,7.473,29.38,434.35400000000004,16.212,6.7139999999999995,165.028,0.0,0.0,24.575,0.0,2.725,4.794,0.0],\"Diciembre\":[84.45100000000001,50.758,12.077,0.0,43.67,0.0,172.21900000000002,24.0,7.189,22.342,418.16900000000004,7.242000000000001,6.007999999999999,202.455,0.0,0.0,19.142,0.0,7.401,4.34,0.0],\"Enero\":[92.117,0.0,6.642,3.365,62.696000000000005,7.093,196.58,2.145,8.353,30.635,477.004,0.0,7.699,87.413,5.341,15.139000000000001,24.771,0.0,1.696,4.208,\"NaN\"],\"Febrero\":[83.881,0.0,8.212,2.6180000000000003,57.146,4.505,169.047,2.21,7.353,28.4,451.05,0.0,6.381,79.332,2.8280000000000003,17.965,22.706999999999997,0.0,1.287,3.76,0.0],\"Julio\":[87.948,0.0,9.736,0.0,70.449,0.0,175.084,2.506,7.63,28.65,439.709,20.063,6.562,126.045,1.556,46.738,25.561,0.0,2.4819999999999998,4.801,0.0],\"Junio\":[86.944,0.0,9.381,0.0,72.657,0.0,189.185,2.458,7.449,28.416,433.899,0.0,7.046,121.881,1.449,49.236000000000004,24.869,0.0,1.901,4.643,0.0],\"Marzo\":[90.98899999999999,0.0,7.732,2.21,57.413000000000004,2.81,190.396,2.4859999999999998,8.118,31.07,481.467,0.0,7.571000000000001,82.781,0.0,34.679,27.581,0.0,1.304,4.157,0.0],\"Mayo\":[89.027,0.0,5.73,0.0,56.4,0.0,187.872,2.543,7.736000000000001,29.99,451.535,0.0,8.089,117.154,829.0,58.845,26.963,0.0,1.423,4.9239999999999995,0.0],\"Noviembre\":[84.005,32.684,11.337,0.0,45.63399999999999,37.0,167.475,2.332,6.992999999999999,24.578000000000003,404.022,7.836,5.97,176.045,0.0,0.0,20.683000000000003,0.0,7.066,4.274,0.0],\"Octubre\":[86.29,32.641999999999996,10.821,0.0,49.733000000000004,96.0,172.138,2.59,7.26,26.820999999999998,418.80300000000005,9.176,6.309,177.997,0.0,0.0,22.6,334.0,10.282,4.684,0.0],\"Septiembre\":[83.57,31.124000000000002,10.425999999999998,0.0,49.231,0.0,168.668,2.478,7.027,26.666,410.664,10.66,6.184,159.941,0.0,0.0,21.682,0.0,18.23,4.64,0.0],\"campos\":[\"ALICE\",\"ALICE OESTE\",\"CHORONGO\",\"CHORONGO ESTE\",\"COLIBRI\",\"DANA\",\"DORINE\",\"DORINE G\",\"DORINE NORTE\",\"ESPERANZA\",\"FANNY-18B\",\"JOHANNA\",\"MAHOGANY\",\"MARIANN\",\"MARIANN NORTE\",\"MARIANN SUR\",\"MARIANN-4A\",\"ORQUIDEA\",\"SHIRLEY\",\"SONIA\",\"TARAPOA NOROESTE\"]},\"selected\":{\"id\":\"1088\",\"type\":\"Selection\"},\"selection_policy\":{\"id\":\"1087\",\"type\":\"UnionRenderers\"}},\"id\":\"1060\",\"type\":\"ColumnDataSource\"},{\"attributes\":{\"source\":{\"id\":\"1060\",\"type\":\"ColumnDataSource\"}},\"id\":\"1065\",\"type\":\"CDSView\"},{\"attributes\":{\"bottom\":{\"expr\":{\"id\":\"1025\",\"type\":\"Stack\"}},\"fill_color\":{\"value\":\"#482172\"},\"line_color\":{\"value\":\"#482172\"},\"top\":{\"expr\":{\"id\":\"1026\",\"type\":\"Stack\"}},\"width\":{\"value\":0.9},\"x\":{\"field\":\"campos\"}},\"id\":\"1062\",\"type\":\"VBar\"},{\"attributes\":{\"bottom\":{\"expr\":{\"id\":\"1027\",\"type\":\"Stack\"}},\"fill_color\":{\"value\":\"#423D84\"},\"line_color\":{\"value\":\"#423D84\"},\"top\":{\"expr\":{\"id\":\"1028\",\"type\":\"Stack\"}},\"width\":{\"value\":0.9},\"x\":{\"field\":\"campos\"}},\"id\":\"1076\",\"type\":\"VBar\"},{\"attributes\":{\"bottom\":{\"expr\":{\"id\":\"1025\",\"type\":\"Stack\"}},\"fill_alpha\":{\"value\":0.1},\"fill_color\":{\"value\":\"#1f77b4\"},\"line_alpha\":{\"value\":0.1},\"line_color\":{\"value\":\"#1f77b4\"},\"top\":{\"expr\":{\"id\":\"1026\",\"type\":\"Stack\"}},\"width\":{\"value\":0.9},\"x\":{\"field\":\"campos\"}},\"id\":\"1063\",\"type\":\"VBar\"},{\"attributes\":{\"data_source\":{\"id\":\"1060\",\"type\":\"ColumnDataSource\"},\"glyph\":{\"id\":\"1062\",\"type\":\"VBar\"},\"hover_glyph\":null,\"muted_glyph\":null,\"name\":\"Febrero\",\"nonselection_glyph\":{\"id\":\"1063\",\"type\":\"VBar\"},\"selection_glyph\":null,\"view\":{\"id\":\"1065\",\"type\":\"CDSView\"}},\"id\":\"1064\",\"type\":\"GlyphRenderer\"},{\"attributes\":{},\"id\":\"1072\",\"type\":\"Selection\"},{\"attributes\":{},\"id\":\"1071\",\"type\":\"UnionRenderers\"},{\"attributes\":{\"label\":{\"value\":\"Febrero\"},\"renderers\":[{\"id\":\"1064\",\"type\":\"GlyphRenderer\"}]},\"id\":\"1073\",\"type\":\"LegendItem\"},{\"attributes\":{\"source\":{\"id\":\"1074\",\"type\":\"ColumnDataSource\"}},\"id\":\"1079\",\"type\":\"CDSView\"},{\"attributes\":{\"bottom\":{\"expr\":{\"id\":\"1037\",\"type\":\"Stack\"}},\"fill_color\":{\"value\":\"#2AB07E\"},\"line_color\":{\"value\":\"#2AB07E\"},\"top\":{\"expr\":{\"id\":\"1038\",\"type\":\"Stack\"}},\"width\":{\"value\":0.9},\"x\":{\"field\":\"campos\"}},\"id\":\"1176\",\"type\":\"VBar\"},{\"attributes\":{},\"id\":\"1172\",\"type\":\"Selection\"},{\"attributes\":{\"bottom\":{\"expr\":{\"id\":\"1027\",\"type\":\"Stack\"}},\"fill_alpha\":{\"value\":0.1},\"fill_color\":{\"value\":\"#1f77b4\"},\"line_alpha\":{\"value\":0.1},\"line_color\":{\"value\":\"#1f77b4\"},\"top\":{\"expr\":{\"id\":\"1028\",\"type\":\"Stack\"}},\"width\":{\"value\":0.9},\"x\":{\"field\":\"campos\"}},\"id\":\"1077\",\"type\":\"VBar\"},{\"attributes\":{\"data_source\":{\"id\":\"1074\",\"type\":\"ColumnDataSource\"},\"glyph\":{\"id\":\"1076\",\"type\":\"VBar\"},\"hover_glyph\":null,\"muted_glyph\":null,\"name\":\"Marzo\",\"nonselection_glyph\":{\"id\":\"1077\",\"type\":\"VBar\"},\"selection_glyph\":null,\"view\":{\"id\":\"1079\",\"type\":\"CDSView\"}},\"id\":\"1078\",\"type\":\"GlyphRenderer\"},{\"attributes\":{\"plot\":null,\"text\":\"INFORME DE PRESUPUESTO\"},\"id\":\"1002\",\"type\":\"Title\"},{\"attributes\":{},\"id\":\"1147\",\"type\":\"UnionRenderers\"},{\"attributes\":{},\"id\":\"1011\",\"type\":\"LinearScale\"},{\"attributes\":{},\"id\":\"1087\",\"type\":\"UnionRenderers\"},{\"attributes\":{\"label\":{\"value\":\"Marzo\"},\"renderers\":[{\"id\":\"1078\",\"type\":\"GlyphRenderer\"}]},\"id\":\"1089\",\"type\":\"LegendItem\"},{\"attributes\":{\"callback\":null,\"factors\":[\"ALICE\",\"ALICE OESTE\",\"CHORONGO\",\"CHORONGO ESTE\",\"COLIBRI\",\"DANA\",\"DORINE\",\"DORINE G\",\"DORINE NORTE\",\"ESPERANZA\",\"FANNY-18B\",\"JOHANNA\",\"MAHOGANY\",\"MARIANN\",\"MARIANN NORTE\",\"MARIANN SUR\",\"MARIANN-4A\",\"ORQUIDEA\",\"SHIRLEY\",\"SONIA\",\"TARAPOA NOROESTE\"],\"range_padding\":0.2},\"id\":\"1005\",\"type\":\"FactorRange\"},{\"attributes\":{},\"id\":\"1088\",\"type\":\"Selection\"},{\"attributes\":{},\"id\":\"1009\",\"type\":\"CategoricalScale\"},{\"attributes\":{\"bottom\":{\"expr\":{\"id\":\"1029\",\"type\":\"Stack\"}},\"fill_color\":{\"value\":\"#38578C\"},\"line_color\":{\"value\":\"#38578C\"},\"top\":{\"expr\":{\"id\":\"1030\",\"type\":\"Stack\"}},\"width\":{\"value\":0.9},\"x\":{\"field\":\"campos\"}},\"id\":\"1092\",\"type\":\"VBar\"},{\"attributes\":{\"callback\":null,\"end\":5300},\"id\":\"1007\",\"type\":\"Range1d\"},{\"attributes\":{\"callback\":null,\"data\":{\"Abril\":[87.97200000000001,0.0,7.457000000000001,748.0,44.915,1.3159999999999998,188.106,2.4530000000000003,7.871,29.695999999999998,449.227,0.0,7.7379999999999995,100.134,0.0,46.521,22.908,0.0,1.452,4.573,0.0],\"Agosto\":[87.855,14.728,10.253,0.0,68.634,0.0,171.40400000000002,2.5140000000000002,7.473,29.38,434.35400000000004,16.212,6.7139999999999995,165.028,0.0,0.0,24.575,0.0,2.725,4.794,0.0],\"Diciembre\":[84.45100000000001,50.758,12.077,0.0,43.67,0.0,172.21900000000002,24.0,7.189,22.342,418.16900000000004,7.242000000000001,6.007999999999999,202.455,0.0,0.0,19.142,0.0,7.401,4.34,0.0],\"Enero\":[92.117,0.0,6.642,3.365,62.696000000000005,7.093,196.58,2.145,8.353,30.635,477.004,0.0,7.699,87.413,5.341,15.139000000000001,24.771,0.0,1.696,4.208,\"NaN\"],\"Febrero\":[83.881,0.0,8.212,2.6180000000000003,57.146,4.505,169.047,2.21,7.353,28.4,451.05,0.0,6.381,79.332,2.8280000000000003,17.965,22.706999999999997,0.0,1.287,3.76,0.0],\"Julio\":[87.948,0.0,9.736,0.0,70.449,0.0,175.084,2.506,7.63,28.65,439.709,20.063,6.562,126.045,1.556,46.738,25.561,0.0,2.4819999999999998,4.801,0.0],\"Junio\":[86.944,0.0,9.381,0.0,72.657,0.0,189.185,2.458,7.449,28.416,433.899,0.0,7.046,121.881,1.449,49.236000000000004,24.869,0.0,1.901,4.643,0.0],\"Marzo\":[90.98899999999999,0.0,7.732,2.21,57.413000000000004,2.81,190.396,2.4859999999999998,8.118,31.07,481.467,0.0,7.571000000000001,82.781,0.0,34.679,27.581,0.0,1.304,4.157,0.0],\"Mayo\":[89.027,0.0,5.73,0.0,56.4,0.0,187.872,2.543,7.736000000000001,29.99,451.535,0.0,8.089,117.154,829.0,58.845,26.963,0.0,1.423,4.9239999999999995,0.0],\"Noviembre\":[84.005,32.684,11.337,0.0,45.63399999999999,37.0,167.475,2.332,6.992999999999999,24.578000000000003,404.022,7.836,5.97,176.045,0.0,0.0,20.683000000000003,0.0,7.066,4.274,0.0],\"Octubre\":[86.29,32.641999999999996,10.821,0.0,49.733000000000004,96.0,172.138,2.59,7.26,26.820999999999998,418.80300000000005,9.176,6.309,177.997,0.0,0.0,22.6,334.0,10.282,4.684,0.0],\"Septiembre\":[83.57,31.124000000000002,10.425999999999998,0.0,49.231,0.0,168.668,2.478,7.027,26.666,410.664,10.66,6.184,159.941,0.0,0.0,21.682,0.0,18.23,4.64,0.0],\"campos\":[\"ALICE\",\"ALICE OESTE\",\"CHORONGO\",\"CHORONGO ESTE\",\"COLIBRI\",\"DANA\",\"DORINE\",\"DORINE G\",\"DORINE NORTE\",\"ESPERANZA\",\"FANNY-18B\",\"JOHANNA\",\"MAHOGANY\",\"MARIANN\",\"MARIANN NORTE\",\"MARIANN SUR\",\"MARIANN-4A\",\"ORQUIDEA\",\"SHIRLEY\",\"SONIA\",\"TARAPOA NOROESTE\"]},\"selected\":{\"id\":\"1126\",\"type\":\"Selection\"},\"selection_policy\":{\"id\":\"1125\",\"type\":\"UnionRenderers\"}},\"id\":\"1090\",\"type\":\"ColumnDataSource\"},{\"attributes\":{\"source\":{\"id\":\"1090\",\"type\":\"ColumnDataSource\"}},\"id\":\"1095\",\"type\":\"CDSView\"},{\"attributes\":{\"plot\":{\"id\":\"1003\",\"subtype\":\"Figure\",\"type\":\"Plot\"},\"ticker\":{\"id\":\"1014\",\"type\":\"CategoricalTicker\"}},\"id\":\"1016\",\"type\":\"Grid\"},{\"attributes\":{\"formatter\":{\"id\":\"1055\",\"type\":\"CategoricalTickFormatter\"},\"major_label_orientation\":0.2,\"plot\":{\"id\":\"1003\",\"subtype\":\"Figure\",\"type\":\"Plot\"},\"ticker\":{\"id\":\"1014\",\"type\":\"CategoricalTicker\"}},\"id\":\"1013\",\"type\":\"CategoricalAxis\"},{\"attributes\":{\"dimension\":1,\"plot\":{\"id\":\"1003\",\"subtype\":\"Figure\",\"type\":\"Plot\"},\"ticker\":{\"id\":\"1018\",\"type\":\"BasicTicker\"}},\"id\":\"1021\",\"type\":\"Grid\"},{\"attributes\":{\"bottom\":{\"expr\":{\"id\":\"1029\",\"type\":\"Stack\"}},\"fill_alpha\":{\"value\":0.1},\"fill_color\":{\"value\":\"#1f77b4\"},\"line_alpha\":{\"value\":0.1},\"line_color\":{\"value\":\"#1f77b4\"},\"top\":{\"expr\":{\"id\":\"1030\",\"type\":\"Stack\"}},\"width\":{\"value\":0.9},\"x\":{\"field\":\"campos\"}},\"id\":\"1093\",\"type\":\"VBar\"},{\"attributes\":{\"data_source\":{\"id\":\"1090\",\"type\":\"ColumnDataSource\"},\"glyph\":{\"id\":\"1092\",\"type\":\"VBar\"},\"hover_glyph\":null,\"muted_glyph\":null,\"name\":\"Abril\",\"nonselection_glyph\":{\"id\":\"1093\",\"type\":\"VBar\"},\"selection_glyph\":null,\"view\":{\"id\":\"1095\",\"type\":\"CDSView\"}},\"id\":\"1094\",\"type\":\"GlyphRenderer\"},{\"attributes\":{},\"id\":\"1014\",\"type\":\"CategoricalTicker\"},{\"attributes\":{},\"id\":\"1106\",\"type\":\"Selection\"},{\"attributes\":{\"formatter\":{\"id\":\"1057\",\"type\":\"BasicTickFormatter\"},\"plot\":{\"id\":\"1003\",\"subtype\":\"Figure\",\"type\":\"Plot\"},\"ticker\":{\"id\":\"1018\",\"type\":\"BasicTicker\"}},\"id\":\"1017\",\"type\":\"LinearAxis\"},{\"attributes\":{},\"id\":\"1105\",\"type\":\"UnionRenderers\"},{\"attributes\":{\"fields\":[]},\"id\":\"1023\",\"type\":\"Stack\"},{\"attributes\":{},\"id\":\"1018\",\"type\":\"BasicTicker\"},{\"attributes\":{\"label\":{\"value\":\"Abril\"},\"renderers\":[{\"id\":\"1094\",\"type\":\"GlyphRenderer\"}]},\"id\":\"1107\",\"type\":\"LegendItem\"},{\"attributes\":{\"fields\":[\"Enero\"]},\"id\":\"1024\",\"type\":\"Stack\"},{\"attributes\":{\"bottom\":{\"expr\":{\"id\":\"1031\",\"type\":\"Stack\"}},\"fill_color\":{\"value\":\"#2D6E8E\"},\"line_color\":{\"value\":\"#2D6E8E\"},\"top\":{\"expr\":{\"id\":\"1032\",\"type\":\"Stack\"}},\"width\":{\"value\":0.9},\"x\":{\"field\":\"campos\"}},\"id\":\"1110\",\"type\":\"VBar\"},{\"attributes\":{\"callback\":null,\"data\":{\"Abril\":[87.97200000000001,0.0,7.457000000000001,748.0,44.915,1.3159999999999998,188.106,2.4530000000000003,7.871,29.695999999999998,449.227,0.0,7.7379999999999995,100.134,0.0,46.521,22.908,0.0,1.452,4.573,0.0],\"Agosto\":[87.855,14.728,10.253,0.0,68.634,0.0,171.40400000000002,2.5140000000000002,7.473,29.38,434.35400000000004,16.212,6.7139999999999995,165.028,0.0,0.0,24.575,0.0,2.725,4.794,0.0],\"Diciembre\":[84.45100000000001,50.758,12.077,0.0,43.67,0.0,172.21900000000002,24.0,7.189,22.342,418.16900000000004,7.242000000000001,6.007999999999999,202.455,0.0,0.0,19.142,0.0,7.401,4.34,0.0],\"Enero\":[92.117,0.0,6.642,3.365,62.696000000000005,7.093,196.58,2.145,8.353,30.635,477.004,0.0,7.699,87.413,5.341,15.139000000000001,24.771,0.0,1.696,4.208,\"NaN\"],\"Febrero\":[83.881,0.0,8.212,2.6180000000000003,57.146,4.505,169.047,2.21,7.353,28.4,451.05,0.0,6.381,79.332,2.8280000000000003,17.965,22.706999999999997,0.0,1.287,3.76,0.0],\"Julio\":[87.948,0.0,9.736,0.0,70.449,0.0,175.084,2.506,7.63,28.65,439.709,20.063,6.562,126.045,1.556,46.738,25.561,0.0,2.4819999999999998,4.801,0.0],\"Junio\":[86.944,0.0,9.381,0.0,72.657,0.0,189.185,2.458,7.449,28.416,433.899,0.0,7.046,121.881,1.449,49.236000000000004,24.869,0.0,1.901,4.643,0.0],\"Marzo\":[90.98899999999999,0.0,7.732,2.21,57.413000000000004,2.81,190.396,2.4859999999999998,8.118,31.07,481.467,0.0,7.571000000000001,82.781,0.0,34.679,27.581,0.0,1.304,4.157,0.0],\"Mayo\":[89.027,0.0,5.73,0.0,56.4,0.0,187.872,2.543,7.736000000000001,29.99,451.535,0.0,8.089,117.154,829.0,58.845,26.963,0.0,1.423,4.9239999999999995,0.0],\"Noviembre\":[84.005,32.684,11.337,0.0,45.63399999999999,37.0,167.475,2.332,6.992999999999999,24.578000000000003,404.022,7.836,5.97,176.045,0.0,0.0,20.683000000000003,0.0,7.066,4.274,0.0],\"Octubre\":[86.29,32.641999999999996,10.821,0.0,49.733000000000004,96.0,172.138,2.59,7.26,26.820999999999998,418.80300000000005,9.176,6.309,177.997,0.0,0.0,22.6,334.0,10.282,4.684,0.0],\"Septiembre\":[83.57,31.124000000000002,10.425999999999998,0.0,49.231,0.0,168.668,2.478,7.027,26.666,410.664,10.66,6.184,159.941,0.0,0.0,21.682,0.0,18.23,4.64,0.0],\"campos\":[\"ALICE\",\"ALICE OESTE\",\"CHORONGO\",\"CHORONGO ESTE\",\"COLIBRI\",\"DANA\",\"DORINE\",\"DORINE G\",\"DORINE NORTE\",\"ESPERANZA\",\"FANNY-18B\",\"JOHANNA\",\"MAHOGANY\",\"MARIANN\",\"MARIANN NORTE\",\"MARIANN SUR\",\"MARIANN-4A\",\"ORQUIDEA\",\"SHIRLEY\",\"SONIA\",\"TARAPOA NOROESTE\"]},\"selected\":{\"id\":\"1148\",\"type\":\"Selection\"},\"selection_policy\":{\"id\":\"1147\",\"type\":\"UnionRenderers\"}},\"id\":\"1108\",\"type\":\"ColumnDataSource\"},{\"attributes\":{\"active_drag\":\"auto\",\"active_inspect\":\"auto\",\"active_multi\":null,\"active_scroll\":\"auto\",\"active_tap\":\"auto\"},\"id\":\"1022\",\"type\":\"Toolbar\"},{\"attributes\":{\"data_source\":{\"id\":\"1150\",\"type\":\"ColumnDataSource\"},\"glyph\":{\"id\":\"1152\",\"type\":\"VBar\"},\"hover_glyph\":null,\"muted_glyph\":null,\"name\":\"Julio\",\"nonselection_glyph\":{\"id\":\"1153\",\"type\":\"VBar\"},\"selection_glyph\":null,\"view\":{\"id\":\"1155\",\"type\":\"CDSView\"}},\"id\":\"1154\",\"type\":\"GlyphRenderer\"}],\"root_ids\":[\"1003\"]},\"title\":\"Bokeh Application\",\"version\":\"1.0.3\"}};\n",
       "  var render_items = [{\"docid\":\"cf33ef1f-1116-4f56-85e6-b51c416e7797\",\"roots\":{\"1003\":\"745b532d-1f41-42db-97b8-8d2e4d181d3c\"}}];\n",
       "  root.Bokeh.embed.embed_items_notebook(docs_json, render_items);\n",
       "\n",
       "  }\n",
       "  if (root.Bokeh !== undefined) {\n",
       "    embed_document(root);\n",
       "  } else {\n",
       "    var attempts = 0;\n",
       "    var timer = setInterval(function(root) {\n",
       "      if (root.Bokeh !== undefined) {\n",
       "        embed_document(root);\n",
       "        clearInterval(timer);\n",
       "      }\n",
       "      attempts++;\n",
       "      if (attempts > 100) {\n",
       "        console.log(\"Bokeh: ERROR: Unable to run BokehJS code because BokehJS library is missing\");\n",
       "        clearInterval(timer);\n",
       "      }\n",
       "    }, 10, root)\n",
       "  }\n",
       "})(window);"
      ],
      "application/vnd.bokehjs_exec.v0+json": ""
     },
     "metadata": {
      "application/vnd.bokehjs_exec.v0+json": {
       "id": "1003"
      }
     },
     "output_type": "display_data"
    }
   ],
   "source": [
    "campos=archivo['CAMPOS'].tolist()\n",
    "meses=[\"Enero\",\"Febrero\",\"Marzo\",\"Abril\",\"Mayo\",\"Junio\",\"Julio\",\"Agosto\",\"Septiembre\",\"Octubre\",\"Noviembre\",\"Diciembre\"]\n",
    "colores = viridis(len(meses))\n",
    "data={'campos':campos,\n",
    "      'Enero': archivo['ENERO'].tolist(),\n",
    "      'Febrero': archivo['FEBRERO'].tolist(),\n",
    "      'Marzo': archivo['MARZO'].tolist(),\n",
    "      'Abril': archivo['ABRIL'].tolist(),\n",
    "      'Mayo' : archivo['MAYO'].tolist(),\n",
    "      'Junio': archivo['JUNIO'].tolist(),\n",
    "      'Julio': archivo['JULIO'].tolist(),\n",
    "      'Agosto': archivo['AGOSTO'].tolist(),\n",
    "      'Septiembre' : archivo['SEPTIEMBRE'].tolist(),\n",
    "      'Octubre': archivo['OCTUBRE'].tolist(),\n",
    "      'Noviembre': archivo['NOVIEMBRE'].tolist(),\n",
    "      'Diciembre' : archivo['DICIEMBRE'].tolist()\n",
    "     }\n",
    "p = figure(x_range=campos,y_range=(0,5300),plot_height=600,plot_width=1500, title=\"INFORME DE PRESUPUESTO\",\n",
    "           toolbar_location=None, tools=\"\")\n",
    "p.vbar_stack(meses, x='campos', width=0.9, color=colores, source=data,\n",
    "             legend=[value(x) for x in meses])\n",
    "\n",
    "p.y_range.start = 0\n",
    "p.xaxis.major_label_orientation = p.x_range.range_padding = 0.2\n",
    "p.legend.location = \"top_left\"\n",
    "p.legend.orientation = \"vertical\"\n",
    "\n",
    "show(p)"
   ]
  },
  {
   "cell_type": "code",
   "execution_count": 23,
   "metadata": {},
   "outputs": [
    {
     "data": {
      "text/html": [
       "\n",
       "\n",
       "\n",
       "\n",
       "\n",
       "\n",
       "  <div class=\"bk-root\" id=\"a7618472-95f0-46c2-95e2-d580d8df371d\" data-root-id=\"95060\"></div>\n"
      ]
     },
     "metadata": {},
     "output_type": "display_data"
    },
    {
     "data": {
      "application/javascript": [
       "(function(root) {\n",
       "  function embed_document(root) {\n",
       "    \n",
       "  var docs_json = {\"2622054d-c5aa-4095-9fe3-8c6aade72b69\":{\"roots\":{\"references\":[{\"attributes\":{\"below\":[{\"id\":\"95069\",\"type\":\"CategoricalAxis\"}],\"left\":[{\"id\":\"95073\",\"type\":\"LinearAxis\"}],\"plot_height\":350,\"plot_width\":3500,\"renderers\":[{\"id\":\"95069\",\"type\":\"CategoricalAxis\"},{\"id\":\"95072\",\"type\":\"Grid\"},{\"id\":\"95073\",\"type\":\"LinearAxis\"},{\"id\":\"95077\",\"type\":\"Grid\"},{\"id\":\"95083\",\"type\":\"GlyphRenderer\"}],\"title\":{\"id\":\"95059\",\"type\":\"Title\"},\"toolbar\":{\"id\":\"95078\",\"type\":\"Toolbar\"},\"toolbar_location\":null,\"x_range\":{\"id\":\"95058\",\"type\":\"FactorRange\"},\"x_scale\":{\"id\":\"95065\",\"type\":\"CategoricalScale\"},\"y_range\":{\"id\":\"95063\",\"type\":\"DataRange1d\"},\"y_scale\":{\"id\":\"95067\",\"type\":\"LinearScale\"}},\"id\":\"95060\",\"subtype\":\"Figure\",\"type\":\"Plot\"},{\"attributes\":{},\"id\":\"95070\",\"type\":\"CategoricalTicker\"},{\"attributes\":{\"grid_line_color\":{\"value\":null},\"plot\":{\"id\":\"95060\",\"subtype\":\"Figure\",\"type\":\"Plot\"},\"ticker\":{\"id\":\"95070\",\"type\":\"CategoricalTicker\"}},\"id\":\"95072\",\"type\":\"Grid\"},{\"attributes\":{\"formatter\":{\"id\":\"96167\",\"type\":\"BasicTickFormatter\"},\"plot\":{\"id\":\"95060\",\"subtype\":\"Figure\",\"type\":\"Plot\"},\"ticker\":{\"id\":\"95074\",\"type\":\"BasicTicker\"}},\"id\":\"95073\",\"type\":\"LinearAxis\"},{\"attributes\":{\"callback\":null,\"start\":0},\"id\":\"95063\",\"type\":\"DataRange1d\"},{\"attributes\":{\"formatter\":{\"id\":\"96165\",\"type\":\"CategoricalTickFormatter\"},\"major_label_orientation\":1,\"plot\":{\"id\":\"95060\",\"subtype\":\"Figure\",\"type\":\"Plot\"},\"ticker\":{\"id\":\"95070\",\"type\":\"CategoricalTicker\"}},\"id\":\"95069\",\"type\":\"CategoricalAxis\"},{\"attributes\":{\"dimension\":1,\"plot\":{\"id\":\"95060\",\"subtype\":\"Figure\",\"type\":\"Plot\"},\"ticker\":{\"id\":\"95074\",\"type\":\"BasicTicker\"}},\"id\":\"95077\",\"type\":\"Grid\"},{\"attributes\":{},\"id\":\"96168\",\"type\":\"UnionRenderers\"},{\"attributes\":{},\"id\":\"95074\",\"type\":\"BasicTicker\"},{\"attributes\":{},\"id\":\"95065\",\"type\":\"CategoricalScale\"},{\"attributes\":{\"active_drag\":\"auto\",\"active_inspect\":\"auto\",\"active_multi\":null,\"active_scroll\":\"auto\",\"active_tap\":\"auto\"},\"id\":\"95078\",\"type\":\"Toolbar\"},{\"attributes\":{\"fill_color\":{\"field\":\"x\",\"transform\":{\"id\":\"95079\",\"type\":\"CategoricalColorMapper\"}},\"line_color\":{\"value\":\"#1f77b4\"},\"top\":{\"field\":\"counts\"},\"width\":{\"value\":0.8},\"x\":{\"field\":\"x\"}},\"id\":\"95081\",\"type\":\"VBar\"},{\"attributes\":{\"plot\":null,\"text\":\"INFORME DE PRESUPUESTO\"},\"id\":\"95059\",\"type\":\"Title\"},{\"attributes\":{},\"id\":\"95067\",\"type\":\"LinearScale\"},{\"attributes\":{\"fill_alpha\":{\"value\":0.1},\"fill_color\":{\"value\":\"#1f77b4\"},\"line_alpha\":{\"value\":0.1},\"line_color\":{\"value\":\"#1f77b4\"},\"top\":{\"field\":\"counts\"},\"width\":{\"value\":0.8},\"x\":{\"field\":\"x\"}},\"id\":\"95082\",\"type\":\"VBar\"},{\"attributes\":{\"data_source\":{\"id\":\"95057\",\"type\":\"ColumnDataSource\"},\"glyph\":{\"id\":\"95081\",\"type\":\"VBar\"},\"hover_glyph\":null,\"muted_glyph\":null,\"nonselection_glyph\":{\"id\":\"95082\",\"type\":\"VBar\"},\"selection_glyph\":null,\"view\":{\"id\":\"95084\",\"type\":\"CDSView\"}},\"id\":\"95083\",\"type\":\"GlyphRenderer\"},{\"attributes\":{\"callback\":null,\"factors\":[[\"ALICE\",\"Enero\"],[\"ALICE\",\"Febrero\"],[\"ALICE\",\"Marzo\"],[\"ALICE\",\"Abril\"],[\"ALICE\",\"Mayo\"],[\"ALICE\",\"Junio\"],[\"ALICE\",\"Julio\"],[\"ALICE\",\"Agosto\"],[\"ALICE\",\"Septiembre\"],[\"ALICE\",\"Octubre\"],[\"ALICE\",\"Noviembre\"],[\"ALICE\",\"Diciembre\"],[\"ALICE OESTE\",\"Enero\"],[\"ALICE OESTE\",\"Febrero\"],[\"ALICE OESTE\",\"Marzo\"],[\"ALICE OESTE\",\"Abril\"],[\"ALICE OESTE\",\"Mayo\"],[\"ALICE OESTE\",\"Junio\"],[\"ALICE OESTE\",\"Julio\"],[\"ALICE OESTE\",\"Agosto\"],[\"ALICE OESTE\",\"Septiembre\"],[\"ALICE OESTE\",\"Octubre\"],[\"ALICE OESTE\",\"Noviembre\"],[\"ALICE OESTE\",\"Diciembre\"],[\"CHORONGO\",\"Enero\"],[\"CHORONGO\",\"Febrero\"],[\"CHORONGO\",\"Marzo\"],[\"CHORONGO\",\"Abril\"],[\"CHORONGO\",\"Mayo\"],[\"CHORONGO\",\"Junio\"],[\"CHORONGO\",\"Julio\"],[\"CHORONGO\",\"Agosto\"],[\"CHORONGO\",\"Septiembre\"],[\"CHORONGO\",\"Octubre\"],[\"CHORONGO\",\"Noviembre\"],[\"CHORONGO\",\"Diciembre\"],[\"CHORONGO ESTE\",\"Enero\"],[\"CHORONGO ESTE\",\"Febrero\"],[\"CHORONGO ESTE\",\"Marzo\"],[\"CHORONGO ESTE\",\"Abril\"],[\"CHORONGO ESTE\",\"Mayo\"],[\"CHORONGO ESTE\",\"Junio\"],[\"CHORONGO ESTE\",\"Julio\"],[\"CHORONGO ESTE\",\"Agosto\"],[\"CHORONGO ESTE\",\"Septiembre\"],[\"CHORONGO ESTE\",\"Octubre\"],[\"CHORONGO ESTE\",\"Noviembre\"],[\"CHORONGO ESTE\",\"Diciembre\"],[\"COLIBRI\",\"Enero\"],[\"COLIBRI\",\"Febrero\"],[\"COLIBRI\",\"Marzo\"],[\"COLIBRI\",\"Abril\"],[\"COLIBRI\",\"Mayo\"],[\"COLIBRI\",\"Junio\"],[\"COLIBRI\",\"Julio\"],[\"COLIBRI\",\"Agosto\"],[\"COLIBRI\",\"Septiembre\"],[\"COLIBRI\",\"Octubre\"],[\"COLIBRI\",\"Noviembre\"],[\"COLIBRI\",\"Diciembre\"],[\"DANA\",\"Enero\"],[\"DANA\",\"Febrero\"],[\"DANA\",\"Marzo\"],[\"DANA\",\"Abril\"],[\"DANA\",\"Mayo\"],[\"DANA\",\"Junio\"],[\"DANA\",\"Julio\"],[\"DANA\",\"Agosto\"],[\"DANA\",\"Septiembre\"],[\"DANA\",\"Octubre\"],[\"DANA\",\"Noviembre\"],[\"DANA\",\"Diciembre\"],[\"DORINE\",\"Enero\"],[\"DORINE\",\"Febrero\"],[\"DORINE\",\"Marzo\"],[\"DORINE\",\"Abril\"],[\"DORINE\",\"Mayo\"],[\"DORINE\",\"Junio\"],[\"DORINE\",\"Julio\"],[\"DORINE\",\"Agosto\"],[\"DORINE\",\"Septiembre\"],[\"DORINE\",\"Octubre\"],[\"DORINE\",\"Noviembre\"],[\"DORINE\",\"Diciembre\"],[\"DORINE G\",\"Enero\"],[\"DORINE G\",\"Febrero\"],[\"DORINE G\",\"Marzo\"],[\"DORINE G\",\"Abril\"],[\"DORINE G\",\"Mayo\"],[\"DORINE G\",\"Junio\"],[\"DORINE G\",\"Julio\"],[\"DORINE G\",\"Agosto\"],[\"DORINE G\",\"Septiembre\"],[\"DORINE G\",\"Octubre\"],[\"DORINE G\",\"Noviembre\"],[\"DORINE G\",\"Diciembre\"],[\"DORINE NORTE\",\"Enero\"],[\"DORINE NORTE\",\"Febrero\"],[\"DORINE NORTE\",\"Marzo\"],[\"DORINE NORTE\",\"Abril\"],[\"DORINE NORTE\",\"Mayo\"],[\"DORINE NORTE\",\"Junio\"],[\"DORINE NORTE\",\"Julio\"],[\"DORINE NORTE\",\"Agosto\"],[\"DORINE NORTE\",\"Septiembre\"],[\"DORINE NORTE\",\"Octubre\"],[\"DORINE NORTE\",\"Noviembre\"],[\"DORINE NORTE\",\"Diciembre\"],[\"ESPERANZA\",\"Enero\"],[\"ESPERANZA\",\"Febrero\"],[\"ESPERANZA\",\"Marzo\"],[\"ESPERANZA\",\"Abril\"],[\"ESPERANZA\",\"Mayo\"],[\"ESPERANZA\",\"Junio\"],[\"ESPERANZA\",\"Julio\"],[\"ESPERANZA\",\"Agosto\"],[\"ESPERANZA\",\"Septiembre\"],[\"ESPERANZA\",\"Octubre\"],[\"ESPERANZA\",\"Noviembre\"],[\"ESPERANZA\",\"Diciembre\"],[\"FANNY-18B\",\"Enero\"],[\"FANNY-18B\",\"Febrero\"],[\"FANNY-18B\",\"Marzo\"],[\"FANNY-18B\",\"Abril\"],[\"FANNY-18B\",\"Mayo\"],[\"FANNY-18B\",\"Junio\"],[\"FANNY-18B\",\"Julio\"],[\"FANNY-18B\",\"Agosto\"],[\"FANNY-18B\",\"Septiembre\"],[\"FANNY-18B\",\"Octubre\"],[\"FANNY-18B\",\"Noviembre\"],[\"FANNY-18B\",\"Diciembre\"],[\"JOHANNA\",\"Enero\"],[\"JOHANNA\",\"Febrero\"],[\"JOHANNA\",\"Marzo\"],[\"JOHANNA\",\"Abril\"],[\"JOHANNA\",\"Mayo\"],[\"JOHANNA\",\"Junio\"],[\"JOHANNA\",\"Julio\"],[\"JOHANNA\",\"Agosto\"],[\"JOHANNA\",\"Septiembre\"],[\"JOHANNA\",\"Octubre\"],[\"JOHANNA\",\"Noviembre\"],[\"JOHANNA\",\"Diciembre\"],[\"MAHOGANY\",\"Enero\"],[\"MAHOGANY\",\"Febrero\"],[\"MAHOGANY\",\"Marzo\"],[\"MAHOGANY\",\"Abril\"],[\"MAHOGANY\",\"Mayo\"],[\"MAHOGANY\",\"Junio\"],[\"MAHOGANY\",\"Julio\"],[\"MAHOGANY\",\"Agosto\"],[\"MAHOGANY\",\"Septiembre\"],[\"MAHOGANY\",\"Octubre\"],[\"MAHOGANY\",\"Noviembre\"],[\"MAHOGANY\",\"Diciembre\"],[\"MARIANN\",\"Enero\"],[\"MARIANN\",\"Febrero\"],[\"MARIANN\",\"Marzo\"],[\"MARIANN\",\"Abril\"],[\"MARIANN\",\"Mayo\"],[\"MARIANN\",\"Junio\"],[\"MARIANN\",\"Julio\"],[\"MARIANN\",\"Agosto\"],[\"MARIANN\",\"Septiembre\"],[\"MARIANN\",\"Octubre\"],[\"MARIANN\",\"Noviembre\"],[\"MARIANN\",\"Diciembre\"],[\"MARIANN NORTE\",\"Enero\"],[\"MARIANN NORTE\",\"Febrero\"],[\"MARIANN NORTE\",\"Marzo\"],[\"MARIANN NORTE\",\"Abril\"],[\"MARIANN NORTE\",\"Mayo\"],[\"MARIANN NORTE\",\"Junio\"],[\"MARIANN NORTE\",\"Julio\"],[\"MARIANN NORTE\",\"Agosto\"],[\"MARIANN NORTE\",\"Septiembre\"],[\"MARIANN NORTE\",\"Octubre\"],[\"MARIANN NORTE\",\"Noviembre\"],[\"MARIANN NORTE\",\"Diciembre\"],[\"MARIANN SUR\",\"Enero\"],[\"MARIANN SUR\",\"Febrero\"],[\"MARIANN SUR\",\"Marzo\"],[\"MARIANN SUR\",\"Abril\"],[\"MARIANN SUR\",\"Mayo\"],[\"MARIANN SUR\",\"Junio\"],[\"MARIANN SUR\",\"Julio\"],[\"MARIANN SUR\",\"Agosto\"],[\"MARIANN SUR\",\"Septiembre\"],[\"MARIANN SUR\",\"Octubre\"],[\"MARIANN SUR\",\"Noviembre\"],[\"MARIANN SUR\",\"Diciembre\"],[\"MARIANN-4A\",\"Enero\"],[\"MARIANN-4A\",\"Febrero\"],[\"MARIANN-4A\",\"Marzo\"],[\"MARIANN-4A\",\"Abril\"],[\"MARIANN-4A\",\"Mayo\"],[\"MARIANN-4A\",\"Junio\"],[\"MARIANN-4A\",\"Julio\"],[\"MARIANN-4A\",\"Agosto\"],[\"MARIANN-4A\",\"Septiembre\"],[\"MARIANN-4A\",\"Octubre\"],[\"MARIANN-4A\",\"Noviembre\"],[\"MARIANN-4A\",\"Diciembre\"],[\"ORQUIDEA\",\"Enero\"],[\"ORQUIDEA\",\"Febrero\"],[\"ORQUIDEA\",\"Marzo\"],[\"ORQUIDEA\",\"Abril\"],[\"ORQUIDEA\",\"Mayo\"],[\"ORQUIDEA\",\"Junio\"],[\"ORQUIDEA\",\"Julio\"],[\"ORQUIDEA\",\"Agosto\"],[\"ORQUIDEA\",\"Septiembre\"],[\"ORQUIDEA\",\"Octubre\"],[\"ORQUIDEA\",\"Noviembre\"],[\"ORQUIDEA\",\"Diciembre\"],[\"SHIRLEY\",\"Enero\"],[\"SHIRLEY\",\"Febrero\"],[\"SHIRLEY\",\"Marzo\"],[\"SHIRLEY\",\"Abril\"],[\"SHIRLEY\",\"Mayo\"],[\"SHIRLEY\",\"Junio\"],[\"SHIRLEY\",\"Julio\"],[\"SHIRLEY\",\"Agosto\"],[\"SHIRLEY\",\"Septiembre\"],[\"SHIRLEY\",\"Octubre\"],[\"SHIRLEY\",\"Noviembre\"],[\"SHIRLEY\",\"Diciembre\"],[\"SONIA\",\"Enero\"],[\"SONIA\",\"Febrero\"],[\"SONIA\",\"Marzo\"],[\"SONIA\",\"Abril\"],[\"SONIA\",\"Mayo\"],[\"SONIA\",\"Junio\"],[\"SONIA\",\"Julio\"],[\"SONIA\",\"Agosto\"],[\"SONIA\",\"Septiembre\"],[\"SONIA\",\"Octubre\"],[\"SONIA\",\"Noviembre\"],[\"SONIA\",\"Diciembre\"],[\"TARAPOA NOROESTE\",\"Enero\"],[\"TARAPOA NOROESTE\",\"Febrero\"],[\"TARAPOA NOROESTE\",\"Marzo\"],[\"TARAPOA NOROESTE\",\"Abril\"],[\"TARAPOA NOROESTE\",\"Mayo\"],[\"TARAPOA NOROESTE\",\"Junio\"],[\"TARAPOA NOROESTE\",\"Julio\"],[\"TARAPOA NOROESTE\",\"Agosto\"],[\"TARAPOA NOROESTE\",\"Septiembre\"],[\"TARAPOA NOROESTE\",\"Octubre\"],[\"TARAPOA NOROESTE\",\"Noviembre\"],[\"TARAPOA NOROESTE\",\"Diciembre\"]],\"range_padding\":0.01},\"id\":\"95058\",\"type\":\"FactorRange\"},{\"attributes\":{\"callback\":null,\"data\":{\"counts\":[92.117,83.881,90.98899999999999,87.97200000000001,89.027,86.944,87.948,87.855,83.57,86.29,84.005,84.45100000000001,0.0,0.0,0.0,0.0,0.0,0.0,0.0,14.728,31.124000000000002,32.641999999999996,32.684,50.758,6.642,8.212,7.732,7.457000000000001,5.73,9.381,9.736,10.253,10.425999999999998,10.821,11.337,12.077,3.365,2.6180000000000003,2.21,748.0,0.0,0.0,0.0,0.0,0.0,0.0,0.0,0.0,62.696000000000005,57.146,57.413000000000004,44.915,56.4,72.657,70.449,68.634,49.231,49.733000000000004,45.63399999999999,43.67,7.093,4.505,2.81,1.3159999999999998,0.0,0.0,0.0,0.0,0.0,96.0,37.0,0.0,196.58,169.047,190.396,188.106,187.872,189.185,175.084,171.40400000000002,168.668,172.138,167.475,172.21900000000002,2.145,2.21,2.4859999999999998,2.4530000000000003,2.543,2.458,2.506,2.5140000000000002,2.478,2.59,2.332,24.0,8.353,7.353,8.118,7.871,7.736000000000001,7.449,7.63,7.473,7.027,7.26,6.992999999999999,7.189,30.635,28.4,31.07,29.695999999999998,29.99,28.416,28.65,29.38,26.666,26.820999999999998,24.578000000000003,22.342,477.004,451.05,481.467,449.227,451.535,433.899,439.709,434.35400000000004,410.664,418.80300000000005,404.022,418.16900000000004,0.0,0.0,0.0,0.0,0.0,0.0,20.063,16.212,10.66,9.176,7.836,7.242000000000001,7.699,6.381,7.571000000000001,7.7379999999999995,8.089,7.046,6.562,6.7139999999999995,6.184,6.309,5.97,6.007999999999999,87.413,79.332,82.781,100.134,117.154,121.881,126.045,165.028,159.941,177.997,176.045,202.455,5.341,2.8280000000000003,0.0,0.0,829.0,1.449,1.556,0.0,0.0,0.0,0.0,0.0,15.139000000000001,17.965,34.679,46.521,58.845,49.236000000000004,46.738,0.0,0.0,0.0,0.0,0.0,24.771,22.706999999999997,27.581,22.908,26.963,24.869,25.561,24.575,21.682,22.6,20.683000000000003,19.142,0.0,0.0,0.0,0.0,0.0,0.0,0.0,0.0,0.0,334.0,0.0,0.0,1.696,1.287,1.304,1.452,1.423,1.901,2.4819999999999998,2.725,18.23,10.282,7.066,7.401,4.208,3.76,4.157,4.573,4.9239999999999995,4.643,4.801,4.794,4.64,4.684,4.274,4.34,\"NaN\",0.0,0.0,0.0,0.0,0.0,0.0,0.0,0.0,0.0,0.0,0.0],\"x\":[[\"ALICE\",\"Enero\"],[\"ALICE\",\"Febrero\"],[\"ALICE\",\"Marzo\"],[\"ALICE\",\"Abril\"],[\"ALICE\",\"Mayo\"],[\"ALICE\",\"Junio\"],[\"ALICE\",\"Julio\"],[\"ALICE\",\"Agosto\"],[\"ALICE\",\"Septiembre\"],[\"ALICE\",\"Octubre\"],[\"ALICE\",\"Noviembre\"],[\"ALICE\",\"Diciembre\"],[\"ALICE OESTE\",\"Enero\"],[\"ALICE OESTE\",\"Febrero\"],[\"ALICE OESTE\",\"Marzo\"],[\"ALICE OESTE\",\"Abril\"],[\"ALICE OESTE\",\"Mayo\"],[\"ALICE OESTE\",\"Junio\"],[\"ALICE OESTE\",\"Julio\"],[\"ALICE OESTE\",\"Agosto\"],[\"ALICE OESTE\",\"Septiembre\"],[\"ALICE OESTE\",\"Octubre\"],[\"ALICE OESTE\",\"Noviembre\"],[\"ALICE OESTE\",\"Diciembre\"],[\"CHORONGO\",\"Enero\"],[\"CHORONGO\",\"Febrero\"],[\"CHORONGO\",\"Marzo\"],[\"CHORONGO\",\"Abril\"],[\"CHORONGO\",\"Mayo\"],[\"CHORONGO\",\"Junio\"],[\"CHORONGO\",\"Julio\"],[\"CHORONGO\",\"Agosto\"],[\"CHORONGO\",\"Septiembre\"],[\"CHORONGO\",\"Octubre\"],[\"CHORONGO\",\"Noviembre\"],[\"CHORONGO\",\"Diciembre\"],[\"CHORONGO ESTE\",\"Enero\"],[\"CHORONGO ESTE\",\"Febrero\"],[\"CHORONGO ESTE\",\"Marzo\"],[\"CHORONGO ESTE\",\"Abril\"],[\"CHORONGO ESTE\",\"Mayo\"],[\"CHORONGO ESTE\",\"Junio\"],[\"CHORONGO ESTE\",\"Julio\"],[\"CHORONGO ESTE\",\"Agosto\"],[\"CHORONGO ESTE\",\"Septiembre\"],[\"CHORONGO ESTE\",\"Octubre\"],[\"CHORONGO ESTE\",\"Noviembre\"],[\"CHORONGO ESTE\",\"Diciembre\"],[\"COLIBRI\",\"Enero\"],[\"COLIBRI\",\"Febrero\"],[\"COLIBRI\",\"Marzo\"],[\"COLIBRI\",\"Abril\"],[\"COLIBRI\",\"Mayo\"],[\"COLIBRI\",\"Junio\"],[\"COLIBRI\",\"Julio\"],[\"COLIBRI\",\"Agosto\"],[\"COLIBRI\",\"Septiembre\"],[\"COLIBRI\",\"Octubre\"],[\"COLIBRI\",\"Noviembre\"],[\"COLIBRI\",\"Diciembre\"],[\"DANA\",\"Enero\"],[\"DANA\",\"Febrero\"],[\"DANA\",\"Marzo\"],[\"DANA\",\"Abril\"],[\"DANA\",\"Mayo\"],[\"DANA\",\"Junio\"],[\"DANA\",\"Julio\"],[\"DANA\",\"Agosto\"],[\"DANA\",\"Septiembre\"],[\"DANA\",\"Octubre\"],[\"DANA\",\"Noviembre\"],[\"DANA\",\"Diciembre\"],[\"DORINE\",\"Enero\"],[\"DORINE\",\"Febrero\"],[\"DORINE\",\"Marzo\"],[\"DORINE\",\"Abril\"],[\"DORINE\",\"Mayo\"],[\"DORINE\",\"Junio\"],[\"DORINE\",\"Julio\"],[\"DORINE\",\"Agosto\"],[\"DORINE\",\"Septiembre\"],[\"DORINE\",\"Octubre\"],[\"DORINE\",\"Noviembre\"],[\"DORINE\",\"Diciembre\"],[\"DORINE G\",\"Enero\"],[\"DORINE G\",\"Febrero\"],[\"DORINE G\",\"Marzo\"],[\"DORINE G\",\"Abril\"],[\"DORINE G\",\"Mayo\"],[\"DORINE G\",\"Junio\"],[\"DORINE G\",\"Julio\"],[\"DORINE G\",\"Agosto\"],[\"DORINE G\",\"Septiembre\"],[\"DORINE G\",\"Octubre\"],[\"DORINE G\",\"Noviembre\"],[\"DORINE G\",\"Diciembre\"],[\"DORINE NORTE\",\"Enero\"],[\"DORINE NORTE\",\"Febrero\"],[\"DORINE NORTE\",\"Marzo\"],[\"DORINE NORTE\",\"Abril\"],[\"DORINE NORTE\",\"Mayo\"],[\"DORINE NORTE\",\"Junio\"],[\"DORINE NORTE\",\"Julio\"],[\"DORINE NORTE\",\"Agosto\"],[\"DORINE NORTE\",\"Septiembre\"],[\"DORINE NORTE\",\"Octubre\"],[\"DORINE NORTE\",\"Noviembre\"],[\"DORINE NORTE\",\"Diciembre\"],[\"ESPERANZA\",\"Enero\"],[\"ESPERANZA\",\"Febrero\"],[\"ESPERANZA\",\"Marzo\"],[\"ESPERANZA\",\"Abril\"],[\"ESPERANZA\",\"Mayo\"],[\"ESPERANZA\",\"Junio\"],[\"ESPERANZA\",\"Julio\"],[\"ESPERANZA\",\"Agosto\"],[\"ESPERANZA\",\"Septiembre\"],[\"ESPERANZA\",\"Octubre\"],[\"ESPERANZA\",\"Noviembre\"],[\"ESPERANZA\",\"Diciembre\"],[\"FANNY-18B\",\"Enero\"],[\"FANNY-18B\",\"Febrero\"],[\"FANNY-18B\",\"Marzo\"],[\"FANNY-18B\",\"Abril\"],[\"FANNY-18B\",\"Mayo\"],[\"FANNY-18B\",\"Junio\"],[\"FANNY-18B\",\"Julio\"],[\"FANNY-18B\",\"Agosto\"],[\"FANNY-18B\",\"Septiembre\"],[\"FANNY-18B\",\"Octubre\"],[\"FANNY-18B\",\"Noviembre\"],[\"FANNY-18B\",\"Diciembre\"],[\"JOHANNA\",\"Enero\"],[\"JOHANNA\",\"Febrero\"],[\"JOHANNA\",\"Marzo\"],[\"JOHANNA\",\"Abril\"],[\"JOHANNA\",\"Mayo\"],[\"JOHANNA\",\"Junio\"],[\"JOHANNA\",\"Julio\"],[\"JOHANNA\",\"Agosto\"],[\"JOHANNA\",\"Septiembre\"],[\"JOHANNA\",\"Octubre\"],[\"JOHANNA\",\"Noviembre\"],[\"JOHANNA\",\"Diciembre\"],[\"MAHOGANY\",\"Enero\"],[\"MAHOGANY\",\"Febrero\"],[\"MAHOGANY\",\"Marzo\"],[\"MAHOGANY\",\"Abril\"],[\"MAHOGANY\",\"Mayo\"],[\"MAHOGANY\",\"Junio\"],[\"MAHOGANY\",\"Julio\"],[\"MAHOGANY\",\"Agosto\"],[\"MAHOGANY\",\"Septiembre\"],[\"MAHOGANY\",\"Octubre\"],[\"MAHOGANY\",\"Noviembre\"],[\"MAHOGANY\",\"Diciembre\"],[\"MARIANN\",\"Enero\"],[\"MARIANN\",\"Febrero\"],[\"MARIANN\",\"Marzo\"],[\"MARIANN\",\"Abril\"],[\"MARIANN\",\"Mayo\"],[\"MARIANN\",\"Junio\"],[\"MARIANN\",\"Julio\"],[\"MARIANN\",\"Agosto\"],[\"MARIANN\",\"Septiembre\"],[\"MARIANN\",\"Octubre\"],[\"MARIANN\",\"Noviembre\"],[\"MARIANN\",\"Diciembre\"],[\"MARIANN NORTE\",\"Enero\"],[\"MARIANN NORTE\",\"Febrero\"],[\"MARIANN NORTE\",\"Marzo\"],[\"MARIANN NORTE\",\"Abril\"],[\"MARIANN NORTE\",\"Mayo\"],[\"MARIANN NORTE\",\"Junio\"],[\"MARIANN NORTE\",\"Julio\"],[\"MARIANN NORTE\",\"Agosto\"],[\"MARIANN NORTE\",\"Septiembre\"],[\"MARIANN NORTE\",\"Octubre\"],[\"MARIANN NORTE\",\"Noviembre\"],[\"MARIANN NORTE\",\"Diciembre\"],[\"MARIANN SUR\",\"Enero\"],[\"MARIANN SUR\",\"Febrero\"],[\"MARIANN SUR\",\"Marzo\"],[\"MARIANN SUR\",\"Abril\"],[\"MARIANN SUR\",\"Mayo\"],[\"MARIANN SUR\",\"Junio\"],[\"MARIANN SUR\",\"Julio\"],[\"MARIANN SUR\",\"Agosto\"],[\"MARIANN SUR\",\"Septiembre\"],[\"MARIANN SUR\",\"Octubre\"],[\"MARIANN SUR\",\"Noviembre\"],[\"MARIANN SUR\",\"Diciembre\"],[\"MARIANN-4A\",\"Enero\"],[\"MARIANN-4A\",\"Febrero\"],[\"MARIANN-4A\",\"Marzo\"],[\"MARIANN-4A\",\"Abril\"],[\"MARIANN-4A\",\"Mayo\"],[\"MARIANN-4A\",\"Junio\"],[\"MARIANN-4A\",\"Julio\"],[\"MARIANN-4A\",\"Agosto\"],[\"MARIANN-4A\",\"Septiembre\"],[\"MARIANN-4A\",\"Octubre\"],[\"MARIANN-4A\",\"Noviembre\"],[\"MARIANN-4A\",\"Diciembre\"],[\"ORQUIDEA\",\"Enero\"],[\"ORQUIDEA\",\"Febrero\"],[\"ORQUIDEA\",\"Marzo\"],[\"ORQUIDEA\",\"Abril\"],[\"ORQUIDEA\",\"Mayo\"],[\"ORQUIDEA\",\"Junio\"],[\"ORQUIDEA\",\"Julio\"],[\"ORQUIDEA\",\"Agosto\"],[\"ORQUIDEA\",\"Septiembre\"],[\"ORQUIDEA\",\"Octubre\"],[\"ORQUIDEA\",\"Noviembre\"],[\"ORQUIDEA\",\"Diciembre\"],[\"SHIRLEY\",\"Enero\"],[\"SHIRLEY\",\"Febrero\"],[\"SHIRLEY\",\"Marzo\"],[\"SHIRLEY\",\"Abril\"],[\"SHIRLEY\",\"Mayo\"],[\"SHIRLEY\",\"Junio\"],[\"SHIRLEY\",\"Julio\"],[\"SHIRLEY\",\"Agosto\"],[\"SHIRLEY\",\"Septiembre\"],[\"SHIRLEY\",\"Octubre\"],[\"SHIRLEY\",\"Noviembre\"],[\"SHIRLEY\",\"Diciembre\"],[\"SONIA\",\"Enero\"],[\"SONIA\",\"Febrero\"],[\"SONIA\",\"Marzo\"],[\"SONIA\",\"Abril\"],[\"SONIA\",\"Mayo\"],[\"SONIA\",\"Junio\"],[\"SONIA\",\"Julio\"],[\"SONIA\",\"Agosto\"],[\"SONIA\",\"Septiembre\"],[\"SONIA\",\"Octubre\"],[\"SONIA\",\"Noviembre\"],[\"SONIA\",\"Diciembre\"],[\"TARAPOA NOROESTE\",\"Enero\"],[\"TARAPOA NOROESTE\",\"Febrero\"],[\"TARAPOA NOROESTE\",\"Marzo\"],[\"TARAPOA NOROESTE\",\"Abril\"],[\"TARAPOA NOROESTE\",\"Mayo\"],[\"TARAPOA NOROESTE\",\"Junio\"],[\"TARAPOA NOROESTE\",\"Julio\"],[\"TARAPOA NOROESTE\",\"Agosto\"],[\"TARAPOA NOROESTE\",\"Septiembre\"],[\"TARAPOA NOROESTE\",\"Octubre\"],[\"TARAPOA NOROESTE\",\"Noviembre\"],[\"TARAPOA NOROESTE\",\"Diciembre\"]]},\"selected\":{\"id\":\"96169\",\"type\":\"Selection\"},\"selection_policy\":{\"id\":\"96168\",\"type\":\"UnionRenderers\"}},\"id\":\"95057\",\"type\":\"ColumnDataSource\"},{\"attributes\":{},\"id\":\"96169\",\"type\":\"Selection\"},{\"attributes\":{},\"id\":\"96167\",\"type\":\"BasicTickFormatter\"},{\"attributes\":{\"end\":2,\"factors\":[\"Enero\",\"Febrero\",\"Marzo\",\"Abril\",\"Mayo\",\"Junio\",\"Julio\",\"Agosto\",\"Septiembre\",\"Octubre\",\"Noviembre\",\"Diciembre\"],\"palette\":[\"#00204C\",\"#002F6F\",\"#29406B\",\"#46506B\",\"#5D616E\",\"#717273\",\"#878478\",\"#9E9676\",\"#B6A971\",\"#CEBD67\",\"#E8D257\",\"#FFE945\"],\"start\":1},\"id\":\"95079\",\"type\":\"CategoricalColorMapper\"},{\"attributes\":{\"source\":{\"id\":\"95057\",\"type\":\"ColumnDataSource\"}},\"id\":\"95084\",\"type\":\"CDSView\"},{\"attributes\":{},\"id\":\"96165\",\"type\":\"CategoricalTickFormatter\"}],\"root_ids\":[\"95060\"]},\"title\":\"Bokeh Application\",\"version\":\"1.0.3\"}};\n",
       "  var render_items = [{\"docid\":\"2622054d-c5aa-4095-9fe3-8c6aade72b69\",\"roots\":{\"95060\":\"a7618472-95f0-46c2-95e2-d580d8df371d\"}}];\n",
       "  root.Bokeh.embed.embed_items_notebook(docs_json, render_items);\n",
       "\n",
       "  }\n",
       "  if (root.Bokeh !== undefined) {\n",
       "    embed_document(root);\n",
       "  } else {\n",
       "    var attempts = 0;\n",
       "    var timer = setInterval(function(root) {\n",
       "      if (root.Bokeh !== undefined) {\n",
       "        embed_document(root);\n",
       "        clearInterval(timer);\n",
       "      }\n",
       "      attempts++;\n",
       "      if (attempts > 100) {\n",
       "        console.log(\"Bokeh: ERROR: Unable to run BokehJS code because BokehJS library is missing\");\n",
       "        clearInterval(timer);\n",
       "      }\n",
       "    }, 10, root)\n",
       "  }\n",
       "})(window);"
      ],
      "application/vnd.bokehjs_exec.v0+json": ""
     },
     "metadata": {
      "application/vnd.bokehjs_exec.v0+json": {
       "id": "95060"
      }
     },
     "output_type": "display_data"
    }
   ],
   "source": [
    "campos=archivo['CAMPOS'].tolist()\n",
    "meses=[\"Enero\",\"Febrero\",\"Marzo\",\"Abril\",\"Mayo\",\"Junio\",\"Julio\",\"Agosto\",\"Septiembre\",\"Octubre\",\"Noviembre\",\"Diciembre\"]\n",
    "data={'campos':campos,\n",
    "      'Enero': archivo['ENERO'].tolist(),\n",
    "      'Febrero': archivo['FEBRERO'].tolist(),\n",
    "      'Marzo': archivo['MARZO'].tolist(),\n",
    "      'Abril': archivo['ABRIL'].tolist(),\n",
    "      'Mayo' : archivo['MAYO'].tolist(),\n",
    "      'Junio': archivo['JUNIO'].tolist(),\n",
    "      'Julio': archivo['JULIO'].tolist(),\n",
    "      'Agosto': archivo['AGOSTO'].tolist(),\n",
    "      'Septiembre' : archivo['SEPTIEMBRE'].tolist(),\n",
    "      'Octubre': archivo['OCTUBRE'].tolist(),\n",
    "      'Noviembre': archivo['NOVIEMBRE'].tolist(),\n",
    "      'Diciembre' : archivo['DICIEMBRE'].tolist()\n",
    "     }\n",
    "x = [ (i, j) for i in campos for j in meses ]\n",
    "counts = sum(zip(data['Enero'], data['Febrero'], data['Marzo'],data['Abril'],data['Mayo'],data['Junio'],data['Julio'],data['Agosto'],data['Septiembre'],data['Octubre'],data['Noviembre'],data['Diciembre']),()) \n",
    "\n",
    "source = ColumnDataSource(data=dict(x=x, counts=counts))\n",
    "\n",
    "p = figure(x_range=FactorRange(*x), plot_height=350,plot_width=3500, title=\"INFORME DE PRESUPUESTO\",\n",
    "           toolbar_location=None, tools=\"\")\n",
    "\n",
    "p.vbar(x='x', top='counts', width=0.8, source=source,fill_color=factor_cmap('x', palette=cividis(len(meses)), factors=meses, start=1, end=2))\n",
    "\n",
    "p.y_range.start = 0\n",
    "p.x_range.range_padding = 0.01\n",
    "p.xaxis.major_label_orientation = 1\n",
    "p.xgrid.grid_line_color = None\n",
    "\n",
    "show(p)"
   ]
  },
  {
   "cell_type": "code",
   "execution_count": 4,
   "metadata": {},
   "outputs": [
    {
     "data": {
      "text/html": [
       "\n",
       "\n",
       "\n",
       "\n",
       "\n",
       "\n",
       "  <div class=\"bk-root\" id=\"118739bb-f73f-49f2-af73-02010c23a8ec\" data-root-id=\"1634\"></div>\n"
      ]
     },
     "metadata": {},
     "output_type": "display_data"
    },
    {
     "data": {
      "application/javascript": [
       "(function(root) {\n",
       "  function embed_document(root) {\n",
       "    \n",
       "  var docs_json = {\"1c0e66f7-42b8-4894-9674-ad3e2f188d25\":{\"roots\":{\"references\":[{\"attributes\":{\"below\":[{\"id\":\"1644\",\"type\":\"LinearAxis\"}],\"left\":[{\"id\":\"1649\",\"type\":\"LinearAxis\"}],\"plot_width\":800,\"renderers\":[{\"id\":\"1644\",\"type\":\"LinearAxis\"},{\"id\":\"1648\",\"type\":\"Grid\"},{\"id\":\"1649\",\"type\":\"LinearAxis\"},{\"id\":\"1653\",\"type\":\"Grid\"},{\"id\":\"1670\",\"type\":\"Legend\"},{\"id\":\"1663\",\"type\":\"GlyphRenderer\"}],\"title\":{\"id\":\"1633\",\"type\":\"Title\"},\"toolbar\":{\"id\":\"1655\",\"type\":\"Toolbar\"},\"toolbar_location\":null,\"x_range\":{\"id\":\"1636\",\"type\":\"DataRange1d\"},\"x_scale\":{\"id\":\"1640\",\"type\":\"LinearScale\"},\"y_range\":{\"id\":\"1638\",\"type\":\"DataRange1d\"},\"y_scale\":{\"id\":\"1642\",\"type\":\"LinearScale\"}},\"id\":\"1634\",\"subtype\":\"Figure\",\"type\":\"Plot\"},{\"attributes\":{\"callback\":null,\"range_padding\":0.5},\"id\":\"1636\",\"type\":\"DataRange1d\"},{\"attributes\":{},\"id\":\"1640\",\"type\":\"LinearScale\"},{\"attributes\":{\"callback\":null,\"data\":{\"angle\":{\"__ndarray__\":\"rGqm6JCb4D/bMGCSZJa0P9Ok/zlw66s/klN6SvMvcj+PRCgrUZHVP5vknROzIIA/VmhNBLQR8T9kwaREyzGLP5QqXGLU/6Y/qiStMURmxT/zjJqD4O8EQJqXZ5/RGaI/K32PFC3rpD/PSQmh1V3pP1HzELfwaXg/q7LZGHgbwT91d4x6Ow7CP9/Z6Xc9O8U/C9t3Gh0dnT8K3wVilVubPwAAAAAAAAAA\",\"dtype\":\"float64\",\"shape\":[21]},\"campos\":[\"ALICE\",\"ALICE OESTE\",\"CHORONGO\",\"CHORONGO ESTE\",\"COLIBRI\",\"DANA\",\"DORINE\",\"DORINE G\",\"DORINE NORTE\",\"ESPERANZA\",\"FANNY-18B\",\"JOHANNA\",\"MAHOGANY\",\"MARIANN\",\"MARIANN NORTE\",\"MARIANN SUR\",\"MARIANN-4A\",\"ORQUIDEA\",\"SHIRLEY\",\"SONIA\",\"TARAPOA NOROESTE\"],\"color\":[\"#440154\",\"#471265\",\"#482374\",\"#45347F\",\"#404387\",\"#3B518A\",\"#345E8D\",\"#2E6B8E\",\"#29788E\",\"#25838D\",\"#208F8C\",\"#1E9B89\",\"#22A784\",\"#2EB27C\",\"#42BE71\",\"#5BC862\",\"#79D151\",\"#97D83E\",\"#BADE27\",\"#DCE218\",\"#FDE724\"],\"index\":[0,1,2,3,4,5,6,7,8,9,10,11,12,13,14,15,16,17,18,19,20],\"value\":{\"__ndarray__\":\"BFYOLTJUkEBSuB6F6z1kQPp+arx0c1tAbxKDwMrhIUASg8DKoTSFQBFYObTIti9AmpmZmVnIoECxcmiR7bw6QKFFtvP9nFZA/Knx0k0KdUD91Hjp5pW0QHnpJjEIzFFA4XoUrkeRVEDo+6nx0vCYQBsv3SQGAShAy6FFtvPRcEBxPQrXo8BxQAAAAAAA4HRAAAAAAACgTEC8dJMYBOZKQAAAAAAAAAAA\",\"dtype\":\"float64\",\"shape\":[21]}},\"selected\":{\"id\":\"1714\",\"type\":\"Selection\"},\"selection_policy\":{\"id\":\"1713\",\"type\":\"UnionRenderers\"}},\"id\":\"1659\",\"type\":\"ColumnDataSource\"},{\"attributes\":{\"callback\":null,\"tooltips\":\"@campos: @value\"},\"id\":\"1654\",\"type\":\"HoverTool\"},{\"attributes\":{\"formatter\":{\"id\":\"1667\",\"type\":\"BasicTickFormatter\"},\"plot\":{\"id\":\"1634\",\"subtype\":\"Figure\",\"type\":\"Plot\"},\"ticker\":{\"id\":\"1645\",\"type\":\"BasicTicker\"}},\"id\":\"1644\",\"type\":\"LinearAxis\"},{\"attributes\":{\"field\":\"angle\"},\"id\":\"1658\",\"type\":\"CumSum\"},{\"attributes\":{\"end_angle\":{\"expr\":{\"id\":\"1658\",\"type\":\"CumSum\"},\"units\":\"rad\"},\"fill_alpha\":{\"value\":0.1},\"fill_color\":{\"value\":\"#1f77b4\"},\"line_alpha\":{\"value\":0.1},\"line_color\":{\"value\":\"#1f77b4\"},\"radius\":{\"units\":\"data\",\"value\":0.5},\"start_angle\":{\"expr\":{\"id\":\"1657\",\"type\":\"CumSum\"},\"units\":\"rad\"},\"x\":{\"value\":2},\"y\":{\"value\":1}},\"id\":\"1662\",\"type\":\"Wedge\"},{\"attributes\":{\"end_angle\":{\"expr\":{\"id\":\"1658\",\"type\":\"CumSum\"},\"units\":\"rad\"},\"fill_color\":{\"field\":\"color\"},\"line_color\":{\"value\":\"white\"},\"radius\":{\"units\":\"data\",\"value\":0.5},\"start_angle\":{\"expr\":{\"id\":\"1657\",\"type\":\"CumSum\"},\"units\":\"rad\"},\"x\":{\"value\":2},\"y\":{\"value\":1}},\"id\":\"1661\",\"type\":\"Wedge\"},{\"attributes\":{},\"id\":\"1667\",\"type\":\"BasicTickFormatter\"},{\"attributes\":{\"items\":[{\"id\":\"1671\",\"type\":\"LegendItem\"}],\"plot\":{\"id\":\"1634\",\"subtype\":\"Figure\",\"type\":\"Plot\"}},\"id\":\"1670\",\"type\":\"Legend\"},{\"attributes\":{\"data_source\":{\"id\":\"1659\",\"type\":\"ColumnDataSource\"},\"glyph\":{\"id\":\"1661\",\"type\":\"Wedge\"},\"hover_glyph\":null,\"muted_glyph\":null,\"nonselection_glyph\":{\"id\":\"1662\",\"type\":\"Wedge\"},\"selection_glyph\":null,\"view\":{\"id\":\"1664\",\"type\":\"CDSView\"}},\"id\":\"1663\",\"type\":\"GlyphRenderer\"},{\"attributes\":{\"source\":{\"id\":\"1659\",\"type\":\"ColumnDataSource\"}},\"id\":\"1664\",\"type\":\"CDSView\"},{\"attributes\":{\"active_drag\":\"auto\",\"active_inspect\":\"auto\",\"active_multi\":null,\"active_scroll\":\"auto\",\"active_tap\":\"auto\",\"tools\":[{\"id\":\"1654\",\"type\":\"HoverTool\"}]},\"id\":\"1655\",\"type\":\"Toolbar\"},{\"attributes\":{},\"id\":\"1669\",\"type\":\"BasicTickFormatter\"},{\"attributes\":{},\"id\":\"1650\",\"type\":\"BasicTicker\"},{\"attributes\":{\"field\":\"angle\",\"include_zero\":true},\"id\":\"1657\",\"type\":\"CumSum\"},{\"attributes\":{},\"id\":\"1645\",\"type\":\"BasicTicker\"},{\"attributes\":{\"label\":{\"field\":\"campos\"},\"renderers\":[{\"id\":\"1663\",\"type\":\"GlyphRenderer\"}]},\"id\":\"1671\",\"type\":\"LegendItem\"},{\"attributes\":{},\"id\":\"1713\",\"type\":\"UnionRenderers\"},{\"attributes\":{\"plot\":null,\"text\":\"INFORME DE PRESUPUESTO\"},\"id\":\"1633\",\"type\":\"Title\"},{\"attributes\":{},\"id\":\"1714\",\"type\":\"Selection\"},{\"attributes\":{\"formatter\":{\"id\":\"1669\",\"type\":\"BasicTickFormatter\"},\"plot\":{\"id\":\"1634\",\"subtype\":\"Figure\",\"type\":\"Plot\"},\"ticker\":{\"id\":\"1650\",\"type\":\"BasicTicker\"}},\"id\":\"1649\",\"type\":\"LinearAxis\"},{\"attributes\":{\"plot\":{\"id\":\"1634\",\"subtype\":\"Figure\",\"type\":\"Plot\"},\"ticker\":{\"id\":\"1645\",\"type\":\"BasicTicker\"}},\"id\":\"1648\",\"type\":\"Grid\"},{\"attributes\":{\"dimension\":1,\"plot\":{\"id\":\"1634\",\"subtype\":\"Figure\",\"type\":\"Plot\"},\"ticker\":{\"id\":\"1650\",\"type\":\"BasicTicker\"}},\"id\":\"1653\",\"type\":\"Grid\"},{\"attributes\":{},\"id\":\"1642\",\"type\":\"LinearScale\"},{\"attributes\":{\"callback\":null},\"id\":\"1638\",\"type\":\"DataRange1d\"}],\"root_ids\":[\"1634\"]},\"title\":\"Bokeh Application\",\"version\":\"1.0.3\"}};\n",
       "  var render_items = [{\"docid\":\"1c0e66f7-42b8-4894-9674-ad3e2f188d25\",\"roots\":{\"1634\":\"118739bb-f73f-49f2-af73-02010c23a8ec\"}}];\n",
       "  root.Bokeh.embed.embed_items_notebook(docs_json, render_items);\n",
       "\n",
       "  }\n",
       "  if (root.Bokeh !== undefined) {\n",
       "    embed_document(root);\n",
       "  } else {\n",
       "    var attempts = 0;\n",
       "    var timer = setInterval(function(root) {\n",
       "      if (root.Bokeh !== undefined) {\n",
       "        embed_document(root);\n",
       "        clearInterval(timer);\n",
       "      }\n",
       "      attempts++;\n",
       "      if (attempts > 100) {\n",
       "        console.log(\"Bokeh: ERROR: Unable to run BokehJS code because BokehJS library is missing\");\n",
       "        clearInterval(timer);\n",
       "      }\n",
       "    }, 10, root)\n",
       "  }\n",
       "})(window);"
      ],
      "application/vnd.bokehjs_exec.v0+json": ""
     },
     "metadata": {
      "application/vnd.bokehjs_exec.v0+json": {
       "id": "1634"
      }
     },
     "output_type": "display_data"
    }
   ],
   "source": [
    "campos=archivo['CAMPOS'].tolist()\n",
    "total=archivo['TOTAL'].tolist()\n",
    "total=[float(i)for i in total]\n",
    "x=dict(zip(campos,total))\n",
    "data = pd.Series(x).reset_index(name='value').rename(columns={'index':'campos'})\n",
    "data['angle'] = data['value']/data['value'].sum() * 2*pi\n",
    "data['color'] = viridis(len(x))\n",
    "\n",
    "p = figure(plot_height=600,plot_width=800, title=\"INFORME DE PRESUPUESTO\", toolbar_location=None,\n",
    "        tools=\"hover\", tooltips=\"@campos: @value\")\n",
    "\n",
    "p.wedge(x=2, y=1, radius=0.5,\n",
    "        start_angle=cumsum('angle', include_zero=True), end_angle=cumsum('angle'),\n",
    "        line_color=\"white\", fill_color='color', legend='campos', source=data)\n",
    "\n",
    "p.x_range.range_padding = 0.5\n",
    "p.legend.location = \"top_right\"\n",
    "p.legend.orientation = \"vertical\"\n",
    "show(p)"
   ]
  },
  {
   "cell_type": "code",
   "execution_count": 5,
   "metadata": {},
   "outputs": [
    {
     "data": {
      "text/html": [
       "\n",
       "\n",
       "\n",
       "\n",
       "\n",
       "\n",
       "  <div class=\"bk-root\" id=\"956bd2c9-4675-4d96-8d08-53ae91abe55f\" data-root-id=\"1758\"></div>\n"
      ]
     },
     "metadata": {},
     "output_type": "display_data"
    },
    {
     "data": {
      "application/javascript": [
       "(function(root) {\n",
       "  function embed_document(root) {\n",
       "    \n",
       "  var docs_json = {\"dda0c419-2e6e-40a1-af56-a0e1a60d2670\":{\"roots\":{\"references\":[{\"attributes\":{\"below\":[{\"id\":\"1768\",\"type\":\"CategoricalAxis\"}],\"left\":[{\"id\":\"1772\",\"type\":\"LinearAxis\"}],\"plot_height\":550,\"plot_width\":550,\"renderers\":[{\"id\":\"1768\",\"type\":\"CategoricalAxis\"},{\"id\":\"1771\",\"type\":\"Grid\"},{\"id\":\"1772\",\"type\":\"LinearAxis\"},{\"id\":\"1776\",\"type\":\"Grid\"},{\"id\":\"1781\",\"type\":\"GlyphRenderer\"},{\"id\":\"1786\",\"type\":\"GlyphRenderer\"}],\"title\":{\"id\":\"1757\",\"type\":\"Title\"},\"toolbar\":{\"id\":\"1777\",\"type\":\"Toolbar\"},\"toolbar_location\":null,\"x_range\":{\"id\":\"1760\",\"type\":\"FactorRange\"},\"x_scale\":{\"id\":\"1764\",\"type\":\"CategoricalScale\"},\"y_range\":{\"id\":\"1762\",\"type\":\"DataRange1d\"},\"y_scale\":{\"id\":\"1766\",\"type\":\"LinearScale\"}},\"id\":\"1758\",\"subtype\":\"Figure\",\"type\":\"Plot\"},{\"attributes\":{\"data_source\":{\"id\":\"1783\",\"type\":\"ColumnDataSource\"},\"glyph\":{\"id\":\"1784\",\"type\":\"Circle\"},\"hover_glyph\":null,\"muted_glyph\":null,\"nonselection_glyph\":{\"id\":\"1785\",\"type\":\"Circle\"},\"selection_glyph\":null,\"view\":{\"id\":\"1787\",\"type\":\"CDSView\"}},\"id\":\"1786\",\"type\":\"GlyphRenderer\"},{\"attributes\":{\"source\":{\"id\":\"1783\",\"type\":\"ColumnDataSource\"}},\"id\":\"1787\",\"type\":\"CDSView\"},{\"attributes\":{},\"id\":\"1764\",\"type\":\"CategoricalScale\"},{\"attributes\":{\"line_color\":\"slateblue\",\"line_width\":3,\"x\":{\"field\":\"x\"},\"y\":{\"field\":\"y\"}},\"id\":\"1779\",\"type\":\"Line\"},{\"attributes\":{},\"id\":\"1833\",\"type\":\"CategoricalTickFormatter\"},{\"attributes\":{},\"id\":\"1836\",\"type\":\"UnionRenderers\"},{\"attributes\":{},\"id\":\"1838\",\"type\":\"UnionRenderers\"},{\"attributes\":{\"callback\":null,\"factors\":[\"ALICE\",\"ALICE OESTE\",\"CHORONGO\",\"CHORONGO ESTE\",\"COLIBRI\",\"DANA\",\"DORINE\",\"DORINE G\",\"DORINE NORTE\",\"ESPERANZA\",\"FANNY-18B\",\"JOHANNA\",\"MAHOGANY\",\"MARIANN\",\"MARIANN NORTE\",\"MARIANN SUR\",\"MARIANN-4A\",\"ORQUIDEA\",\"SHIRLEY\",\"SONIA\",\"TARAPOA NOROESTE\"]},\"id\":\"1760\",\"type\":\"FactorRange\"},{\"attributes\":{},\"id\":\"1839\",\"type\":\"Selection\"},{\"attributes\":{\"formatter\":{\"id\":\"1833\",\"type\":\"CategoricalTickFormatter\"},\"major_label_orientation\":1,\"plot\":{\"id\":\"1758\",\"subtype\":\"Figure\",\"type\":\"Plot\"},\"ticker\":{\"id\":\"1769\",\"type\":\"CategoricalTicker\"}},\"id\":\"1768\",\"type\":\"CategoricalAxis\"},{\"attributes\":{},\"id\":\"1766\",\"type\":\"LinearScale\"},{\"attributes\":{\"callback\":null},\"id\":\"1762\",\"type\":\"DataRange1d\"},{\"attributes\":{},\"id\":\"1769\",\"type\":\"CategoricalTicker\"},{\"attributes\":{\"plot\":{\"id\":\"1758\",\"subtype\":\"Figure\",\"type\":\"Plot\"},\"ticker\":{\"id\":\"1769\",\"type\":\"CategoricalTicker\"}},\"id\":\"1771\",\"type\":\"Grid\"},{\"attributes\":{\"fill_color\":{\"value\":\"blue\"},\"line_color\":{\"value\":\"#1f77b4\"},\"size\":{\"units\":\"screen\",\"value\":8},\"x\":{\"field\":\"x\"},\"y\":{\"field\":\"y\"}},\"id\":\"1784\",\"type\":\"Circle\"},{\"attributes\":{\"plot\":null,\"text\":\"INFORME DE PRESUPUESTO\"},\"id\":\"1757\",\"type\":\"Title\"},{\"attributes\":{\"formatter\":{\"id\":\"1835\",\"type\":\"BasicTickFormatter\"},\"plot\":{\"id\":\"1758\",\"subtype\":\"Figure\",\"type\":\"Plot\"},\"ticker\":{\"id\":\"1773\",\"type\":\"BasicTicker\"}},\"id\":\"1772\",\"type\":\"LinearAxis\"},{\"attributes\":{},\"id\":\"1773\",\"type\":\"BasicTicker\"},{\"attributes\":{\"callback\":null,\"data\":{\"x\":[\"ALICE\",\"ALICE OESTE\",\"CHORONGO\",\"CHORONGO ESTE\",\"COLIBRI\",\"DANA\",\"DORINE\",\"DORINE G\",\"DORINE NORTE\",\"ESPERANZA\",\"FANNY-18B\",\"JOHANNA\",\"MAHOGANY\",\"MARIANN\",\"MARIANN NORTE\",\"MARIANN SUR\",\"MARIANN-4A\",\"ORQUIDEA\",\"SHIRLEY\",\"SONIA\",\"TARAPOA NOROESTE\"],\"y\":[1045.049,161.935,109.804,8.941,678.579,15.857000000000001,2148.175,26.738000000000003,90.45299999999999,336.644,5269.901999999999,71.188,82.27,1596.2060000000001,12.002,269.122,284.04,334.0,57.25,53.797,0.0]},\"selected\":{\"id\":\"1837\",\"type\":\"Selection\"},\"selection_policy\":{\"id\":\"1836\",\"type\":\"UnionRenderers\"}},\"id\":\"1778\",\"type\":\"ColumnDataSource\"},{\"attributes\":{\"dimension\":1,\"plot\":{\"id\":\"1758\",\"subtype\":\"Figure\",\"type\":\"Plot\"},\"ticker\":{\"id\":\"1773\",\"type\":\"BasicTicker\"}},\"id\":\"1776\",\"type\":\"Grid\"},{\"attributes\":{\"fill_alpha\":{\"value\":0.1},\"fill_color\":{\"value\":\"#1f77b4\"},\"line_alpha\":{\"value\":0.1},\"line_color\":{\"value\":\"#1f77b4\"},\"size\":{\"units\":\"screen\",\"value\":8},\"x\":{\"field\":\"x\"},\"y\":{\"field\":\"y\"}},\"id\":\"1785\",\"type\":\"Circle\"},{\"attributes\":{\"line_alpha\":0.1,\"line_color\":\"#1f77b4\",\"line_width\":3,\"x\":{\"field\":\"x\"},\"y\":{\"field\":\"y\"}},\"id\":\"1780\",\"type\":\"Line\"},{\"attributes\":{\"active_drag\":\"auto\",\"active_inspect\":\"auto\",\"active_multi\":null,\"active_scroll\":\"auto\",\"active_tap\":\"auto\"},\"id\":\"1777\",\"type\":\"Toolbar\"},{\"attributes\":{\"data_source\":{\"id\":\"1778\",\"type\":\"ColumnDataSource\"},\"glyph\":{\"id\":\"1779\",\"type\":\"Line\"},\"hover_glyph\":null,\"muted_glyph\":null,\"nonselection_glyph\":{\"id\":\"1780\",\"type\":\"Line\"},\"selection_glyph\":null,\"view\":{\"id\":\"1782\",\"type\":\"CDSView\"}},\"id\":\"1781\",\"type\":\"GlyphRenderer\"},{\"attributes\":{\"source\":{\"id\":\"1778\",\"type\":\"ColumnDataSource\"}},\"id\":\"1782\",\"type\":\"CDSView\"},{\"attributes\":{},\"id\":\"1837\",\"type\":\"Selection\"},{\"attributes\":{},\"id\":\"1835\",\"type\":\"BasicTickFormatter\"},{\"attributes\":{\"callback\":null,\"data\":{\"x\":[\"ALICE\",\"ALICE OESTE\",\"CHORONGO\",\"CHORONGO ESTE\",\"COLIBRI\",\"DANA\",\"DORINE\",\"DORINE G\",\"DORINE NORTE\",\"ESPERANZA\",\"FANNY-18B\",\"JOHANNA\",\"MAHOGANY\",\"MARIANN\",\"MARIANN NORTE\",\"MARIANN SUR\",\"MARIANN-4A\",\"ORQUIDEA\",\"SHIRLEY\",\"SONIA\",\"TARAPOA NOROESTE\"],\"y\":[1045.049,161.935,109.804,8.941,678.579,15.857000000000001,2148.175,26.738000000000003,90.45299999999999,336.644,5269.901999999999,71.188,82.27,1596.2060000000001,12.002,269.122,284.04,334.0,57.25,53.797,0.0]},\"selected\":{\"id\":\"1839\",\"type\":\"Selection\"},\"selection_policy\":{\"id\":\"1838\",\"type\":\"UnionRenderers\"}},\"id\":\"1783\",\"type\":\"ColumnDataSource\"}],\"root_ids\":[\"1758\"]},\"title\":\"Bokeh Application\",\"version\":\"1.0.3\"}};\n",
       "  var render_items = [{\"docid\":\"dda0c419-2e6e-40a1-af56-a0e1a60d2670\",\"roots\":{\"1758\":\"956bd2c9-4675-4d96-8d08-53ae91abe55f\"}}];\n",
       "  root.Bokeh.embed.embed_items_notebook(docs_json, render_items);\n",
       "\n",
       "  }\n",
       "  if (root.Bokeh !== undefined) {\n",
       "    embed_document(root);\n",
       "  } else {\n",
       "    var attempts = 0;\n",
       "    var timer = setInterval(function(root) {\n",
       "      if (root.Bokeh !== undefined) {\n",
       "        embed_document(root);\n",
       "        clearInterval(timer);\n",
       "      }\n",
       "      attempts++;\n",
       "      if (attempts > 100) {\n",
       "        console.log(\"Bokeh: ERROR: Unable to run BokehJS code because BokehJS library is missing\");\n",
       "        clearInterval(timer);\n",
       "      }\n",
       "    }, 10, root)\n",
       "  }\n",
       "})(window);"
      ],
      "application/vnd.bokehjs_exec.v0+json": ""
     },
     "metadata": {
      "application/vnd.bokehjs_exec.v0+json": {
       "id": "1758"
      }
     },
     "output_type": "display_data"
    }
   ],
   "source": [
    "campos=archivo[\"CAMPOS\"].tolist()\n",
    "total=archivo[\"TOTAL\"].tolist()\n",
    "p = figure(x_range=campos, plot_height=550,plot_width=550 ,title=\"INFORME DE PRESUPUESTO\", toolbar_location=None, tools=\"\")\n",
    "p.line(x=campos, y=total, line_width=3,line_color=\"slateblue\")\n",
    "p.circle(campos, total, fill_color=\"blue\", size=8)\n",
    "p.xaxis.major_label_orientation = 1\n",
    "show(p)"
   ]
  },
  {
   "cell_type": "code",
   "execution_count": 9,
   "metadata": {
    "scrolled": false
   },
   "outputs": [
    {
     "name": "stdout",
     "output_type": "stream",
     "text": [
      "    ENERO  FEBRERO   MARZO   ABRIL    MAYO   JUNIO   JULIO  AGOSTO  \\\n",
      "0  92.117   83.881  90.989  87.972  89.027  86.944  87.948  87.855   \n",
      "\n",
      "   SEPTIEMBRE  OCTUBRE  NOVIEMBRE  DICIEMBRE  \n",
      "0       83.57    86.29     84.005     84.451  \n"
     ]
    },
    {
     "data": {
      "text/html": [
       "\n",
       "\n",
       "\n",
       "\n",
       "\n",
       "\n",
       "  <div class=\"bk-root\" id=\"20077705-3176-4480-bfcf-45c3145a1a64\" data-root-id=\"65578\"></div>\n"
      ]
     },
     "metadata": {},
     "output_type": "display_data"
    },
    {
     "data": {
      "application/javascript": [
       "(function(root) {\n",
       "  function embed_document(root) {\n",
       "    \n",
       "  var docs_json = {\"7e59e335-99cc-4f44-b018-44c1a6e46c81\":{\"roots\":{\"references\":[{\"attributes\":{\"below\":[{\"id\":\"65588\",\"type\":\"CategoricalAxis\"}],\"left\":[{\"id\":\"65592\",\"type\":\"LinearAxis\"}],\"plot_height\":550,\"plot_width\":550,\"renderers\":[{\"id\":\"65588\",\"type\":\"CategoricalAxis\"},{\"id\":\"65591\",\"type\":\"Grid\"},{\"id\":\"65592\",\"type\":\"LinearAxis\"},{\"id\":\"65596\",\"type\":\"Grid\"},{\"id\":\"65601\",\"type\":\"GlyphRenderer\"}],\"title\":{\"id\":\"65577\",\"type\":\"Title\"},\"toolbar\":{\"id\":\"65597\",\"type\":\"Toolbar\"},\"toolbar_location\":null,\"x_range\":{\"id\":\"65580\",\"type\":\"FactorRange\"},\"x_scale\":{\"id\":\"65584\",\"type\":\"CategoricalScale\"},\"y_range\":{\"id\":\"65582\",\"type\":\"DataRange1d\"},\"y_scale\":{\"id\":\"65586\",\"type\":\"LinearScale\"}},\"id\":\"65578\",\"subtype\":\"Figure\",\"type\":\"Plot\"},{\"attributes\":{\"line_color\":\"#1f77b4\",\"line_width\":2,\"x\":{\"field\":\"x\"},\"y\":{\"field\":\"y\"}},\"id\":\"65599\",\"type\":\"Line\"},{\"attributes\":{},\"id\":\"66489\",\"type\":\"BasicTickFormatter\"},{\"attributes\":{\"plot\":{\"id\":\"65578\",\"subtype\":\"Figure\",\"type\":\"Plot\"},\"ticker\":{\"id\":\"65589\",\"type\":\"CategoricalTicker\"}},\"id\":\"65591\",\"type\":\"Grid\"},{\"attributes\":{\"callback\":null,\"data\":{\"x\":[\"ENERO\",\"FEBRERO\",\"MARZO\",\"ABRIL\",\"MAYO\",\"JUNIO\",\"JULIO\",\"AGOSTO\",\"SEPTIEMBRE\",\"OCTUBRE\",\"NOVIEMBRE\",\"DICIEMBRE\"],\"y\":{\"__ndarray__\":\"c2iR7XwHV0Cq8dJNYvhUQJ3vp8ZLv1ZAku18PzX+VUB9PzVeukFWQCPb+X5qvFVA6SYxCKz8VUAfhetRuPZVQBSuR+F65FRAw/UoXI+SVUC4HoXrUQBVQL+fGi/dHFVA\",\"dtype\":\"float64\",\"shape\":[12]}},\"selected\":{\"id\":\"66491\",\"type\":\"Selection\"},\"selection_policy\":{\"id\":\"66490\",\"type\":\"UnionRenderers\"}},\"id\":\"65598\",\"type\":\"ColumnDataSource\"},{\"attributes\":{},\"id\":\"66491\",\"type\":\"Selection\"},{\"attributes\":{\"formatter\":{\"id\":\"66487\",\"type\":\"CategoricalTickFormatter\"},\"major_label_orientation\":1,\"plot\":{\"id\":\"65578\",\"subtype\":\"Figure\",\"type\":\"Plot\"},\"ticker\":{\"id\":\"65589\",\"type\":\"CategoricalTicker\"}},\"id\":\"65588\",\"type\":\"CategoricalAxis\"},{\"attributes\":{},\"id\":\"65589\",\"type\":\"CategoricalTicker\"},{\"attributes\":{\"source\":{\"id\":\"65598\",\"type\":\"ColumnDataSource\"}},\"id\":\"65602\",\"type\":\"CDSView\"},{\"attributes\":{\"callback\":null},\"id\":\"65582\",\"type\":\"DataRange1d\"},{\"attributes\":{\"active_drag\":\"auto\",\"active_inspect\":\"auto\",\"active_multi\":null,\"active_scroll\":\"auto\",\"active_tap\":\"auto\"},\"id\":\"65597\",\"type\":\"Toolbar\"},{\"attributes\":{},\"id\":\"66490\",\"type\":\"UnionRenderers\"},{\"attributes\":{\"data_source\":{\"id\":\"65598\",\"type\":\"ColumnDataSource\"},\"glyph\":{\"id\":\"65599\",\"type\":\"Line\"},\"hover_glyph\":null,\"muted_glyph\":null,\"nonselection_glyph\":{\"id\":\"65600\",\"type\":\"Line\"},\"selection_glyph\":null,\"view\":{\"id\":\"65602\",\"type\":\"CDSView\"}},\"id\":\"65601\",\"type\":\"GlyphRenderer\"},{\"attributes\":{},\"id\":\"66487\",\"type\":\"CategoricalTickFormatter\"},{\"attributes\":{\"line_alpha\":0.1,\"line_color\":\"#1f77b4\",\"line_width\":2,\"x\":{\"field\":\"x\"},\"y\":{\"field\":\"y\"}},\"id\":\"65600\",\"type\":\"Line\"},{\"attributes\":{\"plot\":null,\"text\":\"ALICE\"},\"id\":\"65577\",\"type\":\"Title\"},{\"attributes\":{},\"id\":\"65584\",\"type\":\"CategoricalScale\"},{\"attributes\":{},\"id\":\"65586\",\"type\":\"LinearScale\"},{\"attributes\":{},\"id\":\"65593\",\"type\":\"BasicTicker\"},{\"attributes\":{\"dimension\":1,\"plot\":{\"id\":\"65578\",\"subtype\":\"Figure\",\"type\":\"Plot\"},\"ticker\":{\"id\":\"65593\",\"type\":\"BasicTicker\"}},\"id\":\"65596\",\"type\":\"Grid\"},{\"attributes\":{\"callback\":null,\"factors\":[\"ENERO\",\"FEBRERO\",\"MARZO\",\"ABRIL\",\"MAYO\",\"JUNIO\",\"JULIO\",\"AGOSTO\",\"SEPTIEMBRE\",\"OCTUBRE\",\"NOVIEMBRE\",\"DICIEMBRE\"]},\"id\":\"65580\",\"type\":\"FactorRange\"},{\"attributes\":{\"formatter\":{\"id\":\"66489\",\"type\":\"BasicTickFormatter\"},\"plot\":{\"id\":\"65578\",\"subtype\":\"Figure\",\"type\":\"Plot\"},\"ticker\":{\"id\":\"65593\",\"type\":\"BasicTicker\"}},\"id\":\"65592\",\"type\":\"LinearAxis\"}],\"root_ids\":[\"65578\"]},\"title\":\"Bokeh Application\",\"version\":\"1.0.3\"}};\n",
       "  var render_items = [{\"docid\":\"7e59e335-99cc-4f44-b018-44c1a6e46c81\",\"roots\":{\"65578\":\"20077705-3176-4480-bfcf-45c3145a1a64\"}}];\n",
       "  root.Bokeh.embed.embed_items_notebook(docs_json, render_items);\n",
       "\n",
       "  }\n",
       "  if (root.Bokeh !== undefined) {\n",
       "    embed_document(root);\n",
       "  } else {\n",
       "    var attempts = 0;\n",
       "    var timer = setInterval(function(root) {\n",
       "      if (root.Bokeh !== undefined) {\n",
       "        embed_document(root);\n",
       "        clearInterval(timer);\n",
       "      }\n",
       "      attempts++;\n",
       "      if (attempts > 100) {\n",
       "        console.log(\"Bokeh: ERROR: Unable to run BokehJS code because BokehJS library is missing\");\n",
       "        clearInterval(timer);\n",
       "      }\n",
       "    }, 10, root)\n",
       "  }\n",
       "})(window);"
      ],
      "application/vnd.bokehjs_exec.v0+json": ""
     },
     "metadata": {
      "application/vnd.bokehjs_exec.v0+json": {
       "id": "65578"
      }
     },
     "output_type": "display_data"
    },
    {
     "name": "stdout",
     "output_type": "stream",
     "text": [
      "   ENERO  FEBRERO  MARZO  ABRIL  MAYO  JUNIO  JULIO  AGOSTO  SEPTIEMBRE  \\\n",
      "1    0.0      0.0    0.0    0.0   0.0    0.0    0.0  14.728      31.124   \n",
      "\n",
      "   OCTUBRE  NOVIEMBRE  DICIEMBRE  \n",
      "1   32.642     32.684     50.758  \n"
     ]
    },
    {
     "data": {
      "text/html": [
       "\n",
       "\n",
       "\n",
       "\n",
       "\n",
       "\n",
       "  <div class=\"bk-root\" id=\"71bb7d8b-8f32-4804-9b29-2d6f507bfc49\" data-root-id=\"66535\"></div>\n"
      ]
     },
     "metadata": {},
     "output_type": "display_data"
    },
    {
     "data": {
      "application/javascript": [
       "(function(root) {\n",
       "  function embed_document(root) {\n",
       "    \n",
       "  var docs_json = {\"bdc8cf01-c155-4f2d-880d-4bc53ba23950\":{\"roots\":{\"references\":[{\"attributes\":{\"below\":[{\"id\":\"66545\",\"type\":\"CategoricalAxis\"}],\"left\":[{\"id\":\"66549\",\"type\":\"LinearAxis\"}],\"plot_height\":550,\"plot_width\":550,\"renderers\":[{\"id\":\"66545\",\"type\":\"CategoricalAxis\"},{\"id\":\"66548\",\"type\":\"Grid\"},{\"id\":\"66549\",\"type\":\"LinearAxis\"},{\"id\":\"66553\",\"type\":\"Grid\"},{\"id\":\"66558\",\"type\":\"GlyphRenderer\"}],\"title\":{\"id\":\"66534\",\"type\":\"Title\"},\"toolbar\":{\"id\":\"66554\",\"type\":\"Toolbar\"},\"toolbar_location\":null,\"x_range\":{\"id\":\"66537\",\"type\":\"FactorRange\"},\"x_scale\":{\"id\":\"66541\",\"type\":\"CategoricalScale\"},\"y_range\":{\"id\":\"66539\",\"type\":\"DataRange1d\"},\"y_scale\":{\"id\":\"66543\",\"type\":\"LinearScale\"}},\"id\":\"66535\",\"subtype\":\"Figure\",\"type\":\"Plot\"},{\"attributes\":{},\"id\":\"66541\",\"type\":\"CategoricalScale\"},{\"attributes\":{},\"id\":\"66543\",\"type\":\"LinearScale\"},{\"attributes\":{},\"id\":\"66550\",\"type\":\"BasicTicker\"},{\"attributes\":{\"dimension\":1,\"plot\":{\"id\":\"66535\",\"subtype\":\"Figure\",\"type\":\"Plot\"},\"ticker\":{\"id\":\"66550\",\"type\":\"BasicTicker\"}},\"id\":\"66553\",\"type\":\"Grid\"},{\"attributes\":{\"formatter\":{\"id\":\"67453\",\"type\":\"BasicTickFormatter\"},\"plot\":{\"id\":\"66535\",\"subtype\":\"Figure\",\"type\":\"Plot\"},\"ticker\":{\"id\":\"66550\",\"type\":\"BasicTicker\"}},\"id\":\"66549\",\"type\":\"LinearAxis\"},{\"attributes\":{\"plot\":{\"id\":\"66535\",\"subtype\":\"Figure\",\"type\":\"Plot\"},\"ticker\":{\"id\":\"66546\",\"type\":\"CategoricalTicker\"}},\"id\":\"66548\",\"type\":\"Grid\"},{\"attributes\":{},\"id\":\"66546\",\"type\":\"CategoricalTicker\"},{\"attributes\":{\"callback\":null,\"data\":{\"x\":[\"ENERO\",\"FEBRERO\",\"MARZO\",\"ABRIL\",\"MAYO\",\"JUNIO\",\"JULIO\",\"AGOSTO\",\"SEPTIEMBRE\",\"OCTUBRE\",\"NOVIEMBRE\",\"DICIEMBRE\"],\"y\":{\"__ndarray__\":\"AAAAAAAAAAAAAAAAAAAAAAAAAAAAAAAAAAAAAAAAAAAAAAAAAAAAAAAAAAAAAAAAAAAAAAAAAADb+X5qvHQtQDq0yHa+Hz9AGARWDi1SQEBkO99PjVdAQBsv3SQGYUlA\",\"dtype\":\"float64\",\"shape\":[12]}},\"selected\":{\"id\":\"67455\",\"type\":\"Selection\"},\"selection_policy\":{\"id\":\"67454\",\"type\":\"UnionRenderers\"}},\"id\":\"66555\",\"type\":\"ColumnDataSource\"},{\"attributes\":{\"line_alpha\":0.1,\"line_color\":\"#1f77b4\",\"line_width\":2,\"x\":{\"field\":\"x\"},\"y\":{\"field\":\"y\"}},\"id\":\"66557\",\"type\":\"Line\"},{\"attributes\":{},\"id\":\"67453\",\"type\":\"BasicTickFormatter\"},{\"attributes\":{\"active_drag\":\"auto\",\"active_inspect\":\"auto\",\"active_multi\":null,\"active_scroll\":\"auto\",\"active_tap\":\"auto\"},\"id\":\"66554\",\"type\":\"Toolbar\"},{\"attributes\":{},\"id\":\"67451\",\"type\":\"CategoricalTickFormatter\"},{\"attributes\":{},\"id\":\"67454\",\"type\":\"UnionRenderers\"},{\"attributes\":{\"data_source\":{\"id\":\"66555\",\"type\":\"ColumnDataSource\"},\"glyph\":{\"id\":\"66556\",\"type\":\"Line\"},\"hover_glyph\":null,\"muted_glyph\":null,\"nonselection_glyph\":{\"id\":\"66557\",\"type\":\"Line\"},\"selection_glyph\":null,\"view\":{\"id\":\"66559\",\"type\":\"CDSView\"}},\"id\":\"66558\",\"type\":\"GlyphRenderer\"},{\"attributes\":{\"line_color\":\"#1f77b4\",\"line_width\":2,\"x\":{\"field\":\"x\"},\"y\":{\"field\":\"y\"}},\"id\":\"66556\",\"type\":\"Line\"},{\"attributes\":{\"formatter\":{\"id\":\"67451\",\"type\":\"CategoricalTickFormatter\"},\"major_label_orientation\":1,\"plot\":{\"id\":\"66535\",\"subtype\":\"Figure\",\"type\":\"Plot\"},\"ticker\":{\"id\":\"66546\",\"type\":\"CategoricalTicker\"}},\"id\":\"66545\",\"type\":\"CategoricalAxis\"},{\"attributes\":{\"callback\":null},\"id\":\"66539\",\"type\":\"DataRange1d\"},{\"attributes\":{},\"id\":\"67455\",\"type\":\"Selection\"},{\"attributes\":{\"source\":{\"id\":\"66555\",\"type\":\"ColumnDataSource\"}},\"id\":\"66559\",\"type\":\"CDSView\"},{\"attributes\":{\"plot\":null,\"text\":\"ALICE OESTE\"},\"id\":\"66534\",\"type\":\"Title\"},{\"attributes\":{\"callback\":null,\"factors\":[\"ENERO\",\"FEBRERO\",\"MARZO\",\"ABRIL\",\"MAYO\",\"JUNIO\",\"JULIO\",\"AGOSTO\",\"SEPTIEMBRE\",\"OCTUBRE\",\"NOVIEMBRE\",\"DICIEMBRE\"]},\"id\":\"66537\",\"type\":\"FactorRange\"}],\"root_ids\":[\"66535\"]},\"title\":\"Bokeh Application\",\"version\":\"1.0.3\"}};\n",
       "  var render_items = [{\"docid\":\"bdc8cf01-c155-4f2d-880d-4bc53ba23950\",\"roots\":{\"66535\":\"71bb7d8b-8f32-4804-9b29-2d6f507bfc49\"}}];\n",
       "  root.Bokeh.embed.embed_items_notebook(docs_json, render_items);\n",
       "\n",
       "  }\n",
       "  if (root.Bokeh !== undefined) {\n",
       "    embed_document(root);\n",
       "  } else {\n",
       "    var attempts = 0;\n",
       "    var timer = setInterval(function(root) {\n",
       "      if (root.Bokeh !== undefined) {\n",
       "        embed_document(root);\n",
       "        clearInterval(timer);\n",
       "      }\n",
       "      attempts++;\n",
       "      if (attempts > 100) {\n",
       "        console.log(\"Bokeh: ERROR: Unable to run BokehJS code because BokehJS library is missing\");\n",
       "        clearInterval(timer);\n",
       "      }\n",
       "    }, 10, root)\n",
       "  }\n",
       "})(window);"
      ],
      "application/vnd.bokehjs_exec.v0+json": ""
     },
     "metadata": {
      "application/vnd.bokehjs_exec.v0+json": {
       "id": "66535"
      }
     },
     "output_type": "display_data"
    },
    {
     "name": "stdout",
     "output_type": "stream",
     "text": [
      "   ENERO  FEBRERO  MARZO  ABRIL  MAYO  JUNIO  JULIO  AGOSTO  SEPTIEMBRE  \\\n",
      "2  6.642    8.212  7.732  7.457  5.73  9.381  9.736  10.253      10.426   \n",
      "\n",
      "   OCTUBRE  NOVIEMBRE  DICIEMBRE  \n",
      "2   10.821     11.337     12.077  \n"
     ]
    },
    {
     "data": {
      "text/html": [
       "\n",
       "\n",
       "\n",
       "\n",
       "\n",
       "\n",
       "  <div class=\"bk-root\" id=\"d6203564-05ac-4a9b-9c7f-1d70930aa865\" data-root-id=\"67499\"></div>\n"
      ]
     },
     "metadata": {},
     "output_type": "display_data"
    },
    {
     "data": {
      "application/javascript": [
       "(function(root) {\n",
       "  function embed_document(root) {\n",
       "    \n",
       "  var docs_json = {\"160b41c7-f1c8-41d2-8dc8-efebf2f2d93a\":{\"roots\":{\"references\":[{\"attributes\":{\"below\":[{\"id\":\"67509\",\"type\":\"CategoricalAxis\"}],\"left\":[{\"id\":\"67513\",\"type\":\"LinearAxis\"}],\"plot_height\":550,\"plot_width\":550,\"renderers\":[{\"id\":\"67509\",\"type\":\"CategoricalAxis\"},{\"id\":\"67512\",\"type\":\"Grid\"},{\"id\":\"67513\",\"type\":\"LinearAxis\"},{\"id\":\"67517\",\"type\":\"Grid\"},{\"id\":\"67522\",\"type\":\"GlyphRenderer\"}],\"title\":{\"id\":\"67498\",\"type\":\"Title\"},\"toolbar\":{\"id\":\"67518\",\"type\":\"Toolbar\"},\"toolbar_location\":null,\"x_range\":{\"id\":\"67501\",\"type\":\"FactorRange\"},\"x_scale\":{\"id\":\"67505\",\"type\":\"CategoricalScale\"},\"y_range\":{\"id\":\"67503\",\"type\":\"DataRange1d\"},\"y_scale\":{\"id\":\"67507\",\"type\":\"LinearScale\"}},\"id\":\"67499\",\"subtype\":\"Figure\",\"type\":\"Plot\"},{\"attributes\":{\"active_drag\":\"auto\",\"active_inspect\":\"auto\",\"active_multi\":null,\"active_scroll\":\"auto\",\"active_tap\":\"auto\"},\"id\":\"67518\",\"type\":\"Toolbar\"},{\"attributes\":{},\"id\":\"68424\",\"type\":\"BasicTickFormatter\"},{\"attributes\":{\"data_source\":{\"id\":\"67519\",\"type\":\"ColumnDataSource\"},\"glyph\":{\"id\":\"67520\",\"type\":\"Line\"},\"hover_glyph\":null,\"muted_glyph\":null,\"nonselection_glyph\":{\"id\":\"67521\",\"type\":\"Line\"},\"selection_glyph\":null,\"view\":{\"id\":\"67523\",\"type\":\"CDSView\"}},\"id\":\"67522\",\"type\":\"GlyphRenderer\"},{\"attributes\":{\"line_alpha\":0.1,\"line_color\":\"#1f77b4\",\"line_width\":2,\"x\":{\"field\":\"x\"},\"y\":{\"field\":\"y\"}},\"id\":\"67521\",\"type\":\"Line\"},{\"attributes\":{\"dimension\":1,\"plot\":{\"id\":\"67499\",\"subtype\":\"Figure\",\"type\":\"Plot\"},\"ticker\":{\"id\":\"67514\",\"type\":\"BasicTicker\"}},\"id\":\"67517\",\"type\":\"Grid\"},{\"attributes\":{},\"id\":\"68425\",\"type\":\"UnionRenderers\"},{\"attributes\":{\"callback\":null},\"id\":\"67503\",\"type\":\"DataRange1d\"},{\"attributes\":{},\"id\":\"68422\",\"type\":\"CategoricalTickFormatter\"},{\"attributes\":{\"callback\":null,\"data\":{\"x\":[\"ENERO\",\"FEBRERO\",\"MARZO\",\"ABRIL\",\"MAYO\",\"JUNIO\",\"JULIO\",\"AGOSTO\",\"SEPTIEMBRE\",\"OCTUBRE\",\"NOVIEMBRE\",\"DICIEMBRE\"],\"y\":{\"__ndarray__\":\"xSCwcmiRGkAGgZVDi2wgQCGwcmiR7R5AiBbZzvfTHUDsUbgehesWQFCNl24SwyJARrbz/dR4I0Coxks3iYEkQCYxCKwc2iRAMQisHFqkJUAGgZVDi6wmQIGVQ4tsJyhA\",\"dtype\":\"float64\",\"shape\":[12]}},\"selected\":{\"id\":\"68426\",\"type\":\"Selection\"},\"selection_policy\":{\"id\":\"68425\",\"type\":\"UnionRenderers\"}},\"id\":\"67519\",\"type\":\"ColumnDataSource\"},{\"attributes\":{},\"id\":\"68426\",\"type\":\"Selection\"},{\"attributes\":{},\"id\":\"67507\",\"type\":\"LinearScale\"},{\"attributes\":{\"source\":{\"id\":\"67519\",\"type\":\"ColumnDataSource\"}},\"id\":\"67523\",\"type\":\"CDSView\"},{\"attributes\":{\"formatter\":{\"id\":\"68424\",\"type\":\"BasicTickFormatter\"},\"plot\":{\"id\":\"67499\",\"subtype\":\"Figure\",\"type\":\"Plot\"},\"ticker\":{\"id\":\"67514\",\"type\":\"BasicTicker\"}},\"id\":\"67513\",\"type\":\"LinearAxis\"},{\"attributes\":{},\"id\":\"67514\",\"type\":\"BasicTicker\"},{\"attributes\":{\"line_color\":\"#1f77b4\",\"line_width\":2,\"x\":{\"field\":\"x\"},\"y\":{\"field\":\"y\"}},\"id\":\"67520\",\"type\":\"Line\"},{\"attributes\":{},\"id\":\"67510\",\"type\":\"CategoricalTicker\"},{\"attributes\":{\"plot\":null,\"text\":\"CHORONGO\"},\"id\":\"67498\",\"type\":\"Title\"},{\"attributes\":{\"formatter\":{\"id\":\"68422\",\"type\":\"CategoricalTickFormatter\"},\"major_label_orientation\":1,\"plot\":{\"id\":\"67499\",\"subtype\":\"Figure\",\"type\":\"Plot\"},\"ticker\":{\"id\":\"67510\",\"type\":\"CategoricalTicker\"}},\"id\":\"67509\",\"type\":\"CategoricalAxis\"},{\"attributes\":{},\"id\":\"67505\",\"type\":\"CategoricalScale\"},{\"attributes\":{\"plot\":{\"id\":\"67499\",\"subtype\":\"Figure\",\"type\":\"Plot\"},\"ticker\":{\"id\":\"67510\",\"type\":\"CategoricalTicker\"}},\"id\":\"67512\",\"type\":\"Grid\"},{\"attributes\":{\"callback\":null,\"factors\":[\"ENERO\",\"FEBRERO\",\"MARZO\",\"ABRIL\",\"MAYO\",\"JUNIO\",\"JULIO\",\"AGOSTO\",\"SEPTIEMBRE\",\"OCTUBRE\",\"NOVIEMBRE\",\"DICIEMBRE\"]},\"id\":\"67501\",\"type\":\"FactorRange\"}],\"root_ids\":[\"67499\"]},\"title\":\"Bokeh Application\",\"version\":\"1.0.3\"}};\n",
       "  var render_items = [{\"docid\":\"160b41c7-f1c8-41d2-8dc8-efebf2f2d93a\",\"roots\":{\"67499\":\"d6203564-05ac-4a9b-9c7f-1d70930aa865\"}}];\n",
       "  root.Bokeh.embed.embed_items_notebook(docs_json, render_items);\n",
       "\n",
       "  }\n",
       "  if (root.Bokeh !== undefined) {\n",
       "    embed_document(root);\n",
       "  } else {\n",
       "    var attempts = 0;\n",
       "    var timer = setInterval(function(root) {\n",
       "      if (root.Bokeh !== undefined) {\n",
       "        embed_document(root);\n",
       "        clearInterval(timer);\n",
       "      }\n",
       "      attempts++;\n",
       "      if (attempts > 100) {\n",
       "        console.log(\"Bokeh: ERROR: Unable to run BokehJS code because BokehJS library is missing\");\n",
       "        clearInterval(timer);\n",
       "      }\n",
       "    }, 10, root)\n",
       "  }\n",
       "})(window);"
      ],
      "application/vnd.bokehjs_exec.v0+json": ""
     },
     "metadata": {
      "application/vnd.bokehjs_exec.v0+json": {
       "id": "67499"
      }
     },
     "output_type": "display_data"
    },
    {
     "name": "stdout",
     "output_type": "stream",
     "text": [
      "   ENERO  FEBRERO  MARZO  ABRIL  MAYO  JUNIO  JULIO  AGOSTO  SEPTIEMBRE  \\\n",
      "3  3.365    2.618   2.21  748.0   0.0    0.0    0.0     0.0         0.0   \n",
      "\n",
      "   OCTUBRE  NOVIEMBRE  DICIEMBRE  \n",
      "3      0.0        0.0        0.0  \n"
     ]
    },
    {
     "data": {
      "text/html": [
       "\n",
       "\n",
       "\n",
       "\n",
       "\n",
       "\n",
       "  <div class=\"bk-root\" id=\"788fcef5-82e3-4b95-99bb-bb6a2f4c6d8f\" data-root-id=\"68470\"></div>\n"
      ]
     },
     "metadata": {},
     "output_type": "display_data"
    },
    {
     "data": {
      "application/javascript": [
       "(function(root) {\n",
       "  function embed_document(root) {\n",
       "    \n",
       "  var docs_json = {\"c825c8d2-505d-4385-ae4b-b46dc28dffc2\":{\"roots\":{\"references\":[{\"attributes\":{\"below\":[{\"id\":\"68480\",\"type\":\"CategoricalAxis\"}],\"left\":[{\"id\":\"68484\",\"type\":\"LinearAxis\"}],\"plot_height\":550,\"plot_width\":550,\"renderers\":[{\"id\":\"68480\",\"type\":\"CategoricalAxis\"},{\"id\":\"68483\",\"type\":\"Grid\"},{\"id\":\"68484\",\"type\":\"LinearAxis\"},{\"id\":\"68488\",\"type\":\"Grid\"},{\"id\":\"68493\",\"type\":\"GlyphRenderer\"}],\"title\":{\"id\":\"68469\",\"type\":\"Title\"},\"toolbar\":{\"id\":\"68489\",\"type\":\"Toolbar\"},\"toolbar_location\":null,\"x_range\":{\"id\":\"68472\",\"type\":\"FactorRange\"},\"x_scale\":{\"id\":\"68476\",\"type\":\"CategoricalScale\"},\"y_range\":{\"id\":\"68474\",\"type\":\"DataRange1d\"},\"y_scale\":{\"id\":\"68478\",\"type\":\"LinearScale\"}},\"id\":\"68470\",\"subtype\":\"Figure\",\"type\":\"Plot\"},{\"attributes\":{},\"id\":\"69400\",\"type\":\"CategoricalTickFormatter\"},{\"attributes\":{},\"id\":\"69404\",\"type\":\"Selection\"},{\"attributes\":{\"formatter\":{\"id\":\"69402\",\"type\":\"BasicTickFormatter\"},\"plot\":{\"id\":\"68470\",\"subtype\":\"Figure\",\"type\":\"Plot\"},\"ticker\":{\"id\":\"68485\",\"type\":\"BasicTicker\"}},\"id\":\"68484\",\"type\":\"LinearAxis\"},{\"attributes\":{},\"id\":\"69402\",\"type\":\"BasicTickFormatter\"},{\"attributes\":{\"data_source\":{\"id\":\"68490\",\"type\":\"ColumnDataSource\"},\"glyph\":{\"id\":\"68491\",\"type\":\"Line\"},\"hover_glyph\":null,\"muted_glyph\":null,\"nonselection_glyph\":{\"id\":\"68492\",\"type\":\"Line\"},\"selection_glyph\":null,\"view\":{\"id\":\"68494\",\"type\":\"CDSView\"}},\"id\":\"68493\",\"type\":\"GlyphRenderer\"},{\"attributes\":{\"plot\":null,\"text\":\"CHORONGO ESTE\"},\"id\":\"68469\",\"type\":\"Title\"},{\"attributes\":{\"active_drag\":\"auto\",\"active_inspect\":\"auto\",\"active_multi\":null,\"active_scroll\":\"auto\",\"active_tap\":\"auto\"},\"id\":\"68489\",\"type\":\"Toolbar\"},{\"attributes\":{\"source\":{\"id\":\"68490\",\"type\":\"ColumnDataSource\"}},\"id\":\"68494\",\"type\":\"CDSView\"},{\"attributes\":{},\"id\":\"68478\",\"type\":\"LinearScale\"},{\"attributes\":{\"callback\":null},\"id\":\"68474\",\"type\":\"DataRange1d\"},{\"attributes\":{\"callback\":null,\"factors\":[\"ENERO\",\"FEBRERO\",\"MARZO\",\"ABRIL\",\"MAYO\",\"JUNIO\",\"JULIO\",\"AGOSTO\",\"SEPTIEMBRE\",\"OCTUBRE\",\"NOVIEMBRE\",\"DICIEMBRE\"]},\"id\":\"68472\",\"type\":\"FactorRange\"},{\"attributes\":{\"line_alpha\":0.1,\"line_color\":\"#1f77b4\",\"line_width\":2,\"x\":{\"field\":\"x\"},\"y\":{\"field\":\"y\"}},\"id\":\"68492\",\"type\":\"Line\"},{\"attributes\":{\"callback\":null,\"data\":{\"x\":[\"ENERO\",\"FEBRERO\",\"MARZO\",\"ABRIL\",\"MAYO\",\"JUNIO\",\"JULIO\",\"AGOSTO\",\"SEPTIEMBRE\",\"OCTUBRE\",\"NOVIEMBRE\",\"DICIEMBRE\"],\"y\":{\"__ndarray__\":\"7FG4HoXrCkCMbOf7qfEEQK5H4XoUrgFAAAAAAABgh0AAAAAAAAAAAAAAAAAAAAAAAAAAAAAAAAAAAAAAAAAAAAAAAAAAAAAAAAAAAAAAAAAAAAAAAAAAAAAAAAAAAAAA\",\"dtype\":\"float64\",\"shape\":[12]}},\"selected\":{\"id\":\"69404\",\"type\":\"Selection\"},\"selection_policy\":{\"id\":\"69403\",\"type\":\"UnionRenderers\"}},\"id\":\"68490\",\"type\":\"ColumnDataSource\"},{\"attributes\":{},\"id\":\"68476\",\"type\":\"CategoricalScale\"},{\"attributes\":{},\"id\":\"69403\",\"type\":\"UnionRenderers\"},{\"attributes\":{\"line_color\":\"#1f77b4\",\"line_width\":2,\"x\":{\"field\":\"x\"},\"y\":{\"field\":\"y\"}},\"id\":\"68491\",\"type\":\"Line\"},{\"attributes\":{\"dimension\":1,\"plot\":{\"id\":\"68470\",\"subtype\":\"Figure\",\"type\":\"Plot\"},\"ticker\":{\"id\":\"68485\",\"type\":\"BasicTicker\"}},\"id\":\"68488\",\"type\":\"Grid\"},{\"attributes\":{},\"id\":\"68481\",\"type\":\"CategoricalTicker\"},{\"attributes\":{\"formatter\":{\"id\":\"69400\",\"type\":\"CategoricalTickFormatter\"},\"major_label_orientation\":1,\"plot\":{\"id\":\"68470\",\"subtype\":\"Figure\",\"type\":\"Plot\"},\"ticker\":{\"id\":\"68481\",\"type\":\"CategoricalTicker\"}},\"id\":\"68480\",\"type\":\"CategoricalAxis\"},{\"attributes\":{\"plot\":{\"id\":\"68470\",\"subtype\":\"Figure\",\"type\":\"Plot\"},\"ticker\":{\"id\":\"68481\",\"type\":\"CategoricalTicker\"}},\"id\":\"68483\",\"type\":\"Grid\"},{\"attributes\":{},\"id\":\"68485\",\"type\":\"BasicTicker\"}],\"root_ids\":[\"68470\"]},\"title\":\"Bokeh Application\",\"version\":\"1.0.3\"}};\n",
       "  var render_items = [{\"docid\":\"c825c8d2-505d-4385-ae4b-b46dc28dffc2\",\"roots\":{\"68470\":\"788fcef5-82e3-4b95-99bb-bb6a2f4c6d8f\"}}];\n",
       "  root.Bokeh.embed.embed_items_notebook(docs_json, render_items);\n",
       "\n",
       "  }\n",
       "  if (root.Bokeh !== undefined) {\n",
       "    embed_document(root);\n",
       "  } else {\n",
       "    var attempts = 0;\n",
       "    var timer = setInterval(function(root) {\n",
       "      if (root.Bokeh !== undefined) {\n",
       "        embed_document(root);\n",
       "        clearInterval(timer);\n",
       "      }\n",
       "      attempts++;\n",
       "      if (attempts > 100) {\n",
       "        console.log(\"Bokeh: ERROR: Unable to run BokehJS code because BokehJS library is missing\");\n",
       "        clearInterval(timer);\n",
       "      }\n",
       "    }, 10, root)\n",
       "  }\n",
       "})(window);"
      ],
      "application/vnd.bokehjs_exec.v0+json": ""
     },
     "metadata": {
      "application/vnd.bokehjs_exec.v0+json": {
       "id": "68470"
      }
     },
     "output_type": "display_data"
    },
    {
     "name": "stdout",
     "output_type": "stream",
     "text": [
      "    ENERO  FEBRERO   MARZO   ABRIL  MAYO   JUNIO   JULIO  AGOSTO  SEPTIEMBRE  \\\n",
      "4  62.696   57.146  57.413  44.915  56.4  72.657  70.449  68.634      49.231   \n",
      "\n",
      "   OCTUBRE  NOVIEMBRE  DICIEMBRE  \n",
      "4   49.733     45.634      43.67  \n"
     ]
    },
    {
     "data": {
      "text/html": [
       "\n",
       "\n",
       "\n",
       "\n",
       "\n",
       "\n",
       "  <div class=\"bk-root\" id=\"310ef171-15e7-481e-a98b-c87bb376a2f8\" data-root-id=\"69448\"></div>\n"
      ]
     },
     "metadata": {},
     "output_type": "display_data"
    },
    {
     "data": {
      "application/javascript": [
       "(function(root) {\n",
       "  function embed_document(root) {\n",
       "    \n",
       "  var docs_json = {\"c5739c6a-874f-42a3-9cda-d5a5d9ab3368\":{\"roots\":{\"references\":[{\"attributes\":{\"below\":[{\"id\":\"69458\",\"type\":\"CategoricalAxis\"}],\"left\":[{\"id\":\"69462\",\"type\":\"LinearAxis\"}],\"plot_height\":550,\"plot_width\":550,\"renderers\":[{\"id\":\"69458\",\"type\":\"CategoricalAxis\"},{\"id\":\"69461\",\"type\":\"Grid\"},{\"id\":\"69462\",\"type\":\"LinearAxis\"},{\"id\":\"69466\",\"type\":\"Grid\"},{\"id\":\"69471\",\"type\":\"GlyphRenderer\"}],\"title\":{\"id\":\"69447\",\"type\":\"Title\"},\"toolbar\":{\"id\":\"69467\",\"type\":\"Toolbar\"},\"toolbar_location\":null,\"x_range\":{\"id\":\"69450\",\"type\":\"FactorRange\"},\"x_scale\":{\"id\":\"69454\",\"type\":\"CategoricalScale\"},\"y_range\":{\"id\":\"69452\",\"type\":\"DataRange1d\"},\"y_scale\":{\"id\":\"69456\",\"type\":\"LinearScale\"}},\"id\":\"69448\",\"subtype\":\"Figure\",\"type\":\"Plot\"},{\"attributes\":{},\"id\":\"69454\",\"type\":\"CategoricalScale\"},{\"attributes\":{\"callback\":null,\"data\":{\"x\":[\"ENERO\",\"FEBRERO\",\"MARZO\",\"ABRIL\",\"MAYO\",\"JUNIO\",\"JULIO\",\"AGOSTO\",\"SEPTIEMBRE\",\"OCTUBRE\",\"NOVIEMBRE\",\"DICIEMBRE\"],\"y\":{\"__ndarray__\":\"DQIrhxZZT0Cmm8QgsJJMQL+fGi/dtExAhetRuB51RkAzMzMzMzNMQDVeukkMKlJA2/l+arycUUB/arx0kyhRQCGwcmiRnUhA6Pup8dLdSED91HjpJtFGQPYoXI/C1UVA\",\"dtype\":\"float64\",\"shape\":[12]}},\"selected\":{\"id\":\"70389\",\"type\":\"Selection\"},\"selection_policy\":{\"id\":\"70388\",\"type\":\"UnionRenderers\"}},\"id\":\"69468\",\"type\":\"ColumnDataSource\"},{\"attributes\":{\"formatter\":{\"id\":\"70387\",\"type\":\"BasicTickFormatter\"},\"plot\":{\"id\":\"69448\",\"subtype\":\"Figure\",\"type\":\"Plot\"},\"ticker\":{\"id\":\"69463\",\"type\":\"BasicTicker\"}},\"id\":\"69462\",\"type\":\"LinearAxis\"},{\"attributes\":{\"line_color\":\"#1f77b4\",\"line_width\":2,\"x\":{\"field\":\"x\"},\"y\":{\"field\":\"y\"}},\"id\":\"69469\",\"type\":\"Line\"},{\"attributes\":{\"source\":{\"id\":\"69468\",\"type\":\"ColumnDataSource\"}},\"id\":\"69472\",\"type\":\"CDSView\"},{\"attributes\":{},\"id\":\"69459\",\"type\":\"CategoricalTicker\"},{\"attributes\":{\"plot\":null,\"text\":\"COLIBRI\"},\"id\":\"69447\",\"type\":\"Title\"},{\"attributes\":{\"plot\":{\"id\":\"69448\",\"subtype\":\"Figure\",\"type\":\"Plot\"},\"ticker\":{\"id\":\"69459\",\"type\":\"CategoricalTicker\"}},\"id\":\"69461\",\"type\":\"Grid\"},{\"attributes\":{\"formatter\":{\"id\":\"70385\",\"type\":\"CategoricalTickFormatter\"},\"major_label_orientation\":1,\"plot\":{\"id\":\"69448\",\"subtype\":\"Figure\",\"type\":\"Plot\"},\"ticker\":{\"id\":\"69459\",\"type\":\"CategoricalTicker\"}},\"id\":\"69458\",\"type\":\"CategoricalAxis\"},{\"attributes\":{},\"id\":\"70389\",\"type\":\"Selection\"},{\"attributes\":{\"callback\":null,\"factors\":[\"ENERO\",\"FEBRERO\",\"MARZO\",\"ABRIL\",\"MAYO\",\"JUNIO\",\"JULIO\",\"AGOSTO\",\"SEPTIEMBRE\",\"OCTUBRE\",\"NOVIEMBRE\",\"DICIEMBRE\"]},\"id\":\"69450\",\"type\":\"FactorRange\"},{\"attributes\":{\"active_drag\":\"auto\",\"active_inspect\":\"auto\",\"active_multi\":null,\"active_scroll\":\"auto\",\"active_tap\":\"auto\"},\"id\":\"69467\",\"type\":\"Toolbar\"},{\"attributes\":{\"dimension\":1,\"plot\":{\"id\":\"69448\",\"subtype\":\"Figure\",\"type\":\"Plot\"},\"ticker\":{\"id\":\"69463\",\"type\":\"BasicTicker\"}},\"id\":\"69466\",\"type\":\"Grid\"},{\"attributes\":{},\"id\":\"69463\",\"type\":\"BasicTicker\"},{\"attributes\":{\"callback\":null},\"id\":\"69452\",\"type\":\"DataRange1d\"},{\"attributes\":{},\"id\":\"69456\",\"type\":\"LinearScale\"},{\"attributes\":{\"line_alpha\":0.1,\"line_color\":\"#1f77b4\",\"line_width\":2,\"x\":{\"field\":\"x\"},\"y\":{\"field\":\"y\"}},\"id\":\"69470\",\"type\":\"Line\"},{\"attributes\":{},\"id\":\"70387\",\"type\":\"BasicTickFormatter\"},{\"attributes\":{},\"id\":\"70385\",\"type\":\"CategoricalTickFormatter\"},{\"attributes\":{\"data_source\":{\"id\":\"69468\",\"type\":\"ColumnDataSource\"},\"glyph\":{\"id\":\"69469\",\"type\":\"Line\"},\"hover_glyph\":null,\"muted_glyph\":null,\"nonselection_glyph\":{\"id\":\"69470\",\"type\":\"Line\"},\"selection_glyph\":null,\"view\":{\"id\":\"69472\",\"type\":\"CDSView\"}},\"id\":\"69471\",\"type\":\"GlyphRenderer\"},{\"attributes\":{},\"id\":\"70388\",\"type\":\"UnionRenderers\"}],\"root_ids\":[\"69448\"]},\"title\":\"Bokeh Application\",\"version\":\"1.0.3\"}};\n",
       "  var render_items = [{\"docid\":\"c5739c6a-874f-42a3-9cda-d5a5d9ab3368\",\"roots\":{\"69448\":\"310ef171-15e7-481e-a98b-c87bb376a2f8\"}}];\n",
       "  root.Bokeh.embed.embed_items_notebook(docs_json, render_items);\n",
       "\n",
       "  }\n",
       "  if (root.Bokeh !== undefined) {\n",
       "    embed_document(root);\n",
       "  } else {\n",
       "    var attempts = 0;\n",
       "    var timer = setInterval(function(root) {\n",
       "      if (root.Bokeh !== undefined) {\n",
       "        embed_document(root);\n",
       "        clearInterval(timer);\n",
       "      }\n",
       "      attempts++;\n",
       "      if (attempts > 100) {\n",
       "        console.log(\"Bokeh: ERROR: Unable to run BokehJS code because BokehJS library is missing\");\n",
       "        clearInterval(timer);\n",
       "      }\n",
       "    }, 10, root)\n",
       "  }\n",
       "})(window);"
      ],
      "application/vnd.bokehjs_exec.v0+json": ""
     },
     "metadata": {
      "application/vnd.bokehjs_exec.v0+json": {
       "id": "69448"
      }
     },
     "output_type": "display_data"
    },
    {
     "name": "stdout",
     "output_type": "stream",
     "text": [
      "   ENERO  FEBRERO  MARZO  ABRIL  MAYO  JUNIO  JULIO  AGOSTO  SEPTIEMBRE  \\\n",
      "5  7.093    4.505   2.81  1.316   0.0    0.0    0.0     0.0         0.0   \n",
      "\n",
      "   OCTUBRE  NOVIEMBRE  DICIEMBRE  \n",
      "5     96.0       37.0        0.0  \n"
     ]
    },
    {
     "data": {
      "text/html": [
       "\n",
       "\n",
       "\n",
       "\n",
       "\n",
       "\n",
       "  <div class=\"bk-root\" id=\"3eaa2324-0b87-42c5-823f-2a977ac7ca0f\" data-root-id=\"70433\"></div>\n"
      ]
     },
     "metadata": {},
     "output_type": "display_data"
    },
    {
     "data": {
      "application/javascript": [
       "(function(root) {\n",
       "  function embed_document(root) {\n",
       "    \n",
       "  var docs_json = {\"d5242111-ce54-48b9-b09b-639ce8ee151a\":{\"roots\":{\"references\":[{\"attributes\":{\"below\":[{\"id\":\"70443\",\"type\":\"CategoricalAxis\"}],\"left\":[{\"id\":\"70447\",\"type\":\"LinearAxis\"}],\"plot_height\":550,\"plot_width\":550,\"renderers\":[{\"id\":\"70443\",\"type\":\"CategoricalAxis\"},{\"id\":\"70446\",\"type\":\"Grid\"},{\"id\":\"70447\",\"type\":\"LinearAxis\"},{\"id\":\"70451\",\"type\":\"Grid\"},{\"id\":\"70456\",\"type\":\"GlyphRenderer\"}],\"title\":{\"id\":\"70432\",\"type\":\"Title\"},\"toolbar\":{\"id\":\"70452\",\"type\":\"Toolbar\"},\"toolbar_location\":null,\"x_range\":{\"id\":\"70435\",\"type\":\"FactorRange\"},\"x_scale\":{\"id\":\"70439\",\"type\":\"CategoricalScale\"},\"y_range\":{\"id\":\"70437\",\"type\":\"DataRange1d\"},\"y_scale\":{\"id\":\"70441\",\"type\":\"LinearScale\"}},\"id\":\"70433\",\"subtype\":\"Figure\",\"type\":\"Plot\"},{\"attributes\":{\"active_drag\":\"auto\",\"active_inspect\":\"auto\",\"active_multi\":null,\"active_scroll\":\"auto\",\"active_tap\":\"auto\"},\"id\":\"70452\",\"type\":\"Toolbar\"},{\"attributes\":{},\"id\":\"70441\",\"type\":\"LinearScale\"},{\"attributes\":{\"callback\":null,\"data\":{\"x\":[\"ENERO\",\"FEBRERO\",\"MARZO\",\"ABRIL\",\"MAYO\",\"JUNIO\",\"JULIO\",\"AGOSTO\",\"SEPTIEMBRE\",\"OCTUBRE\",\"NOVIEMBRE\",\"DICIEMBRE\"],\"y\":{\"__ndarray__\":\"rBxaZDtfHECF61G4HgUSQHsUrkfhegZAdJMYBFYO9T8AAAAAAAAAAAAAAAAAAAAAAAAAAAAAAAAAAAAAAAAAAAAAAAAAAAAAAAAAAAAAWEAAAAAAAIBCQAAAAAAAAAAA\",\"dtype\":\"float64\",\"shape\":[12]}},\"selected\":{\"id\":\"71381\",\"type\":\"Selection\"},\"selection_policy\":{\"id\":\"71380\",\"type\":\"UnionRenderers\"}},\"id\":\"70453\",\"type\":\"ColumnDataSource\"},{\"attributes\":{\"callback\":null,\"factors\":[\"ENERO\",\"FEBRERO\",\"MARZO\",\"ABRIL\",\"MAYO\",\"JUNIO\",\"JULIO\",\"AGOSTO\",\"SEPTIEMBRE\",\"OCTUBRE\",\"NOVIEMBRE\",\"DICIEMBRE\"]},\"id\":\"70435\",\"type\":\"FactorRange\"},{\"attributes\":{},\"id\":\"71380\",\"type\":\"UnionRenderers\"},{\"attributes\":{\"plot\":{\"id\":\"70433\",\"subtype\":\"Figure\",\"type\":\"Plot\"},\"ticker\":{\"id\":\"70444\",\"type\":\"CategoricalTicker\"}},\"id\":\"70446\",\"type\":\"Grid\"},{\"attributes\":{\"formatter\":{\"id\":\"71377\",\"type\":\"CategoricalTickFormatter\"},\"major_label_orientation\":1,\"plot\":{\"id\":\"70433\",\"subtype\":\"Figure\",\"type\":\"Plot\"},\"ticker\":{\"id\":\"70444\",\"type\":\"CategoricalTicker\"}},\"id\":\"70443\",\"type\":\"CategoricalAxis\"},{\"attributes\":{\"source\":{\"id\":\"70453\",\"type\":\"ColumnDataSource\"}},\"id\":\"70457\",\"type\":\"CDSView\"},{\"attributes\":{},\"id\":\"70448\",\"type\":\"BasicTicker\"},{\"attributes\":{},\"id\":\"71381\",\"type\":\"Selection\"},{\"attributes\":{\"dimension\":1,\"plot\":{\"id\":\"70433\",\"subtype\":\"Figure\",\"type\":\"Plot\"},\"ticker\":{\"id\":\"70448\",\"type\":\"BasicTicker\"}},\"id\":\"70451\",\"type\":\"Grid\"},{\"attributes\":{\"callback\":null},\"id\":\"70437\",\"type\":\"DataRange1d\"},{\"attributes\":{\"plot\":null,\"text\":\"DANA\"},\"id\":\"70432\",\"type\":\"Title\"},{\"attributes\":{\"formatter\":{\"id\":\"71379\",\"type\":\"BasicTickFormatter\"},\"plot\":{\"id\":\"70433\",\"subtype\":\"Figure\",\"type\":\"Plot\"},\"ticker\":{\"id\":\"70448\",\"type\":\"BasicTicker\"}},\"id\":\"70447\",\"type\":\"LinearAxis\"},{\"attributes\":{},\"id\":\"71377\",\"type\":\"CategoricalTickFormatter\"},{\"attributes\":{\"data_source\":{\"id\":\"70453\",\"type\":\"ColumnDataSource\"},\"glyph\":{\"id\":\"70454\",\"type\":\"Line\"},\"hover_glyph\":null,\"muted_glyph\":null,\"nonselection_glyph\":{\"id\":\"70455\",\"type\":\"Line\"},\"selection_glyph\":null,\"view\":{\"id\":\"70457\",\"type\":\"CDSView\"}},\"id\":\"70456\",\"type\":\"GlyphRenderer\"},{\"attributes\":{},\"id\":\"70439\",\"type\":\"CategoricalScale\"},{\"attributes\":{},\"id\":\"71379\",\"type\":\"BasicTickFormatter\"},{\"attributes\":{\"line_color\":\"#1f77b4\",\"line_width\":2,\"x\":{\"field\":\"x\"},\"y\":{\"field\":\"y\"}},\"id\":\"70454\",\"type\":\"Line\"},{\"attributes\":{\"line_alpha\":0.1,\"line_color\":\"#1f77b4\",\"line_width\":2,\"x\":{\"field\":\"x\"},\"y\":{\"field\":\"y\"}},\"id\":\"70455\",\"type\":\"Line\"},{\"attributes\":{},\"id\":\"70444\",\"type\":\"CategoricalTicker\"}],\"root_ids\":[\"70433\"]},\"title\":\"Bokeh Application\",\"version\":\"1.0.3\"}};\n",
       "  var render_items = [{\"docid\":\"d5242111-ce54-48b9-b09b-639ce8ee151a\",\"roots\":{\"70433\":\"3eaa2324-0b87-42c5-823f-2a977ac7ca0f\"}}];\n",
       "  root.Bokeh.embed.embed_items_notebook(docs_json, render_items);\n",
       "\n",
       "  }\n",
       "  if (root.Bokeh !== undefined) {\n",
       "    embed_document(root);\n",
       "  } else {\n",
       "    var attempts = 0;\n",
       "    var timer = setInterval(function(root) {\n",
       "      if (root.Bokeh !== undefined) {\n",
       "        embed_document(root);\n",
       "        clearInterval(timer);\n",
       "      }\n",
       "      attempts++;\n",
       "      if (attempts > 100) {\n",
       "        console.log(\"Bokeh: ERROR: Unable to run BokehJS code because BokehJS library is missing\");\n",
       "        clearInterval(timer);\n",
       "      }\n",
       "    }, 10, root)\n",
       "  }\n",
       "})(window);"
      ],
      "application/vnd.bokehjs_exec.v0+json": ""
     },
     "metadata": {
      "application/vnd.bokehjs_exec.v0+json": {
       "id": "70433"
      }
     },
     "output_type": "display_data"
    },
    {
     "name": "stdout",
     "output_type": "stream",
     "text": [
      "    ENERO  FEBRERO    MARZO    ABRIL     MAYO    JUNIO    JULIO   AGOSTO  \\\n",
      "6  196.58  169.047  190.396  188.106  187.872  189.185  175.084  171.404   \n",
      "\n",
      "   SEPTIEMBRE  OCTUBRE  NOVIEMBRE  DICIEMBRE  \n",
      "6     168.668  172.138    167.475    172.219  \n"
     ]
    },
    {
     "data": {
      "text/html": [
       "\n",
       "\n",
       "\n",
       "\n",
       "\n",
       "\n",
       "  <div class=\"bk-root\" id=\"5528efa9-d72e-4387-be7b-9e8261978a56\" data-root-id=\"71425\"></div>\n"
      ]
     },
     "metadata": {},
     "output_type": "display_data"
    },
    {
     "data": {
      "application/javascript": [
       "(function(root) {\n",
       "  function embed_document(root) {\n",
       "    \n",
       "  var docs_json = {\"a779ce1b-5003-4e06-9dc7-eb9037c3eb90\":{\"roots\":{\"references\":[{\"attributes\":{\"below\":[{\"id\":\"71435\",\"type\":\"CategoricalAxis\"}],\"left\":[{\"id\":\"71439\",\"type\":\"LinearAxis\"}],\"plot_height\":550,\"plot_width\":550,\"renderers\":[{\"id\":\"71435\",\"type\":\"CategoricalAxis\"},{\"id\":\"71438\",\"type\":\"Grid\"},{\"id\":\"71439\",\"type\":\"LinearAxis\"},{\"id\":\"71443\",\"type\":\"Grid\"},{\"id\":\"71448\",\"type\":\"GlyphRenderer\"}],\"title\":{\"id\":\"71424\",\"type\":\"Title\"},\"toolbar\":{\"id\":\"71444\",\"type\":\"Toolbar\"},\"toolbar_location\":null,\"x_range\":{\"id\":\"71427\",\"type\":\"FactorRange\"},\"x_scale\":{\"id\":\"71431\",\"type\":\"CategoricalScale\"},\"y_range\":{\"id\":\"71429\",\"type\":\"DataRange1d\"},\"y_scale\":{\"id\":\"71433\",\"type\":\"LinearScale\"}},\"id\":\"71425\",\"subtype\":\"Figure\",\"type\":\"Plot\"},{\"attributes\":{\"dimension\":1,\"plot\":{\"id\":\"71425\",\"subtype\":\"Figure\",\"type\":\"Plot\"},\"ticker\":{\"id\":\"71440\",\"type\":\"BasicTicker\"}},\"id\":\"71443\",\"type\":\"Grid\"},{\"attributes\":{},\"id\":\"71433\",\"type\":\"LinearScale\"},{\"attributes\":{\"callback\":null,\"data\":{\"x\":[\"ENERO\",\"FEBRERO\",\"MARZO\",\"ABRIL\",\"MAYO\",\"JUNIO\",\"JULIO\",\"AGOSTO\",\"SEPTIEMBRE\",\"OCTUBRE\",\"NOVIEMBRE\",\"DICIEMBRE\"],\"y\":{\"__ndarray__\":\"w/UoXI+SaEAv3SQGgSFlQOkmMQiszGdACKwcWmSDZ0CWQ4ts53tnQFK4HoXrpWdAppvEILDiZUCxcmiR7WxlQEw3iUFgFWVAI9v5fmqEZUAzMzMzM+9kQF+6SQwCh2VA\",\"dtype\":\"float64\",\"shape\":[12]}},\"selected\":{\"id\":\"72380\",\"type\":\"Selection\"},\"selection_policy\":{\"id\":\"72379\",\"type\":\"UnionRenderers\"}},\"id\":\"71445\",\"type\":\"ColumnDataSource\"},{\"attributes\":{\"callback\":null},\"id\":\"71429\",\"type\":\"DataRange1d\"},{\"attributes\":{\"active_drag\":\"auto\",\"active_inspect\":\"auto\",\"active_multi\":null,\"active_scroll\":\"auto\",\"active_tap\":\"auto\"},\"id\":\"71444\",\"type\":\"Toolbar\"},{\"attributes\":{},\"id\":\"72378\",\"type\":\"BasicTickFormatter\"},{\"attributes\":{\"line_color\":\"#1f77b4\",\"line_width\":2,\"x\":{\"field\":\"x\"},\"y\":{\"field\":\"y\"}},\"id\":\"71446\",\"type\":\"Line\"},{\"attributes\":{\"line_alpha\":0.1,\"line_color\":\"#1f77b4\",\"line_width\":2,\"x\":{\"field\":\"x\"},\"y\":{\"field\":\"y\"}},\"id\":\"71447\",\"type\":\"Line\"},{\"attributes\":{\"data_source\":{\"id\":\"71445\",\"type\":\"ColumnDataSource\"},\"glyph\":{\"id\":\"71446\",\"type\":\"Line\"},\"hover_glyph\":null,\"muted_glyph\":null,\"nonselection_glyph\":{\"id\":\"71447\",\"type\":\"Line\"},\"selection_glyph\":null,\"view\":{\"id\":\"71449\",\"type\":\"CDSView\"}},\"id\":\"71448\",\"type\":\"GlyphRenderer\"},{\"attributes\":{},\"id\":\"72376\",\"type\":\"CategoricalTickFormatter\"},{\"attributes\":{},\"id\":\"72379\",\"type\":\"UnionRenderers\"},{\"attributes\":{\"plot\":null,\"text\":\"DORINE\"},\"id\":\"71424\",\"type\":\"Title\"},{\"attributes\":{},\"id\":\"72380\",\"type\":\"Selection\"},{\"attributes\":{},\"id\":\"71440\",\"type\":\"BasicTicker\"},{\"attributes\":{\"source\":{\"id\":\"71445\",\"type\":\"ColumnDataSource\"}},\"id\":\"71449\",\"type\":\"CDSView\"},{\"attributes\":{\"formatter\":{\"id\":\"72378\",\"type\":\"BasicTickFormatter\"},\"plot\":{\"id\":\"71425\",\"subtype\":\"Figure\",\"type\":\"Plot\"},\"ticker\":{\"id\":\"71440\",\"type\":\"BasicTicker\"}},\"id\":\"71439\",\"type\":\"LinearAxis\"},{\"attributes\":{\"callback\":null,\"factors\":[\"ENERO\",\"FEBRERO\",\"MARZO\",\"ABRIL\",\"MAYO\",\"JUNIO\",\"JULIO\",\"AGOSTO\",\"SEPTIEMBRE\",\"OCTUBRE\",\"NOVIEMBRE\",\"DICIEMBRE\"]},\"id\":\"71427\",\"type\":\"FactorRange\"},{\"attributes\":{\"formatter\":{\"id\":\"72376\",\"type\":\"CategoricalTickFormatter\"},\"major_label_orientation\":1,\"plot\":{\"id\":\"71425\",\"subtype\":\"Figure\",\"type\":\"Plot\"},\"ticker\":{\"id\":\"71436\",\"type\":\"CategoricalTicker\"}},\"id\":\"71435\",\"type\":\"CategoricalAxis\"},{\"attributes\":{\"plot\":{\"id\":\"71425\",\"subtype\":\"Figure\",\"type\":\"Plot\"},\"ticker\":{\"id\":\"71436\",\"type\":\"CategoricalTicker\"}},\"id\":\"71438\",\"type\":\"Grid\"},{\"attributes\":{},\"id\":\"71436\",\"type\":\"CategoricalTicker\"},{\"attributes\":{},\"id\":\"71431\",\"type\":\"CategoricalScale\"}],\"root_ids\":[\"71425\"]},\"title\":\"Bokeh Application\",\"version\":\"1.0.3\"}};\n",
       "  var render_items = [{\"docid\":\"a779ce1b-5003-4e06-9dc7-eb9037c3eb90\",\"roots\":{\"71425\":\"5528efa9-d72e-4387-be7b-9e8261978a56\"}}];\n",
       "  root.Bokeh.embed.embed_items_notebook(docs_json, render_items);\n",
       "\n",
       "  }\n",
       "  if (root.Bokeh !== undefined) {\n",
       "    embed_document(root);\n",
       "  } else {\n",
       "    var attempts = 0;\n",
       "    var timer = setInterval(function(root) {\n",
       "      if (root.Bokeh !== undefined) {\n",
       "        embed_document(root);\n",
       "        clearInterval(timer);\n",
       "      }\n",
       "      attempts++;\n",
       "      if (attempts > 100) {\n",
       "        console.log(\"Bokeh: ERROR: Unable to run BokehJS code because BokehJS library is missing\");\n",
       "        clearInterval(timer);\n",
       "      }\n",
       "    }, 10, root)\n",
       "  }\n",
       "})(window);"
      ],
      "application/vnd.bokehjs_exec.v0+json": ""
     },
     "metadata": {
      "application/vnd.bokehjs_exec.v0+json": {
       "id": "71425"
      }
     },
     "output_type": "display_data"
    },
    {
     "name": "stdout",
     "output_type": "stream",
     "text": [
      "   ENERO  FEBRERO  MARZO  ABRIL   MAYO  JUNIO  JULIO  AGOSTO  SEPTIEMBRE  \\\n",
      "7  2.145     2.21  2.486  2.453  2.543  2.458  2.506   2.514       2.478   \n",
      "\n",
      "   OCTUBRE  NOVIEMBRE  DICIEMBRE  \n",
      "7     2.59      2.332       24.0  \n"
     ]
    },
    {
     "data": {
      "text/html": [
       "\n",
       "\n",
       "\n",
       "\n",
       "\n",
       "\n",
       "  <div class=\"bk-root\" id=\"229b0490-66bc-4443-9da3-72258bac1eab\" data-root-id=\"72424\"></div>\n"
      ]
     },
     "metadata": {},
     "output_type": "display_data"
    },
    {
     "data": {
      "application/javascript": [
       "(function(root) {\n",
       "  function embed_document(root) {\n",
       "    \n",
       "  var docs_json = {\"f3b4c6e8-a874-47e0-90eb-e50747b99085\":{\"roots\":{\"references\":[{\"attributes\":{\"below\":[{\"id\":\"72434\",\"type\":\"CategoricalAxis\"}],\"left\":[{\"id\":\"72438\",\"type\":\"LinearAxis\"}],\"plot_height\":550,\"plot_width\":550,\"renderers\":[{\"id\":\"72434\",\"type\":\"CategoricalAxis\"},{\"id\":\"72437\",\"type\":\"Grid\"},{\"id\":\"72438\",\"type\":\"LinearAxis\"},{\"id\":\"72442\",\"type\":\"Grid\"},{\"id\":\"72447\",\"type\":\"GlyphRenderer\"}],\"title\":{\"id\":\"72423\",\"type\":\"Title\"},\"toolbar\":{\"id\":\"72443\",\"type\":\"Toolbar\"},\"toolbar_location\":null,\"x_range\":{\"id\":\"72426\",\"type\":\"FactorRange\"},\"x_scale\":{\"id\":\"72430\",\"type\":\"CategoricalScale\"},\"y_range\":{\"id\":\"72428\",\"type\":\"DataRange1d\"},\"y_scale\":{\"id\":\"72432\",\"type\":\"LinearScale\"}},\"id\":\"72424\",\"subtype\":\"Figure\",\"type\":\"Plot\"},{\"attributes\":{},\"id\":\"72439\",\"type\":\"BasicTicker\"},{\"attributes\":{\"callback\":null},\"id\":\"72428\",\"type\":\"DataRange1d\"},{\"attributes\":{},\"id\":\"73382\",\"type\":\"CategoricalTickFormatter\"},{\"attributes\":{},\"id\":\"73386\",\"type\":\"Selection\"},{\"attributes\":{},\"id\":\"73384\",\"type\":\"BasicTickFormatter\"},{\"attributes\":{\"formatter\":{\"id\":\"73384\",\"type\":\"BasicTickFormatter\"},\"plot\":{\"id\":\"72424\",\"subtype\":\"Figure\",\"type\":\"Plot\"},\"ticker\":{\"id\":\"72439\",\"type\":\"BasicTicker\"}},\"id\":\"72438\",\"type\":\"LinearAxis\"},{\"attributes\":{\"line_alpha\":0.1,\"line_color\":\"#1f77b4\",\"line_width\":2,\"x\":{\"field\":\"x\"},\"y\":{\"field\":\"y\"}},\"id\":\"72446\",\"type\":\"Line\"},{\"attributes\":{\"callback\":null,\"data\":{\"x\":[\"ENERO\",\"FEBRERO\",\"MARZO\",\"ABRIL\",\"MAYO\",\"JUNIO\",\"JULIO\",\"AGOSTO\",\"SEPTIEMBRE\",\"OCTUBRE\",\"NOVIEMBRE\",\"DICIEMBRE\"],\"y\":{\"__ndarray__\":\"KVyPwvUoAUCuR+F6FK4BQBbZzvdT4wNAOrTIdr6fA0Dy0k1iEFgEQESLbOf7qQNAPzVeukkMBEDqJjEIrBwEQG3n+6nx0gNAuB6F61G4BEAOLbKd76cCQAAAAAAAADhA\",\"dtype\":\"float64\",\"shape\":[12]}},\"selected\":{\"id\":\"73386\",\"type\":\"Selection\"},\"selection_policy\":{\"id\":\"73385\",\"type\":\"UnionRenderers\"}},\"id\":\"72444\",\"type\":\"ColumnDataSource\"},{\"attributes\":{},\"id\":\"72430\",\"type\":\"CategoricalScale\"},{\"attributes\":{\"source\":{\"id\":\"72444\",\"type\":\"ColumnDataSource\"}},\"id\":\"72448\",\"type\":\"CDSView\"},{\"attributes\":{\"data_source\":{\"id\":\"72444\",\"type\":\"ColumnDataSource\"},\"glyph\":{\"id\":\"72445\",\"type\":\"Line\"},\"hover_glyph\":null,\"muted_glyph\":null,\"nonselection_glyph\":{\"id\":\"72446\",\"type\":\"Line\"},\"selection_glyph\":null,\"view\":{\"id\":\"72448\",\"type\":\"CDSView\"}},\"id\":\"72447\",\"type\":\"GlyphRenderer\"},{\"attributes\":{},\"id\":\"72432\",\"type\":\"LinearScale\"},{\"attributes\":{\"plot\":null,\"text\":\"DORINE G\"},\"id\":\"72423\",\"type\":\"Title\"},{\"attributes\":{\"dimension\":1,\"plot\":{\"id\":\"72424\",\"subtype\":\"Figure\",\"type\":\"Plot\"},\"ticker\":{\"id\":\"72439\",\"type\":\"BasicTicker\"}},\"id\":\"72442\",\"type\":\"Grid\"},{\"attributes\":{\"line_color\":\"#1f77b4\",\"line_width\":2,\"x\":{\"field\":\"x\"},\"y\":{\"field\":\"y\"}},\"id\":\"72445\",\"type\":\"Line\"},{\"attributes\":{\"plot\":{\"id\":\"72424\",\"subtype\":\"Figure\",\"type\":\"Plot\"},\"ticker\":{\"id\":\"72435\",\"type\":\"CategoricalTicker\"}},\"id\":\"72437\",\"type\":\"Grid\"},{\"attributes\":{\"callback\":null,\"factors\":[\"ENERO\",\"FEBRERO\",\"MARZO\",\"ABRIL\",\"MAYO\",\"JUNIO\",\"JULIO\",\"AGOSTO\",\"SEPTIEMBRE\",\"OCTUBRE\",\"NOVIEMBRE\",\"DICIEMBRE\"]},\"id\":\"72426\",\"type\":\"FactorRange\"},{\"attributes\":{},\"id\":\"73385\",\"type\":\"UnionRenderers\"},{\"attributes\":{\"active_drag\":\"auto\",\"active_inspect\":\"auto\",\"active_multi\":null,\"active_scroll\":\"auto\",\"active_tap\":\"auto\"},\"id\":\"72443\",\"type\":\"Toolbar\"},{\"attributes\":{\"formatter\":{\"id\":\"73382\",\"type\":\"CategoricalTickFormatter\"},\"major_label_orientation\":1,\"plot\":{\"id\":\"72424\",\"subtype\":\"Figure\",\"type\":\"Plot\"},\"ticker\":{\"id\":\"72435\",\"type\":\"CategoricalTicker\"}},\"id\":\"72434\",\"type\":\"CategoricalAxis\"},{\"attributes\":{},\"id\":\"72435\",\"type\":\"CategoricalTicker\"}],\"root_ids\":[\"72424\"]},\"title\":\"Bokeh Application\",\"version\":\"1.0.3\"}};\n",
       "  var render_items = [{\"docid\":\"f3b4c6e8-a874-47e0-90eb-e50747b99085\",\"roots\":{\"72424\":\"229b0490-66bc-4443-9da3-72258bac1eab\"}}];\n",
       "  root.Bokeh.embed.embed_items_notebook(docs_json, render_items);\n",
       "\n",
       "  }\n",
       "  if (root.Bokeh !== undefined) {\n",
       "    embed_document(root);\n",
       "  } else {\n",
       "    var attempts = 0;\n",
       "    var timer = setInterval(function(root) {\n",
       "      if (root.Bokeh !== undefined) {\n",
       "        embed_document(root);\n",
       "        clearInterval(timer);\n",
       "      }\n",
       "      attempts++;\n",
       "      if (attempts > 100) {\n",
       "        console.log(\"Bokeh: ERROR: Unable to run BokehJS code because BokehJS library is missing\");\n",
       "        clearInterval(timer);\n",
       "      }\n",
       "    }, 10, root)\n",
       "  }\n",
       "})(window);"
      ],
      "application/vnd.bokehjs_exec.v0+json": ""
     },
     "metadata": {
      "application/vnd.bokehjs_exec.v0+json": {
       "id": "72424"
      }
     },
     "output_type": "display_data"
    },
    {
     "name": "stdout",
     "output_type": "stream",
     "text": [
      "   ENERO  FEBRERO  MARZO  ABRIL   MAYO  JUNIO  JULIO  AGOSTO  SEPTIEMBRE  \\\n",
      "8  8.353    7.353  8.118  7.871  7.736  7.449   7.63   7.473       7.027   \n",
      "\n",
      "   OCTUBRE  NOVIEMBRE  DICIEMBRE  \n",
      "8     7.26      6.993      7.189  \n"
     ]
    },
    {
     "data": {
      "text/html": [
       "\n",
       "\n",
       "\n",
       "\n",
       "\n",
       "\n",
       "  <div class=\"bk-root\" id=\"f01904ca-9dbb-41a5-b5a8-ff1bd0c1eba7\" data-root-id=\"73430\"></div>\n"
      ]
     },
     "metadata": {},
     "output_type": "display_data"
    },
    {
     "data": {
      "application/javascript": [
       "(function(root) {\n",
       "  function embed_document(root) {\n",
       "    \n",
       "  var docs_json = {\"de80c727-4df3-4e4a-8202-d724ae1ec8f0\":{\"roots\":{\"references\":[{\"attributes\":{\"below\":[{\"id\":\"73440\",\"type\":\"CategoricalAxis\"}],\"left\":[{\"id\":\"73444\",\"type\":\"LinearAxis\"}],\"plot_height\":550,\"plot_width\":550,\"renderers\":[{\"id\":\"73440\",\"type\":\"CategoricalAxis\"},{\"id\":\"73443\",\"type\":\"Grid\"},{\"id\":\"73444\",\"type\":\"LinearAxis\"},{\"id\":\"73448\",\"type\":\"Grid\"},{\"id\":\"73453\",\"type\":\"GlyphRenderer\"}],\"title\":{\"id\":\"73429\",\"type\":\"Title\"},\"toolbar\":{\"id\":\"73449\",\"type\":\"Toolbar\"},\"toolbar_location\":null,\"x_range\":{\"id\":\"73432\",\"type\":\"FactorRange\"},\"x_scale\":{\"id\":\"73436\",\"type\":\"CategoricalScale\"},\"y_range\":{\"id\":\"73434\",\"type\":\"DataRange1d\"},\"y_scale\":{\"id\":\"73438\",\"type\":\"LinearScale\"}},\"id\":\"73430\",\"subtype\":\"Figure\",\"type\":\"Plot\"},{\"attributes\":{\"plot\":null,\"text\":\"DORINE NORTE\"},\"id\":\"73429\",\"type\":\"Title\"},{\"attributes\":{},\"id\":\"74398\",\"type\":\"UnionRenderers\"},{\"attributes\":{\"callback\":null},\"id\":\"73434\",\"type\":\"DataRange1d\"},{\"attributes\":{\"data_source\":{\"id\":\"73450\",\"type\":\"ColumnDataSource\"},\"glyph\":{\"id\":\"73451\",\"type\":\"Line\"},\"hover_glyph\":null,\"muted_glyph\":null,\"nonselection_glyph\":{\"id\":\"73452\",\"type\":\"Line\"},\"selection_glyph\":null,\"view\":{\"id\":\"73454\",\"type\":\"CDSView\"}},\"id\":\"73453\",\"type\":\"GlyphRenderer\"},{\"attributes\":{\"dimension\":1,\"plot\":{\"id\":\"73430\",\"subtype\":\"Figure\",\"type\":\"Plot\"},\"ticker\":{\"id\":\"73445\",\"type\":\"BasicTicker\"}},\"id\":\"73448\",\"type\":\"Grid\"},{\"attributes\":{},\"id\":\"74397\",\"type\":\"BasicTickFormatter\"},{\"attributes\":{},\"id\":\"74399\",\"type\":\"Selection\"},{\"attributes\":{\"formatter\":{\"id\":\"74395\",\"type\":\"CategoricalTickFormatter\"},\"major_label_orientation\":1,\"plot\":{\"id\":\"73430\",\"subtype\":\"Figure\",\"type\":\"Plot\"},\"ticker\":{\"id\":\"73441\",\"type\":\"CategoricalTicker\"}},\"id\":\"73440\",\"type\":\"CategoricalAxis\"},{\"attributes\":{},\"id\":\"73438\",\"type\":\"LinearScale\"},{\"attributes\":{},\"id\":\"73445\",\"type\":\"BasicTicker\"},{\"attributes\":{},\"id\":\"73441\",\"type\":\"CategoricalTicker\"},{\"attributes\":{\"plot\":{\"id\":\"73430\",\"subtype\":\"Figure\",\"type\":\"Plot\"},\"ticker\":{\"id\":\"73441\",\"type\":\"CategoricalTicker\"}},\"id\":\"73443\",\"type\":\"Grid\"},{\"attributes\":{\"active_drag\":\"auto\",\"active_inspect\":\"auto\",\"active_multi\":null,\"active_scroll\":\"auto\",\"active_tap\":\"auto\"},\"id\":\"73449\",\"type\":\"Toolbar\"},{\"attributes\":{\"line_color\":\"#1f77b4\",\"line_width\":2,\"x\":{\"field\":\"x\"},\"y\":{\"field\":\"y\"}},\"id\":\"73451\",\"type\":\"Line\"},{\"attributes\":{},\"id\":\"73436\",\"type\":\"CategoricalScale\"},{\"attributes\":{},\"id\":\"74395\",\"type\":\"CategoricalTickFormatter\"},{\"attributes\":{\"callback\":null,\"data\":{\"x\":[\"ENERO\",\"FEBRERO\",\"MARZO\",\"ABRIL\",\"MAYO\",\"JUNIO\",\"JULIO\",\"AGOSTO\",\"SEPTIEMBRE\",\"OCTUBRE\",\"NOVIEMBRE\",\"DICIEMBRE\"],\"y\":{\"__ndarray__\":\"2/l+ary0IEC28/3UeGkdQCPb+X5qPCBAlkOLbOd7H0CMbOf7qfEeQLKd76fGyx1AhetRuB6FHkAxCKwcWuQdQM/3U+OlGxxACtejcD0KHUBFtvP91PgbQKjGSzeJwRxA\",\"dtype\":\"float64\",\"shape\":[12]}},\"selected\":{\"id\":\"74399\",\"type\":\"Selection\"},\"selection_policy\":{\"id\":\"74398\",\"type\":\"UnionRenderers\"}},\"id\":\"73450\",\"type\":\"ColumnDataSource\"},{\"attributes\":{\"callback\":null,\"factors\":[\"ENERO\",\"FEBRERO\",\"MARZO\",\"ABRIL\",\"MAYO\",\"JUNIO\",\"JULIO\",\"AGOSTO\",\"SEPTIEMBRE\",\"OCTUBRE\",\"NOVIEMBRE\",\"DICIEMBRE\"]},\"id\":\"73432\",\"type\":\"FactorRange\"},{\"attributes\":{\"formatter\":{\"id\":\"74397\",\"type\":\"BasicTickFormatter\"},\"plot\":{\"id\":\"73430\",\"subtype\":\"Figure\",\"type\":\"Plot\"},\"ticker\":{\"id\":\"73445\",\"type\":\"BasicTicker\"}},\"id\":\"73444\",\"type\":\"LinearAxis\"},{\"attributes\":{\"source\":{\"id\":\"73450\",\"type\":\"ColumnDataSource\"}},\"id\":\"73454\",\"type\":\"CDSView\"},{\"attributes\":{\"line_alpha\":0.1,\"line_color\":\"#1f77b4\",\"line_width\":2,\"x\":{\"field\":\"x\"},\"y\":{\"field\":\"y\"}},\"id\":\"73452\",\"type\":\"Line\"}],\"root_ids\":[\"73430\"]},\"title\":\"Bokeh Application\",\"version\":\"1.0.3\"}};\n",
       "  var render_items = [{\"docid\":\"de80c727-4df3-4e4a-8202-d724ae1ec8f0\",\"roots\":{\"73430\":\"f01904ca-9dbb-41a5-b5a8-ff1bd0c1eba7\"}}];\n",
       "  root.Bokeh.embed.embed_items_notebook(docs_json, render_items);\n",
       "\n",
       "  }\n",
       "  if (root.Bokeh !== undefined) {\n",
       "    embed_document(root);\n",
       "  } else {\n",
       "    var attempts = 0;\n",
       "    var timer = setInterval(function(root) {\n",
       "      if (root.Bokeh !== undefined) {\n",
       "        embed_document(root);\n",
       "        clearInterval(timer);\n",
       "      }\n",
       "      attempts++;\n",
       "      if (attempts > 100) {\n",
       "        console.log(\"Bokeh: ERROR: Unable to run BokehJS code because BokehJS library is missing\");\n",
       "        clearInterval(timer);\n",
       "      }\n",
       "    }, 10, root)\n",
       "  }\n",
       "})(window);"
      ],
      "application/vnd.bokehjs_exec.v0+json": ""
     },
     "metadata": {
      "application/vnd.bokehjs_exec.v0+json": {
       "id": "73430"
      }
     },
     "output_type": "display_data"
    },
    {
     "name": "stdout",
     "output_type": "stream",
     "text": [
      "    ENERO  FEBRERO  MARZO   ABRIL   MAYO   JUNIO  JULIO  AGOSTO  SEPTIEMBRE  \\\n",
      "9  30.635     28.4  31.07  29.696  29.99  28.416  28.65   29.38      26.666   \n",
      "\n",
      "   OCTUBRE  NOVIEMBRE  DICIEMBRE  \n",
      "9   26.821     24.578     22.342  \n"
     ]
    },
    {
     "data": {
      "text/html": [
       "\n",
       "\n",
       "\n",
       "\n",
       "\n",
       "\n",
       "  <div class=\"bk-root\" id=\"b0d8bee5-07f4-4859-bde3-fe5e9e114190\" data-root-id=\"74443\"></div>\n"
      ]
     },
     "metadata": {},
     "output_type": "display_data"
    },
    {
     "data": {
      "application/javascript": [
       "(function(root) {\n",
       "  function embed_document(root) {\n",
       "    \n",
       "  var docs_json = {\"8dc9a710-6d61-4e0b-b686-e4efaf4135d7\":{\"roots\":{\"references\":[{\"attributes\":{\"below\":[{\"id\":\"74453\",\"type\":\"CategoricalAxis\"}],\"left\":[{\"id\":\"74457\",\"type\":\"LinearAxis\"}],\"plot_height\":550,\"plot_width\":550,\"renderers\":[{\"id\":\"74453\",\"type\":\"CategoricalAxis\"},{\"id\":\"74456\",\"type\":\"Grid\"},{\"id\":\"74457\",\"type\":\"LinearAxis\"},{\"id\":\"74461\",\"type\":\"Grid\"},{\"id\":\"74466\",\"type\":\"GlyphRenderer\"}],\"title\":{\"id\":\"74442\",\"type\":\"Title\"},\"toolbar\":{\"id\":\"74462\",\"type\":\"Toolbar\"},\"toolbar_location\":null,\"x_range\":{\"id\":\"74445\",\"type\":\"FactorRange\"},\"x_scale\":{\"id\":\"74449\",\"type\":\"CategoricalScale\"},\"y_range\":{\"id\":\"74447\",\"type\":\"DataRange1d\"},\"y_scale\":{\"id\":\"74451\",\"type\":\"LinearScale\"}},\"id\":\"74443\",\"subtype\":\"Figure\",\"type\":\"Plot\"},{\"attributes\":{\"line_alpha\":0.1,\"line_color\":\"#1f77b4\",\"line_width\":2,\"x\":{\"field\":\"x\"},\"y\":{\"field\":\"y\"}},\"id\":\"74465\",\"type\":\"Line\"},{\"attributes\":{\"active_drag\":\"auto\",\"active_inspect\":\"auto\",\"active_multi\":null,\"active_scroll\":\"auto\",\"active_tap\":\"auto\"},\"id\":\"74462\",\"type\":\"Toolbar\"},{\"attributes\":{},\"id\":\"74451\",\"type\":\"LinearScale\"},{\"attributes\":{\"callback\":null},\"id\":\"74447\",\"type\":\"DataRange1d\"},{\"attributes\":{\"formatter\":{\"id\":\"75417\",\"type\":\"BasicTickFormatter\"},\"plot\":{\"id\":\"74443\",\"subtype\":\"Figure\",\"type\":\"Plot\"},\"ticker\":{\"id\":\"74458\",\"type\":\"BasicTicker\"}},\"id\":\"74457\",\"type\":\"LinearAxis\"},{\"attributes\":{\"formatter\":{\"id\":\"75415\",\"type\":\"CategoricalTickFormatter\"},\"major_label_orientation\":1,\"plot\":{\"id\":\"74443\",\"subtype\":\"Figure\",\"type\":\"Plot\"},\"ticker\":{\"id\":\"74454\",\"type\":\"CategoricalTicker\"}},\"id\":\"74453\",\"type\":\"CategoricalAxis\"},{\"attributes\":{\"source\":{\"id\":\"74463\",\"type\":\"ColumnDataSource\"}},\"id\":\"74467\",\"type\":\"CDSView\"},{\"attributes\":{\"dimension\":1,\"plot\":{\"id\":\"74443\",\"subtype\":\"Figure\",\"type\":\"Plot\"},\"ticker\":{\"id\":\"74458\",\"type\":\"BasicTicker\"}},\"id\":\"74461\",\"type\":\"Grid\"},{\"attributes\":{},\"id\":\"74449\",\"type\":\"CategoricalScale\"},{\"attributes\":{\"plot\":{\"id\":\"74443\",\"subtype\":\"Figure\",\"type\":\"Plot\"},\"ticker\":{\"id\":\"74454\",\"type\":\"CategoricalTicker\"}},\"id\":\"74456\",\"type\":\"Grid\"},{\"attributes\":{},\"id\":\"74454\",\"type\":\"CategoricalTicker\"},{\"attributes\":{\"callback\":null,\"data\":{\"x\":[\"ENERO\",\"FEBRERO\",\"MARZO\",\"ABRIL\",\"MAYO\",\"JUNIO\",\"JULIO\",\"AGOSTO\",\"SEPTIEMBRE\",\"OCTUBRE\",\"NOVIEMBRE\",\"DICIEMBRE\"],\"y\":{\"__ndarray__\":\"w/UoXI+iPkBmZmZmZmY8QFK4HoXrET9AGARWDi2yPUA9CtejcP09QNEi2/l+ajxAZmZmZmamPEDhehSuR2E9QNEi2/l+qjpAGARWDi3SOkCIFtnO95M4QGQ730+NVzZA\",\"dtype\":\"float64\",\"shape\":[12]}},\"selected\":{\"id\":\"75419\",\"type\":\"Selection\"},\"selection_policy\":{\"id\":\"75418\",\"type\":\"UnionRenderers\"}},\"id\":\"74463\",\"type\":\"ColumnDataSource\"},{\"attributes\":{},\"id\":\"74458\",\"type\":\"BasicTicker\"},{\"attributes\":{\"callback\":null,\"factors\":[\"ENERO\",\"FEBRERO\",\"MARZO\",\"ABRIL\",\"MAYO\",\"JUNIO\",\"JULIO\",\"AGOSTO\",\"SEPTIEMBRE\",\"OCTUBRE\",\"NOVIEMBRE\",\"DICIEMBRE\"]},\"id\":\"74445\",\"type\":\"FactorRange\"},{\"attributes\":{\"line_color\":\"#1f77b4\",\"line_width\":2,\"x\":{\"field\":\"x\"},\"y\":{\"field\":\"y\"}},\"id\":\"74464\",\"type\":\"Line\"},{\"attributes\":{},\"id\":\"75415\",\"type\":\"CategoricalTickFormatter\"},{\"attributes\":{\"data_source\":{\"id\":\"74463\",\"type\":\"ColumnDataSource\"},\"glyph\":{\"id\":\"74464\",\"type\":\"Line\"},\"hover_glyph\":null,\"muted_glyph\":null,\"nonselection_glyph\":{\"id\":\"74465\",\"type\":\"Line\"},\"selection_glyph\":null,\"view\":{\"id\":\"74467\",\"type\":\"CDSView\"}},\"id\":\"74466\",\"type\":\"GlyphRenderer\"},{\"attributes\":{},\"id\":\"75417\",\"type\":\"BasicTickFormatter\"},{\"attributes\":{},\"id\":\"75419\",\"type\":\"Selection\"},{\"attributes\":{},\"id\":\"75418\",\"type\":\"UnionRenderers\"},{\"attributes\":{\"plot\":null,\"text\":\"ESPERANZA\"},\"id\":\"74442\",\"type\":\"Title\"}],\"root_ids\":[\"74443\"]},\"title\":\"Bokeh Application\",\"version\":\"1.0.3\"}};\n",
       "  var render_items = [{\"docid\":\"8dc9a710-6d61-4e0b-b686-e4efaf4135d7\",\"roots\":{\"74443\":\"b0d8bee5-07f4-4859-bde3-fe5e9e114190\"}}];\n",
       "  root.Bokeh.embed.embed_items_notebook(docs_json, render_items);\n",
       "\n",
       "  }\n",
       "  if (root.Bokeh !== undefined) {\n",
       "    embed_document(root);\n",
       "  } else {\n",
       "    var attempts = 0;\n",
       "    var timer = setInterval(function(root) {\n",
       "      if (root.Bokeh !== undefined) {\n",
       "        embed_document(root);\n",
       "        clearInterval(timer);\n",
       "      }\n",
       "      attempts++;\n",
       "      if (attempts > 100) {\n",
       "        console.log(\"Bokeh: ERROR: Unable to run BokehJS code because BokehJS library is missing\");\n",
       "        clearInterval(timer);\n",
       "      }\n",
       "    }, 10, root)\n",
       "  }\n",
       "})(window);"
      ],
      "application/vnd.bokehjs_exec.v0+json": ""
     },
     "metadata": {
      "application/vnd.bokehjs_exec.v0+json": {
       "id": "74443"
      }
     },
     "output_type": "display_data"
    },
    {
     "name": "stdout",
     "output_type": "stream",
     "text": [
      "      ENERO  FEBRERO    MARZO    ABRIL     MAYO    JUNIO    JULIO   AGOSTO  \\\n",
      "10  477.004   451.05  481.467  449.227  451.535  433.899  439.709  434.354   \n",
      "\n",
      "    SEPTIEMBRE  OCTUBRE  NOVIEMBRE  DICIEMBRE  \n",
      "10     410.664  418.803    404.022    418.169  \n"
     ]
    },
    {
     "data": {
      "text/html": [
       "\n",
       "\n",
       "\n",
       "\n",
       "\n",
       "\n",
       "  <div class=\"bk-root\" id=\"917347f9-7e08-487c-b3f5-99f178b083be\" data-root-id=\"75463\"></div>\n"
      ]
     },
     "metadata": {},
     "output_type": "display_data"
    },
    {
     "data": {
      "application/javascript": [
       "(function(root) {\n",
       "  function embed_document(root) {\n",
       "    \n",
       "  var docs_json = {\"0e2cf369-4259-4c08-8675-77a3160f89c3\":{\"roots\":{\"references\":[{\"attributes\":{\"below\":[{\"id\":\"75473\",\"type\":\"CategoricalAxis\"}],\"left\":[{\"id\":\"75477\",\"type\":\"LinearAxis\"}],\"plot_height\":550,\"plot_width\":550,\"renderers\":[{\"id\":\"75473\",\"type\":\"CategoricalAxis\"},{\"id\":\"75476\",\"type\":\"Grid\"},{\"id\":\"75477\",\"type\":\"LinearAxis\"},{\"id\":\"75481\",\"type\":\"Grid\"},{\"id\":\"75486\",\"type\":\"GlyphRenderer\"}],\"title\":{\"id\":\"75462\",\"type\":\"Title\"},\"toolbar\":{\"id\":\"75482\",\"type\":\"Toolbar\"},\"toolbar_location\":null,\"x_range\":{\"id\":\"75465\",\"type\":\"FactorRange\"},\"x_scale\":{\"id\":\"75469\",\"type\":\"CategoricalScale\"},\"y_range\":{\"id\":\"75467\",\"type\":\"DataRange1d\"},\"y_scale\":{\"id\":\"75471\",\"type\":\"LinearScale\"}},\"id\":\"75463\",\"subtype\":\"Figure\",\"type\":\"Plot\"},{\"attributes\":{},\"id\":\"75471\",\"type\":\"LinearScale\"},{\"attributes\":{\"line_alpha\":0.1,\"line_color\":\"#1f77b4\",\"line_width\":2,\"x\":{\"field\":\"x\"},\"y\":{\"field\":\"y\"}},\"id\":\"75485\",\"type\":\"Line\"},{\"attributes\":{\"line_color\":\"#1f77b4\",\"line_width\":2,\"x\":{\"field\":\"x\"},\"y\":{\"field\":\"y\"}},\"id\":\"75484\",\"type\":\"Line\"},{\"attributes\":{},\"id\":\"76446\",\"type\":\"Selection\"},{\"attributes\":{},\"id\":\"76442\",\"type\":\"CategoricalTickFormatter\"},{\"attributes\":{\"dimension\":1,\"plot\":{\"id\":\"75463\",\"subtype\":\"Figure\",\"type\":\"Plot\"},\"ticker\":{\"id\":\"75478\",\"type\":\"BasicTicker\"}},\"id\":\"75481\",\"type\":\"Grid\"},{\"attributes\":{\"active_drag\":\"auto\",\"active_inspect\":\"auto\",\"active_multi\":null,\"active_scroll\":\"auto\",\"active_tap\":\"auto\"},\"id\":\"75482\",\"type\":\"Toolbar\"},{\"attributes\":{},\"id\":\"75478\",\"type\":\"BasicTicker\"},{\"attributes\":{},\"id\":\"76445\",\"type\":\"UnionRenderers\"},{\"attributes\":{\"formatter\":{\"id\":\"76442\",\"type\":\"CategoricalTickFormatter\"},\"major_label_orientation\":1,\"plot\":{\"id\":\"75463\",\"subtype\":\"Figure\",\"type\":\"Plot\"},\"ticker\":{\"id\":\"75474\",\"type\":\"CategoricalTicker\"}},\"id\":\"75473\",\"type\":\"CategoricalAxis\"},{\"attributes\":{\"formatter\":{\"id\":\"76444\",\"type\":\"BasicTickFormatter\"},\"plot\":{\"id\":\"75463\",\"subtype\":\"Figure\",\"type\":\"Plot\"},\"ticker\":{\"id\":\"75478\",\"type\":\"BasicTicker\"}},\"id\":\"75477\",\"type\":\"LinearAxis\"},{\"attributes\":{\"plot\":{\"id\":\"75463\",\"subtype\":\"Figure\",\"type\":\"Plot\"},\"ticker\":{\"id\":\"75474\",\"type\":\"CategoricalTicker\"}},\"id\":\"75476\",\"type\":\"Grid\"},{\"attributes\":{},\"id\":\"76444\",\"type\":\"BasicTickFormatter\"},{\"attributes\":{\"callback\":null},\"id\":\"75467\",\"type\":\"DataRange1d\"},{\"attributes\":{\"callback\":null,\"data\":{\"x\":[\"ENERO\",\"FEBRERO\",\"MARZO\",\"ABRIL\",\"MAYO\",\"JUNIO\",\"JULIO\",\"AGOSTO\",\"SEPTIEMBRE\",\"OCTUBRE\",\"NOVIEMBRE\",\"DICIEMBRE\"],\"y\":{\"__ndarray__\":\"8tJNYhDQfUDNzMzMzDB8QLbz/dR4F35AEoPAyqETfEDD9Shcjzh8QKrx0k1iHntA001iEFh7e0CMbOf7qSV7QLTIdr6fqnlAAyuHFtksekAxCKwcWkB5QGMQWDm0InpA\",\"dtype\":\"float64\",\"shape\":[12]}},\"selected\":{\"id\":\"76446\",\"type\":\"Selection\"},\"selection_policy\":{\"id\":\"76445\",\"type\":\"UnionRenderers\"}},\"id\":\"75483\",\"type\":\"ColumnDataSource\"},{\"attributes\":{\"data_source\":{\"id\":\"75483\",\"type\":\"ColumnDataSource\"},\"glyph\":{\"id\":\"75484\",\"type\":\"Line\"},\"hover_glyph\":null,\"muted_glyph\":null,\"nonselection_glyph\":{\"id\":\"75485\",\"type\":\"Line\"},\"selection_glyph\":null,\"view\":{\"id\":\"75487\",\"type\":\"CDSView\"}},\"id\":\"75486\",\"type\":\"GlyphRenderer\"},{\"attributes\":{},\"id\":\"75469\",\"type\":\"CategoricalScale\"},{\"attributes\":{\"source\":{\"id\":\"75483\",\"type\":\"ColumnDataSource\"}},\"id\":\"75487\",\"type\":\"CDSView\"},{\"attributes\":{},\"id\":\"75474\",\"type\":\"CategoricalTicker\"},{\"attributes\":{\"callback\":null,\"factors\":[\"ENERO\",\"FEBRERO\",\"MARZO\",\"ABRIL\",\"MAYO\",\"JUNIO\",\"JULIO\",\"AGOSTO\",\"SEPTIEMBRE\",\"OCTUBRE\",\"NOVIEMBRE\",\"DICIEMBRE\"]},\"id\":\"75465\",\"type\":\"FactorRange\"},{\"attributes\":{\"plot\":null,\"text\":\"FANNY-18B\"},\"id\":\"75462\",\"type\":\"Title\"}],\"root_ids\":[\"75463\"]},\"title\":\"Bokeh Application\",\"version\":\"1.0.3\"}};\n",
       "  var render_items = [{\"docid\":\"0e2cf369-4259-4c08-8675-77a3160f89c3\",\"roots\":{\"75463\":\"917347f9-7e08-487c-b3f5-99f178b083be\"}}];\n",
       "  root.Bokeh.embed.embed_items_notebook(docs_json, render_items);\n",
       "\n",
       "  }\n",
       "  if (root.Bokeh !== undefined) {\n",
       "    embed_document(root);\n",
       "  } else {\n",
       "    var attempts = 0;\n",
       "    var timer = setInterval(function(root) {\n",
       "      if (root.Bokeh !== undefined) {\n",
       "        embed_document(root);\n",
       "        clearInterval(timer);\n",
       "      }\n",
       "      attempts++;\n",
       "      if (attempts > 100) {\n",
       "        console.log(\"Bokeh: ERROR: Unable to run BokehJS code because BokehJS library is missing\");\n",
       "        clearInterval(timer);\n",
       "      }\n",
       "    }, 10, root)\n",
       "  }\n",
       "})(window);"
      ],
      "application/vnd.bokehjs_exec.v0+json": ""
     },
     "metadata": {
      "application/vnd.bokehjs_exec.v0+json": {
       "id": "75463"
      }
     },
     "output_type": "display_data"
    },
    {
     "name": "stdout",
     "output_type": "stream",
     "text": [
      "    ENERO  FEBRERO  MARZO  ABRIL  MAYO  JUNIO   JULIO  AGOSTO  SEPTIEMBRE  \\\n",
      "11    0.0      0.0    0.0    0.0   0.0    0.0  20.063  16.212       10.66   \n",
      "\n",
      "    OCTUBRE  NOVIEMBRE  DICIEMBRE  \n",
      "11    9.176      7.836      7.242  \n"
     ]
    },
    {
     "data": {
      "text/html": [
       "\n",
       "\n",
       "\n",
       "\n",
       "\n",
       "\n",
       "  <div class=\"bk-root\" id=\"09b6ed00-c1b0-4311-95eb-967012af77ab\" data-root-id=\"76490\"></div>\n"
      ]
     },
     "metadata": {},
     "output_type": "display_data"
    },
    {
     "data": {
      "application/javascript": [
       "(function(root) {\n",
       "  function embed_document(root) {\n",
       "    \n",
       "  var docs_json = {\"e97bb014-cddc-4a82-bbb8-8da83338d0f6\":{\"roots\":{\"references\":[{\"attributes\":{\"below\":[{\"id\":\"76500\",\"type\":\"CategoricalAxis\"}],\"left\":[{\"id\":\"76504\",\"type\":\"LinearAxis\"}],\"plot_height\":550,\"plot_width\":550,\"renderers\":[{\"id\":\"76500\",\"type\":\"CategoricalAxis\"},{\"id\":\"76503\",\"type\":\"Grid\"},{\"id\":\"76504\",\"type\":\"LinearAxis\"},{\"id\":\"76508\",\"type\":\"Grid\"},{\"id\":\"76513\",\"type\":\"GlyphRenderer\"}],\"title\":{\"id\":\"76489\",\"type\":\"Title\"},\"toolbar\":{\"id\":\"76509\",\"type\":\"Toolbar\"},\"toolbar_location\":null,\"x_range\":{\"id\":\"76492\",\"type\":\"FactorRange\"},\"x_scale\":{\"id\":\"76496\",\"type\":\"CategoricalScale\"},\"y_range\":{\"id\":\"76494\",\"type\":\"DataRange1d\"},\"y_scale\":{\"id\":\"76498\",\"type\":\"LinearScale\"}},\"id\":\"76490\",\"subtype\":\"Figure\",\"type\":\"Plot\"},{\"attributes\":{},\"id\":\"76498\",\"type\":\"LinearScale\"},{\"attributes\":{\"line_alpha\":0.1,\"line_color\":\"#1f77b4\",\"line_width\":2,\"x\":{\"field\":\"x\"},\"y\":{\"field\":\"y\"}},\"id\":\"76512\",\"type\":\"Line\"},{\"attributes\":{\"callback\":null,\"data\":{\"x\":[\"ENERO\",\"FEBRERO\",\"MARZO\",\"ABRIL\",\"MAYO\",\"JUNIO\",\"JULIO\",\"AGOSTO\",\"SEPTIEMBRE\",\"OCTUBRE\",\"NOVIEMBRE\",\"DICIEMBRE\"],\"y\":{\"__ndarray__\":\"AAAAAAAAAAAAAAAAAAAAAAAAAAAAAAAAAAAAAAAAAAAAAAAAAAAAAAAAAAAAAAAA46WbxCAQNECDwMqhRTYwQFK4HoXrUSVAJzEIrBxaIkDy0k1iEFgfQCyHFtnO9xxA\",\"dtype\":\"float64\",\"shape\":[12]}},\"selected\":{\"id\":\"77480\",\"type\":\"Selection\"},\"selection_policy\":{\"id\":\"77479\",\"type\":\"UnionRenderers\"}},\"id\":\"76510\",\"type\":\"ColumnDataSource\"},{\"attributes\":{},\"id\":\"77480\",\"type\":\"Selection\"},{\"attributes\":{},\"id\":\"77478\",\"type\":\"BasicTickFormatter\"},{\"attributes\":{\"dimension\":1,\"plot\":{\"id\":\"76490\",\"subtype\":\"Figure\",\"type\":\"Plot\"},\"ticker\":{\"id\":\"76505\",\"type\":\"BasicTicker\"}},\"id\":\"76508\",\"type\":\"Grid\"},{\"attributes\":{},\"id\":\"77476\",\"type\":\"CategoricalTickFormatter\"},{\"attributes\":{},\"id\":\"77479\",\"type\":\"UnionRenderers\"},{\"attributes\":{\"data_source\":{\"id\":\"76510\",\"type\":\"ColumnDataSource\"},\"glyph\":{\"id\":\"76511\",\"type\":\"Line\"},\"hover_glyph\":null,\"muted_glyph\":null,\"nonselection_glyph\":{\"id\":\"76512\",\"type\":\"Line\"},\"selection_glyph\":null,\"view\":{\"id\":\"76514\",\"type\":\"CDSView\"}},\"id\":\"76513\",\"type\":\"GlyphRenderer\"},{\"attributes\":{\"plot\":{\"id\":\"76490\",\"subtype\":\"Figure\",\"type\":\"Plot\"},\"ticker\":{\"id\":\"76501\",\"type\":\"CategoricalTicker\"}},\"id\":\"76503\",\"type\":\"Grid\"},{\"attributes\":{\"source\":{\"id\":\"76510\",\"type\":\"ColumnDataSource\"}},\"id\":\"76514\",\"type\":\"CDSView\"},{\"attributes\":{\"callback\":null,\"factors\":[\"ENERO\",\"FEBRERO\",\"MARZO\",\"ABRIL\",\"MAYO\",\"JUNIO\",\"JULIO\",\"AGOSTO\",\"SEPTIEMBRE\",\"OCTUBRE\",\"NOVIEMBRE\",\"DICIEMBRE\"]},\"id\":\"76492\",\"type\":\"FactorRange\"},{\"attributes\":{},\"id\":\"76501\",\"type\":\"CategoricalTicker\"},{\"attributes\":{\"plot\":null,\"text\":\"JOHANNA\"},\"id\":\"76489\",\"type\":\"Title\"},{\"attributes\":{},\"id\":\"76505\",\"type\":\"BasicTicker\"},{\"attributes\":{\"active_drag\":\"auto\",\"active_inspect\":\"auto\",\"active_multi\":null,\"active_scroll\":\"auto\",\"active_tap\":\"auto\"},\"id\":\"76509\",\"type\":\"Toolbar\"},{\"attributes\":{},\"id\":\"76496\",\"type\":\"CategoricalScale\"},{\"attributes\":{\"line_color\":\"#1f77b4\",\"line_width\":2,\"x\":{\"field\":\"x\"},\"y\":{\"field\":\"y\"}},\"id\":\"76511\",\"type\":\"Line\"},{\"attributes\":{\"formatter\":{\"id\":\"77476\",\"type\":\"CategoricalTickFormatter\"},\"major_label_orientation\":1,\"plot\":{\"id\":\"76490\",\"subtype\":\"Figure\",\"type\":\"Plot\"},\"ticker\":{\"id\":\"76501\",\"type\":\"CategoricalTicker\"}},\"id\":\"76500\",\"type\":\"CategoricalAxis\"},{\"attributes\":{\"formatter\":{\"id\":\"77478\",\"type\":\"BasicTickFormatter\"},\"plot\":{\"id\":\"76490\",\"subtype\":\"Figure\",\"type\":\"Plot\"},\"ticker\":{\"id\":\"76505\",\"type\":\"BasicTicker\"}},\"id\":\"76504\",\"type\":\"LinearAxis\"},{\"attributes\":{\"callback\":null},\"id\":\"76494\",\"type\":\"DataRange1d\"}],\"root_ids\":[\"76490\"]},\"title\":\"Bokeh Application\",\"version\":\"1.0.3\"}};\n",
       "  var render_items = [{\"docid\":\"e97bb014-cddc-4a82-bbb8-8da83338d0f6\",\"roots\":{\"76490\":\"09b6ed00-c1b0-4311-95eb-967012af77ab\"}}];\n",
       "  root.Bokeh.embed.embed_items_notebook(docs_json, render_items);\n",
       "\n",
       "  }\n",
       "  if (root.Bokeh !== undefined) {\n",
       "    embed_document(root);\n",
       "  } else {\n",
       "    var attempts = 0;\n",
       "    var timer = setInterval(function(root) {\n",
       "      if (root.Bokeh !== undefined) {\n",
       "        embed_document(root);\n",
       "        clearInterval(timer);\n",
       "      }\n",
       "      attempts++;\n",
       "      if (attempts > 100) {\n",
       "        console.log(\"Bokeh: ERROR: Unable to run BokehJS code because BokehJS library is missing\");\n",
       "        clearInterval(timer);\n",
       "      }\n",
       "    }, 10, root)\n",
       "  }\n",
       "})(window);"
      ],
      "application/vnd.bokehjs_exec.v0+json": ""
     },
     "metadata": {
      "application/vnd.bokehjs_exec.v0+json": {
       "id": "76490"
      }
     },
     "output_type": "display_data"
    },
    {
     "name": "stdout",
     "output_type": "stream",
     "text": [
      "    ENERO  FEBRERO  MARZO  ABRIL   MAYO  JUNIO  JULIO  AGOSTO  SEPTIEMBRE  \\\n",
      "12  7.699    6.381  7.571  7.738  8.089  7.046  6.562   6.714       6.184   \n",
      "\n",
      "    OCTUBRE  NOVIEMBRE  DICIEMBRE  \n",
      "12    6.309       5.97      6.008  \n"
     ]
    },
    {
     "data": {
      "text/html": [
       "\n",
       "\n",
       "\n",
       "\n",
       "\n",
       "\n",
       "  <div class=\"bk-root\" id=\"f75abe46-f20d-47ee-a1f8-8a70195225f2\" data-root-id=\"77524\"></div>\n"
      ]
     },
     "metadata": {},
     "output_type": "display_data"
    },
    {
     "data": {
      "application/javascript": [
       "(function(root) {\n",
       "  function embed_document(root) {\n",
       "    \n",
       "  var docs_json = {\"a8979abb-e3da-4738-b1d1-b243384f5db0\":{\"roots\":{\"references\":[{\"attributes\":{\"below\":[{\"id\":\"77534\",\"type\":\"CategoricalAxis\"}],\"left\":[{\"id\":\"77538\",\"type\":\"LinearAxis\"}],\"plot_height\":550,\"plot_width\":550,\"renderers\":[{\"id\":\"77534\",\"type\":\"CategoricalAxis\"},{\"id\":\"77537\",\"type\":\"Grid\"},{\"id\":\"77538\",\"type\":\"LinearAxis\"},{\"id\":\"77542\",\"type\":\"Grid\"},{\"id\":\"77547\",\"type\":\"GlyphRenderer\"}],\"title\":{\"id\":\"77523\",\"type\":\"Title\"},\"toolbar\":{\"id\":\"77543\",\"type\":\"Toolbar\"},\"toolbar_location\":null,\"x_range\":{\"id\":\"77526\",\"type\":\"FactorRange\"},\"x_scale\":{\"id\":\"77530\",\"type\":\"CategoricalScale\"},\"y_range\":{\"id\":\"77528\",\"type\":\"DataRange1d\"},\"y_scale\":{\"id\":\"77532\",\"type\":\"LinearScale\"}},\"id\":\"77524\",\"subtype\":\"Figure\",\"type\":\"Plot\"},{\"attributes\":{\"line_alpha\":0.1,\"line_color\":\"#1f77b4\",\"line_width\":2,\"x\":{\"field\":\"x\"},\"y\":{\"field\":\"y\"}},\"id\":\"77546\",\"type\":\"Line\"},{\"attributes\":{},\"id\":\"78520\",\"type\":\"UnionRenderers\"},{\"attributes\":{},\"id\":\"77535\",\"type\":\"CategoricalTicker\"},{\"attributes\":{\"callback\":null,\"factors\":[\"ENERO\",\"FEBRERO\",\"MARZO\",\"ABRIL\",\"MAYO\",\"JUNIO\",\"JULIO\",\"AGOSTO\",\"SEPTIEMBRE\",\"OCTUBRE\",\"NOVIEMBRE\",\"DICIEMBRE\"]},\"id\":\"77526\",\"type\":\"FactorRange\"},{\"attributes\":{\"active_drag\":\"auto\",\"active_inspect\":\"auto\",\"active_multi\":null,\"active_scroll\":\"auto\",\"active_tap\":\"auto\"},\"id\":\"77543\",\"type\":\"Toolbar\"},{\"attributes\":{},\"id\":\"77530\",\"type\":\"CategoricalScale\"},{\"attributes\":{\"plot\":{\"id\":\"77524\",\"subtype\":\"Figure\",\"type\":\"Plot\"},\"ticker\":{\"id\":\"77535\",\"type\":\"CategoricalTicker\"}},\"id\":\"77537\",\"type\":\"Grid\"},{\"attributes\":{},\"id\":\"77532\",\"type\":\"LinearScale\"},{\"attributes\":{},\"id\":\"77539\",\"type\":\"BasicTicker\"},{\"attributes\":{},\"id\":\"78519\",\"type\":\"BasicTickFormatter\"},{\"attributes\":{\"formatter\":{\"id\":\"78517\",\"type\":\"CategoricalTickFormatter\"},\"major_label_orientation\":1,\"plot\":{\"id\":\"77524\",\"subtype\":\"Figure\",\"type\":\"Plot\"},\"ticker\":{\"id\":\"77535\",\"type\":\"CategoricalTicker\"}},\"id\":\"77534\",\"type\":\"CategoricalAxis\"},{\"attributes\":{\"formatter\":{\"id\":\"78519\",\"type\":\"BasicTickFormatter\"},\"plot\":{\"id\":\"77524\",\"subtype\":\"Figure\",\"type\":\"Plot\"},\"ticker\":{\"id\":\"77539\",\"type\":\"BasicTicker\"}},\"id\":\"77538\",\"type\":\"LinearAxis\"},{\"attributes\":{\"dimension\":1,\"plot\":{\"id\":\"77524\",\"subtype\":\"Figure\",\"type\":\"Plot\"},\"ticker\":{\"id\":\"77539\",\"type\":\"BasicTicker\"}},\"id\":\"77542\",\"type\":\"Grid\"},{\"attributes\":{\"callback\":null},\"id\":\"77528\",\"type\":\"DataRange1d\"},{\"attributes\":{},\"id\":\"78521\",\"type\":\"Selection\"},{\"attributes\":{\"callback\":null,\"data\":{\"x\":[\"ENERO\",\"FEBRERO\",\"MARZO\",\"ABRIL\",\"MAYO\",\"JUNIO\",\"JULIO\",\"AGOSTO\",\"SEPTIEMBRE\",\"OCTUBRE\",\"NOVIEMBRE\",\"DICIEMBRE\"],\"y\":{\"__ndarray__\":\"sp3vp8bLHkCgGi/dJIYZQGMQWDm0SB5AwMqhRbbzHkAhsHJokS0gQMl2vp8aLxxAc2iR7Xw/GkBBYOXQItsaQCPb+X5qvBhAI9v5fmo8GUDhehSuR+EXQNR46SYxCBhA\",\"dtype\":\"float64\",\"shape\":[12]}},\"selected\":{\"id\":\"78521\",\"type\":\"Selection\"},\"selection_policy\":{\"id\":\"78520\",\"type\":\"UnionRenderers\"}},\"id\":\"77544\",\"type\":\"ColumnDataSource\"},{\"attributes\":{\"source\":{\"id\":\"77544\",\"type\":\"ColumnDataSource\"}},\"id\":\"77548\",\"type\":\"CDSView\"},{\"attributes\":{\"plot\":null,\"text\":\"MAHOGANY\"},\"id\":\"77523\",\"type\":\"Title\"},{\"attributes\":{},\"id\":\"78517\",\"type\":\"CategoricalTickFormatter\"},{\"attributes\":{\"data_source\":{\"id\":\"77544\",\"type\":\"ColumnDataSource\"},\"glyph\":{\"id\":\"77545\",\"type\":\"Line\"},\"hover_glyph\":null,\"muted_glyph\":null,\"nonselection_glyph\":{\"id\":\"77546\",\"type\":\"Line\"},\"selection_glyph\":null,\"view\":{\"id\":\"77548\",\"type\":\"CDSView\"}},\"id\":\"77547\",\"type\":\"GlyphRenderer\"},{\"attributes\":{\"line_color\":\"#1f77b4\",\"line_width\":2,\"x\":{\"field\":\"x\"},\"y\":{\"field\":\"y\"}},\"id\":\"77545\",\"type\":\"Line\"}],\"root_ids\":[\"77524\"]},\"title\":\"Bokeh Application\",\"version\":\"1.0.3\"}};\n",
       "  var render_items = [{\"docid\":\"a8979abb-e3da-4738-b1d1-b243384f5db0\",\"roots\":{\"77524\":\"f75abe46-f20d-47ee-a1f8-8a70195225f2\"}}];\n",
       "  root.Bokeh.embed.embed_items_notebook(docs_json, render_items);\n",
       "\n",
       "  }\n",
       "  if (root.Bokeh !== undefined) {\n",
       "    embed_document(root);\n",
       "  } else {\n",
       "    var attempts = 0;\n",
       "    var timer = setInterval(function(root) {\n",
       "      if (root.Bokeh !== undefined) {\n",
       "        embed_document(root);\n",
       "        clearInterval(timer);\n",
       "      }\n",
       "      attempts++;\n",
       "      if (attempts > 100) {\n",
       "        console.log(\"Bokeh: ERROR: Unable to run BokehJS code because BokehJS library is missing\");\n",
       "        clearInterval(timer);\n",
       "      }\n",
       "    }, 10, root)\n",
       "  }\n",
       "})(window);"
      ],
      "application/vnd.bokehjs_exec.v0+json": ""
     },
     "metadata": {
      "application/vnd.bokehjs_exec.v0+json": {
       "id": "77524"
      }
     },
     "output_type": "display_data"
    },
    {
     "name": "stdout",
     "output_type": "stream",
     "text": [
      "     ENERO  FEBRERO   MARZO    ABRIL     MAYO    JUNIO    JULIO   AGOSTO  \\\n",
      "13  87.413   79.332  82.781  100.134  117.154  121.881  126.045  165.028   \n",
      "\n",
      "    SEPTIEMBRE  OCTUBRE  NOVIEMBRE  DICIEMBRE  \n",
      "13     159.941  177.997    176.045    202.455  \n"
     ]
    },
    {
     "data": {
      "text/html": [
       "\n",
       "\n",
       "\n",
       "\n",
       "\n",
       "\n",
       "  <div class=\"bk-root\" id=\"739ec390-6efa-4e60-b3d6-11c13b8d5919\" data-root-id=\"78565\"></div>\n"
      ]
     },
     "metadata": {},
     "output_type": "display_data"
    },
    {
     "data": {
      "application/javascript": [
       "(function(root) {\n",
       "  function embed_document(root) {\n",
       "    \n",
       "  var docs_json = {\"36dd5c77-e1b2-408b-879a-60492f935749\":{\"roots\":{\"references\":[{\"attributes\":{\"below\":[{\"id\":\"78575\",\"type\":\"CategoricalAxis\"}],\"left\":[{\"id\":\"78579\",\"type\":\"LinearAxis\"}],\"plot_height\":550,\"plot_width\":550,\"renderers\":[{\"id\":\"78575\",\"type\":\"CategoricalAxis\"},{\"id\":\"78578\",\"type\":\"Grid\"},{\"id\":\"78579\",\"type\":\"LinearAxis\"},{\"id\":\"78583\",\"type\":\"Grid\"},{\"id\":\"78588\",\"type\":\"GlyphRenderer\"}],\"title\":{\"id\":\"78564\",\"type\":\"Title\"},\"toolbar\":{\"id\":\"78584\",\"type\":\"Toolbar\"},\"toolbar_location\":null,\"x_range\":{\"id\":\"78567\",\"type\":\"FactorRange\"},\"x_scale\":{\"id\":\"78571\",\"type\":\"CategoricalScale\"},\"y_range\":{\"id\":\"78569\",\"type\":\"DataRange1d\"},\"y_scale\":{\"id\":\"78573\",\"type\":\"LinearScale\"}},\"id\":\"78565\",\"subtype\":\"Figure\",\"type\":\"Plot\"},{\"attributes\":{\"active_drag\":\"auto\",\"active_inspect\":\"auto\",\"active_multi\":null,\"active_scroll\":\"auto\",\"active_tap\":\"auto\"},\"id\":\"78584\",\"type\":\"Toolbar\"},{\"attributes\":{\"line_color\":\"#1f77b4\",\"line_width\":2,\"x\":{\"field\":\"x\"},\"y\":{\"field\":\"y\"}},\"id\":\"78586\",\"type\":\"Line\"},{\"attributes\":{\"callback\":null},\"id\":\"78569\",\"type\":\"DataRange1d\"},{\"attributes\":{\"formatter\":{\"id\":\"79565\",\"type\":\"CategoricalTickFormatter\"},\"major_label_orientation\":1,\"plot\":{\"id\":\"78565\",\"subtype\":\"Figure\",\"type\":\"Plot\"},\"ticker\":{\"id\":\"78576\",\"type\":\"CategoricalTicker\"}},\"id\":\"78575\",\"type\":\"CategoricalAxis\"},{\"attributes\":{\"plot\":{\"id\":\"78565\",\"subtype\":\"Figure\",\"type\":\"Plot\"},\"ticker\":{\"id\":\"78576\",\"type\":\"CategoricalTicker\"}},\"id\":\"78578\",\"type\":\"Grid\"},{\"attributes\":{},\"id\":\"78580\",\"type\":\"BasicTicker\"},{\"attributes\":{\"callback\":null,\"data\":{\"x\":[\"ENERO\",\"FEBRERO\",\"MARZO\",\"ABRIL\",\"MAYO\",\"JUNIO\",\"JULIO\",\"AGOSTO\",\"SEPTIEMBRE\",\"OCTUBRE\",\"NOVIEMBRE\",\"DICIEMBRE\"],\"y\":{\"__ndarray__\":\"30+Nl27aVUBoke18P9VTQESLbOf7sVRAf2q8dJMIWUBg5dAi20ldQKrx0k1ieF5AexSuR+GCX0A3iUFg5aBkQCcxCKwc/mNAlkOLbOc/ZkA9CtejcAFmQMP1KFyPTmlA\",\"dtype\":\"float64\",\"shape\":[12]}},\"selected\":{\"id\":\"79569\",\"type\":\"Selection\"},\"selection_policy\":{\"id\":\"79568\",\"type\":\"UnionRenderers\"}},\"id\":\"78585\",\"type\":\"ColumnDataSource\"},{\"attributes\":{},\"id\":\"78573\",\"type\":\"LinearScale\"},{\"attributes\":{\"dimension\":1,\"plot\":{\"id\":\"78565\",\"subtype\":\"Figure\",\"type\":\"Plot\"},\"ticker\":{\"id\":\"78580\",\"type\":\"BasicTicker\"}},\"id\":\"78583\",\"type\":\"Grid\"},{\"attributes\":{\"formatter\":{\"id\":\"79567\",\"type\":\"BasicTickFormatter\"},\"plot\":{\"id\":\"78565\",\"subtype\":\"Figure\",\"type\":\"Plot\"},\"ticker\":{\"id\":\"78580\",\"type\":\"BasicTicker\"}},\"id\":\"78579\",\"type\":\"LinearAxis\"},{\"attributes\":{},\"id\":\"79569\",\"type\":\"Selection\"},{\"attributes\":{},\"id\":\"78576\",\"type\":\"CategoricalTicker\"},{\"attributes\":{},\"id\":\"79567\",\"type\":\"BasicTickFormatter\"},{\"attributes\":{\"source\":{\"id\":\"78585\",\"type\":\"ColumnDataSource\"}},\"id\":\"78589\",\"type\":\"CDSView\"},{\"attributes\":{\"plot\":null,\"text\":\"MARIANN\"},\"id\":\"78564\",\"type\":\"Title\"},{\"attributes\":{},\"id\":\"78571\",\"type\":\"CategoricalScale\"},{\"attributes\":{\"callback\":null,\"factors\":[\"ENERO\",\"FEBRERO\",\"MARZO\",\"ABRIL\",\"MAYO\",\"JUNIO\",\"JULIO\",\"AGOSTO\",\"SEPTIEMBRE\",\"OCTUBRE\",\"NOVIEMBRE\",\"DICIEMBRE\"]},\"id\":\"78567\",\"type\":\"FactorRange\"},{\"attributes\":{},\"id\":\"79568\",\"type\":\"UnionRenderers\"},{\"attributes\":{\"line_alpha\":0.1,\"line_color\":\"#1f77b4\",\"line_width\":2,\"x\":{\"field\":\"x\"},\"y\":{\"field\":\"y\"}},\"id\":\"78587\",\"type\":\"Line\"},{\"attributes\":{\"data_source\":{\"id\":\"78585\",\"type\":\"ColumnDataSource\"},\"glyph\":{\"id\":\"78586\",\"type\":\"Line\"},\"hover_glyph\":null,\"muted_glyph\":null,\"nonselection_glyph\":{\"id\":\"78587\",\"type\":\"Line\"},\"selection_glyph\":null,\"view\":{\"id\":\"78589\",\"type\":\"CDSView\"}},\"id\":\"78588\",\"type\":\"GlyphRenderer\"},{\"attributes\":{},\"id\":\"79565\",\"type\":\"CategoricalTickFormatter\"}],\"root_ids\":[\"78565\"]},\"title\":\"Bokeh Application\",\"version\":\"1.0.3\"}};\n",
       "  var render_items = [{\"docid\":\"36dd5c77-e1b2-408b-879a-60492f935749\",\"roots\":{\"78565\":\"739ec390-6efa-4e60-b3d6-11c13b8d5919\"}}];\n",
       "  root.Bokeh.embed.embed_items_notebook(docs_json, render_items);\n",
       "\n",
       "  }\n",
       "  if (root.Bokeh !== undefined) {\n",
       "    embed_document(root);\n",
       "  } else {\n",
       "    var attempts = 0;\n",
       "    var timer = setInterval(function(root) {\n",
       "      if (root.Bokeh !== undefined) {\n",
       "        embed_document(root);\n",
       "        clearInterval(timer);\n",
       "      }\n",
       "      attempts++;\n",
       "      if (attempts > 100) {\n",
       "        console.log(\"Bokeh: ERROR: Unable to run BokehJS code because BokehJS library is missing\");\n",
       "        clearInterval(timer);\n",
       "      }\n",
       "    }, 10, root)\n",
       "  }\n",
       "})(window);"
      ],
      "application/vnd.bokehjs_exec.v0+json": ""
     },
     "metadata": {
      "application/vnd.bokehjs_exec.v0+json": {
       "id": "78565"
      }
     },
     "output_type": "display_data"
    },
    {
     "name": "stdout",
     "output_type": "stream",
     "text": [
      "    ENERO  FEBRERO  MARZO  ABRIL   MAYO  JUNIO  JULIO  AGOSTO  SEPTIEMBRE  \\\n",
      "14  5.341    2.828    0.0    0.0  829.0  1.449  1.556     0.0         0.0   \n",
      "\n",
      "    OCTUBRE  NOVIEMBRE  DICIEMBRE  \n",
      "14      0.0        0.0        0.0  \n"
     ]
    },
    {
     "data": {
      "text/html": [
       "\n",
       "\n",
       "\n",
       "\n",
       "\n",
       "\n",
       "  <div class=\"bk-root\" id=\"4baec27b-3408-4eef-8a23-657164c9010f\" data-root-id=\"79613\"></div>\n"
      ]
     },
     "metadata": {},
     "output_type": "display_data"
    },
    {
     "data": {
      "application/javascript": [
       "(function(root) {\n",
       "  function embed_document(root) {\n",
       "    \n",
       "  var docs_json = {\"ca34a60a-fed4-4f8d-b40b-76146addca49\":{\"roots\":{\"references\":[{\"attributes\":{\"below\":[{\"id\":\"79623\",\"type\":\"CategoricalAxis\"}],\"left\":[{\"id\":\"79627\",\"type\":\"LinearAxis\"}],\"plot_height\":550,\"plot_width\":550,\"renderers\":[{\"id\":\"79623\",\"type\":\"CategoricalAxis\"},{\"id\":\"79626\",\"type\":\"Grid\"},{\"id\":\"79627\",\"type\":\"LinearAxis\"},{\"id\":\"79631\",\"type\":\"Grid\"},{\"id\":\"79636\",\"type\":\"GlyphRenderer\"}],\"title\":{\"id\":\"79612\",\"type\":\"Title\"},\"toolbar\":{\"id\":\"79632\",\"type\":\"Toolbar\"},\"toolbar_location\":null,\"x_range\":{\"id\":\"79615\",\"type\":\"FactorRange\"},\"x_scale\":{\"id\":\"79619\",\"type\":\"CategoricalScale\"},\"y_range\":{\"id\":\"79617\",\"type\":\"DataRange1d\"},\"y_scale\":{\"id\":\"79621\",\"type\":\"LinearScale\"}},\"id\":\"79613\",\"subtype\":\"Figure\",\"type\":\"Plot\"},{\"attributes\":{\"dimension\":1,\"plot\":{\"id\":\"79613\",\"subtype\":\"Figure\",\"type\":\"Plot\"},\"ticker\":{\"id\":\"79628\",\"type\":\"BasicTicker\"}},\"id\":\"79631\",\"type\":\"Grid\"},{\"attributes\":{\"formatter\":{\"id\":\"80622\",\"type\":\"BasicTickFormatter\"},\"plot\":{\"id\":\"79613\",\"subtype\":\"Figure\",\"type\":\"Plot\"},\"ticker\":{\"id\":\"79628\",\"type\":\"BasicTicker\"}},\"id\":\"79627\",\"type\":\"LinearAxis\"},{\"attributes\":{\"callback\":null,\"data\":{\"x\":[\"ENERO\",\"FEBRERO\",\"MARZO\",\"ABRIL\",\"MAYO\",\"JUNIO\",\"JULIO\",\"AGOSTO\",\"SEPTIEMBRE\",\"OCTUBRE\",\"NOVIEMBRE\",\"DICIEMBRE\"],\"y\":{\"__ndarray__\":\"d76fGi9dFUA6tMh2vp8GQAAAAAAAAAAAAAAAAAAAAAAAAAAAAOiJQMl2vp8aL/c/TDeJQWDl+D8AAAAAAAAAAAAAAAAAAAAAAAAAAAAAAAAAAAAAAAAAAAAAAAAAAAAA\",\"dtype\":\"float64\",\"shape\":[12]}},\"selected\":{\"id\":\"80624\",\"type\":\"Selection\"},\"selection_policy\":{\"id\":\"80623\",\"type\":\"UnionRenderers\"}},\"id\":\"79633\",\"type\":\"ColumnDataSource\"},{\"attributes\":{\"line_alpha\":0.1,\"line_color\":\"#1f77b4\",\"line_width\":2,\"x\":{\"field\":\"x\"},\"y\":{\"field\":\"y\"}},\"id\":\"79635\",\"type\":\"Line\"},{\"attributes\":{\"formatter\":{\"id\":\"80620\",\"type\":\"CategoricalTickFormatter\"},\"major_label_orientation\":1,\"plot\":{\"id\":\"79613\",\"subtype\":\"Figure\",\"type\":\"Plot\"},\"ticker\":{\"id\":\"79624\",\"type\":\"CategoricalTicker\"}},\"id\":\"79623\",\"type\":\"CategoricalAxis\"},{\"attributes\":{\"plot\":null,\"text\":\"MARIANN NORTE\"},\"id\":\"79612\",\"type\":\"Title\"},{\"attributes\":{\"callback\":null,\"factors\":[\"ENERO\",\"FEBRERO\",\"MARZO\",\"ABRIL\",\"MAYO\",\"JUNIO\",\"JULIO\",\"AGOSTO\",\"SEPTIEMBRE\",\"OCTUBRE\",\"NOVIEMBRE\",\"DICIEMBRE\"]},\"id\":\"79615\",\"type\":\"FactorRange\"},{\"attributes\":{\"plot\":{\"id\":\"79613\",\"subtype\":\"Figure\",\"type\":\"Plot\"},\"ticker\":{\"id\":\"79624\",\"type\":\"CategoricalTicker\"}},\"id\":\"79626\",\"type\":\"Grid\"},{\"attributes\":{},\"id\":\"79624\",\"type\":\"CategoricalTicker\"},{\"attributes\":{},\"id\":\"80622\",\"type\":\"BasicTickFormatter\"},{\"attributes\":{\"active_drag\":\"auto\",\"active_inspect\":\"auto\",\"active_multi\":null,\"active_scroll\":\"auto\",\"active_tap\":\"auto\"},\"id\":\"79632\",\"type\":\"Toolbar\"},{\"attributes\":{},\"id\":\"80620\",\"type\":\"CategoricalTickFormatter\"},{\"attributes\":{\"data_source\":{\"id\":\"79633\",\"type\":\"ColumnDataSource\"},\"glyph\":{\"id\":\"79634\",\"type\":\"Line\"},\"hover_glyph\":null,\"muted_glyph\":null,\"nonselection_glyph\":{\"id\":\"79635\",\"type\":\"Line\"},\"selection_glyph\":null,\"view\":{\"id\":\"79637\",\"type\":\"CDSView\"}},\"id\":\"79636\",\"type\":\"GlyphRenderer\"},{\"attributes\":{},\"id\":\"79628\",\"type\":\"BasicTicker\"},{\"attributes\":{},\"id\":\"79619\",\"type\":\"CategoricalScale\"},{\"attributes\":{\"callback\":null},\"id\":\"79617\",\"type\":\"DataRange1d\"},{\"attributes\":{},\"id\":\"80624\",\"type\":\"Selection\"},{\"attributes\":{},\"id\":\"80623\",\"type\":\"UnionRenderers\"},{\"attributes\":{\"line_color\":\"#1f77b4\",\"line_width\":2,\"x\":{\"field\":\"x\"},\"y\":{\"field\":\"y\"}},\"id\":\"79634\",\"type\":\"Line\"},{\"attributes\":{},\"id\":\"79621\",\"type\":\"LinearScale\"},{\"attributes\":{\"source\":{\"id\":\"79633\",\"type\":\"ColumnDataSource\"}},\"id\":\"79637\",\"type\":\"CDSView\"}],\"root_ids\":[\"79613\"]},\"title\":\"Bokeh Application\",\"version\":\"1.0.3\"}};\n",
       "  var render_items = [{\"docid\":\"ca34a60a-fed4-4f8d-b40b-76146addca49\",\"roots\":{\"79613\":\"4baec27b-3408-4eef-8a23-657164c9010f\"}}];\n",
       "  root.Bokeh.embed.embed_items_notebook(docs_json, render_items);\n",
       "\n",
       "  }\n",
       "  if (root.Bokeh !== undefined) {\n",
       "    embed_document(root);\n",
       "  } else {\n",
       "    var attempts = 0;\n",
       "    var timer = setInterval(function(root) {\n",
       "      if (root.Bokeh !== undefined) {\n",
       "        embed_document(root);\n",
       "        clearInterval(timer);\n",
       "      }\n",
       "      attempts++;\n",
       "      if (attempts > 100) {\n",
       "        console.log(\"Bokeh: ERROR: Unable to run BokehJS code because BokehJS library is missing\");\n",
       "        clearInterval(timer);\n",
       "      }\n",
       "    }, 10, root)\n",
       "  }\n",
       "})(window);"
      ],
      "application/vnd.bokehjs_exec.v0+json": ""
     },
     "metadata": {
      "application/vnd.bokehjs_exec.v0+json": {
       "id": "79613"
      }
     },
     "output_type": "display_data"
    },
    {
     "name": "stdout",
     "output_type": "stream",
     "text": [
      "     ENERO  FEBRERO   MARZO   ABRIL    MAYO   JUNIO   JULIO  AGOSTO  \\\n",
      "15  15.139   17.965  34.679  46.521  58.845  49.236  46.738     0.0   \n",
      "\n",
      "    SEPTIEMBRE  OCTUBRE  NOVIEMBRE  DICIEMBRE  \n",
      "15         0.0      0.0        0.0        0.0  \n"
     ]
    },
    {
     "data": {
      "text/html": [
       "\n",
       "\n",
       "\n",
       "\n",
       "\n",
       "\n",
       "  <div class=\"bk-root\" id=\"2da7eecd-7a90-4d86-aa19-ec216adf7583\" data-root-id=\"80668\"></div>\n"
      ]
     },
     "metadata": {},
     "output_type": "display_data"
    },
    {
     "data": {
      "application/javascript": [
       "(function(root) {\n",
       "  function embed_document(root) {\n",
       "    \n",
       "  var docs_json = {\"0e1d587a-9063-4fb3-b52e-492fe873e5f7\":{\"roots\":{\"references\":[{\"attributes\":{\"below\":[{\"id\":\"80678\",\"type\":\"CategoricalAxis\"}],\"left\":[{\"id\":\"80682\",\"type\":\"LinearAxis\"}],\"plot_height\":550,\"plot_width\":550,\"renderers\":[{\"id\":\"80678\",\"type\":\"CategoricalAxis\"},{\"id\":\"80681\",\"type\":\"Grid\"},{\"id\":\"80682\",\"type\":\"LinearAxis\"},{\"id\":\"80686\",\"type\":\"Grid\"},{\"id\":\"80691\",\"type\":\"GlyphRenderer\"}],\"title\":{\"id\":\"80667\",\"type\":\"Title\"},\"toolbar\":{\"id\":\"80687\",\"type\":\"Toolbar\"},\"toolbar_location\":null,\"x_range\":{\"id\":\"80670\",\"type\":\"FactorRange\"},\"x_scale\":{\"id\":\"80674\",\"type\":\"CategoricalScale\"},\"y_range\":{\"id\":\"80672\",\"type\":\"DataRange1d\"},\"y_scale\":{\"id\":\"80676\",\"type\":\"LinearScale\"}},\"id\":\"80668\",\"subtype\":\"Figure\",\"type\":\"Plot\"},{\"attributes\":{\"callback\":null},\"id\":\"80672\",\"type\":\"DataRange1d\"},{\"attributes\":{\"plot\":null,\"text\":\"MARIANN SUR\"},\"id\":\"80667\",\"type\":\"Title\"},{\"attributes\":{\"formatter\":{\"id\":\"81682\",\"type\":\"CategoricalTickFormatter\"},\"major_label_orientation\":1,\"plot\":{\"id\":\"80668\",\"subtype\":\"Figure\",\"type\":\"Plot\"},\"ticker\":{\"id\":\"80679\",\"type\":\"CategoricalTicker\"}},\"id\":\"80678\",\"type\":\"CategoricalAxis\"},{\"attributes\":{\"active_drag\":\"auto\",\"active_inspect\":\"auto\",\"active_multi\":null,\"active_scroll\":\"auto\",\"active_tap\":\"auto\"},\"id\":\"80687\",\"type\":\"Toolbar\"},{\"attributes\":{},\"id\":\"80679\",\"type\":\"CategoricalTicker\"},{\"attributes\":{},\"id\":\"80674\",\"type\":\"CategoricalScale\"},{\"attributes\":{},\"id\":\"81684\",\"type\":\"BasicTickFormatter\"},{\"attributes\":{\"callback\":null,\"data\":{\"x\":[\"ENERO\",\"FEBRERO\",\"MARZO\",\"ABRIL\",\"MAYO\",\"JUNIO\",\"JULIO\",\"AGOSTO\",\"SEPTIEMBRE\",\"OCTUBRE\",\"NOVIEMBRE\",\"DICIEMBRE\"],\"y\":{\"__ndarray__\":\"u0kMAitHLkDXo3A9CvcxQPT91HjpVkFAppvEILBCR0Bcj8L1KGxNQJLtfD81nkhAWDm0yHZeR0AAAAAAAAAAAAAAAAAAAAAAAAAAAAAAAAAAAAAAAAAAAAAAAAAAAAAA\",\"dtype\":\"float64\",\"shape\":[12]}},\"selected\":{\"id\":\"81686\",\"type\":\"Selection\"},\"selection_policy\":{\"id\":\"81685\",\"type\":\"UnionRenderers\"}},\"id\":\"80688\",\"type\":\"ColumnDataSource\"},{\"attributes\":{\"data_source\":{\"id\":\"80688\",\"type\":\"ColumnDataSource\"},\"glyph\":{\"id\":\"80689\",\"type\":\"Line\"},\"hover_glyph\":null,\"muted_glyph\":null,\"nonselection_glyph\":{\"id\":\"80690\",\"type\":\"Line\"},\"selection_glyph\":null,\"view\":{\"id\":\"80692\",\"type\":\"CDSView\"}},\"id\":\"80691\",\"type\":\"GlyphRenderer\"},{\"attributes\":{\"line_alpha\":0.1,\"line_color\":\"#1f77b4\",\"line_width\":2,\"x\":{\"field\":\"x\"},\"y\":{\"field\":\"y\"}},\"id\":\"80690\",\"type\":\"Line\"},{\"attributes\":{},\"id\":\"81685\",\"type\":\"UnionRenderers\"},{\"attributes\":{},\"id\":\"81686\",\"type\":\"Selection\"},{\"attributes\":{\"formatter\":{\"id\":\"81684\",\"type\":\"BasicTickFormatter\"},\"plot\":{\"id\":\"80668\",\"subtype\":\"Figure\",\"type\":\"Plot\"},\"ticker\":{\"id\":\"80683\",\"type\":\"BasicTicker\"}},\"id\":\"80682\",\"type\":\"LinearAxis\"},{\"attributes\":{\"plot\":{\"id\":\"80668\",\"subtype\":\"Figure\",\"type\":\"Plot\"},\"ticker\":{\"id\":\"80679\",\"type\":\"CategoricalTicker\"}},\"id\":\"80681\",\"type\":\"Grid\"},{\"attributes\":{},\"id\":\"80683\",\"type\":\"BasicTicker\"},{\"attributes\":{\"dimension\":1,\"plot\":{\"id\":\"80668\",\"subtype\":\"Figure\",\"type\":\"Plot\"},\"ticker\":{\"id\":\"80683\",\"type\":\"BasicTicker\"}},\"id\":\"80686\",\"type\":\"Grid\"},{\"attributes\":{},\"id\":\"81682\",\"type\":\"CategoricalTickFormatter\"},{\"attributes\":{},\"id\":\"80676\",\"type\":\"LinearScale\"},{\"attributes\":{\"line_color\":\"#1f77b4\",\"line_width\":2,\"x\":{\"field\":\"x\"},\"y\":{\"field\":\"y\"}},\"id\":\"80689\",\"type\":\"Line\"},{\"attributes\":{\"source\":{\"id\":\"80688\",\"type\":\"ColumnDataSource\"}},\"id\":\"80692\",\"type\":\"CDSView\"},{\"attributes\":{\"callback\":null,\"factors\":[\"ENERO\",\"FEBRERO\",\"MARZO\",\"ABRIL\",\"MAYO\",\"JUNIO\",\"JULIO\",\"AGOSTO\",\"SEPTIEMBRE\",\"OCTUBRE\",\"NOVIEMBRE\",\"DICIEMBRE\"]},\"id\":\"80670\",\"type\":\"FactorRange\"}],\"root_ids\":[\"80668\"]},\"title\":\"Bokeh Application\",\"version\":\"1.0.3\"}};\n",
       "  var render_items = [{\"docid\":\"0e1d587a-9063-4fb3-b52e-492fe873e5f7\",\"roots\":{\"80668\":\"2da7eecd-7a90-4d86-aa19-ec216adf7583\"}}];\n",
       "  root.Bokeh.embed.embed_items_notebook(docs_json, render_items);\n",
       "\n",
       "  }\n",
       "  if (root.Bokeh !== undefined) {\n",
       "    embed_document(root);\n",
       "  } else {\n",
       "    var attempts = 0;\n",
       "    var timer = setInterval(function(root) {\n",
       "      if (root.Bokeh !== undefined) {\n",
       "        embed_document(root);\n",
       "        clearInterval(timer);\n",
       "      }\n",
       "      attempts++;\n",
       "      if (attempts > 100) {\n",
       "        console.log(\"Bokeh: ERROR: Unable to run BokehJS code because BokehJS library is missing\");\n",
       "        clearInterval(timer);\n",
       "      }\n",
       "    }, 10, root)\n",
       "  }\n",
       "})(window);"
      ],
      "application/vnd.bokehjs_exec.v0+json": ""
     },
     "metadata": {
      "application/vnd.bokehjs_exec.v0+json": {
       "id": "80668"
      }
     },
     "output_type": "display_data"
    },
    {
     "name": "stdout",
     "output_type": "stream",
     "text": [
      "     ENERO  FEBRERO   MARZO   ABRIL    MAYO   JUNIO   JULIO  AGOSTO  \\\n",
      "16  24.771   22.707  27.581  22.908  26.963  24.869  25.561  24.575   \n",
      "\n",
      "    SEPTIEMBRE  OCTUBRE  NOVIEMBRE  DICIEMBRE  \n",
      "16      21.682     22.6     20.683     19.142  \n"
     ]
    },
    {
     "data": {
      "text/html": [
       "\n",
       "\n",
       "\n",
       "\n",
       "\n",
       "\n",
       "  <div class=\"bk-root\" id=\"42fbf0b9-fabc-4a45-b12e-65374a6fe26f\" data-root-id=\"81730\"></div>\n"
      ]
     },
     "metadata": {},
     "output_type": "display_data"
    },
    {
     "data": {
      "application/javascript": [
       "(function(root) {\n",
       "  function embed_document(root) {\n",
       "    \n",
       "  var docs_json = {\"afb4548f-e6ea-4eda-9966-4d1a22fa8759\":{\"roots\":{\"references\":[{\"attributes\":{\"below\":[{\"id\":\"81740\",\"type\":\"CategoricalAxis\"}],\"left\":[{\"id\":\"81744\",\"type\":\"LinearAxis\"}],\"plot_height\":550,\"plot_width\":550,\"renderers\":[{\"id\":\"81740\",\"type\":\"CategoricalAxis\"},{\"id\":\"81743\",\"type\":\"Grid\"},{\"id\":\"81744\",\"type\":\"LinearAxis\"},{\"id\":\"81748\",\"type\":\"Grid\"},{\"id\":\"81753\",\"type\":\"GlyphRenderer\"}],\"title\":{\"id\":\"81729\",\"type\":\"Title\"},\"toolbar\":{\"id\":\"81749\",\"type\":\"Toolbar\"},\"toolbar_location\":null,\"x_range\":{\"id\":\"81732\",\"type\":\"FactorRange\"},\"x_scale\":{\"id\":\"81736\",\"type\":\"CategoricalScale\"},\"y_range\":{\"id\":\"81734\",\"type\":\"DataRange1d\"},\"y_scale\":{\"id\":\"81738\",\"type\":\"LinearScale\"}},\"id\":\"81730\",\"subtype\":\"Figure\",\"type\":\"Plot\"},{\"attributes\":{},\"id\":\"82754\",\"type\":\"UnionRenderers\"},{\"attributes\":{},\"id\":\"82751\",\"type\":\"CategoricalTickFormatter\"},{\"attributes\":{\"dimension\":1,\"plot\":{\"id\":\"81730\",\"subtype\":\"Figure\",\"type\":\"Plot\"},\"ticker\":{\"id\":\"81745\",\"type\":\"BasicTicker\"}},\"id\":\"81748\",\"type\":\"Grid\"},{\"attributes\":{},\"id\":\"82753\",\"type\":\"BasicTickFormatter\"},{\"attributes\":{\"plot\":null,\"text\":\"MARIANN-4A\"},\"id\":\"81729\",\"type\":\"Title\"},{\"attributes\":{},\"id\":\"82755\",\"type\":\"Selection\"},{\"attributes\":{},\"id\":\"81736\",\"type\":\"CategoricalScale\"},{\"attributes\":{\"line_color\":\"#1f77b4\",\"line_width\":2,\"x\":{\"field\":\"x\"},\"y\":{\"field\":\"y\"}},\"id\":\"81751\",\"type\":\"Line\"},{\"attributes\":{\"data_source\":{\"id\":\"81750\",\"type\":\"ColumnDataSource\"},\"glyph\":{\"id\":\"81751\",\"type\":\"Line\"},\"hover_glyph\":null,\"muted_glyph\":null,\"nonselection_glyph\":{\"id\":\"81752\",\"type\":\"Line\"},\"selection_glyph\":null,\"view\":{\"id\":\"81754\",\"type\":\"CDSView\"}},\"id\":\"81753\",\"type\":\"GlyphRenderer\"},{\"attributes\":{},\"id\":\"81738\",\"type\":\"LinearScale\"},{\"attributes\":{\"callback\":null,\"data\":{\"x\":[\"ENERO\",\"FEBRERO\",\"MARZO\",\"ABRIL\",\"MAYO\",\"JUNIO\",\"JULIO\",\"AGOSTO\",\"SEPTIEMBRE\",\"OCTUBRE\",\"NOVIEMBRE\",\"DICIEMBRE\"],\"y\":{\"__ndarray__\":\"TDeJQWDFOEChRbbz/bQ2QNv5fmq8lDtAnMQgsHLoNkBKDAIrh/Y6QFg5tMh23jhAVg4tsp2POUAzMzMzM5M4QDvfT42XrjVAmpmZmZmZNkADK4cW2a40QDEIrBxaJDNA\",\"dtype\":\"float64\",\"shape\":[12]}},\"selected\":{\"id\":\"82755\",\"type\":\"Selection\"},\"selection_policy\":{\"id\":\"82754\",\"type\":\"UnionRenderers\"}},\"id\":\"81750\",\"type\":\"ColumnDataSource\"},{\"attributes\":{\"callback\":null},\"id\":\"81734\",\"type\":\"DataRange1d\"},{\"attributes\":{\"callback\":null,\"factors\":[\"ENERO\",\"FEBRERO\",\"MARZO\",\"ABRIL\",\"MAYO\",\"JUNIO\",\"JULIO\",\"AGOSTO\",\"SEPTIEMBRE\",\"OCTUBRE\",\"NOVIEMBRE\",\"DICIEMBRE\"]},\"id\":\"81732\",\"type\":\"FactorRange\"},{\"attributes\":{\"plot\":{\"id\":\"81730\",\"subtype\":\"Figure\",\"type\":\"Plot\"},\"ticker\":{\"id\":\"81741\",\"type\":\"CategoricalTicker\"}},\"id\":\"81743\",\"type\":\"Grid\"},{\"attributes\":{\"line_alpha\":0.1,\"line_color\":\"#1f77b4\",\"line_width\":2,\"x\":{\"field\":\"x\"},\"y\":{\"field\":\"y\"}},\"id\":\"81752\",\"type\":\"Line\"},{\"attributes\":{},\"id\":\"81745\",\"type\":\"BasicTicker\"},{\"attributes\":{\"formatter\":{\"id\":\"82753\",\"type\":\"BasicTickFormatter\"},\"plot\":{\"id\":\"81730\",\"subtype\":\"Figure\",\"type\":\"Plot\"},\"ticker\":{\"id\":\"81745\",\"type\":\"BasicTicker\"}},\"id\":\"81744\",\"type\":\"LinearAxis\"},{\"attributes\":{},\"id\":\"81741\",\"type\":\"CategoricalTicker\"},{\"attributes\":{\"formatter\":{\"id\":\"82751\",\"type\":\"CategoricalTickFormatter\"},\"major_label_orientation\":1,\"plot\":{\"id\":\"81730\",\"subtype\":\"Figure\",\"type\":\"Plot\"},\"ticker\":{\"id\":\"81741\",\"type\":\"CategoricalTicker\"}},\"id\":\"81740\",\"type\":\"CategoricalAxis\"},{\"attributes\":{\"active_drag\":\"auto\",\"active_inspect\":\"auto\",\"active_multi\":null,\"active_scroll\":\"auto\",\"active_tap\":\"auto\"},\"id\":\"81749\",\"type\":\"Toolbar\"},{\"attributes\":{\"source\":{\"id\":\"81750\",\"type\":\"ColumnDataSource\"}},\"id\":\"81754\",\"type\":\"CDSView\"}],\"root_ids\":[\"81730\"]},\"title\":\"Bokeh Application\",\"version\":\"1.0.3\"}};\n",
       "  var render_items = [{\"docid\":\"afb4548f-e6ea-4eda-9966-4d1a22fa8759\",\"roots\":{\"81730\":\"42fbf0b9-fabc-4a45-b12e-65374a6fe26f\"}}];\n",
       "  root.Bokeh.embed.embed_items_notebook(docs_json, render_items);\n",
       "\n",
       "  }\n",
       "  if (root.Bokeh !== undefined) {\n",
       "    embed_document(root);\n",
       "  } else {\n",
       "    var attempts = 0;\n",
       "    var timer = setInterval(function(root) {\n",
       "      if (root.Bokeh !== undefined) {\n",
       "        embed_document(root);\n",
       "        clearInterval(timer);\n",
       "      }\n",
       "      attempts++;\n",
       "      if (attempts > 100) {\n",
       "        console.log(\"Bokeh: ERROR: Unable to run BokehJS code because BokehJS library is missing\");\n",
       "        clearInterval(timer);\n",
       "      }\n",
       "    }, 10, root)\n",
       "  }\n",
       "})(window);"
      ],
      "application/vnd.bokehjs_exec.v0+json": ""
     },
     "metadata": {
      "application/vnd.bokehjs_exec.v0+json": {
       "id": "81730"
      }
     },
     "output_type": "display_data"
    },
    {
     "name": "stdout",
     "output_type": "stream",
     "text": [
      "    ENERO  FEBRERO  MARZO  ABRIL  MAYO  JUNIO  JULIO  AGOSTO  SEPTIEMBRE  \\\n",
      "17    0.0      0.0    0.0    0.0   0.0    0.0    0.0     0.0         0.0   \n",
      "\n",
      "    OCTUBRE  NOVIEMBRE  DICIEMBRE  \n",
      "17    334.0        0.0        0.0  \n"
     ]
    },
    {
     "data": {
      "text/html": [
       "\n",
       "\n",
       "\n",
       "\n",
       "\n",
       "\n",
       "  <div class=\"bk-root\" id=\"60ac79ea-7ba1-4385-b4b7-f4ec7d4c9bb3\" data-root-id=\"82799\"></div>\n"
      ]
     },
     "metadata": {},
     "output_type": "display_data"
    },
    {
     "data": {
      "application/javascript": [
       "(function(root) {\n",
       "  function embed_document(root) {\n",
       "    \n",
       "  var docs_json = {\"ee5e0b6b-c343-449e-9c43-03c2f1973fdf\":{\"roots\":{\"references\":[{\"attributes\":{\"below\":[{\"id\":\"82809\",\"type\":\"CategoricalAxis\"}],\"left\":[{\"id\":\"82813\",\"type\":\"LinearAxis\"}],\"plot_height\":550,\"plot_width\":550,\"renderers\":[{\"id\":\"82809\",\"type\":\"CategoricalAxis\"},{\"id\":\"82812\",\"type\":\"Grid\"},{\"id\":\"82813\",\"type\":\"LinearAxis\"},{\"id\":\"82817\",\"type\":\"Grid\"},{\"id\":\"82822\",\"type\":\"GlyphRenderer\"}],\"title\":{\"id\":\"82798\",\"type\":\"Title\"},\"toolbar\":{\"id\":\"82818\",\"type\":\"Toolbar\"},\"toolbar_location\":null,\"x_range\":{\"id\":\"82801\",\"type\":\"FactorRange\"},\"x_scale\":{\"id\":\"82805\",\"type\":\"CategoricalScale\"},\"y_range\":{\"id\":\"82803\",\"type\":\"DataRange1d\"},\"y_scale\":{\"id\":\"82807\",\"type\":\"LinearScale\"}},\"id\":\"82799\",\"subtype\":\"Figure\",\"type\":\"Plot\"},{\"attributes\":{},\"id\":\"83829\",\"type\":\"BasicTickFormatter\"},{\"attributes\":{},\"id\":\"82814\",\"type\":\"BasicTicker\"},{\"attributes\":{\"callback\":null,\"data\":{\"x\":[\"ENERO\",\"FEBRERO\",\"MARZO\",\"ABRIL\",\"MAYO\",\"JUNIO\",\"JULIO\",\"AGOSTO\",\"SEPTIEMBRE\",\"OCTUBRE\",\"NOVIEMBRE\",\"DICIEMBRE\"],\"y\":{\"__ndarray__\":\"AAAAAAAAAAAAAAAAAAAAAAAAAAAAAAAAAAAAAAAAAAAAAAAAAAAAAAAAAAAAAAAAAAAAAAAAAAAAAAAAAAAAAAAAAAAAAAAAAAAAAADgdEAAAAAAAAAAAAAAAAAAAAAA\",\"dtype\":\"float64\",\"shape\":[12]}},\"selected\":{\"id\":\"83831\",\"type\":\"Selection\"},\"selection_policy\":{\"id\":\"83830\",\"type\":\"UnionRenderers\"}},\"id\":\"82819\",\"type\":\"ColumnDataSource\"},{\"attributes\":{\"dimension\":1,\"plot\":{\"id\":\"82799\",\"subtype\":\"Figure\",\"type\":\"Plot\"},\"ticker\":{\"id\":\"82814\",\"type\":\"BasicTicker\"}},\"id\":\"82817\",\"type\":\"Grid\"},{\"attributes\":{\"plot\":{\"id\":\"82799\",\"subtype\":\"Figure\",\"type\":\"Plot\"},\"ticker\":{\"id\":\"82810\",\"type\":\"CategoricalTicker\"}},\"id\":\"82812\",\"type\":\"Grid\"},{\"attributes\":{\"source\":{\"id\":\"82819\",\"type\":\"ColumnDataSource\"}},\"id\":\"82823\",\"type\":\"CDSView\"},{\"attributes\":{\"active_drag\":\"auto\",\"active_inspect\":\"auto\",\"active_multi\":null,\"active_scroll\":\"auto\",\"active_tap\":\"auto\"},\"id\":\"82818\",\"type\":\"Toolbar\"},{\"attributes\":{\"formatter\":{\"id\":\"83827\",\"type\":\"CategoricalTickFormatter\"},\"major_label_orientation\":1,\"plot\":{\"id\":\"82799\",\"subtype\":\"Figure\",\"type\":\"Plot\"},\"ticker\":{\"id\":\"82810\",\"type\":\"CategoricalTicker\"}},\"id\":\"82809\",\"type\":\"CategoricalAxis\"},{\"attributes\":{\"callback\":null},\"id\":\"82803\",\"type\":\"DataRange1d\"},{\"attributes\":{\"line_alpha\":0.1,\"line_color\":\"#1f77b4\",\"line_width\":2,\"x\":{\"field\":\"x\"},\"y\":{\"field\":\"y\"}},\"id\":\"82821\",\"type\":\"Line\"},{\"attributes\":{},\"id\":\"82805\",\"type\":\"CategoricalScale\"},{\"attributes\":{},\"id\":\"82807\",\"type\":\"LinearScale\"},{\"attributes\":{\"callback\":null,\"factors\":[\"ENERO\",\"FEBRERO\",\"MARZO\",\"ABRIL\",\"MAYO\",\"JUNIO\",\"JULIO\",\"AGOSTO\",\"SEPTIEMBRE\",\"OCTUBRE\",\"NOVIEMBRE\",\"DICIEMBRE\"]},\"id\":\"82801\",\"type\":\"FactorRange\"},{\"attributes\":{\"data_source\":{\"id\":\"82819\",\"type\":\"ColumnDataSource\"},\"glyph\":{\"id\":\"82820\",\"type\":\"Line\"},\"hover_glyph\":null,\"muted_glyph\":null,\"nonselection_glyph\":{\"id\":\"82821\",\"type\":\"Line\"},\"selection_glyph\":null,\"view\":{\"id\":\"82823\",\"type\":\"CDSView\"}},\"id\":\"82822\",\"type\":\"GlyphRenderer\"},{\"attributes\":{},\"id\":\"82810\",\"type\":\"CategoricalTicker\"},{\"attributes\":{\"plot\":null,\"text\":\"ORQUIDEA\"},\"id\":\"82798\",\"type\":\"Title\"},{\"attributes\":{\"line_color\":\"#1f77b4\",\"line_width\":2,\"x\":{\"field\":\"x\"},\"y\":{\"field\":\"y\"}},\"id\":\"82820\",\"type\":\"Line\"},{\"attributes\":{\"formatter\":{\"id\":\"83829\",\"type\":\"BasicTickFormatter\"},\"plot\":{\"id\":\"82799\",\"subtype\":\"Figure\",\"type\":\"Plot\"},\"ticker\":{\"id\":\"82814\",\"type\":\"BasicTicker\"}},\"id\":\"82813\",\"type\":\"LinearAxis\"},{\"attributes\":{},\"id\":\"83827\",\"type\":\"CategoricalTickFormatter\"},{\"attributes\":{},\"id\":\"83831\",\"type\":\"Selection\"},{\"attributes\":{},\"id\":\"83830\",\"type\":\"UnionRenderers\"}],\"root_ids\":[\"82799\"]},\"title\":\"Bokeh Application\",\"version\":\"1.0.3\"}};\n",
       "  var render_items = [{\"docid\":\"ee5e0b6b-c343-449e-9c43-03c2f1973fdf\",\"roots\":{\"82799\":\"60ac79ea-7ba1-4385-b4b7-f4ec7d4c9bb3\"}}];\n",
       "  root.Bokeh.embed.embed_items_notebook(docs_json, render_items);\n",
       "\n",
       "  }\n",
       "  if (root.Bokeh !== undefined) {\n",
       "    embed_document(root);\n",
       "  } else {\n",
       "    var attempts = 0;\n",
       "    var timer = setInterval(function(root) {\n",
       "      if (root.Bokeh !== undefined) {\n",
       "        embed_document(root);\n",
       "        clearInterval(timer);\n",
       "      }\n",
       "      attempts++;\n",
       "      if (attempts > 100) {\n",
       "        console.log(\"Bokeh: ERROR: Unable to run BokehJS code because BokehJS library is missing\");\n",
       "        clearInterval(timer);\n",
       "      }\n",
       "    }, 10, root)\n",
       "  }\n",
       "})(window);"
      ],
      "application/vnd.bokehjs_exec.v0+json": ""
     },
     "metadata": {
      "application/vnd.bokehjs_exec.v0+json": {
       "id": "82799"
      }
     },
     "output_type": "display_data"
    },
    {
     "name": "stdout",
     "output_type": "stream",
     "text": [
      "    ENERO  FEBRERO  MARZO  ABRIL   MAYO  JUNIO  JULIO  AGOSTO  SEPTIEMBRE  \\\n",
      "18  1.696    1.287  1.304  1.452  1.423  1.901  2.482   2.725       18.23   \n",
      "\n",
      "    OCTUBRE  NOVIEMBRE  DICIEMBRE  \n",
      "18   10.282      7.066      7.401  \n"
     ]
    },
    {
     "data": {
      "text/html": [
       "\n",
       "\n",
       "\n",
       "\n",
       "\n",
       "\n",
       "  <div class=\"bk-root\" id=\"585db389-f2d0-44a8-a281-f1311b0f1846\" data-root-id=\"83875\"></div>\n"
      ]
     },
     "metadata": {},
     "output_type": "display_data"
    },
    {
     "data": {
      "application/javascript": [
       "(function(root) {\n",
       "  function embed_document(root) {\n",
       "    \n",
       "  var docs_json = {\"8ca2c379-6b87-47ee-89d4-625d84fd9bdf\":{\"roots\":{\"references\":[{\"attributes\":{\"below\":[{\"id\":\"83885\",\"type\":\"CategoricalAxis\"}],\"left\":[{\"id\":\"83889\",\"type\":\"LinearAxis\"}],\"plot_height\":550,\"plot_width\":550,\"renderers\":[{\"id\":\"83885\",\"type\":\"CategoricalAxis\"},{\"id\":\"83888\",\"type\":\"Grid\"},{\"id\":\"83889\",\"type\":\"LinearAxis\"},{\"id\":\"83893\",\"type\":\"Grid\"},{\"id\":\"83898\",\"type\":\"GlyphRenderer\"}],\"title\":{\"id\":\"83874\",\"type\":\"Title\"},\"toolbar\":{\"id\":\"83894\",\"type\":\"Toolbar\"},\"toolbar_location\":null,\"x_range\":{\"id\":\"83877\",\"type\":\"FactorRange\"},\"x_scale\":{\"id\":\"83881\",\"type\":\"CategoricalScale\"},\"y_range\":{\"id\":\"83879\",\"type\":\"DataRange1d\"},\"y_scale\":{\"id\":\"83883\",\"type\":\"LinearScale\"}},\"id\":\"83875\",\"subtype\":\"Figure\",\"type\":\"Plot\"},{\"attributes\":{},\"id\":\"84914\",\"type\":\"Selection\"},{\"attributes\":{\"dimension\":1,\"plot\":{\"id\":\"83875\",\"subtype\":\"Figure\",\"type\":\"Plot\"},\"ticker\":{\"id\":\"83890\",\"type\":\"BasicTicker\"}},\"id\":\"83893\",\"type\":\"Grid\"},{\"attributes\":{\"data_source\":{\"id\":\"83895\",\"type\":\"ColumnDataSource\"},\"glyph\":{\"id\":\"83896\",\"type\":\"Line\"},\"hover_glyph\":null,\"muted_glyph\":null,\"nonselection_glyph\":{\"id\":\"83897\",\"type\":\"Line\"},\"selection_glyph\":null,\"view\":{\"id\":\"83899\",\"type\":\"CDSView\"}},\"id\":\"83898\",\"type\":\"GlyphRenderer\"},{\"attributes\":{},\"id\":\"83890\",\"type\":\"BasicTicker\"},{\"attributes\":{\"formatter\":{\"id\":\"84912\",\"type\":\"BasicTickFormatter\"},\"plot\":{\"id\":\"83875\",\"subtype\":\"Figure\",\"type\":\"Plot\"},\"ticker\":{\"id\":\"83890\",\"type\":\"BasicTicker\"}},\"id\":\"83889\",\"type\":\"LinearAxis\"},{\"attributes\":{\"active_drag\":\"auto\",\"active_inspect\":\"auto\",\"active_multi\":null,\"active_scroll\":\"auto\",\"active_tap\":\"auto\"},\"id\":\"83894\",\"type\":\"Toolbar\"},{\"attributes\":{},\"id\":\"83886\",\"type\":\"CategoricalTicker\"},{\"attributes\":{\"callback\":null},\"id\":\"83879\",\"type\":\"DataRange1d\"},{\"attributes\":{},\"id\":\"83881\",\"type\":\"CategoricalScale\"},{\"attributes\":{\"plot\":{\"id\":\"83875\",\"subtype\":\"Figure\",\"type\":\"Plot\"},\"ticker\":{\"id\":\"83886\",\"type\":\"CategoricalTicker\"}},\"id\":\"83888\",\"type\":\"Grid\"},{\"attributes\":{\"source\":{\"id\":\"83895\",\"type\":\"ColumnDataSource\"}},\"id\":\"83899\",\"type\":\"CDSView\"},{\"attributes\":{\"callback\":null,\"factors\":[\"ENERO\",\"FEBRERO\",\"MARZO\",\"ABRIL\",\"MAYO\",\"JUNIO\",\"JULIO\",\"AGOSTO\",\"SEPTIEMBRE\",\"OCTUBRE\",\"NOVIEMBRE\",\"DICIEMBRE\"]},\"id\":\"83877\",\"type\":\"FactorRange\"},{\"attributes\":{\"formatter\":{\"id\":\"84910\",\"type\":\"CategoricalTickFormatter\"},\"major_label_orientation\":1,\"plot\":{\"id\":\"83875\",\"subtype\":\"Figure\",\"type\":\"Plot\"},\"ticker\":{\"id\":\"83886\",\"type\":\"CategoricalTicker\"}},\"id\":\"83885\",\"type\":\"CategoricalAxis\"},{\"attributes\":{},\"id\":\"84913\",\"type\":\"UnionRenderers\"},{\"attributes\":{\"line_alpha\":0.1,\"line_color\":\"#1f77b4\",\"line_width\":2,\"x\":{\"field\":\"x\"},\"y\":{\"field\":\"y\"}},\"id\":\"83897\",\"type\":\"Line\"},{\"attributes\":{},\"id\":\"84912\",\"type\":\"BasicTickFormatter\"},{\"attributes\":{},\"id\":\"84910\",\"type\":\"CategoricalTickFormatter\"},{\"attributes\":{\"line_color\":\"#1f77b4\",\"line_width\":2,\"x\":{\"field\":\"x\"},\"y\":{\"field\":\"y\"}},\"id\":\"83896\",\"type\":\"Line\"},{\"attributes\":{\"plot\":null,\"text\":\"SHIRLEY\"},\"id\":\"83874\",\"type\":\"Title\"},{\"attributes\":{\"callback\":null,\"data\":{\"x\":[\"ENERO\",\"FEBRERO\",\"MARZO\",\"ABRIL\",\"MAYO\",\"JUNIO\",\"JULIO\",\"AGOSTO\",\"SEPTIEMBRE\",\"OCTUBRE\",\"NOVIEMBRE\",\"DICIEMBRE\"],\"y\":{\"__ndarray__\":\"iUFg5dAi+z9kO99PjZf0P3e+nxov3fQ/CKwcWmQ79z/4U+Olm8T2P9Ei2/l+av4/QWDl0CLbA0DNzMzMzMwFQHsUrkfhOjJAqvHSTWKQJEDdJAaBlUMcQLTIdr6fmh1A\",\"dtype\":\"float64\",\"shape\":[12]}},\"selected\":{\"id\":\"84914\",\"type\":\"Selection\"},\"selection_policy\":{\"id\":\"84913\",\"type\":\"UnionRenderers\"}},\"id\":\"83895\",\"type\":\"ColumnDataSource\"},{\"attributes\":{},\"id\":\"83883\",\"type\":\"LinearScale\"}],\"root_ids\":[\"83875\"]},\"title\":\"Bokeh Application\",\"version\":\"1.0.3\"}};\n",
       "  var render_items = [{\"docid\":\"8ca2c379-6b87-47ee-89d4-625d84fd9bdf\",\"roots\":{\"83875\":\"585db389-f2d0-44a8-a281-f1311b0f1846\"}}];\n",
       "  root.Bokeh.embed.embed_items_notebook(docs_json, render_items);\n",
       "\n",
       "  }\n",
       "  if (root.Bokeh !== undefined) {\n",
       "    embed_document(root);\n",
       "  } else {\n",
       "    var attempts = 0;\n",
       "    var timer = setInterval(function(root) {\n",
       "      if (root.Bokeh !== undefined) {\n",
       "        embed_document(root);\n",
       "        clearInterval(timer);\n",
       "      }\n",
       "      attempts++;\n",
       "      if (attempts > 100) {\n",
       "        console.log(\"Bokeh: ERROR: Unable to run BokehJS code because BokehJS library is missing\");\n",
       "        clearInterval(timer);\n",
       "      }\n",
       "    }, 10, root)\n",
       "  }\n",
       "})(window);"
      ],
      "application/vnd.bokehjs_exec.v0+json": ""
     },
     "metadata": {
      "application/vnd.bokehjs_exec.v0+json": {
       "id": "83875"
      }
     },
     "output_type": "display_data"
    },
    {
     "name": "stdout",
     "output_type": "stream",
     "text": [
      "    ENERO  FEBRERO  MARZO  ABRIL   MAYO  JUNIO  JULIO  AGOSTO  SEPTIEMBRE  \\\n",
      "19  4.208     3.76  4.157  4.573  4.924  4.643  4.801   4.794        4.64   \n",
      "\n",
      "    OCTUBRE  NOVIEMBRE  DICIEMBRE  \n",
      "19    4.684      4.274       4.34  \n"
     ]
    },
    {
     "data": {
      "text/html": [
       "\n",
       "\n",
       "\n",
       "\n",
       "\n",
       "\n",
       "  <div class=\"bk-root\" id=\"cfa2c844-790f-4f11-895a-822fbd8e513a\" data-root-id=\"84958\"></div>\n"
      ]
     },
     "metadata": {},
     "output_type": "display_data"
    },
    {
     "data": {
      "application/javascript": [
       "(function(root) {\n",
       "  function embed_document(root) {\n",
       "    \n",
       "  var docs_json = {\"6ceb4df7-8dda-4d44-a4ca-f744b1d25712\":{\"roots\":{\"references\":[{\"attributes\":{\"below\":[{\"id\":\"84968\",\"type\":\"CategoricalAxis\"}],\"left\":[{\"id\":\"84972\",\"type\":\"LinearAxis\"}],\"plot_height\":550,\"plot_width\":550,\"renderers\":[{\"id\":\"84968\",\"type\":\"CategoricalAxis\"},{\"id\":\"84971\",\"type\":\"Grid\"},{\"id\":\"84972\",\"type\":\"LinearAxis\"},{\"id\":\"84976\",\"type\":\"Grid\"},{\"id\":\"84981\",\"type\":\"GlyphRenderer\"}],\"title\":{\"id\":\"84957\",\"type\":\"Title\"},\"toolbar\":{\"id\":\"84977\",\"type\":\"Toolbar\"},\"toolbar_location\":null,\"x_range\":{\"id\":\"84960\",\"type\":\"FactorRange\"},\"x_scale\":{\"id\":\"84964\",\"type\":\"CategoricalScale\"},\"y_range\":{\"id\":\"84962\",\"type\":\"DataRange1d\"},\"y_scale\":{\"id\":\"84966\",\"type\":\"LinearScale\"}},\"id\":\"84958\",\"subtype\":\"Figure\",\"type\":\"Plot\"},{\"attributes\":{},\"id\":\"84969\",\"type\":\"CategoricalTicker\"},{\"attributes\":{\"plot\":{\"id\":\"84958\",\"subtype\":\"Figure\",\"type\":\"Plot\"},\"ticker\":{\"id\":\"84969\",\"type\":\"CategoricalTicker\"}},\"id\":\"84971\",\"type\":\"Grid\"},{\"attributes\":{\"formatter\":{\"id\":\"86002\",\"type\":\"BasicTickFormatter\"},\"plot\":{\"id\":\"84958\",\"subtype\":\"Figure\",\"type\":\"Plot\"},\"ticker\":{\"id\":\"84973\",\"type\":\"BasicTicker\"}},\"id\":\"84972\",\"type\":\"LinearAxis\"},{\"attributes\":{\"source\":{\"id\":\"84978\",\"type\":\"ColumnDataSource\"}},\"id\":\"84982\",\"type\":\"CDSView\"},{\"attributes\":{\"dimension\":1,\"plot\":{\"id\":\"84958\",\"subtype\":\"Figure\",\"type\":\"Plot\"},\"ticker\":{\"id\":\"84973\",\"type\":\"BasicTicker\"}},\"id\":\"84976\",\"type\":\"Grid\"},{\"attributes\":{},\"id\":\"84973\",\"type\":\"BasicTicker\"},{\"attributes\":{},\"id\":\"84964\",\"type\":\"CategoricalScale\"},{\"attributes\":{\"callback\":null,\"data\":{\"x\":[\"ENERO\",\"FEBRERO\",\"MARZO\",\"ABRIL\",\"MAYO\",\"JUNIO\",\"JULIO\",\"AGOSTO\",\"SEPTIEMBRE\",\"OCTUBRE\",\"NOVIEMBRE\",\"DICIEMBRE\"],\"y\":{\"__ndarray__\":\"okW28/3UEEAUrkfhehQOQFTjpZvEoBBAmG4Sg8BKEkAYBFYOLbITQN9PjZdukhJATmIQWDk0E0CTGARWDi0TQI/C9ShcjxJAI9v5fmq8EkB/arx0kxgRQFyPwvUoXBFA\",\"dtype\":\"float64\",\"shape\":[12]}},\"selected\":{\"id\":\"86004\",\"type\":\"Selection\"},\"selection_policy\":{\"id\":\"86003\",\"type\":\"UnionRenderers\"}},\"id\":\"84978\",\"type\":\"ColumnDataSource\"},{\"attributes\":{\"formatter\":{\"id\":\"86000\",\"type\":\"CategoricalTickFormatter\"},\"major_label_orientation\":1,\"plot\":{\"id\":\"84958\",\"subtype\":\"Figure\",\"type\":\"Plot\"},\"ticker\":{\"id\":\"84969\",\"type\":\"CategoricalTicker\"}},\"id\":\"84968\",\"type\":\"CategoricalAxis\"},{\"attributes\":{\"active_drag\":\"auto\",\"active_inspect\":\"auto\",\"active_multi\":null,\"active_scroll\":\"auto\",\"active_tap\":\"auto\"},\"id\":\"84977\",\"type\":\"Toolbar\"},{\"attributes\":{},\"id\":\"86000\",\"type\":\"CategoricalTickFormatter\"},{\"attributes\":{\"callback\":null,\"factors\":[\"ENERO\",\"FEBRERO\",\"MARZO\",\"ABRIL\",\"MAYO\",\"JUNIO\",\"JULIO\",\"AGOSTO\",\"SEPTIEMBRE\",\"OCTUBRE\",\"NOVIEMBRE\",\"DICIEMBRE\"]},\"id\":\"84960\",\"type\":\"FactorRange\"},{\"attributes\":{\"callback\":null},\"id\":\"84962\",\"type\":\"DataRange1d\"},{\"attributes\":{\"line_alpha\":0.1,\"line_color\":\"#1f77b4\",\"line_width\":2,\"x\":{\"field\":\"x\"},\"y\":{\"field\":\"y\"}},\"id\":\"84980\",\"type\":\"Line\"},{\"attributes\":{\"data_source\":{\"id\":\"84978\",\"type\":\"ColumnDataSource\"},\"glyph\":{\"id\":\"84979\",\"type\":\"Line\"},\"hover_glyph\":null,\"muted_glyph\":null,\"nonselection_glyph\":{\"id\":\"84980\",\"type\":\"Line\"},\"selection_glyph\":null,\"view\":{\"id\":\"84982\",\"type\":\"CDSView\"}},\"id\":\"84981\",\"type\":\"GlyphRenderer\"},{\"attributes\":{},\"id\":\"86002\",\"type\":\"BasicTickFormatter\"},{\"attributes\":{},\"id\":\"86004\",\"type\":\"Selection\"},{\"attributes\":{},\"id\":\"86003\",\"type\":\"UnionRenderers\"},{\"attributes\":{\"plot\":null,\"text\":\"SONIA\"},\"id\":\"84957\",\"type\":\"Title\"},{\"attributes\":{},\"id\":\"84966\",\"type\":\"LinearScale\"},{\"attributes\":{\"line_color\":\"#1f77b4\",\"line_width\":2,\"x\":{\"field\":\"x\"},\"y\":{\"field\":\"y\"}},\"id\":\"84979\",\"type\":\"Line\"}],\"root_ids\":[\"84958\"]},\"title\":\"Bokeh Application\",\"version\":\"1.0.3\"}};\n",
       "  var render_items = [{\"docid\":\"6ceb4df7-8dda-4d44-a4ca-f744b1d25712\",\"roots\":{\"84958\":\"cfa2c844-790f-4f11-895a-822fbd8e513a\"}}];\n",
       "  root.Bokeh.embed.embed_items_notebook(docs_json, render_items);\n",
       "\n",
       "  }\n",
       "  if (root.Bokeh !== undefined) {\n",
       "    embed_document(root);\n",
       "  } else {\n",
       "    var attempts = 0;\n",
       "    var timer = setInterval(function(root) {\n",
       "      if (root.Bokeh !== undefined) {\n",
       "        embed_document(root);\n",
       "        clearInterval(timer);\n",
       "      }\n",
       "      attempts++;\n",
       "      if (attempts > 100) {\n",
       "        console.log(\"Bokeh: ERROR: Unable to run BokehJS code because BokehJS library is missing\");\n",
       "        clearInterval(timer);\n",
       "      }\n",
       "    }, 10, root)\n",
       "  }\n",
       "})(window);"
      ],
      "application/vnd.bokehjs_exec.v0+json": ""
     },
     "metadata": {
      "application/vnd.bokehjs_exec.v0+json": {
       "id": "84958"
      }
     },
     "output_type": "display_data"
    },
    {
     "name": "stdout",
     "output_type": "stream",
     "text": [
      "    ENERO  FEBRERO  MARZO  ABRIL  MAYO  JUNIO  JULIO  AGOSTO  SEPTIEMBRE  \\\n",
      "20    NaN      0.0    0.0    0.0   0.0    0.0    0.0     0.0         0.0   \n",
      "\n",
      "    OCTUBRE  NOVIEMBRE  DICIEMBRE  \n",
      "20      0.0        0.0        0.0  \n"
     ]
    },
    {
     "data": {
      "text/html": [
       "\n",
       "\n",
       "\n",
       "\n",
       "\n",
       "\n",
       "  <div class=\"bk-root\" id=\"dbb0b13e-4183-4d63-848d-29b0483cc301\" data-root-id=\"86048\"></div>\n"
      ]
     },
     "metadata": {},
     "output_type": "display_data"
    },
    {
     "data": {
      "application/javascript": [
       "(function(root) {\n",
       "  function embed_document(root) {\n",
       "    \n",
       "  var docs_json = {\"8ea7d0c3-f2d3-4207-90cb-d6eea9c079bb\":{\"roots\":{\"references\":[{\"attributes\":{\"below\":[{\"id\":\"86058\",\"type\":\"CategoricalAxis\"}],\"left\":[{\"id\":\"86062\",\"type\":\"LinearAxis\"}],\"plot_height\":550,\"plot_width\":550,\"renderers\":[{\"id\":\"86058\",\"type\":\"CategoricalAxis\"},{\"id\":\"86061\",\"type\":\"Grid\"},{\"id\":\"86062\",\"type\":\"LinearAxis\"},{\"id\":\"86066\",\"type\":\"Grid\"},{\"id\":\"86071\",\"type\":\"GlyphRenderer\"}],\"title\":{\"id\":\"86047\",\"type\":\"Title\"},\"toolbar\":{\"id\":\"86067\",\"type\":\"Toolbar\"},\"toolbar_location\":null,\"x_range\":{\"id\":\"86050\",\"type\":\"FactorRange\"},\"x_scale\":{\"id\":\"86054\",\"type\":\"CategoricalScale\"},\"y_range\":{\"id\":\"86052\",\"type\":\"DataRange1d\"},\"y_scale\":{\"id\":\"86056\",\"type\":\"LinearScale\"}},\"id\":\"86048\",\"subtype\":\"Figure\",\"type\":\"Plot\"},{\"attributes\":{\"callback\":null,\"data\":{\"x\":[\"ENERO\",\"FEBRERO\",\"MARZO\",\"ABRIL\",\"MAYO\",\"JUNIO\",\"JULIO\",\"AGOSTO\",\"SEPTIEMBRE\",\"OCTUBRE\",\"NOVIEMBRE\",\"DICIEMBRE\"],\"y\":{\"__ndarray__\":\"AAAAAAAA+H8AAAAAAAAAAAAAAAAAAAAAAAAAAAAAAAAAAAAAAAAAAAAAAAAAAAAAAAAAAAAAAAAAAAAAAAAAAAAAAAAAAAAAAAAAAAAAAAAAAAAAAAAAAAAAAAAAAAAA\",\"dtype\":\"float64\",\"shape\":[12]}},\"selected\":{\"id\":\"87101\",\"type\":\"Selection\"},\"selection_policy\":{\"id\":\"87100\",\"type\":\"UnionRenderers\"}},\"id\":\"86068\",\"type\":\"ColumnDataSource\"},{\"attributes\":{\"plot\":null,\"text\":\"TARAPOA NOROESTE\"},\"id\":\"86047\",\"type\":\"Title\"},{\"attributes\":{},\"id\":\"86059\",\"type\":\"CategoricalTicker\"},{\"attributes\":{\"formatter\":{\"id\":\"87097\",\"type\":\"CategoricalTickFormatter\"},\"major_label_orientation\":1,\"plot\":{\"id\":\"86048\",\"subtype\":\"Figure\",\"type\":\"Plot\"},\"ticker\":{\"id\":\"86059\",\"type\":\"CategoricalTicker\"}},\"id\":\"86058\",\"type\":\"CategoricalAxis\"},{\"attributes\":{},\"id\":\"86063\",\"type\":\"BasicTicker\"},{\"attributes\":{},\"id\":\"87099\",\"type\":\"BasicTickFormatter\"},{\"attributes\":{\"active_drag\":\"auto\",\"active_inspect\":\"auto\",\"active_multi\":null,\"active_scroll\":\"auto\",\"active_tap\":\"auto\"},\"id\":\"86067\",\"type\":\"Toolbar\"},{\"attributes\":{},\"id\":\"86054\",\"type\":\"CategoricalScale\"},{\"attributes\":{\"line_alpha\":0.1,\"line_color\":\"#1f77b4\",\"line_width\":2,\"x\":{\"field\":\"x\"},\"y\":{\"field\":\"y\"}},\"id\":\"86070\",\"type\":\"Line\"},{\"attributes\":{\"line_color\":\"#1f77b4\",\"line_width\":2,\"x\":{\"field\":\"x\"},\"y\":{\"field\":\"y\"}},\"id\":\"86069\",\"type\":\"Line\"},{\"attributes\":{\"callback\":null,\"factors\":[\"ENERO\",\"FEBRERO\",\"MARZO\",\"ABRIL\",\"MAYO\",\"JUNIO\",\"JULIO\",\"AGOSTO\",\"SEPTIEMBRE\",\"OCTUBRE\",\"NOVIEMBRE\",\"DICIEMBRE\"]},\"id\":\"86050\",\"type\":\"FactorRange\"},{\"attributes\":{},\"id\":\"87101\",\"type\":\"Selection\"},{\"attributes\":{},\"id\":\"87097\",\"type\":\"CategoricalTickFormatter\"},{\"attributes\":{\"formatter\":{\"id\":\"87099\",\"type\":\"BasicTickFormatter\"},\"plot\":{\"id\":\"86048\",\"subtype\":\"Figure\",\"type\":\"Plot\"},\"ticker\":{\"id\":\"86063\",\"type\":\"BasicTicker\"}},\"id\":\"86062\",\"type\":\"LinearAxis\"},{\"attributes\":{\"plot\":{\"id\":\"86048\",\"subtype\":\"Figure\",\"type\":\"Plot\"},\"ticker\":{\"id\":\"86059\",\"type\":\"CategoricalTicker\"}},\"id\":\"86061\",\"type\":\"Grid\"},{\"attributes\":{\"callback\":null},\"id\":\"86052\",\"type\":\"DataRange1d\"},{\"attributes\":{},\"id\":\"86056\",\"type\":\"LinearScale\"},{\"attributes\":{},\"id\":\"87100\",\"type\":\"UnionRenderers\"},{\"attributes\":{\"dimension\":1,\"plot\":{\"id\":\"86048\",\"subtype\":\"Figure\",\"type\":\"Plot\"},\"ticker\":{\"id\":\"86063\",\"type\":\"BasicTicker\"}},\"id\":\"86066\",\"type\":\"Grid\"},{\"attributes\":{\"source\":{\"id\":\"86068\",\"type\":\"ColumnDataSource\"}},\"id\":\"86072\",\"type\":\"CDSView\"},{\"attributes\":{\"data_source\":{\"id\":\"86068\",\"type\":\"ColumnDataSource\"},\"glyph\":{\"id\":\"86069\",\"type\":\"Line\"},\"hover_glyph\":null,\"muted_glyph\":null,\"nonselection_glyph\":{\"id\":\"86070\",\"type\":\"Line\"},\"selection_glyph\":null,\"view\":{\"id\":\"86072\",\"type\":\"CDSView\"}},\"id\":\"86071\",\"type\":\"GlyphRenderer\"}],\"root_ids\":[\"86048\"]},\"title\":\"Bokeh Application\",\"version\":\"1.0.3\"}};\n",
       "  var render_items = [{\"docid\":\"8ea7d0c3-f2d3-4207-90cb-d6eea9c079bb\",\"roots\":{\"86048\":\"dbb0b13e-4183-4d63-848d-29b0483cc301\"}}];\n",
       "  root.Bokeh.embed.embed_items_notebook(docs_json, render_items);\n",
       "\n",
       "  }\n",
       "  if (root.Bokeh !== undefined) {\n",
       "    embed_document(root);\n",
       "  } else {\n",
       "    var attempts = 0;\n",
       "    var timer = setInterval(function(root) {\n",
       "      if (root.Bokeh !== undefined) {\n",
       "        embed_document(root);\n",
       "        clearInterval(timer);\n",
       "      }\n",
       "      attempts++;\n",
       "      if (attempts > 100) {\n",
       "        console.log(\"Bokeh: ERROR: Unable to run BokehJS code because BokehJS library is missing\");\n",
       "        clearInterval(timer);\n",
       "      }\n",
       "    }, 10, root)\n",
       "  }\n",
       "})(window);"
      ],
      "application/vnd.bokehjs_exec.v0+json": ""
     },
     "metadata": {
      "application/vnd.bokehjs_exec.v0+json": {
       "id": "86048"
      }
     },
     "output_type": "display_data"
    }
   ],
   "source": [
    "campos=archivo[\"CAMPOS\"].tolist()\n",
    "for i in range(0,len(campos)):\n",
    "    data=archivo.iloc[i:i+1,2:-1]\n",
    "    print(data)\n",
    "    x_range = data.to_dict('split')['columns']\n",
    "    p = figure(x_range=x_range, plot_height=550,plot_width=550 ,title=campos[i], toolbar_location=None, tools=\"\")\n",
    "    y_range = data.iloc[0]\n",
    "    p.line(x=x_range, y=y_range, line_width=2)\n",
    "    p.xaxis.major_label_orientation = 1\n",
    "    show(p)"
   ]
  },
  {
   "cell_type": "code",
   "execution_count": null,
   "metadata": {},
   "outputs": [],
   "source": []
  },
  {
   "cell_type": "code",
   "execution_count": 7,
   "metadata": {
    "scrolled": false
   },
   "outputs": [
    {
     "data": {
      "text/html": [
       "\n",
       "\n",
       "\n",
       "\n",
       "\n",
       "\n",
       "  <div class=\"bk-root\" id=\"3926a1d3-4cc3-46bb-872d-90d455158a43\" data-root-id=\"6033\"></div>\n"
      ]
     },
     "metadata": {},
     "output_type": "display_data"
    },
    {
     "data": {
      "application/javascript": [
       "(function(root) {\n",
       "  function embed_document(root) {\n",
       "    \n",
       "  var docs_json = {\"a7a82158-bba6-467c-b538-4da3f842e840\":{\"roots\":{\"references\":[{\"attributes\":{\"below\":[{\"id\":\"6043\",\"type\":\"CategoricalAxis\"}],\"left\":[{\"id\":\"6047\",\"type\":\"LinearAxis\"}],\"plot_height\":650,\"plot_width\":1500,\"renderers\":[{\"id\":\"6043\",\"type\":\"CategoricalAxis\"},{\"id\":\"6046\",\"type\":\"Grid\"},{\"id\":\"6047\",\"type\":\"LinearAxis\"},{\"id\":\"6051\",\"type\":\"Grid\"},{\"id\":\"6063\",\"type\":\"Legend\"},{\"id\":\"6056\",\"type\":\"GlyphRenderer\"}],\"title\":{\"id\":\"6032\",\"type\":\"Title\"},\"toolbar\":{\"id\":\"6052\",\"type\":\"Toolbar\"},\"toolbar_location\":null,\"x_range\":{\"id\":\"6035\",\"type\":\"FactorRange\"},\"x_scale\":{\"id\":\"6039\",\"type\":\"CategoricalScale\"},\"y_range\":{\"id\":\"6037\",\"type\":\"Range1d\"},\"y_scale\":{\"id\":\"6041\",\"type\":\"LinearScale\"}},\"id\":\"6033\",\"subtype\":\"Figure\",\"type\":\"Plot\"},{\"attributes\":{\"plot\":null,\"text\":\"INFORME DE PRESUPUESTO\"},\"id\":\"6032\",\"type\":\"Title\"},{\"attributes\":{},\"id\":\"6041\",\"type\":\"LinearScale\"},{\"attributes\":{\"callback\":null,\"data\":{\"campos\":[\"ALICE\",\"ALICE OESTE\",\"CHORONGO\",\"CHORONGO ESTE\",\"COLIBRI\",\"DANA\",\"DORINE\",\"DORINE G\",\"DORINE NORTE\",\"ESPERANZA\",\"FANNY-18B\",\"JOHANNA\",\"MAHOGANY\",\"MARIANN\",\"MARIANN NORTE\",\"MARIANN SUR\",\"MARIANN-4A\",\"ORQUIDEA\",\"SHIRLEY\",\"SONIA\",\"TARAPOA NOROESTE\"],\"color\":[\"#393b79\",\"#5254a3\",\"#6b6ecf\",\"#9c9ede\",\"#637939\",\"#8ca252\",\"#b5cf6b\",\"#cedb9c\",\"#8c6d31\",\"#bd9e39\",\"#e7ba52\",\"#e7cb94\",\"#843c39\",\"#ad494a\",\"#d6616b\",\"#e7969c\",\"#7b4173\",\"#a55194\",\"#ce6dbd\",\"#de9ed6\",\"slateblue\"],\"total\":[1045.049,161.935,109.804,8.941,678.579,15.857000000000001,2148.175,26.738000000000003,90.45299999999999,336.644,5269.901999999999,71.188,82.27,1596.2060000000001,12.002,269.122,284.04,334.0,57.25,53.797,0.0]},\"selected\":{\"id\":\"6270\",\"type\":\"Selection\"},\"selection_policy\":{\"id\":\"6269\",\"type\":\"UnionRenderers\"}},\"id\":\"6031\",\"type\":\"ColumnDataSource\"},{\"attributes\":{\"callback\":null,\"end\":5600},\"id\":\"6037\",\"type\":\"Range1d\"},{\"attributes\":{},\"id\":\"6039\",\"type\":\"CategoricalScale\"},{\"attributes\":{\"plot\":{\"id\":\"6033\",\"subtype\":\"Figure\",\"type\":\"Plot\"},\"ticker\":{\"id\":\"6044\",\"type\":\"CategoricalTicker\"}},\"id\":\"6046\",\"type\":\"Grid\"},{\"attributes\":{\"callback\":null,\"factors\":[\"ALICE\",\"ALICE OESTE\",\"CHORONGO\",\"CHORONGO ESTE\",\"COLIBRI\",\"DANA\",\"DORINE\",\"DORINE G\",\"DORINE NORTE\",\"ESPERANZA\",\"FANNY-18B\",\"JOHANNA\",\"MAHOGANY\",\"MARIANN\",\"MARIANN NORTE\",\"MARIANN SUR\",\"MARIANN-4A\",\"ORQUIDEA\",\"SHIRLEY\",\"SONIA\",\"TARAPOA NOROESTE\"],\"range_padding\":0.5},\"id\":\"6035\",\"type\":\"FactorRange\"},{\"attributes\":{\"formatter\":{\"id\":\"6060\",\"type\":\"CategoricalTickFormatter\"},\"major_label_orientation\":1,\"plot\":{\"id\":\"6033\",\"subtype\":\"Figure\",\"type\":\"Plot\"},\"ticker\":{\"id\":\"6044\",\"type\":\"CategoricalTicker\"}},\"id\":\"6043\",\"type\":\"CategoricalAxis\"},{\"attributes\":{},\"id\":\"6044\",\"type\":\"CategoricalTicker\"},{\"attributes\":{},\"id\":\"6269\",\"type\":\"UnionRenderers\"},{\"attributes\":{\"formatter\":{\"id\":\"6062\",\"type\":\"BasicTickFormatter\"},\"plot\":{\"id\":\"6033\",\"subtype\":\"Figure\",\"type\":\"Plot\"},\"ticker\":{\"id\":\"6048\",\"type\":\"BasicTicker\"}},\"id\":\"6047\",\"type\":\"LinearAxis\"},{\"attributes\":{},\"id\":\"6048\",\"type\":\"BasicTicker\"},{\"attributes\":{\"dimension\":1,\"plot\":{\"id\":\"6033\",\"subtype\":\"Figure\",\"type\":\"Plot\"},\"ticker\":{\"id\":\"6048\",\"type\":\"BasicTicker\"}},\"id\":\"6051\",\"type\":\"Grid\"},{\"attributes\":{\"data_source\":{\"id\":\"6031\",\"type\":\"ColumnDataSource\"},\"glyph\":{\"id\":\"6054\",\"type\":\"VBar\"},\"hover_glyph\":null,\"muted_glyph\":null,\"nonselection_glyph\":{\"id\":\"6055\",\"type\":\"VBar\"},\"selection_glyph\":null,\"view\":{\"id\":\"6057\",\"type\":\"CDSView\"}},\"id\":\"6056\",\"type\":\"GlyphRenderer\"},{\"attributes\":{\"items\":[{\"id\":\"6064\",\"type\":\"LegendItem\"}],\"location\":\"top_left\",\"plot\":{\"id\":\"6033\",\"subtype\":\"Figure\",\"type\":\"Plot\"}},\"id\":\"6063\",\"type\":\"Legend\"},{\"attributes\":{\"fill_alpha\":{\"value\":0.1},\"fill_color\":{\"value\":\"#1f77b4\"},\"line_alpha\":{\"value\":0.1},\"line_color\":{\"value\":\"#1f77b4\"},\"top\":{\"field\":\"total\"},\"width\":{\"value\":0.9},\"x\":{\"field\":\"campos\"}},\"id\":\"6055\",\"type\":\"VBar\"},{\"attributes\":{\"active_drag\":\"auto\",\"active_inspect\":\"auto\",\"active_multi\":null,\"active_scroll\":\"auto\",\"active_tap\":\"auto\"},\"id\":\"6052\",\"type\":\"Toolbar\"},{\"attributes\":{},\"id\":\"6270\",\"type\":\"Selection\"},{\"attributes\":{},\"id\":\"6060\",\"type\":\"CategoricalTickFormatter\"},{\"attributes\":{\"source\":{\"id\":\"6031\",\"type\":\"ColumnDataSource\"}},\"id\":\"6057\",\"type\":\"CDSView\"},{\"attributes\":{},\"id\":\"6062\",\"type\":\"BasicTickFormatter\"},{\"attributes\":{\"label\":{\"field\":\"campos\"},\"renderers\":[{\"id\":\"6056\",\"type\":\"GlyphRenderer\"}]},\"id\":\"6064\",\"type\":\"LegendItem\"},{\"attributes\":{\"fill_color\":{\"field\":\"color\"},\"line_color\":{\"field\":\"color\"},\"top\":{\"field\":\"total\"},\"width\":{\"value\":0.9},\"x\":{\"field\":\"campos\"}},\"id\":\"6054\",\"type\":\"VBar\"}],\"root_ids\":[\"6033\"]},\"title\":\"Bokeh Application\",\"version\":\"1.0.3\"}};\n",
       "  var render_items = [{\"docid\":\"a7a82158-bba6-467c-b538-4da3f842e840\",\"roots\":{\"6033\":\"3926a1d3-4cc3-46bb-872d-90d455158a43\"}}];\n",
       "  root.Bokeh.embed.embed_items_notebook(docs_json, render_items);\n",
       "\n",
       "  }\n",
       "  if (root.Bokeh !== undefined) {\n",
       "    embed_document(root);\n",
       "  } else {\n",
       "    var attempts = 0;\n",
       "    var timer = setInterval(function(root) {\n",
       "      if (root.Bokeh !== undefined) {\n",
       "        embed_document(root);\n",
       "        clearInterval(timer);\n",
       "      }\n",
       "      attempts++;\n",
       "      if (attempts > 100) {\n",
       "        console.log(\"Bokeh: ERROR: Unable to run BokehJS code because BokehJS library is missing\");\n",
       "        clearInterval(timer);\n",
       "      }\n",
       "    }, 10, root)\n",
       "  }\n",
       "})(window);"
      ],
      "application/vnd.bokehjs_exec.v0+json": ""
     },
     "metadata": {
      "application/vnd.bokehjs_exec.v0+json": {
       "id": "6033"
      }
     },
     "output_type": "display_data"
    }
   ],
   "source": [
    "campos=archivo[\"CAMPOS\"].tolist()\n",
    "total=archivo[\"TOTAL\"].tolist()\n",
    "color=d3[\"Category20b\"][20]\n",
    "color.append(\"slateblue\")\n",
    "source = ColumnDataSource(data=dict(campos=campos, total=total, color=color))\n",
    "\n",
    "p = figure(x_range=campos,y_range=(0,5600), plot_height=650,plot_width=1500, title=\"INFORME DE PRESUPUESTO\",\n",
    "           toolbar_location=None, tools=\"\")\n",
    "\n",
    "p.vbar(x='campos', top='total', width=0.9, color='color', legend=\"campos\", source=source)\n",
    "\n",
    "p.xaxis.major_label_orientation = 1\n",
    "p.x_range.range_padding = 0.5\n",
    "p.legend.orientation = \"vertical\"\n",
    "p.legend.location = \"top_left\"\n",
    "\n",
    "show(p)"
   ]
  },
  {
   "cell_type": "code",
   "execution_count": 32,
   "metadata": {},
   "outputs": [
    {
     "data": {
      "text/html": [
       "\n",
       "\n",
       "\n",
       "\n",
       "\n",
       "\n",
       "  <div class=\"bk-root\" id=\"9173d8e0-0c2d-46e3-bb2e-419f464436dc\" data-root-id=\"13623\"></div>\n"
      ]
     },
     "metadata": {},
     "output_type": "display_data"
    },
    {
     "data": {
      "application/javascript": [
       "(function(root) {\n",
       "  function embed_document(root) {\n",
       "    \n",
       "  var docs_json = {\"175e4620-549c-41b5-a1ad-70208265d4b9\":{\"roots\":{\"references\":[{\"attributes\":{\"below\":[{\"id\":\"13633\",\"type\":\"CategoricalAxis\"}],\"left\":[{\"id\":\"13637\",\"type\":\"LinearAxis\"}],\"plot_height\":550,\"plot_width\":950,\"renderers\":[{\"id\":\"13633\",\"type\":\"CategoricalAxis\"},{\"id\":\"13636\",\"type\":\"Grid\"},{\"id\":\"13637\",\"type\":\"LinearAxis\"},{\"id\":\"13641\",\"type\":\"Grid\"},{\"id\":\"13646\",\"type\":\"GlyphRenderer\"}],\"title\":{\"id\":\"13622\",\"type\":\"Title\"},\"toolbar\":{\"id\":\"13642\",\"type\":\"Toolbar\"},\"toolbar_location\":null,\"x_range\":{\"id\":\"13625\",\"type\":\"FactorRange\"},\"x_scale\":{\"id\":\"13629\",\"type\":\"CategoricalScale\"},\"y_range\":{\"id\":\"13627\",\"type\":\"DataRange1d\"},\"y_scale\":{\"id\":\"13631\",\"type\":\"LinearScale\"}},\"id\":\"13623\",\"subtype\":\"Figure\",\"type\":\"Plot\"},{\"attributes\":{},\"id\":\"13634\",\"type\":\"CategoricalTicker\"},{\"attributes\":{\"formatter\":{\"id\":\"14006\",\"type\":\"CategoricalTickFormatter\"},\"major_label_orientation\":1,\"plot\":{\"id\":\"13623\",\"subtype\":\"Figure\",\"type\":\"Plot\"},\"ticker\":{\"id\":\"13634\",\"type\":\"CategoricalTicker\"}},\"id\":\"13633\",\"type\":\"CategoricalAxis\"},{\"attributes\":{\"plot\":{\"id\":\"13623\",\"subtype\":\"Figure\",\"type\":\"Plot\"},\"ticker\":{\"id\":\"13634\",\"type\":\"CategoricalTicker\"}},\"id\":\"13636\",\"type\":\"Grid\"},{\"attributes\":{\"formatter\":{\"id\":\"14008\",\"type\":\"BasicTickFormatter\"},\"plot\":{\"id\":\"13623\",\"subtype\":\"Figure\",\"type\":\"Plot\"},\"ticker\":{\"id\":\"13638\",\"type\":\"BasicTicker\"}},\"id\":\"13637\",\"type\":\"LinearAxis\"},{\"attributes\":{\"callback\":null},\"id\":\"13627\",\"type\":\"DataRange1d\"},{\"attributes\":{\"callback\":null,\"data\":{\"fill_color\":[\"#440154\",\"#471265\",\"#482374\",\"#45347F\",\"#404387\",\"#3B518A\",\"#345E8D\",\"#2E6B8E\",\"#29788E\",\"#25838D\",\"#208F8C\",\"#1E9B89\",\"#22A784\",\"#2EB27C\",\"#42BE71\",\"#5BC862\",\"#79D151\",\"#97D83E\",\"#BADE27\",\"#DCE218\",\"#FDE724\"],\"line_color\":[\"#440154\",\"#471265\",\"#482374\",\"#45347F\",\"#404387\",\"#3B518A\",\"#345E8D\",\"#2E6B8E\",\"#29788E\",\"#25838D\",\"#208F8C\",\"#1E9B89\",\"#22A784\",\"#2EB27C\",\"#42BE71\",\"#5BC862\",\"#79D151\",\"#97D83E\",\"#BADE27\",\"#DCE218\",\"#FDE724\"],\"x\":[\"ALICE\",\"ALICE OESTE\",\"CHORONGO\",\"CHORONGO ESTE\",\"COLIBRI\",\"DANA\",\"DORINE\",\"DORINE G\",\"DORINE NORTE\",\"ESPERANZA\",\"FANNY-18B\",\"JOHANNA\",\"MAHOGANY\",\"MARIANN\",\"MARIANN NORTE\",\"MARIANN SUR\",\"MARIANN-4A\",\"ORQUIDEA\",\"SHIRLEY\",\"SONIA\",\"TARAPOA NOROESTE\"],\"y\":[1045.049,161.935,109.804,8.941,678.579,15.857000000000001,2148.175,26.738000000000003,90.45299999999999,336.644,5269.901999999999,71.188,82.27,1596.2060000000001,12.002,269.122,284.04,334.0,57.25,53.797,0.0]},\"selected\":{\"id\":\"14010\",\"type\":\"Selection\"},\"selection_policy\":{\"id\":\"14009\",\"type\":\"UnionRenderers\"}},\"id\":\"13643\",\"type\":\"ColumnDataSource\"},{\"attributes\":{\"dimension\":1,\"plot\":{\"id\":\"13623\",\"subtype\":\"Figure\",\"type\":\"Plot\"},\"ticker\":{\"id\":\"13638\",\"type\":\"BasicTicker\"}},\"id\":\"13641\",\"type\":\"Grid\"},{\"attributes\":{},\"id\":\"13638\",\"type\":\"BasicTicker\"},{\"attributes\":{\"plot\":null,\"text\":\"INFORME DE PRESUPUESTO\"},\"id\":\"13622\",\"type\":\"Title\"},{\"attributes\":{\"active_drag\":\"auto\",\"active_inspect\":\"auto\",\"active_multi\":null,\"active_scroll\":\"auto\",\"active_tap\":\"auto\"},\"id\":\"13642\",\"type\":\"Toolbar\"},{\"attributes\":{},\"id\":\"13631\",\"type\":\"LinearScale\"},{\"attributes\":{},\"id\":\"13629\",\"type\":\"CategoricalScale\"},{\"attributes\":{\"fill_alpha\":{\"value\":0.1},\"fill_color\":{\"value\":\"#1f77b4\"},\"line_alpha\":{\"value\":0.1},\"line_color\":{\"value\":\"#1f77b4\"},\"size\":{\"units\":\"screen\",\"value\":30},\"x\":{\"field\":\"x\"},\"y\":{\"field\":\"y\"}},\"id\":\"13645\",\"type\":\"Circle\"},{\"attributes\":{\"data_source\":{\"id\":\"13643\",\"type\":\"ColumnDataSource\"},\"glyph\":{\"id\":\"13644\",\"type\":\"Circle\"},\"hover_glyph\":null,\"muted_glyph\":null,\"nonselection_glyph\":{\"id\":\"13645\",\"type\":\"Circle\"},\"selection_glyph\":null,\"view\":{\"id\":\"13647\",\"type\":\"CDSView\"}},\"id\":\"13646\",\"type\":\"GlyphRenderer\"},{\"attributes\":{\"source\":{\"id\":\"13643\",\"type\":\"ColumnDataSource\"}},\"id\":\"13647\",\"type\":\"CDSView\"},{\"attributes\":{},\"id\":\"14009\",\"type\":\"UnionRenderers\"},{\"attributes\":{},\"id\":\"14010\",\"type\":\"Selection\"},{\"attributes\":{\"callback\":null,\"factors\":[\"ALICE\",\"ALICE OESTE\",\"CHORONGO\",\"CHORONGO ESTE\",\"COLIBRI\",\"DANA\",\"DORINE\",\"DORINE G\",\"DORINE NORTE\",\"ESPERANZA\",\"FANNY-18B\",\"JOHANNA\",\"MAHOGANY\",\"MARIANN\",\"MARIANN NORTE\",\"MARIANN SUR\",\"MARIANN-4A\",\"ORQUIDEA\",\"SHIRLEY\",\"SONIA\",\"TARAPOA NOROESTE\"]},\"id\":\"13625\",\"type\":\"FactorRange\"},{\"attributes\":{},\"id\":\"14008\",\"type\":\"BasicTickFormatter\"},{\"attributes\":{},\"id\":\"14006\",\"type\":\"CategoricalTickFormatter\"},{\"attributes\":{\"fill_alpha\":{\"value\":0.5},\"fill_color\":{\"field\":\"fill_color\"},\"line_alpha\":{\"value\":0.5},\"line_color\":{\"field\":\"line_color\"},\"size\":{\"units\":\"screen\",\"value\":30},\"x\":{\"field\":\"x\"},\"y\":{\"field\":\"y\"}},\"id\":\"13644\",\"type\":\"Circle\"}],\"root_ids\":[\"13623\"]},\"title\":\"Bokeh Application\",\"version\":\"1.0.3\"}};\n",
       "  var render_items = [{\"docid\":\"175e4620-549c-41b5-a1ad-70208265d4b9\",\"roots\":{\"13623\":\"9173d8e0-0c2d-46e3-bb2e-419f464436dc\"}}];\n",
       "  root.Bokeh.embed.embed_items_notebook(docs_json, render_items);\n",
       "\n",
       "  }\n",
       "  if (root.Bokeh !== undefined) {\n",
       "    embed_document(root);\n",
       "  } else {\n",
       "    var attempts = 0;\n",
       "    var timer = setInterval(function(root) {\n",
       "      if (root.Bokeh !== undefined) {\n",
       "        embed_document(root);\n",
       "        clearInterval(timer);\n",
       "      }\n",
       "      attempts++;\n",
       "      if (attempts > 100) {\n",
       "        console.log(\"Bokeh: ERROR: Unable to run BokehJS code because BokehJS library is missing\");\n",
       "        clearInterval(timer);\n",
       "      }\n",
       "    }, 10, root)\n",
       "  }\n",
       "})(window);"
      ],
      "application/vnd.bokehjs_exec.v0+json": ""
     },
     "metadata": {
      "application/vnd.bokehjs_exec.v0+json": {
       "id": "13623"
      }
     },
     "output_type": "display_data"
    }
   ],
   "source": [
    "campos=archivo[\"CAMPOS\"].tolist()\n",
    "total=archivo[\"TOTAL\"].tolist()\n",
    "data= dict(zip(campos,total))\n",
    "p = figure(x_range=campos, plot_height=550,plot_width=950 ,title=\"INFORME DE PRESUPUESTO\", toolbar_location=None, tools=\"\")\n",
    "p.circle(campos, total,size=30, color=viridis(len(campos)), alpha=0.5)\n",
    "p.xaxis.major_label_orientation = 1\n",
    "show(p)"
   ]
  },
  {
   "cell_type": "code",
   "execution_count": null,
   "metadata": {},
   "outputs": [],
   "source": []
  },
  {
   "cell_type": "code",
   "execution_count": null,
   "metadata": {},
   "outputs": [],
   "source": []
  }
 ],
 "metadata": {
  "kernelspec": {
   "display_name": "Python 3",
   "language": "python",
   "name": "python3"
  },
  "language_info": {
   "codemirror_mode": {
    "name": "ipython",
    "version": 3
   },
   "file_extension": ".py",
   "mimetype": "text/x-python",
   "name": "python",
   "nbconvert_exporter": "python",
   "pygments_lexer": "ipython3",
   "version": "3.6.5"
  }
 },
 "nbformat": 4,
 "nbformat_minor": 2
}
